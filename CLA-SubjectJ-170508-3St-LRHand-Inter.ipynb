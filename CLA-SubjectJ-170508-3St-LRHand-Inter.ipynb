{
 "cells": [
  {
   "cell_type": "code",
   "execution_count": 1,
   "metadata": {
    "id": "W9FG4zC2oJ7m"
   },
   "outputs": [],
   "source": [
    "from preprocess import *\n",
    "import matplotlib.pyplot as plt\n",
    "from c_models import *"
   ]
  },
  {
   "cell_type": "code",
   "execution_count": 2,
   "metadata": {
    "colab": {
     "base_uri": "https://localhost:8080/"
    },
    "id": "ypQUVSltoRsL",
    "outputId": "d8217cd2-30ec-4b5a-a23d-6a8d1e242db7"
   },
   "outputs": [],
   "source": [
    "# from google.colab import drive\n",
    "# drive.mount('/content/drive')"
   ]
  },
  {
   "cell_type": "markdown",
   "metadata": {
    "id": "a2uDTDtioJ8D"
   },
   "source": [
    "download the file from https://figshare.com/collections/A_large_electroencephalographic_motor_imagery_dataset_for_electroencephalographic_brain_computer_interfaces/3917698"
   ]
  },
  {
   "cell_type": "markdown",
   "metadata": {
    "id": "xQW9CJexn-9o"
   },
   "source": [
    "# Input"
   ]
  },
  {
   "cell_type": "code",
   "execution_count": 3,
   "metadata": {},
   "outputs": [],
   "source": [
    "file_name = \"CLA-SubjectJ-170508-3St-LRHand-Inter\""
   ]
  },
  {
   "cell_type": "code",
   "execution_count": 4,
   "metadata": {
    "colab": {
     "base_uri": "https://localhost:8080/"
    },
    "id": "tkWdgBbbpe9m",
    "outputId": "c0ec5c92-ab8a-4a2e-b87e-354145e9167d"
   },
   "outputs": [
    {
     "data": {
      "text/plain": [
       "{'__header__': b'MATLAB 5.0 MAT-file, Platform: GLNXA64, Created on: Mon Apr 23 22:31:25 2018',\n",
       " '__version__': '1.0',\n",
       " '__globals__': [],\n",
       " 'ans': array([[23.56322702]]),\n",
       " 'o': array([[(array(['201705081338.32BEA9DD'], dtype='<U21'), array([], dtype='<U1'), array([[621892]], dtype=int32), array([[200]], dtype=uint8), array([[0],\n",
       "        [0],\n",
       "        [0],\n",
       "        ...,\n",
       "        [0],\n",
       "        [0],\n",
       "        [0]], dtype=uint8), array([[ 0],\n",
       "        [ 0],\n",
       "        [ 0],\n",
       "        ...,\n",
       "        [92],\n",
       "        [92],\n",
       "        [92]], dtype=uint8), array([[-18. , -19.2, -12. , ...,  -6. ,  -8.4,  -1.2],\n",
       "        [ -3.6,  -0. ,   1.8, ...,   5.4,   7.2,  -1.2],\n",
       "        [ -6.6,  -8.4,  -1.2, ...,   3. ,   3. ,  -1.8],\n",
       "        ...,\n",
       "        [ -9. ,  -8.4,   2.4, ...,   5.4,   4.8,  -0. ],\n",
       "        [ -7.2, -11.4,   3.6, ...,   4.2,   6.6,  -0. ],\n",
       "        [ -2.4,  -9. ,   5.4, ...,   3.6,   6. ,  -0. ]]), array([[array(['Fp1'], dtype='<U3')],\n",
       "        [array(['Fp2'], dtype='<U3')],\n",
       "        [array(['F3'], dtype='<U2')],\n",
       "        [array(['F4'], dtype='<U2')],\n",
       "        [array(['C3'], dtype='<U2')],\n",
       "        [array(['C4'], dtype='<U2')],\n",
       "        [array(['P3'], dtype='<U2')],\n",
       "        [array(['P4'], dtype='<U2')],\n",
       "        [array(['O1'], dtype='<U2')],\n",
       "        [array(['O2'], dtype='<U2')],\n",
       "        [array(['A1'], dtype='<U2')],\n",
       "        [array(['A2'], dtype='<U2')],\n",
       "        [array(['F7'], dtype='<U2')],\n",
       "        [array(['F8'], dtype='<U2')],\n",
       "        [array(['T3'], dtype='<U2')],\n",
       "        [array(['T4'], dtype='<U2')],\n",
       "        [array(['T5'], dtype='<U2')],\n",
       "        [array(['T6'], dtype='<U2')],\n",
       "        [array(['Fz'], dtype='<U2')],\n",
       "        [array(['Cz'], dtype='<U2')],\n",
       "        [array(['Pz'], dtype='<U2')]], dtype=object), array([[1]], dtype=uint8))]],\n",
       "       dtype=[('id', 'O'), ('tag', 'O'), ('nS', 'O'), ('sampFreq', 'O'), ('marker', 'O'), ('marker_old', 'O'), ('data', 'O'), ('chnames', 'O'), ('binsuV', 'O')]),\n",
       " 'x': array([[23.4],\n",
       "        [24.6],\n",
       "        [23.4],\n",
       "        [23.4],\n",
       "        [23.4],\n",
       "        [23.4],\n",
       "        [23.4],\n",
       "        [23.4],\n",
       "        [24. ],\n",
       "        [24. ],\n",
       "        [23.4],\n",
       "        [24. ],\n",
       "        [23.4],\n",
       "        [23.4],\n",
       "        [24. ],\n",
       "        [23.4],\n",
       "        [23.4],\n",
       "        [23.4],\n",
       "        [23.4],\n",
       "        [23.4],\n",
       "        [23.4],\n",
       "        [24. ],\n",
       "        [23.4],\n",
       "        [23.4],\n",
       "        [23.4],\n",
       "        [23.4],\n",
       "        [24. ],\n",
       "        [24. ],\n",
       "        [23.4],\n",
       "        [23.4],\n",
       "        [23.4],\n",
       "        [23.4],\n",
       "        [23.4],\n",
       "        [23.4],\n",
       "        [23.4],\n",
       "        [23.4],\n",
       "        [23.4],\n",
       "        [23.4],\n",
       "        [24. ],\n",
       "        [23.4],\n",
       "        [23.4],\n",
       "        [25.8],\n",
       "        [24. ],\n",
       "        [23.4],\n",
       "        [24. ],\n",
       "        [23.4],\n",
       "        [24. ],\n",
       "        [23.4],\n",
       "        [23.4],\n",
       "        [24. ],\n",
       "        [24.6],\n",
       "        [23.4],\n",
       "        [24. ],\n",
       "        [23.4],\n",
       "        [24. ],\n",
       "        [24.6],\n",
       "        [24. ],\n",
       "        [23.4],\n",
       "        [23.4],\n",
       "        [23.4],\n",
       "        [24.6],\n",
       "        [24. ],\n",
       "        [23.4],\n",
       "        [23.4],\n",
       "        [23.4],\n",
       "        [23.4],\n",
       "        [23.4],\n",
       "        [23.4],\n",
       "        [24. ],\n",
       "        [23.4],\n",
       "        [23.4],\n",
       "        [23.4],\n",
       "        [23.4],\n",
       "        [23.4],\n",
       "        [23.4],\n",
       "        [23.4],\n",
       "        [23.4],\n",
       "        [23.4],\n",
       "        [23.4],\n",
       "        [23.4],\n",
       "        [23.4],\n",
       "        [24. ],\n",
       "        [23.4],\n",
       "        [24. ],\n",
       "        [23.4],\n",
       "        [23.4],\n",
       "        [23.4],\n",
       "        [24. ],\n",
       "        [23.4],\n",
       "        [24. ],\n",
       "        [23.4],\n",
       "        [23.4],\n",
       "        [23.4],\n",
       "        [23.4],\n",
       "        [23.4],\n",
       "        [23.4],\n",
       "        [23.4],\n",
       "        [23.4],\n",
       "        [23.4],\n",
       "        [23.4],\n",
       "        [23.4],\n",
       "        [23.4],\n",
       "        [23.4],\n",
       "        [23.4],\n",
       "        [23.4],\n",
       "        [23.4],\n",
       "        [23.4],\n",
       "        [23.4],\n",
       "        [23.4],\n",
       "        [23.4],\n",
       "        [23.4],\n",
       "        [23.4],\n",
       "        [23.4],\n",
       "        [24. ],\n",
       "        [24. ],\n",
       "        [23.4],\n",
       "        [23.4],\n",
       "        [23.4],\n",
       "        [23.4],\n",
       "        [23.4],\n",
       "        [23.4],\n",
       "        [23.4],\n",
       "        [23.4],\n",
       "        [23.4],\n",
       "        [23.4],\n",
       "        [23.4],\n",
       "        [23.4],\n",
       "        [24.6],\n",
       "        [23.4],\n",
       "        [23.4],\n",
       "        [24. ],\n",
       "        [24. ],\n",
       "        [23.4],\n",
       "        [24. ],\n",
       "        [23.4],\n",
       "        [23.4],\n",
       "        [24. ],\n",
       "        [23.4],\n",
       "        [23.4],\n",
       "        [24. ],\n",
       "        [23.4],\n",
       "        [23.4],\n",
       "        [24. ],\n",
       "        [23.4],\n",
       "        [23.4],\n",
       "        [24. ],\n",
       "        [23.4],\n",
       "        [23.4],\n",
       "        [24. ],\n",
       "        [23.4],\n",
       "        [23.4],\n",
       "        [23.4],\n",
       "        [23.4],\n",
       "        [23.4],\n",
       "        [23.4],\n",
       "        [23.4],\n",
       "        [24. ],\n",
       "        [23.4],\n",
       "        [23.4],\n",
       "        [23.4],\n",
       "        [24. ],\n",
       "        [24. ],\n",
       "        [24.6],\n",
       "        [23.4],\n",
       "        [23.4],\n",
       "        [23.4],\n",
       "        [23.4],\n",
       "        [23.4],\n",
       "        [23.4],\n",
       "        [23.4],\n",
       "        [23.4],\n",
       "        [23.4],\n",
       "        [23.4],\n",
       "        [23.4],\n",
       "        [23.4],\n",
       "        [23.4],\n",
       "        [23.4],\n",
       "        [24. ],\n",
       "        [23.4],\n",
       "        [23.4],\n",
       "        [24. ],\n",
       "        [23.4],\n",
       "        [24. ],\n",
       "        [23.4],\n",
       "        [23.4],\n",
       "        [23.4],\n",
       "        [23.4],\n",
       "        [23.4],\n",
       "        [23.4],\n",
       "        [24. ],\n",
       "        [24. ],\n",
       "        [24.6],\n",
       "        [23.4],\n",
       "        [23.4],\n",
       "        [23.4],\n",
       "        [23.4],\n",
       "        [23.4],\n",
       "        [24.6],\n",
       "        [23.4],\n",
       "        [23.4],\n",
       "        [23.4],\n",
       "        [23.4],\n",
       "        [23.4],\n",
       "        [23.4],\n",
       "        [23.4],\n",
       "        [23.4],\n",
       "        [24. ],\n",
       "        [23.4],\n",
       "        [23.4],\n",
       "        [23.4],\n",
       "        [23.4],\n",
       "        [23.4],\n",
       "        [23.4],\n",
       "        [23.4],\n",
       "        [23.4],\n",
       "        [23.4],\n",
       "        [23.4],\n",
       "        [24. ],\n",
       "        [23.4],\n",
       "        [23.4],\n",
       "        [23.4],\n",
       "        [23.4],\n",
       "        [23.4],\n",
       "        [24. ],\n",
       "        [24. ],\n",
       "        [24. ],\n",
       "        [23.4],\n",
       "        [24. ],\n",
       "        [23.4],\n",
       "        [23.4],\n",
       "        [23.4],\n",
       "        [23.4],\n",
       "        [23.4],\n",
       "        [23.4],\n",
       "        [23.4],\n",
       "        [24. ],\n",
       "        [23.4],\n",
       "        [23.4],\n",
       "        [23.4],\n",
       "        [24. ],\n",
       "        [24. ],\n",
       "        [23.4],\n",
       "        [23.4],\n",
       "        [24. ],\n",
       "        [23.4],\n",
       "        [23.4],\n",
       "        [23.4],\n",
       "        [23.4],\n",
       "        [23.4],\n",
       "        [23.4],\n",
       "        [23.4],\n",
       "        [23.4],\n",
       "        [23.4],\n",
       "        [23.4],\n",
       "        [23.4],\n",
       "        [23.4],\n",
       "        [23.4],\n",
       "        [23.4],\n",
       "        [23.4],\n",
       "        [23.4],\n",
       "        [23.4],\n",
       "        [23.4],\n",
       "        [23.4],\n",
       "        [23.4],\n",
       "        [23.4],\n",
       "        [23.4],\n",
       "        [24. ],\n",
       "        [23.4],\n",
       "        [23.4],\n",
       "        [23.4],\n",
       "        [23.4],\n",
       "        [23.4],\n",
       "        [23.4],\n",
       "        [23.4],\n",
       "        [23.4],\n",
       "        [23.4],\n",
       "        [23.4],\n",
       "        [23.4],\n",
       "        [23.4],\n",
       "        [23.4],\n",
       "        [23.4],\n",
       "        [23.4],\n",
       "        [23.4],\n",
       "        [23.4],\n",
       "        [23.4],\n",
       "        [23.4],\n",
       "        [23.4],\n",
       "        [23.4],\n",
       "        [23.4],\n",
       "        [23.4],\n",
       "        [23.4],\n",
       "        [23.4],\n",
       "        [23.4],\n",
       "        [23.4],\n",
       "        [23.4],\n",
       "        [23.4],\n",
       "        [23.4],\n",
       "        [23.4],\n",
       "        [23.4],\n",
       "        [23.4],\n",
       "        [23.4],\n",
       "        [23.4],\n",
       "        [23.4],\n",
       "        [23.4],\n",
       "        [23.4],\n",
       "        [23.4],\n",
       "        [23.4],\n",
       "        [23.4],\n",
       "        [23.4],\n",
       "        [23.4],\n",
       "        [24.6],\n",
       "        [24. ],\n",
       "        [23.4],\n",
       "        [23.4],\n",
       "        [24. ],\n",
       "        [24.6],\n",
       "        [24. ],\n",
       "        [24. ],\n",
       "        [23.4],\n",
       "        [23.4],\n",
       "        [23.4],\n",
       "        [23.4],\n",
       "        [23.4],\n",
       "        [25.2],\n",
       "        [23.4],\n",
       "        [23.4],\n",
       "        [23.4],\n",
       "        [23.4],\n",
       "        [23.4],\n",
       "        [23.4],\n",
       "        [23.4],\n",
       "        [23.4],\n",
       "        [23.4],\n",
       "        [23.4],\n",
       "        [23.4],\n",
       "        [23.4],\n",
       "        [23.4],\n",
       "        [23.4],\n",
       "        [23.4],\n",
       "        [23.4],\n",
       "        [23.4],\n",
       "        [23.4],\n",
       "        [23.4],\n",
       "        [24. ],\n",
       "        [24. ],\n",
       "        [24. ],\n",
       "        [23.4],\n",
       "        [23.4],\n",
       "        [23.4],\n",
       "        [23.4],\n",
       "        [23.4],\n",
       "        [23.4],\n",
       "        [23.4],\n",
       "        [24. ],\n",
       "        [23.4],\n",
       "        [23.4],\n",
       "        [23.4],\n",
       "        [24. ],\n",
       "        [23.4],\n",
       "        [24. ],\n",
       "        [23.4],\n",
       "        [23.4],\n",
       "        [23.4],\n",
       "        [23.4],\n",
       "        [23.4],\n",
       "        [23.4],\n",
       "        [23.4],\n",
       "        [23.4],\n",
       "        [23.4],\n",
       "        [23.4],\n",
       "        [23.4],\n",
       "        [23.4],\n",
       "        [23.4],\n",
       "        [24.6],\n",
       "        [25.8],\n",
       "        [23.4],\n",
       "        [23.4],\n",
       "        [23.4],\n",
       "        [23.4],\n",
       "        [23.4],\n",
       "        [23.4],\n",
       "        [23.4],\n",
       "        [23.4],\n",
       "        [23.4],\n",
       "        [23.4],\n",
       "        [23.4],\n",
       "        [23.4],\n",
       "        [23.4],\n",
       "        [23.4],\n",
       "        [23.4],\n",
       "        [23.4],\n",
       "        [23.4],\n",
       "        [23.4],\n",
       "        [23.4],\n",
       "        [23.4],\n",
       "        [23.4],\n",
       "        [23.4],\n",
       "        [23.4],\n",
       "        [23.4],\n",
       "        [23.4],\n",
       "        [23.4],\n",
       "        [23.4],\n",
       "        [23.4],\n",
       "        [26.4],\n",
       "        [23.4],\n",
       "        [24. ],\n",
       "        [23.4],\n",
       "        [23.4],\n",
       "        [23.4],\n",
       "        [23.4],\n",
       "        [24. ],\n",
       "        [23.4],\n",
       "        [23.4],\n",
       "        [23.4],\n",
       "        [23.4],\n",
       "        [24. ],\n",
       "        [23.4],\n",
       "        [23.4],\n",
       "        [24. ],\n",
       "        [23.4],\n",
       "        [24. ],\n",
       "        [24. ],\n",
       "        [23.4],\n",
       "        [25.8],\n",
       "        [24. ],\n",
       "        [23.4],\n",
       "        [24.6],\n",
       "        [23.4],\n",
       "        [23.4],\n",
       "        [23.4],\n",
       "        [23.4],\n",
       "        [23.4],\n",
       "        [23.4],\n",
       "        [24. ],\n",
       "        [23.4],\n",
       "        [23.4],\n",
       "        [23.4],\n",
       "        [23.4],\n",
       "        [24.6],\n",
       "        [23.4],\n",
       "        [23.4],\n",
       "        [23.4],\n",
       "        [24. ],\n",
       "        [23.4],\n",
       "        [24.6],\n",
       "        [24. ],\n",
       "        [24. ],\n",
       "        [23.4],\n",
       "        [24. ],\n",
       "        [24. ],\n",
       "        [24. ],\n",
       "        [23.4],\n",
       "        [23.4],\n",
       "        [23.4],\n",
       "        [23.4],\n",
       "        [23.4],\n",
       "        [23.4],\n",
       "        [23.4],\n",
       "        [23.4],\n",
       "        [23.4],\n",
       "        [23.4],\n",
       "        [23.4],\n",
       "        [23.4],\n",
       "        [23.4],\n",
       "        [23.4],\n",
       "        [24. ],\n",
       "        [23.4],\n",
       "        [23.4],\n",
       "        [23.4],\n",
       "        [23.4],\n",
       "        [23.4],\n",
       "        [24. ],\n",
       "        [24. ],\n",
       "        [23.4],\n",
       "        [24. ],\n",
       "        [23.4],\n",
       "        [23.4],\n",
       "        [23.4],\n",
       "        [23.4],\n",
       "        [23.4],\n",
       "        [23.4],\n",
       "        [23.4],\n",
       "        [23.4],\n",
       "        [24. ],\n",
       "        [23.4],\n",
       "        [23.4],\n",
       "        [23.4],\n",
       "        [24. ],\n",
       "        [23.4],\n",
       "        [24. ],\n",
       "        [23.4],\n",
       "        [23.4],\n",
       "        [23.4],\n",
       "        [23.4],\n",
       "        [23.4],\n",
       "        [23.4],\n",
       "        [23.4],\n",
       "        [24.6],\n",
       "        [23.4],\n",
       "        [23.4],\n",
       "        [23.4],\n",
       "        [23.4],\n",
       "        [24. ],\n",
       "        [24. ],\n",
       "        [23.4],\n",
       "        [23.4],\n",
       "        [23.4],\n",
       "        [23.4],\n",
       "        [24.6],\n",
       "        [24. ],\n",
       "        [24. ],\n",
       "        [24. ],\n",
       "        [23.4],\n",
       "        [23.4],\n",
       "        [23.4],\n",
       "        [23.4],\n",
       "        [23.4],\n",
       "        [23.4],\n",
       "        [23.4],\n",
       "        [24. ],\n",
       "        [24.6],\n",
       "        [23.4],\n",
       "        [23.4],\n",
       "        [24. ],\n",
       "        [23.4],\n",
       "        [23.4],\n",
       "        [23.4],\n",
       "        [24.6],\n",
       "        [23.4],\n",
       "        [23.4],\n",
       "        [23.4],\n",
       "        [24. ],\n",
       "        [23.4]])}"
      ]
     },
     "execution_count": 4,
     "metadata": {},
     "output_type": "execute_result"
    }
   ],
   "source": [
    "f1 = \"rawData/\" + file_name + \".mat\"\n",
    "mat = take_input(f1)\n",
    "mat"
   ]
  },
  {
   "cell_type": "code",
   "execution_count": 5,
   "metadata": {
    "colab": {
     "base_uri": "https://localhost:8080/"
    },
    "id": "YE50qVMRoJ8H",
    "outputId": "26d0b676-6621-40c3-a2ba-caa5da8e90dd"
   },
   "outputs": [
    {
     "data": {
      "text/plain": [
       "dtype([('id', 'O'), ('tag', 'O'), ('nS', 'O'), ('sampFreq', 'O'), ('marker', 'O'), ('marker_old', 'O'), ('data', 'O'), ('chnames', 'O'), ('binsuV', 'O')])"
      ]
     },
     "execution_count": 5,
     "metadata": {},
     "output_type": "execute_result"
    }
   ],
   "source": [
    "mat['o'][0][0].dtype"
   ]
  },
  {
   "cell_type": "code",
   "execution_count": 6,
   "metadata": {
    "id": "B3JkUQ6LpX3-"
   },
   "outputs": [],
   "source": [
    "idx = 4\n",
    "markers = get_markers(mat, idx) "
   ]
  },
  {
   "cell_type": "code",
   "execution_count": 7,
   "metadata": {
    "id": "i0ct3kSg9ioz"
   },
   "outputs": [],
   "source": [
    "idx = 6\n",
    "data = get_data(mat, idx)"
   ]
  },
  {
   "cell_type": "code",
   "execution_count": 8,
   "metadata": {
    "id": "580QViV_rqay"
   },
   "outputs": [],
   "source": [
    "frame_of_1 = get_trial_frames(data, markers, 1)\n",
    "frame_of_2 = get_trial_frames(data, markers, 2)\n",
    "frame_of_3 = get_trial_frames(data, markers, 3)\n"
   ]
  },
  {
   "cell_type": "code",
   "execution_count": 9,
   "metadata": {
    "colab": {
     "base_uri": "https://localhost:8080/",
     "height": 282
    },
    "id": "AR4kAOnnoJ8u",
    "outputId": "2ef3a1f5-fed6-471f-abb6-20d44a954b19"
   },
   "outputs": [
    {
     "data": {
      "text/plain": [
       "[<matplotlib.lines.Line2D at 0x7f7d2cd51be0>]"
      ]
     },
     "execution_count": 9,
     "metadata": {},
     "output_type": "execute_result"
    },
    {
     "data": {
      "image/png": "[encoded data removed]",
      "text/plain": [
       "<Figure size 432x288 with 1 Axes>"
      ]
     },
     "metadata": {
      "needs_background": "light"
     },
     "output_type": "display_data"
    }
   ],
   "source": [
    "plt.plot(np.arange(170),frame_of_1[0][0])"
   ]
  },
  {
   "cell_type": "code",
   "execution_count": 10,
   "metadata": {
    "id": "5KPuYWtGtCep"
   },
   "outputs": [],
   "source": [
    "low_pass_filter = design_filter(8, 200, 5)"
   ]
  },
  {
   "cell_type": "code",
   "execution_count": 11,
   "metadata": {
    "id": "RV6MIenGvcD8"
   },
   "outputs": [],
   "source": [
    "f_signal_1 = apply_filter(low_pass_filter, frame_of_1)\n",
    "f_signal_2 = apply_filter(low_pass_filter, frame_of_2)\n",
    "f_signal_3 = apply_filter(low_pass_filter, frame_of_3)"
   ]
  },
  {
   "cell_type": "code",
   "execution_count": 12,
   "metadata": {
    "colab": {
     "base_uri": "https://localhost:8080/",
     "height": 282
    },
    "id": "dd10iuAUoJ8y",
    "outputId": "9400b95b-311d-443b-d1e0-0ff23846c1b4"
   },
   "outputs": [
    {
     "data": {
      "text/plain": [
       "[<matplotlib.lines.Line2D at 0x7f7d2cc686a0>]"
      ]
     },
     "execution_count": 12,
     "metadata": {},
     "output_type": "execute_result"
    },
    {
     "data": {
      "image/png": "[encoded data removed]",
      "text/plain": [
       "<Figure size 432x288 with 1 Axes>"
      ]
     },
     "metadata": {
      "needs_background": "light"
     },
     "output_type": "display_data"
    }
   ],
   "source": [
    "plt.plot(np.arange(170),f_signal_1[0][0])"
   ]
  },
  {
   "cell_type": "code",
   "execution_count": 13,
   "metadata": {
    "id": "Yh2YKV2Bwi6J"
   },
   "outputs": [],
   "source": [
    "transformed_frame_of_1 = fourier_trans(f_signal_1)\n",
    "transformed_frame_of_2 = fourier_trans(f_signal_2)\n",
    "transformed_frame_of_3 = fourier_trans(f_signal_3)"
   ]
  },
  {
   "cell_type": "code",
   "execution_count": 14,
   "metadata": {
    "colab": {
     "base_uri": "https://localhost:8080/",
     "height": 282
    },
    "id": "Vl_fBx8woJ84",
    "outputId": "cc889666-9c16-4222-b941-6f0e7a8cbce0"
   },
   "outputs": [
    {
     "data": {
      "text/plain": [
       "[<matplotlib.lines.Line2D at 0x7f7d2cc42820>]"
      ]
     },
     "execution_count": 14,
     "metadata": {},
     "output_type": "execute_result"
    },
    {
     "data": {
      "image/png": "[encoded data removed]",
      "text/plain": [
       "<Figure size 432x288 with 1 Axes>"
      ]
     },
     "metadata": {
      "needs_background": "light"
     },
     "output_type": "display_data"
    }
   ],
   "source": [
    "plt.plot(abs(transformed_frame_of_1[0][0]))"
   ]
  },
  {
   "cell_type": "code",
   "execution_count": 15,
   "metadata": {
    "colab": {
     "base_uri": "https://localhost:8080/",
     "height": 265
    },
    "id": "_C_Ug49boJ86",
    "outputId": "72bccb6d-f3a8-41b6-eebf-354ca481dfc0",
    "scrolled": true
   },
   "outputs": [
    {
     "data": {
      "image/png": "[encoded data removed]",
      "text/plain": [
       "<Figure size 432x288 with 1 Axes>"
      ]
     },
     "metadata": {
      "needs_background": "light"
     },
     "output_type": "display_data"
    }
   ],
   "source": [
    "yf = transformed_frame_of_1[0][0]\n",
    "v = np.arange(86)\n",
    "t = 170/200.0\n",
    "xf = v/t\n",
    "\n",
    "fig, ax = plt.subplots()\n",
    "ax.plot(xf, abs(yf))\n",
    "plt.show()\n"
   ]
  },
  {
   "cell_type": "code",
   "execution_count": 16,
   "metadata": {
    "colab": {
     "base_uri": "https://localhost:8080/",
     "height": 265
    },
    "id": "UBm0tWogoJ87",
    "outputId": "534eb148-f723-4a7a-ee70-61f47bc39bf4"
   },
   "outputs": [
    {
     "data": {
      "image/png": "[encoded data removed]",
      "text/plain": [
       "<Figure size 432x288 with 1 Axes>"
      ]
     },
     "metadata": {
      "needs_background": "light"
     },
     "output_type": "display_data"
    }
   ],
   "source": [
    "yf = fft.fft(f_signal_1, axis=2)\n",
    "yf = yf[0][0]\n",
    "xf = fft.fftfreq(170, 1/200.0)\n",
    "fig, ax = plt.subplots()\n",
    "ax.plot(xf, np.abs(yf))\n",
    "plt.show()"
   ]
  },
  {
   "cell_type": "code",
   "execution_count": 17,
   "metadata": {
    "colab": {
     "base_uri": "https://localhost:8080/",
     "height": 265
    },
    "id": "LBKQblzwoJ88",
    "outputId": "5df224ee-d05e-42eb-e2b2-0683258a5867"
   },
   "outputs": [
    {
     "data": {
      "image/png": "[encoded data removed]",
      "text/plain": [
       "<Figure size 432x288 with 1 Axes>"
      ]
     },
     "metadata": {
      "needs_background": "light"
     },
     "output_type": "display_data"
    }
   ],
   "source": [
    "yf = fft.fft(f_signal_1, axis=2)\n",
    "yf = yf[0][0]\n",
    "xf = np.linspace(0.0, 1.0/(2.0*(1.0/200.0)), 85)\n",
    "                 \n",
    "fig, ax = plt.subplots()\n",
    "ax.plot(xf, (2.0/170) * np.abs(yf[0:85]))\n",
    "plt.show()"
   ]
  },
  {
   "cell_type": "code",
   "execution_count": 18,
   "metadata": {
    "id": "uVOtSAqAyyOd"
   },
   "outputs": [],
   "source": [
    "transformed_frame_of_1 = remove_phase_shift(transformed_frame_of_1)\n",
    "transformed_frame_of_2 = remove_phase_shift(transformed_frame_of_2)\n",
    "transformed_frame_of_3 = remove_phase_shift(transformed_frame_of_3)"
   ]
  },
  {
   "cell_type": "code",
   "execution_count": 19,
   "metadata": {
    "colab": {
     "base_uri": "https://localhost:8080/",
     "height": 265
    },
    "id": "neu0YSZ4oJ9C",
    "outputId": "41778b8c-59b8-48c8-dee6-febbbb6c018a"
   },
   "outputs": [
    {
     "data": {
      "image/png": "[encoded data removed]",
      "text/plain": [
       "<Figure size 432x288 with 1 Axes>"
      ]
     },
     "metadata": {
      "needs_background": "light"
     },
     "output_type": "display_data"
    }
   ],
   "source": [
    "yf = transformed_frame_of_1[0][0]\n",
    "xf = fft.rfftfreq(170, 1/200.0)\n",
    "fig, ax = plt.subplots()\n",
    "ax.plot(xf, np.abs(yf))\n",
    "plt.show()"
   ]
  },
  {
   "cell_type": "code",
   "execution_count": 20,
   "metadata": {
    "colab": {
     "base_uri": "https://localhost:8080/",
     "height": 265
    },
    "id": "XDEee5sloJ9F",
    "outputId": "0c9c66ed-352b-4943-ae73-51e0291eb306"
   },
   "outputs": [
    {
     "data": {
      "image/png": "[encoded data removed]",
      "text/plain": [
       "<Figure size 432x288 with 1 Axes>"
      ]
     },
     "metadata": {
      "needs_background": "light"
     },
     "output_type": "display_data"
    }
   ],
   "source": [
    "yf = transformed_frame_of_2[0][0]\n",
    "xf = fft.rfftfreq(170, 1/200.0)\n",
    "fig, ax = plt.subplots()\n",
    "ax.plot(xf, np.abs(yf))\n",
    "plt.show()"
   ]
  },
  {
   "cell_type": "code",
   "execution_count": 21,
   "metadata": {
    "colab": {
     "base_uri": "https://localhost:8080/",
     "height": 265
    },
    "id": "WlZFUBCAoJ9H",
    "outputId": "9607d6ac-41e4-41c0-9329-4b717ff6b163"
   },
   "outputs": [
    {
     "data": {
      "image/png": "[encoded data removed]",
      "text/plain": [
       "<Figure size 432x288 with 1 Axes>"
      ]
     },
     "metadata": {
      "needs_background": "light"
     },
     "output_type": "display_data"
    }
   ],
   "source": [
    "yf = transformed_frame_of_3[0][0]\n",
    "xf = fft.rfftfreq(170, 1/200.0)\n",
    "fig, ax = plt.subplots()\n",
    "ax.plot(xf, np.abs(yf))\n",
    "plt.show()"
   ]
  },
  {
   "cell_type": "code",
   "execution_count": 22,
   "metadata": {
    "id": "bAdCJVHQ3kDm"
   },
   "outputs": [],
   "source": [
    "all_trials_of_1 = extract_features(transformed_frame_of_1)\n",
    "all_trials_of_2 = extract_features(transformed_frame_of_2)\n",
    "all_trials_of_3 = extract_features(transformed_frame_of_3)"
   ]
  },
  {
   "cell_type": "code",
   "execution_count": 23,
   "metadata": {
    "colab": {
     "base_uri": "https://localhost:8080/"
    },
    "id": "lcyupO414FYF",
    "outputId": "815b89c8-0d85-4ba9-8ee8-10950eab732e"
   },
   "outputs": [
    {
     "name": "stdout",
     "output_type": "stream",
     "text": [
      "(289, 189)\n",
      "(327, 189)\n",
      "(284, 189)\n"
     ]
    }
   ],
   "source": [
    "print(all_trials_of_1.shape)\n",
    "print(all_trials_of_2.shape)\n",
    "print(all_trials_of_3.shape)"
   ]
  },
  {
   "cell_type": "code",
   "execution_count": 24,
   "metadata": {
    "id": "PjRrRd2B7dx9"
   },
   "outputs": [],
   "source": [
    "trials_sets = [all_trials_of_1, all_trials_of_2, all_trials_of_3]\n",
    "class_labels = [1, 2, 3]\n",
    "dataset = create_dataset(trials_sets, class_labels)"
   ]
  },
  {
   "cell_type": "code",
   "execution_count": 25,
   "metadata": {
    "colab": {
     "base_uri": "https://localhost:8080/",
     "height": 609
    },
    "id": "TetFgCIM_gWU",
    "outputId": "44f5fd1f-85ac-43c6-bb3c-26b70f8cd21c"
   },
   "outputs": [
    {
     "data": {
      "text/html": [
       "<div>\n",
       "<style scoped>\n",
       "    .dataframe tbody tr th:only-of-type {\n",
       "        vertical-align: middle;\n",
       "    }\n",
       "\n",
       "    .dataframe tbody tr th {\n",
       "        vertical-align: top;\n",
       "    }\n",
       "\n",
       "    .dataframe thead th {\n",
       "        text-align: right;\n",
       "    }\n",
       "</style>\n",
       "<table border=\"1\" class=\"dataframe\">\n",
       "  <thead>\n",
       "    <tr style=\"text-align: right;\">\n",
       "      <th></th>\n",
       "      <th>0</th>\n",
       "      <th>1</th>\n",
       "      <th>2</th>\n",
       "      <th>3</th>\n",
       "      <th>4</th>\n",
       "      <th>5</th>\n",
       "      <th>6</th>\n",
       "      <th>7</th>\n",
       "      <th>8</th>\n",
       "      <th>9</th>\n",
       "      <th>...</th>\n",
       "      <th>180</th>\n",
       "      <th>181</th>\n",
       "      <th>182</th>\n",
       "      <th>183</th>\n",
       "      <th>184</th>\n",
       "      <th>185</th>\n",
       "      <th>186</th>\n",
       "      <th>187</th>\n",
       "      <th>188</th>\n",
       "      <th>label</th>\n",
       "    </tr>\n",
       "  </thead>\n",
       "  <tbody>\n",
       "    <tr>\n",
       "      <th>0</th>\n",
       "      <td>2.955143e+01</td>\n",
       "      <td>-3.814560e+02</td>\n",
       "      <td>-5.876786e+02</td>\n",
       "      <td>2.324613e+02</td>\n",
       "      <td>-2.370038e+01</td>\n",
       "      <td>5.224769e+01</td>\n",
       "      <td>8.973794e+01</td>\n",
       "      <td>5.643299e+00</td>\n",
       "      <td>5.205341e+01</td>\n",
       "      <td>-3.518575e+02</td>\n",
       "      <td>...</td>\n",
       "      <td>9.055554e+01</td>\n",
       "      <td>-8.090578e+00</td>\n",
       "      <td>-6.840987e+00</td>\n",
       "      <td>-1.773656e+01</td>\n",
       "      <td>-4.961509e+01</td>\n",
       "      <td>1.289650e+02</td>\n",
       "      <td>8.316779e+01</td>\n",
       "      <td>-3.363778e+01</td>\n",
       "      <td>3.629881e+01</td>\n",
       "      <td>1</td>\n",
       "    </tr>\n",
       "    <tr>\n",
       "      <th>1</th>\n",
       "      <td>-2.377874e-76</td>\n",
       "      <td>6.266212e-16</td>\n",
       "      <td>-4.298808e-13</td>\n",
       "      <td>1.045859e-10</td>\n",
       "      <td>-7.157783e-11</td>\n",
       "      <td>-1.358070e-18</td>\n",
       "      <td>5.101787e-18</td>\n",
       "      <td>8.646782e-06</td>\n",
       "      <td>2.381686e-05</td>\n",
       "      <td>-2.859172e+02</td>\n",
       "      <td>...</td>\n",
       "      <td>5.744958e+02</td>\n",
       "      <td>-6.908767e-02</td>\n",
       "      <td>-4.247191e-02</td>\n",
       "      <td>-2.914473e-101</td>\n",
       "      <td>3.999716e-101</td>\n",
       "      <td>6.620088e-23</td>\n",
       "      <td>-2.819673e-23</td>\n",
       "      <td>-1.555595e-14</td>\n",
       "      <td>3.352284e-15</td>\n",
       "      <td>1</td>\n",
       "    </tr>\n",
       "    <tr>\n",
       "      <th>2</th>\n",
       "      <td>4.448533e+01</td>\n",
       "      <td>-5.862505e-04</td>\n",
       "      <td>-5.454742e-04</td>\n",
       "      <td>9.427474e-06</td>\n",
       "      <td>-4.103926e-06</td>\n",
       "      <td>8.024706e-22</td>\n",
       "      <td>7.702423e-23</td>\n",
       "      <td>-1.452498e-14</td>\n",
       "      <td>2.465818e-14</td>\n",
       "      <td>7.103956e-77</td>\n",
       "      <td>...</td>\n",
       "      <td>4.804761e+01</td>\n",
       "      <td>-5.277358e-130</td>\n",
       "      <td>1.618486e-130</td>\n",
       "      <td>-7.610122e-04</td>\n",
       "      <td>-1.246392e-03</td>\n",
       "      <td>4.656517e-24</td>\n",
       "      <td>-2.185333e-24</td>\n",
       "      <td>-6.425117e-99</td>\n",
       "      <td>-9.324583e-98</td>\n",
       "      <td>1</td>\n",
       "    </tr>\n",
       "    <tr>\n",
       "      <th>3</th>\n",
       "      <td>1.251172e+01</td>\n",
       "      <td>-1.045097e-06</td>\n",
       "      <td>-7.967242e-07</td>\n",
       "      <td>2.746146e+01</td>\n",
       "      <td>-4.155119e+00</td>\n",
       "      <td>3.615478e-07</td>\n",
       "      <td>1.795331e-06</td>\n",
       "      <td>-7.749852e-105</td>\n",
       "      <td>-2.631262e-105</td>\n",
       "      <td>-2.275028e+02</td>\n",
       "      <td>...</td>\n",
       "      <td>-9.214647e-78</td>\n",
       "      <td>-1.228211e-117</td>\n",
       "      <td>1.269660e-117</td>\n",
       "      <td>-2.552466e+00</td>\n",
       "      <td>-8.573592e+00</td>\n",
       "      <td>2.035261e-36</td>\n",
       "      <td>-2.690270e-36</td>\n",
       "      <td>6.949082e-73</td>\n",
       "      <td>-5.303794e-73</td>\n",
       "      <td>1</td>\n",
       "    </tr>\n",
       "    <tr>\n",
       "      <th>4</th>\n",
       "      <td>5.331647e+02</td>\n",
       "      <td>-1.517132e+00</td>\n",
       "      <td>-1.904634e+00</td>\n",
       "      <td>1.575693e-07</td>\n",
       "      <td>-7.874137e-08</td>\n",
       "      <td>1.511023e-08</td>\n",
       "      <td>1.100700e-08</td>\n",
       "      <td>4.898348e-15</td>\n",
       "      <td>5.038282e-15</td>\n",
       "      <td>2.642020e-76</td>\n",
       "      <td>...</td>\n",
       "      <td>2.586550e+02</td>\n",
       "      <td>-9.524071e-134</td>\n",
       "      <td>1.561549e-134</td>\n",
       "      <td>-4.919702e-23</td>\n",
       "      <td>-1.195057e-23</td>\n",
       "      <td>8.675311e-11</td>\n",
       "      <td>1.475116e-10</td>\n",
       "      <td>3.119521e-92</td>\n",
       "      <td>-1.838825e-91</td>\n",
       "      <td>1</td>\n",
       "    </tr>\n",
       "    <tr>\n",
       "      <th>...</th>\n",
       "      <td>...</td>\n",
       "      <td>...</td>\n",
       "      <td>...</td>\n",
       "      <td>...</td>\n",
       "      <td>...</td>\n",
       "      <td>...</td>\n",
       "      <td>...</td>\n",
       "      <td>...</td>\n",
       "      <td>...</td>\n",
       "      <td>...</td>\n",
       "      <td>...</td>\n",
       "      <td>...</td>\n",
       "      <td>...</td>\n",
       "      <td>...</td>\n",
       "      <td>...</td>\n",
       "      <td>...</td>\n",
       "      <td>...</td>\n",
       "      <td>...</td>\n",
       "      <td>...</td>\n",
       "      <td>...</td>\n",
       "      <td>...</td>\n",
       "    </tr>\n",
       "    <tr>\n",
       "      <th>895</th>\n",
       "      <td>1.089669e-76</td>\n",
       "      <td>-1.684552e-41</td>\n",
       "      <td>3.712734e-42</td>\n",
       "      <td>-2.135969e-01</td>\n",
       "      <td>-7.463497e-01</td>\n",
       "      <td>2.313417e-02</td>\n",
       "      <td>-4.279144e-03</td>\n",
       "      <td>1.330965e-15</td>\n",
       "      <td>2.990548e-15</td>\n",
       "      <td>-3.811290e-77</td>\n",
       "      <td>...</td>\n",
       "      <td>-7.441744e-77</td>\n",
       "      <td>-9.577091e-68</td>\n",
       "      <td>-1.173985e-67</td>\n",
       "      <td>6.771462e-41</td>\n",
       "      <td>-3.900953e-41</td>\n",
       "      <td>5.331552e-08</td>\n",
       "      <td>5.470092e-08</td>\n",
       "      <td>3.408518e-23</td>\n",
       "      <td>1.186527e-22</td>\n",
       "      <td>3</td>\n",
       "    </tr>\n",
       "    <tr>\n",
       "      <th>896</th>\n",
       "      <td>8.573972e-77</td>\n",
       "      <td>-9.906810e-82</td>\n",
       "      <td>-1.526761e-81</td>\n",
       "      <td>2.913879e-10</td>\n",
       "      <td>-1.051733e-09</td>\n",
       "      <td>2.253106e-13</td>\n",
       "      <td>6.364082e-14</td>\n",
       "      <td>5.017409e-23</td>\n",
       "      <td>4.063425e-22</td>\n",
       "      <td>2.444935e+02</td>\n",
       "      <td>...</td>\n",
       "      <td>1.002262e+02</td>\n",
       "      <td>-4.914076e-50</td>\n",
       "      <td>3.048128e-50</td>\n",
       "      <td>7.496597e-68</td>\n",
       "      <td>-1.947484e-66</td>\n",
       "      <td>-1.006133e-37</td>\n",
       "      <td>4.582578e-38</td>\n",
       "      <td>-6.756617e-126</td>\n",
       "      <td>-1.991478e-126</td>\n",
       "      <td>3</td>\n",
       "    </tr>\n",
       "    <tr>\n",
       "      <th>897</th>\n",
       "      <td>3.689290e-76</td>\n",
       "      <td>-2.062233e-95</td>\n",
       "      <td>-9.320550e-96</td>\n",
       "      <td>-1.643640e-31</td>\n",
       "      <td>-7.808346e-33</td>\n",
       "      <td>9.135763e-20</td>\n",
       "      <td>-2.255692e-19</td>\n",
       "      <td>6.150418e-19</td>\n",
       "      <td>-2.142359e-19</td>\n",
       "      <td>6.436278e+02</td>\n",
       "      <td>...</td>\n",
       "      <td>-2.705525e-76</td>\n",
       "      <td>-2.930992e-67</td>\n",
       "      <td>-3.827603e-67</td>\n",
       "      <td>-2.271150e-77</td>\n",
       "      <td>-5.382489e-77</td>\n",
       "      <td>5.084407e-67</td>\n",
       "      <td>-1.103082e-65</td>\n",
       "      <td>-1.837823e-99</td>\n",
       "      <td>-8.895091e-99</td>\n",
       "      <td>3</td>\n",
       "    </tr>\n",
       "    <tr>\n",
       "      <th>898</th>\n",
       "      <td>-2.836401e+02</td>\n",
       "      <td>-8.999657e-83</td>\n",
       "      <td>-1.237086e-82</td>\n",
       "      <td>2.320666e-26</td>\n",
       "      <td>-1.665507e-26</td>\n",
       "      <td>2.453651e-38</td>\n",
       "      <td>7.438282e-38</td>\n",
       "      <td>-2.394772e-87</td>\n",
       "      <td>-1.498117e-88</td>\n",
       "      <td>-3.479642e-76</td>\n",
       "      <td>...</td>\n",
       "      <td>1.251650e+03</td>\n",
       "      <td>-8.348385e-51</td>\n",
       "      <td>4.527788e-51</td>\n",
       "      <td>-3.501853e-36</td>\n",
       "      <td>1.716875e-36</td>\n",
       "      <td>-1.806077e-69</td>\n",
       "      <td>-3.523240e-68</td>\n",
       "      <td>8.170298e-54</td>\n",
       "      <td>2.695863e-55</td>\n",
       "      <td>3</td>\n",
       "    </tr>\n",
       "    <tr>\n",
       "      <th>899</th>\n",
       "      <td>-5.049305e+02</td>\n",
       "      <td>-1.527851e-74</td>\n",
       "      <td>-5.037427e-74</td>\n",
       "      <td>1.183303e-28</td>\n",
       "      <td>-7.013567e-29</td>\n",
       "      <td>1.192403e-07</td>\n",
       "      <td>5.060363e-09</td>\n",
       "      <td>-3.583888e-28</td>\n",
       "      <td>4.881269e-27</td>\n",
       "      <td>-2.304807e-76</td>\n",
       "      <td>...</td>\n",
       "      <td>-1.109102e-77</td>\n",
       "      <td>9.070001e-21</td>\n",
       "      <td>5.007094e-20</td>\n",
       "      <td>-1.683058e-83</td>\n",
       "      <td>-2.258704e-83</td>\n",
       "      <td>-3.138700e-99</td>\n",
       "      <td>-8.578172e-100</td>\n",
       "      <td>9.763235e-90</td>\n",
       "      <td>-4.972799e-89</td>\n",
       "      <td>3</td>\n",
       "    </tr>\n",
       "  </tbody>\n",
       "</table>\n",
       "<p>900 rows × 190 columns</p>\n",
       "</div>"
      ],
      "text/plain": [
       "                0             1             2             3             4  \\\n",
       "0    2.955143e+01 -3.814560e+02 -5.876786e+02  2.324613e+02 -2.370038e+01   \n",
       "1   -2.377874e-76  6.266212e-16 -4.298808e-13  1.045859e-10 -7.157783e-11   \n",
       "2    4.448533e+01 -5.862505e-04 -5.454742e-04  9.427474e-06 -4.103926e-06   \n",
       "3    1.251172e+01 -1.045097e-06 -7.967242e-07  2.746146e+01 -4.155119e+00   \n",
       "4    5.331647e+02 -1.517132e+00 -1.904634e+00  1.575693e-07 -7.874137e-08   \n",
       "..            ...           ...           ...           ...           ...   \n",
       "895  1.089669e-76 -1.684552e-41  3.712734e-42 -2.135969e-01 -7.463497e-01   \n",
       "896  8.573972e-77 -9.906810e-82 -1.526761e-81  2.913879e-10 -1.051733e-09   \n",
       "897  3.689290e-76 -2.062233e-95 -9.320550e-96 -1.643640e-31 -7.808346e-33   \n",
       "898 -2.836401e+02 -8.999657e-83 -1.237086e-82  2.320666e-26 -1.665507e-26   \n",
       "899 -5.049305e+02 -1.527851e-74 -5.037427e-74  1.183303e-28 -7.013567e-29   \n",
       "\n",
       "                5             6              7              8             9  \\\n",
       "0    5.224769e+01  8.973794e+01   5.643299e+00   5.205341e+01 -3.518575e+02   \n",
       "1   -1.358070e-18  5.101787e-18   8.646782e-06   2.381686e-05 -2.859172e+02   \n",
       "2    8.024706e-22  7.702423e-23  -1.452498e-14   2.465818e-14  7.103956e-77   \n",
       "3    3.615478e-07  1.795331e-06 -7.749852e-105 -2.631262e-105 -2.275028e+02   \n",
       "4    1.511023e-08  1.100700e-08   4.898348e-15   5.038282e-15  2.642020e-76   \n",
       "..            ...           ...            ...            ...           ...   \n",
       "895  2.313417e-02 -4.279144e-03   1.330965e-15   2.990548e-15 -3.811290e-77   \n",
       "896  2.253106e-13  6.364082e-14   5.017409e-23   4.063425e-22  2.444935e+02   \n",
       "897  9.135763e-20 -2.255692e-19   6.150418e-19  -2.142359e-19  6.436278e+02   \n",
       "898  2.453651e-38  7.438282e-38  -2.394772e-87  -1.498117e-88 -3.479642e-76   \n",
       "899  1.192403e-07  5.060363e-09  -3.583888e-28   4.881269e-27 -2.304807e-76   \n",
       "\n",
       "     ...           180            181            182            183  \\\n",
       "0    ...  9.055554e+01  -8.090578e+00  -6.840987e+00  -1.773656e+01   \n",
       "1    ...  5.744958e+02  -6.908767e-02  -4.247191e-02 -2.914473e-101   \n",
       "2    ...  4.804761e+01 -5.277358e-130  1.618486e-130  -7.610122e-04   \n",
       "3    ... -9.214647e-78 -1.228211e-117  1.269660e-117  -2.552466e+00   \n",
       "4    ...  2.586550e+02 -9.524071e-134  1.561549e-134  -4.919702e-23   \n",
       "..   ...           ...            ...            ...            ...   \n",
       "895  ... -7.441744e-77  -9.577091e-68  -1.173985e-67   6.771462e-41   \n",
       "896  ...  1.002262e+02  -4.914076e-50   3.048128e-50   7.496597e-68   \n",
       "897  ... -2.705525e-76  -2.930992e-67  -3.827603e-67  -2.271150e-77   \n",
       "898  ...  1.251650e+03  -8.348385e-51   4.527788e-51  -3.501853e-36   \n",
       "899  ... -1.109102e-77   9.070001e-21   5.007094e-20  -1.683058e-83   \n",
       "\n",
       "               184           185            186            187            188  \\\n",
       "0    -4.961509e+01  1.289650e+02   8.316779e+01  -3.363778e+01   3.629881e+01   \n",
       "1    3.999716e-101  6.620088e-23  -2.819673e-23  -1.555595e-14   3.352284e-15   \n",
       "2    -1.246392e-03  4.656517e-24  -2.185333e-24  -6.425117e-99  -9.324583e-98   \n",
       "3    -8.573592e+00  2.035261e-36  -2.690270e-36   6.949082e-73  -5.303794e-73   \n",
       "4    -1.195057e-23  8.675311e-11   1.475116e-10   3.119521e-92  -1.838825e-91   \n",
       "..             ...           ...            ...            ...            ...   \n",
       "895  -3.900953e-41  5.331552e-08   5.470092e-08   3.408518e-23   1.186527e-22   \n",
       "896  -1.947484e-66 -1.006133e-37   4.582578e-38 -6.756617e-126 -1.991478e-126   \n",
       "897  -5.382489e-77  5.084407e-67  -1.103082e-65  -1.837823e-99  -8.895091e-99   \n",
       "898   1.716875e-36 -1.806077e-69  -3.523240e-68   8.170298e-54   2.695863e-55   \n",
       "899  -2.258704e-83 -3.138700e-99 -8.578172e-100   9.763235e-90  -4.972799e-89   \n",
       "\n",
       "     label  \n",
       "0        1  \n",
       "1        1  \n",
       "2        1  \n",
       "3        1  \n",
       "4        1  \n",
       "..     ...  \n",
       "895      3  \n",
       "896      3  \n",
       "897      3  \n",
       "898      3  \n",
       "899      3  \n",
       "\n",
       "[900 rows x 190 columns]"
      ]
     },
     "execution_count": 25,
     "metadata": {},
     "output_type": "execute_result"
    }
   ],
   "source": [
    "dataset"
   ]
  },
  {
   "cell_type": "code",
   "execution_count": 26,
   "metadata": {
    "id": "FHq27QR2Cv3i"
   },
   "outputs": [],
   "source": [
    "f2 = \"csvDatasets/\" + file_name + \".csv\"\n",
    "dataset.to_csv(f2)\n",
    "# !cp dataset.csv \"/content/drive/MyDrive/IIT Delhi/HSL622_termPaper\""
   ]
  },
  {
   "cell_type": "markdown",
   "metadata": {
    "id": "nfsc0txNoJ9U"
   },
   "source": [
    "Apply different ML classification algorithms to dataset present in \"dataset\"\n",
    "few implemented algorithms are here https://github.com/mrzResearchArena/MI-EEG/tree/master/Machine-Learning"
   ]
  },
  {
   "cell_type": "code",
   "execution_count": 27,
   "metadata": {
    "id": "-4Rn7gK9CW6u"
   },
   "outputs": [],
   "source": [
    "dataset = dataset.sample(frac=1).reset_index(drop=True)"
   ]
  },
  {
   "cell_type": "code",
   "execution_count": 28,
   "metadata": {
    "colab": {
     "base_uri": "https://localhost:8080/",
     "height": 578
    },
    "id": "cuRG8_0aHJu_",
    "outputId": "cbf4df2b-ff41-4399-9d27-44823a6d6801"
   },
   "outputs": [
    {
     "data": {
      "text/html": [
       "<div>\n",
       "<style scoped>\n",
       "    .dataframe tbody tr th:only-of-type {\n",
       "        vertical-align: middle;\n",
       "    }\n",
       "\n",
       "    .dataframe tbody tr th {\n",
       "        vertical-align: top;\n",
       "    }\n",
       "\n",
       "    .dataframe thead th {\n",
       "        text-align: right;\n",
       "    }\n",
       "</style>\n",
       "<table border=\"1\" class=\"dataframe\">\n",
       "  <thead>\n",
       "    <tr style=\"text-align: right;\">\n",
       "      <th></th>\n",
       "      <th>0</th>\n",
       "      <th>1</th>\n",
       "      <th>2</th>\n",
       "      <th>3</th>\n",
       "      <th>4</th>\n",
       "      <th>5</th>\n",
       "      <th>6</th>\n",
       "      <th>7</th>\n",
       "      <th>8</th>\n",
       "      <th>9</th>\n",
       "      <th>...</th>\n",
       "      <th>180</th>\n",
       "      <th>181</th>\n",
       "      <th>182</th>\n",
       "      <th>183</th>\n",
       "      <th>184</th>\n",
       "      <th>185</th>\n",
       "      <th>186</th>\n",
       "      <th>187</th>\n",
       "      <th>188</th>\n",
       "      <th>label</th>\n",
       "    </tr>\n",
       "  </thead>\n",
       "  <tbody>\n",
       "    <tr>\n",
       "      <th>0</th>\n",
       "      <td>-7.652111e+01</td>\n",
       "      <td>-2.037931e-40</td>\n",
       "      <td>3.534409e-42</td>\n",
       "      <td>3.751506e-16</td>\n",
       "      <td>-8.198989e-16</td>\n",
       "      <td>4.432605e-21</td>\n",
       "      <td>3.561691e-21</td>\n",
       "      <td>-1.418002e+00</td>\n",
       "      <td>2.051399e+00</td>\n",
       "      <td>-2.306623e+02</td>\n",
       "      <td>...</td>\n",
       "      <td>-2.179281e+02</td>\n",
       "      <td>-3.977771e-70</td>\n",
       "      <td>-1.742990e-70</td>\n",
       "      <td>-5.522196e-108</td>\n",
       "      <td>-8.426595e-107</td>\n",
       "      <td>-1.835282e-129</td>\n",
       "      <td>-2.094126e-129</td>\n",
       "      <td>-6.869231e-10</td>\n",
       "      <td>-1.390547e-09</td>\n",
       "      <td>2</td>\n",
       "    </tr>\n",
       "    <tr>\n",
       "      <th>1</th>\n",
       "      <td>1.290694e-76</td>\n",
       "      <td>-2.713728e-35</td>\n",
       "      <td>1.360487e-35</td>\n",
       "      <td>1.791488e-05</td>\n",
       "      <td>-2.892714e-04</td>\n",
       "      <td>1.381798e-04</td>\n",
       "      <td>-1.154611e-05</td>\n",
       "      <td>5.577240e-14</td>\n",
       "      <td>1.118564e-13</td>\n",
       "      <td>3.344319e+02</td>\n",
       "      <td>...</td>\n",
       "      <td>-2.347357e-76</td>\n",
       "      <td>-5.243507e-73</td>\n",
       "      <td>-4.127383e-73</td>\n",
       "      <td>4.495775e-60</td>\n",
       "      <td>-1.441433e-59</td>\n",
       "      <td>1.070168e-63</td>\n",
       "      <td>-6.921493e-63</td>\n",
       "      <td>-3.275484e-106</td>\n",
       "      <td>-6.110874e-106</td>\n",
       "      <td>3</td>\n",
       "    </tr>\n",
       "    <tr>\n",
       "      <th>2</th>\n",
       "      <td>-4.831509e+02</td>\n",
       "      <td>-9.829733e-91</td>\n",
       "      <td>-7.038034e-91</td>\n",
       "      <td>8.980178e-08</td>\n",
       "      <td>-4.926570e-07</td>\n",
       "      <td>4.181214e-07</td>\n",
       "      <td>-3.487459e-07</td>\n",
       "      <td>2.991714e-05</td>\n",
       "      <td>6.366007e-06</td>\n",
       "      <td>-2.771201e-76</td>\n",
       "      <td>...</td>\n",
       "      <td>4.254046e+01</td>\n",
       "      <td>-2.660691e-67</td>\n",
       "      <td>-3.359971e-67</td>\n",
       "      <td>-3.146031e-12</td>\n",
       "      <td>3.076530e-11</td>\n",
       "      <td>-3.029648e-94</td>\n",
       "      <td>-1.527944e-94</td>\n",
       "      <td>8.668678e-82</td>\n",
       "      <td>-1.569103e-81</td>\n",
       "      <td>3</td>\n",
       "    </tr>\n",
       "    <tr>\n",
       "      <th>3</th>\n",
       "      <td>2.464597e+02</td>\n",
       "      <td>-4.153169e-04</td>\n",
       "      <td>-3.899940e-04</td>\n",
       "      <td>1.863835e-01</td>\n",
       "      <td>-4.310005e-02</td>\n",
       "      <td>1.251957e-12</td>\n",
       "      <td>6.396419e-13</td>\n",
       "      <td>-4.685810e-15</td>\n",
       "      <td>7.671106e-15</td>\n",
       "      <td>1.325509e-76</td>\n",
       "      <td>...</td>\n",
       "      <td>5.520854e+02</td>\n",
       "      <td>-6.748606e-131</td>\n",
       "      <td>1.746235e-131</td>\n",
       "      <td>-3.314646e-122</td>\n",
       "      <td>2.758873e-123</td>\n",
       "      <td>3.073014e-42</td>\n",
       "      <td>-6.962352e-42</td>\n",
       "      <td>1.208516e-89</td>\n",
       "      <td>-4.513381e-89</td>\n",
       "      <td>1</td>\n",
       "    </tr>\n",
       "    <tr>\n",
       "      <th>4</th>\n",
       "      <td>3.005160e+02</td>\n",
       "      <td>-9.548446e-10</td>\n",
       "      <td>-5.437507e-10</td>\n",
       "      <td>5.283421e-06</td>\n",
       "      <td>-2.398181e-06</td>\n",
       "      <td>2.406417e-08</td>\n",
       "      <td>1.783431e-08</td>\n",
       "      <td>-1.285832e-14</td>\n",
       "      <td>2.162199e-14</td>\n",
       "      <td>2.755120e-76</td>\n",
       "      <td>...</td>\n",
       "      <td>-6.363809e-77</td>\n",
       "      <td>-1.391903e-114</td>\n",
       "      <td>1.846460e-114</td>\n",
       "      <td>-1.182449e-03</td>\n",
       "      <td>-1.928412e-03</td>\n",
       "      <td>4.272644e-30</td>\n",
       "      <td>-3.417617e-30</td>\n",
       "      <td>4.691218e-94</td>\n",
       "      <td>-4.436889e-93</td>\n",
       "      <td>1</td>\n",
       "    </tr>\n",
       "    <tr>\n",
       "      <th>5</th>\n",
       "      <td>4.718616e-77</td>\n",
       "      <td>-1.857062e-37</td>\n",
       "      <td>7.239998e-38</td>\n",
       "      <td>3.624163e-05</td>\n",
       "      <td>-7.908607e-04</td>\n",
       "      <td>1.132562e-10</td>\n",
       "      <td>-1.248304e-10</td>\n",
       "      <td>4.817781e+01</td>\n",
       "      <td>2.423184e+01</td>\n",
       "      <td>8.020630e+01</td>\n",
       "      <td>...</td>\n",
       "      <td>-2.347204e-77</td>\n",
       "      <td>-1.637752e-38</td>\n",
       "      <td>2.707964e-38</td>\n",
       "      <td>-4.640689e-85</td>\n",
       "      <td>-5.234581e-85</td>\n",
       "      <td>-9.515248e-100</td>\n",
       "      <td>-2.727369e-100</td>\n",
       "      <td>2.285763e-84</td>\n",
       "      <td>-5.467438e-84</td>\n",
       "      <td>3</td>\n",
       "    </tr>\n",
       "    <tr>\n",
       "      <th>6</th>\n",
       "      <td>3.396836e-76</td>\n",
       "      <td>-1.662959e-107</td>\n",
       "      <td>-3.053710e-108</td>\n",
       "      <td>-1.033389e-31</td>\n",
       "      <td>-6.168230e-31</td>\n",
       "      <td>1.801811e-19</td>\n",
       "      <td>1.208718e-19</td>\n",
       "      <td>2.291329e-61</td>\n",
       "      <td>-6.283829e-62</td>\n",
       "      <td>4.084984e-76</td>\n",
       "      <td>...</td>\n",
       "      <td>-3.667303e+02</td>\n",
       "      <td>2.171609e-26</td>\n",
       "      <td>-2.994953e-26</td>\n",
       "      <td>1.064851e-72</td>\n",
       "      <td>-2.893711e-73</td>\n",
       "      <td>-1.363229e-125</td>\n",
       "      <td>-2.200870e-125</td>\n",
       "      <td>-8.243192e-11</td>\n",
       "      <td>-1.636727e-10</td>\n",
       "      <td>2</td>\n",
       "    </tr>\n",
       "    <tr>\n",
       "      <th>7</th>\n",
       "      <td>1.349528e-75</td>\n",
       "      <td>9.827670e-24</td>\n",
       "      <td>1.326148e-24</td>\n",
       "      <td>1.516670e-54</td>\n",
       "      <td>9.084525e-55</td>\n",
       "      <td>2.601390e-26</td>\n",
       "      <td>2.768060e-26</td>\n",
       "      <td>1.108890e-09</td>\n",
       "      <td>1.622655e-09</td>\n",
       "      <td>2.109214e+03</td>\n",
       "      <td>...</td>\n",
       "      <td>-3.410498e-76</td>\n",
       "      <td>-2.039943e-77</td>\n",
       "      <td>-1.063488e-77</td>\n",
       "      <td>-8.387666e-73</td>\n",
       "      <td>-3.785445e-72</td>\n",
       "      <td>-8.730745e-78</td>\n",
       "      <td>-1.873261e-77</td>\n",
       "      <td>-2.974889e-99</td>\n",
       "      <td>-1.433382e-98</td>\n",
       "      <td>3</td>\n",
       "    </tr>\n",
       "    <tr>\n",
       "      <th>8</th>\n",
       "      <td>4.836008e-76</td>\n",
       "      <td>-1.117971e-28</td>\n",
       "      <td>5.710939e-29</td>\n",
       "      <td>-3.698300e-32</td>\n",
       "      <td>-1.948150e-31</td>\n",
       "      <td>2.873483e-22</td>\n",
       "      <td>-7.098361e-22</td>\n",
       "      <td>1.105798e-41</td>\n",
       "      <td>6.074041e-42</td>\n",
       "      <td>2.349792e-76</td>\n",
       "      <td>...</td>\n",
       "      <td>1.553856e-76</td>\n",
       "      <td>-3.004045e-36</td>\n",
       "      <td>1.442016e-33</td>\n",
       "      <td>-3.398897e-120</td>\n",
       "      <td>-4.776992e-120</td>\n",
       "      <td>2.248297e-42</td>\n",
       "      <td>6.321654e-42</td>\n",
       "      <td>-8.785378e-24</td>\n",
       "      <td>-5.358714e-24</td>\n",
       "      <td>2</td>\n",
       "    </tr>\n",
       "    <tr>\n",
       "      <th>9</th>\n",
       "      <td>-2.582960e+02</td>\n",
       "      <td>-1.381261e-84</td>\n",
       "      <td>-1.594012e-84</td>\n",
       "      <td>-3.025915e+00</td>\n",
       "      <td>-1.315152e+01</td>\n",
       "      <td>1.673712e-10</td>\n",
       "      <td>-1.804193e-10</td>\n",
       "      <td>1.936008e-13</td>\n",
       "      <td>-1.976440e-14</td>\n",
       "      <td>-1.818955e-76</td>\n",
       "      <td>...</td>\n",
       "      <td>1.511697e+02</td>\n",
       "      <td>2.429379e-49</td>\n",
       "      <td>-2.572504e-48</td>\n",
       "      <td>-2.832083e-33</td>\n",
       "      <td>1.810352e-33</td>\n",
       "      <td>-1.245413e-31</td>\n",
       "      <td>9.535032e-32</td>\n",
       "      <td>3.567337e-79</td>\n",
       "      <td>-5.278517e-79</td>\n",
       "      <td>3</td>\n",
       "    </tr>\n",
       "  </tbody>\n",
       "</table>\n",
       "<p>10 rows × 190 columns</p>\n",
       "</div>"
      ],
      "text/plain": [
       "              0              1              2             3             4  \\\n",
       "0 -7.652111e+01  -2.037931e-40   3.534409e-42  3.751506e-16 -8.198989e-16   \n",
       "1  1.290694e-76  -2.713728e-35   1.360487e-35  1.791488e-05 -2.892714e-04   \n",
       "2 -4.831509e+02  -9.829733e-91  -7.038034e-91  8.980178e-08 -4.926570e-07   \n",
       "3  2.464597e+02  -4.153169e-04  -3.899940e-04  1.863835e-01 -4.310005e-02   \n",
       "4  3.005160e+02  -9.548446e-10  -5.437507e-10  5.283421e-06 -2.398181e-06   \n",
       "5  4.718616e-77  -1.857062e-37   7.239998e-38  3.624163e-05 -7.908607e-04   \n",
       "6  3.396836e-76 -1.662959e-107 -3.053710e-108 -1.033389e-31 -6.168230e-31   \n",
       "7  1.349528e-75   9.827670e-24   1.326148e-24  1.516670e-54  9.084525e-55   \n",
       "8  4.836008e-76  -1.117971e-28   5.710939e-29 -3.698300e-32 -1.948150e-31   \n",
       "9 -2.582960e+02  -1.381261e-84  -1.594012e-84 -3.025915e+00 -1.315152e+01   \n",
       "\n",
       "              5             6             7             8             9  ...  \\\n",
       "0  4.432605e-21  3.561691e-21 -1.418002e+00  2.051399e+00 -2.306623e+02  ...   \n",
       "1  1.381798e-04 -1.154611e-05  5.577240e-14  1.118564e-13  3.344319e+02  ...   \n",
       "2  4.181214e-07 -3.487459e-07  2.991714e-05  6.366007e-06 -2.771201e-76  ...   \n",
       "3  1.251957e-12  6.396419e-13 -4.685810e-15  7.671106e-15  1.325509e-76  ...   \n",
       "4  2.406417e-08  1.783431e-08 -1.285832e-14  2.162199e-14  2.755120e-76  ...   \n",
       "5  1.132562e-10 -1.248304e-10  4.817781e+01  2.423184e+01  8.020630e+01  ...   \n",
       "6  1.801811e-19  1.208718e-19  2.291329e-61 -6.283829e-62  4.084984e-76  ...   \n",
       "7  2.601390e-26  2.768060e-26  1.108890e-09  1.622655e-09  2.109214e+03  ...   \n",
       "8  2.873483e-22 -7.098361e-22  1.105798e-41  6.074041e-42  2.349792e-76  ...   \n",
       "9  1.673712e-10 -1.804193e-10  1.936008e-13 -1.976440e-14 -1.818955e-76  ...   \n",
       "\n",
       "            180            181            182            183            184  \\\n",
       "0 -2.179281e+02  -3.977771e-70  -1.742990e-70 -5.522196e-108 -8.426595e-107   \n",
       "1 -2.347357e-76  -5.243507e-73  -4.127383e-73   4.495775e-60  -1.441433e-59   \n",
       "2  4.254046e+01  -2.660691e-67  -3.359971e-67  -3.146031e-12   3.076530e-11   \n",
       "3  5.520854e+02 -6.748606e-131  1.746235e-131 -3.314646e-122  2.758873e-123   \n",
       "4 -6.363809e-77 -1.391903e-114  1.846460e-114  -1.182449e-03  -1.928412e-03   \n",
       "5 -2.347204e-77  -1.637752e-38   2.707964e-38  -4.640689e-85  -5.234581e-85   \n",
       "6 -3.667303e+02   2.171609e-26  -2.994953e-26   1.064851e-72  -2.893711e-73   \n",
       "7 -3.410498e-76  -2.039943e-77  -1.063488e-77  -8.387666e-73  -3.785445e-72   \n",
       "8  1.553856e-76  -3.004045e-36   1.442016e-33 -3.398897e-120 -4.776992e-120   \n",
       "9  1.511697e+02   2.429379e-49  -2.572504e-48  -2.832083e-33   1.810352e-33   \n",
       "\n",
       "             185            186            187            188  label  \n",
       "0 -1.835282e-129 -2.094126e-129  -6.869231e-10  -1.390547e-09      2  \n",
       "1   1.070168e-63  -6.921493e-63 -3.275484e-106 -6.110874e-106      3  \n",
       "2  -3.029648e-94  -1.527944e-94   8.668678e-82  -1.569103e-81      3  \n",
       "3   3.073014e-42  -6.962352e-42   1.208516e-89  -4.513381e-89      1  \n",
       "4   4.272644e-30  -3.417617e-30   4.691218e-94  -4.436889e-93      1  \n",
       "5 -9.515248e-100 -2.727369e-100   2.285763e-84  -5.467438e-84      3  \n",
       "6 -1.363229e-125 -2.200870e-125  -8.243192e-11  -1.636727e-10      2  \n",
       "7  -8.730745e-78  -1.873261e-77  -2.974889e-99  -1.433382e-98      3  \n",
       "8   2.248297e-42   6.321654e-42  -8.785378e-24  -5.358714e-24      2  \n",
       "9  -1.245413e-31   9.535032e-32   3.567337e-79  -5.278517e-79      3  \n",
       "\n",
       "[10 rows x 190 columns]"
      ]
     },
     "execution_count": 28,
     "metadata": {},
     "output_type": "execute_result"
    }
   ],
   "source": [
    "dataset.head(10)"
   ]
  },
  {
   "cell_type": "code",
   "execution_count": 29,
   "metadata": {
    "id": "RyFHppewHVE2"
   },
   "outputs": [],
   "source": [
    "from sklearn.model_selection import train_test_split\n"
   ]
  },
  {
   "cell_type": "code",
   "execution_count": 30,
   "metadata": {
    "id": "nZi4CdCUIefZ"
   },
   "outputs": [],
   "source": [
    "train, test = train_test_split(dataset, test_size=0.2, shuffle=False, random_state=0)"
   ]
  },
  {
   "cell_type": "code",
   "execution_count": 31,
   "metadata": {
    "colab": {
     "base_uri": "https://localhost:8080/",
     "height": 609
    },
    "id": "oCPvIB_CJLmh",
    "outputId": "bdf8291d-f881-43a4-8611-9f3b2def2195"
   },
   "outputs": [
    {
     "data": {
      "text/html": [
       "<div>\n",
       "<style scoped>\n",
       "    .dataframe tbody tr th:only-of-type {\n",
       "        vertical-align: middle;\n",
       "    }\n",
       "\n",
       "    .dataframe tbody tr th {\n",
       "        vertical-align: top;\n",
       "    }\n",
       "\n",
       "    .dataframe thead th {\n",
       "        text-align: right;\n",
       "    }\n",
       "</style>\n",
       "<table border=\"1\" class=\"dataframe\">\n",
       "  <thead>\n",
       "    <tr style=\"text-align: right;\">\n",
       "      <th></th>\n",
       "      <th>0</th>\n",
       "      <th>1</th>\n",
       "      <th>2</th>\n",
       "      <th>3</th>\n",
       "      <th>4</th>\n",
       "      <th>5</th>\n",
       "      <th>6</th>\n",
       "      <th>7</th>\n",
       "      <th>8</th>\n",
       "      <th>9</th>\n",
       "      <th>...</th>\n",
       "      <th>180</th>\n",
       "      <th>181</th>\n",
       "      <th>182</th>\n",
       "      <th>183</th>\n",
       "      <th>184</th>\n",
       "      <th>185</th>\n",
       "      <th>186</th>\n",
       "      <th>187</th>\n",
       "      <th>188</th>\n",
       "      <th>label</th>\n",
       "    </tr>\n",
       "  </thead>\n",
       "  <tbody>\n",
       "    <tr>\n",
       "      <th>0</th>\n",
       "      <td>-7.652111e+01</td>\n",
       "      <td>-2.037931e-40</td>\n",
       "      <td>3.534409e-42</td>\n",
       "      <td>3.751506e-16</td>\n",
       "      <td>-8.198989e-16</td>\n",
       "      <td>4.432605e-21</td>\n",
       "      <td>3.561691e-21</td>\n",
       "      <td>-1.418002e+00</td>\n",
       "      <td>2.051399e+00</td>\n",
       "      <td>-2.306623e+02</td>\n",
       "      <td>...</td>\n",
       "      <td>-2.179281e+02</td>\n",
       "      <td>-3.977771e-70</td>\n",
       "      <td>-1.742990e-70</td>\n",
       "      <td>-5.522196e-108</td>\n",
       "      <td>-8.426595e-107</td>\n",
       "      <td>-1.835282e-129</td>\n",
       "      <td>-2.094126e-129</td>\n",
       "      <td>-6.869231e-10</td>\n",
       "      <td>-1.390547e-09</td>\n",
       "      <td>2</td>\n",
       "    </tr>\n",
       "    <tr>\n",
       "      <th>1</th>\n",
       "      <td>1.290694e-76</td>\n",
       "      <td>-2.713728e-35</td>\n",
       "      <td>1.360487e-35</td>\n",
       "      <td>1.791488e-05</td>\n",
       "      <td>-2.892714e-04</td>\n",
       "      <td>1.381798e-04</td>\n",
       "      <td>-1.154611e-05</td>\n",
       "      <td>5.577240e-14</td>\n",
       "      <td>1.118564e-13</td>\n",
       "      <td>3.344319e+02</td>\n",
       "      <td>...</td>\n",
       "      <td>-2.347357e-76</td>\n",
       "      <td>-5.243507e-73</td>\n",
       "      <td>-4.127383e-73</td>\n",
       "      <td>4.495775e-60</td>\n",
       "      <td>-1.441433e-59</td>\n",
       "      <td>1.070168e-63</td>\n",
       "      <td>-6.921493e-63</td>\n",
       "      <td>-3.275484e-106</td>\n",
       "      <td>-6.110874e-106</td>\n",
       "      <td>3</td>\n",
       "    </tr>\n",
       "    <tr>\n",
       "      <th>2</th>\n",
       "      <td>-4.831509e+02</td>\n",
       "      <td>-9.829733e-91</td>\n",
       "      <td>-7.038034e-91</td>\n",
       "      <td>8.980178e-08</td>\n",
       "      <td>-4.926570e-07</td>\n",
       "      <td>4.181214e-07</td>\n",
       "      <td>-3.487459e-07</td>\n",
       "      <td>2.991714e-05</td>\n",
       "      <td>6.366007e-06</td>\n",
       "      <td>-2.771201e-76</td>\n",
       "      <td>...</td>\n",
       "      <td>4.254046e+01</td>\n",
       "      <td>-2.660691e-67</td>\n",
       "      <td>-3.359971e-67</td>\n",
       "      <td>-3.146031e-12</td>\n",
       "      <td>3.076530e-11</td>\n",
       "      <td>-3.029648e-94</td>\n",
       "      <td>-1.527944e-94</td>\n",
       "      <td>8.668678e-82</td>\n",
       "      <td>-1.569103e-81</td>\n",
       "      <td>3</td>\n",
       "    </tr>\n",
       "    <tr>\n",
       "      <th>3</th>\n",
       "      <td>2.464597e+02</td>\n",
       "      <td>-4.153169e-04</td>\n",
       "      <td>-3.899940e-04</td>\n",
       "      <td>1.863835e-01</td>\n",
       "      <td>-4.310005e-02</td>\n",
       "      <td>1.251957e-12</td>\n",
       "      <td>6.396419e-13</td>\n",
       "      <td>-4.685810e-15</td>\n",
       "      <td>7.671106e-15</td>\n",
       "      <td>1.325509e-76</td>\n",
       "      <td>...</td>\n",
       "      <td>5.520854e+02</td>\n",
       "      <td>-6.748606e-131</td>\n",
       "      <td>1.746235e-131</td>\n",
       "      <td>-3.314646e-122</td>\n",
       "      <td>2.758873e-123</td>\n",
       "      <td>3.073014e-42</td>\n",
       "      <td>-6.962352e-42</td>\n",
       "      <td>1.208516e-89</td>\n",
       "      <td>-4.513381e-89</td>\n",
       "      <td>1</td>\n",
       "    </tr>\n",
       "    <tr>\n",
       "      <th>4</th>\n",
       "      <td>3.005160e+02</td>\n",
       "      <td>-9.548446e-10</td>\n",
       "      <td>-5.437507e-10</td>\n",
       "      <td>5.283421e-06</td>\n",
       "      <td>-2.398181e-06</td>\n",
       "      <td>2.406417e-08</td>\n",
       "      <td>1.783431e-08</td>\n",
       "      <td>-1.285832e-14</td>\n",
       "      <td>2.162199e-14</td>\n",
       "      <td>2.755120e-76</td>\n",
       "      <td>...</td>\n",
       "      <td>-6.363809e-77</td>\n",
       "      <td>-1.391903e-114</td>\n",
       "      <td>1.846460e-114</td>\n",
       "      <td>-1.182449e-03</td>\n",
       "      <td>-1.928412e-03</td>\n",
       "      <td>4.272644e-30</td>\n",
       "      <td>-3.417617e-30</td>\n",
       "      <td>4.691218e-94</td>\n",
       "      <td>-4.436889e-93</td>\n",
       "      <td>1</td>\n",
       "    </tr>\n",
       "    <tr>\n",
       "      <th>...</th>\n",
       "      <td>...</td>\n",
       "      <td>...</td>\n",
       "      <td>...</td>\n",
       "      <td>...</td>\n",
       "      <td>...</td>\n",
       "      <td>...</td>\n",
       "      <td>...</td>\n",
       "      <td>...</td>\n",
       "      <td>...</td>\n",
       "      <td>...</td>\n",
       "      <td>...</td>\n",
       "      <td>...</td>\n",
       "      <td>...</td>\n",
       "      <td>...</td>\n",
       "      <td>...</td>\n",
       "      <td>...</td>\n",
       "      <td>...</td>\n",
       "      <td>...</td>\n",
       "      <td>...</td>\n",
       "      <td>...</td>\n",
       "      <td>...</td>\n",
       "    </tr>\n",
       "    <tr>\n",
       "      <th>715</th>\n",
       "      <td>-6.504000e+02</td>\n",
       "      <td>-3.236034e-83</td>\n",
       "      <td>-7.483118e-83</td>\n",
       "      <td>5.040470e-20</td>\n",
       "      <td>-1.727124e-19</td>\n",
       "      <td>7.988554e-15</td>\n",
       "      <td>3.638026e-15</td>\n",
       "      <td>-2.473176e-126</td>\n",
       "      <td>-6.780014e-127</td>\n",
       "      <td>-6.873837e+02</td>\n",
       "      <td>...</td>\n",
       "      <td>3.817846e-77</td>\n",
       "      <td>9.620388e-05</td>\n",
       "      <td>3.977411e-05</td>\n",
       "      <td>-2.620513e-14</td>\n",
       "      <td>4.715122e-14</td>\n",
       "      <td>-1.951780e-145</td>\n",
       "      <td>-4.221757e-146</td>\n",
       "      <td>2.980806e-09</td>\n",
       "      <td>-7.755414e-09</td>\n",
       "      <td>2</td>\n",
       "    </tr>\n",
       "    <tr>\n",
       "      <th>716</th>\n",
       "      <td>-3.165870e-76</td>\n",
       "      <td>4.087731e-15</td>\n",
       "      <td>-5.724963e-14</td>\n",
       "      <td>1.721399e-26</td>\n",
       "      <td>2.827981e-26</td>\n",
       "      <td>-1.963953e-33</td>\n",
       "      <td>1.645061e-33</td>\n",
       "      <td>-1.624224e-77</td>\n",
       "      <td>-1.527864e-76</td>\n",
       "      <td>-4.154700e+02</td>\n",
       "      <td>...</td>\n",
       "      <td>2.168409e+02</td>\n",
       "      <td>-2.029118e-104</td>\n",
       "      <td>9.336195e-104</td>\n",
       "      <td>2.531589e-84</td>\n",
       "      <td>2.118069e-83</td>\n",
       "      <td>-8.673776e-51</td>\n",
       "      <td>4.551224e-51</td>\n",
       "      <td>1.797332e-79</td>\n",
       "      <td>-2.294568e-79</td>\n",
       "      <td>1</td>\n",
       "    </tr>\n",
       "    <tr>\n",
       "      <th>717</th>\n",
       "      <td>4.229550e-76</td>\n",
       "      <td>-8.255397e-100</td>\n",
       "      <td>-4.406900e-100</td>\n",
       "      <td>1.425999e-06</td>\n",
       "      <td>-1.513313e-07</td>\n",
       "      <td>1.022555e-13</td>\n",
       "      <td>4.007397e-14</td>\n",
       "      <td>1.030169e-46</td>\n",
       "      <td>3.386276e-47</td>\n",
       "      <td>3.778391e-76</td>\n",
       "      <td>...</td>\n",
       "      <td>2.769934e-77</td>\n",
       "      <td>-6.929960e-68</td>\n",
       "      <td>1.530355e-68</td>\n",
       "      <td>-4.127614e-139</td>\n",
       "      <td>-7.451328e-140</td>\n",
       "      <td>-7.038834e-120</td>\n",
       "      <td>-2.159297e-119</td>\n",
       "      <td>9.523369e-13</td>\n",
       "      <td>-1.636540e-12</td>\n",
       "      <td>2</td>\n",
       "    </tr>\n",
       "    <tr>\n",
       "      <th>718</th>\n",
       "      <td>-1.674677e-75</td>\n",
       "      <td>8.537395e-28</td>\n",
       "      <td>-1.234565e-27</td>\n",
       "      <td>2.421131e-17</td>\n",
       "      <td>-2.926802e-17</td>\n",
       "      <td>1.880097e-44</td>\n",
       "      <td>-1.959065e-44</td>\n",
       "      <td>-1.648436e-18</td>\n",
       "      <td>1.995556e-18</td>\n",
       "      <td>-2.499094e+03</td>\n",
       "      <td>...</td>\n",
       "      <td>5.263673e+01</td>\n",
       "      <td>-1.870046e-100</td>\n",
       "      <td>4.353140e-99</td>\n",
       "      <td>-7.186789e-13</td>\n",
       "      <td>-5.565707e-13</td>\n",
       "      <td>-2.650218e-54</td>\n",
       "      <td>-4.889484e-53</td>\n",
       "      <td>2.189742e-30</td>\n",
       "      <td>3.880303e-30</td>\n",
       "      <td>1</td>\n",
       "    </tr>\n",
       "    <tr>\n",
       "      <th>719</th>\n",
       "      <td>-1.629343e+03</td>\n",
       "      <td>4.162232e-64</td>\n",
       "      <td>-1.032294e-63</td>\n",
       "      <td>2.472557e-11</td>\n",
       "      <td>-3.516458e-11</td>\n",
       "      <td>4.566847e-03</td>\n",
       "      <td>-2.079956e-03</td>\n",
       "      <td>-1.865198e-06</td>\n",
       "      <td>1.211562e-06</td>\n",
       "      <td>-1.627371e+03</td>\n",
       "      <td>...</td>\n",
       "      <td>-1.842876e+02</td>\n",
       "      <td>-1.416919e-57</td>\n",
       "      <td>1.014730e-57</td>\n",
       "      <td>-1.102540e-115</td>\n",
       "      <td>-2.393567e-115</td>\n",
       "      <td>-9.346760e-127</td>\n",
       "      <td>-1.358168e-126</td>\n",
       "      <td>5.579154e-11</td>\n",
       "      <td>-1.151684e-10</td>\n",
       "      <td>2</td>\n",
       "    </tr>\n",
       "  </tbody>\n",
       "</table>\n",
       "<p>720 rows × 190 columns</p>\n",
       "</div>"
      ],
      "text/plain": [
       "                0              1              2             3             4  \\\n",
       "0   -7.652111e+01  -2.037931e-40   3.534409e-42  3.751506e-16 -8.198989e-16   \n",
       "1    1.290694e-76  -2.713728e-35   1.360487e-35  1.791488e-05 -2.892714e-04   \n",
       "2   -4.831509e+02  -9.829733e-91  -7.038034e-91  8.980178e-08 -4.926570e-07   \n",
       "3    2.464597e+02  -4.153169e-04  -3.899940e-04  1.863835e-01 -4.310005e-02   \n",
       "4    3.005160e+02  -9.548446e-10  -5.437507e-10  5.283421e-06 -2.398181e-06   \n",
       "..            ...            ...            ...           ...           ...   \n",
       "715 -6.504000e+02  -3.236034e-83  -7.483118e-83  5.040470e-20 -1.727124e-19   \n",
       "716 -3.165870e-76   4.087731e-15  -5.724963e-14  1.721399e-26  2.827981e-26   \n",
       "717  4.229550e-76 -8.255397e-100 -4.406900e-100  1.425999e-06 -1.513313e-07   \n",
       "718 -1.674677e-75   8.537395e-28  -1.234565e-27  2.421131e-17 -2.926802e-17   \n",
       "719 -1.629343e+03   4.162232e-64  -1.032294e-63  2.472557e-11 -3.516458e-11   \n",
       "\n",
       "                5             6              7              8             9  \\\n",
       "0    4.432605e-21  3.561691e-21  -1.418002e+00   2.051399e+00 -2.306623e+02   \n",
       "1    1.381798e-04 -1.154611e-05   5.577240e-14   1.118564e-13  3.344319e+02   \n",
       "2    4.181214e-07 -3.487459e-07   2.991714e-05   6.366007e-06 -2.771201e-76   \n",
       "3    1.251957e-12  6.396419e-13  -4.685810e-15   7.671106e-15  1.325509e-76   \n",
       "4    2.406417e-08  1.783431e-08  -1.285832e-14   2.162199e-14  2.755120e-76   \n",
       "..            ...           ...            ...            ...           ...   \n",
       "715  7.988554e-15  3.638026e-15 -2.473176e-126 -6.780014e-127 -6.873837e+02   \n",
       "716 -1.963953e-33  1.645061e-33  -1.624224e-77  -1.527864e-76 -4.154700e+02   \n",
       "717  1.022555e-13  4.007397e-14   1.030169e-46   3.386276e-47  3.778391e-76   \n",
       "718  1.880097e-44 -1.959065e-44  -1.648436e-18   1.995556e-18 -2.499094e+03   \n",
       "719  4.566847e-03 -2.079956e-03  -1.865198e-06   1.211562e-06 -1.627371e+03   \n",
       "\n",
       "     ...           180            181            182            183  \\\n",
       "0    ... -2.179281e+02  -3.977771e-70  -1.742990e-70 -5.522196e-108   \n",
       "1    ... -2.347357e-76  -5.243507e-73  -4.127383e-73   4.495775e-60   \n",
       "2    ...  4.254046e+01  -2.660691e-67  -3.359971e-67  -3.146031e-12   \n",
       "3    ...  5.520854e+02 -6.748606e-131  1.746235e-131 -3.314646e-122   \n",
       "4    ... -6.363809e-77 -1.391903e-114  1.846460e-114  -1.182449e-03   \n",
       "..   ...           ...            ...            ...            ...   \n",
       "715  ...  3.817846e-77   9.620388e-05   3.977411e-05  -2.620513e-14   \n",
       "716  ...  2.168409e+02 -2.029118e-104  9.336195e-104   2.531589e-84   \n",
       "717  ...  2.769934e-77  -6.929960e-68   1.530355e-68 -4.127614e-139   \n",
       "718  ...  5.263673e+01 -1.870046e-100   4.353140e-99  -7.186789e-13   \n",
       "719  ... -1.842876e+02  -1.416919e-57   1.014730e-57 -1.102540e-115   \n",
       "\n",
       "               184            185            186            187  \\\n",
       "0   -8.426595e-107 -1.835282e-129 -2.094126e-129  -6.869231e-10   \n",
       "1    -1.441433e-59   1.070168e-63  -6.921493e-63 -3.275484e-106   \n",
       "2     3.076530e-11  -3.029648e-94  -1.527944e-94   8.668678e-82   \n",
       "3    2.758873e-123   3.073014e-42  -6.962352e-42   1.208516e-89   \n",
       "4    -1.928412e-03   4.272644e-30  -3.417617e-30   4.691218e-94   \n",
       "..             ...            ...            ...            ...   \n",
       "715   4.715122e-14 -1.951780e-145 -4.221757e-146   2.980806e-09   \n",
       "716   2.118069e-83  -8.673776e-51   4.551224e-51   1.797332e-79   \n",
       "717 -7.451328e-140 -7.038834e-120 -2.159297e-119   9.523369e-13   \n",
       "718  -5.565707e-13  -2.650218e-54  -4.889484e-53   2.189742e-30   \n",
       "719 -2.393567e-115 -9.346760e-127 -1.358168e-126   5.579154e-11   \n",
       "\n",
       "               188  label  \n",
       "0    -1.390547e-09      2  \n",
       "1   -6.110874e-106      3  \n",
       "2    -1.569103e-81      3  \n",
       "3    -4.513381e-89      1  \n",
       "4    -4.436889e-93      1  \n",
       "..             ...    ...  \n",
       "715  -7.755414e-09      2  \n",
       "716  -2.294568e-79      1  \n",
       "717  -1.636540e-12      2  \n",
       "718   3.880303e-30      1  \n",
       "719  -1.151684e-10      2  \n",
       "\n",
       "[720 rows x 190 columns]"
      ]
     },
     "execution_count": 31,
     "metadata": {},
     "output_type": "execute_result"
    }
   ],
   "source": [
    "train"
   ]
  },
  {
   "cell_type": "code",
   "execution_count": 32,
   "metadata": {
    "id": "hmV-BVxIJNFk"
   },
   "outputs": [],
   "source": [
    "test = test.reset_index(drop=True)"
   ]
  },
  {
   "cell_type": "code",
   "execution_count": 33,
   "metadata": {
    "colab": {
     "base_uri": "https://localhost:8080/",
     "height": 609
    },
    "id": "wgKnwBxRKMuD",
    "outputId": "da8d6542-d3d6-460d-aaf2-300cce32e04f"
   },
   "outputs": [
    {
     "data": {
      "text/html": [
       "<div>\n",
       "<style scoped>\n",
       "    .dataframe tbody tr th:only-of-type {\n",
       "        vertical-align: middle;\n",
       "    }\n",
       "\n",
       "    .dataframe tbody tr th {\n",
       "        vertical-align: top;\n",
       "    }\n",
       "\n",
       "    .dataframe thead th {\n",
       "        text-align: right;\n",
       "    }\n",
       "</style>\n",
       "<table border=\"1\" class=\"dataframe\">\n",
       "  <thead>\n",
       "    <tr style=\"text-align: right;\">\n",
       "      <th></th>\n",
       "      <th>0</th>\n",
       "      <th>1</th>\n",
       "      <th>2</th>\n",
       "      <th>3</th>\n",
       "      <th>4</th>\n",
       "      <th>5</th>\n",
       "      <th>6</th>\n",
       "      <th>7</th>\n",
       "      <th>8</th>\n",
       "      <th>9</th>\n",
       "      <th>...</th>\n",
       "      <th>180</th>\n",
       "      <th>181</th>\n",
       "      <th>182</th>\n",
       "      <th>183</th>\n",
       "      <th>184</th>\n",
       "      <th>185</th>\n",
       "      <th>186</th>\n",
       "      <th>187</th>\n",
       "      <th>188</th>\n",
       "      <th>label</th>\n",
       "    </tr>\n",
       "  </thead>\n",
       "  <tbody>\n",
       "    <tr>\n",
       "      <th>0</th>\n",
       "      <td>6.774084e+02</td>\n",
       "      <td>-3.658509e-15</td>\n",
       "      <td>-1.161754e-15</td>\n",
       "      <td>-2.234203e-49</td>\n",
       "      <td>-3.570310e-49</td>\n",
       "      <td>-1.361099e-18</td>\n",
       "      <td>5.602069e-18</td>\n",
       "      <td>1.085382e-53</td>\n",
       "      <td>-1.023216e-53</td>\n",
       "      <td>3.741605e-76</td>\n",
       "      <td>...</td>\n",
       "      <td>6.353515e+02</td>\n",
       "      <td>5.958215e-99</td>\n",
       "      <td>2.154629e-97</td>\n",
       "      <td>-7.610256e-101</td>\n",
       "      <td>1.059557e-100</td>\n",
       "      <td>8.259053e-05</td>\n",
       "      <td>2.780973e-05</td>\n",
       "      <td>-3.591473e-18</td>\n",
       "      <td>1.364920e-19</td>\n",
       "      <td>1</td>\n",
       "    </tr>\n",
       "    <tr>\n",
       "      <th>1</th>\n",
       "      <td>-5.098791e+02</td>\n",
       "      <td>-8.695633e-84</td>\n",
       "      <td>-1.944416e-83</td>\n",
       "      <td>2.482555e-16</td>\n",
       "      <td>-5.524410e-16</td>\n",
       "      <td>2.375314e-16</td>\n",
       "      <td>1.254132e-16</td>\n",
       "      <td>4.395313e-30</td>\n",
       "      <td>6.674489e-30</td>\n",
       "      <td>-6.629898e+02</td>\n",
       "      <td>...</td>\n",
       "      <td>1.239828e-76</td>\n",
       "      <td>-1.347391e-73</td>\n",
       "      <td>-3.603831e-74</td>\n",
       "      <td>-2.476464e-05</td>\n",
       "      <td>4.638225e-06</td>\n",
       "      <td>-4.622906e-120</td>\n",
       "      <td>-1.356658e-119</td>\n",
       "      <td>-6.710757e-01</td>\n",
       "      <td>-8.565707e+00</td>\n",
       "      <td>2</td>\n",
       "    </tr>\n",
       "    <tr>\n",
       "      <th>2</th>\n",
       "      <td>-7.474603e+01</td>\n",
       "      <td>-7.728301e-84</td>\n",
       "      <td>-9.437695e-84</td>\n",
       "      <td>5.376054e-17</td>\n",
       "      <td>-8.539955e-17</td>\n",
       "      <td>9.602870e-17</td>\n",
       "      <td>4.088333e-17</td>\n",
       "      <td>-4.432783e-31</td>\n",
       "      <td>2.391548e-30</td>\n",
       "      <td>-1.377812e-76</td>\n",
       "      <td>...</td>\n",
       "      <td>-3.248989e-76</td>\n",
       "      <td>1.594411e-43</td>\n",
       "      <td>-5.079428e-43</td>\n",
       "      <td>2.038329e-09</td>\n",
       "      <td>1.977436e-09</td>\n",
       "      <td>-3.295464e-95</td>\n",
       "      <td>-1.462509e-95</td>\n",
       "      <td>2.982885e-91</td>\n",
       "      <td>-2.275603e-90</td>\n",
       "      <td>3</td>\n",
       "    </tr>\n",
       "    <tr>\n",
       "      <th>3</th>\n",
       "      <td>-4.286223e+02</td>\n",
       "      <td>6.775193e-11</td>\n",
       "      <td>6.127753e-11</td>\n",
       "      <td>-6.491594e-02</td>\n",
       "      <td>-8.331186e-01</td>\n",
       "      <td>4.036113e-16</td>\n",
       "      <td>1.499913e-16</td>\n",
       "      <td>1.653951e-07</td>\n",
       "      <td>1.804537e-07</td>\n",
       "      <td>-2.321522e-76</td>\n",
       "      <td>...</td>\n",
       "      <td>8.593604e+01</td>\n",
       "      <td>-1.637153e-86</td>\n",
       "      <td>-2.237977e-87</td>\n",
       "      <td>9.729883e-34</td>\n",
       "      <td>-2.025608e-34</td>\n",
       "      <td>3.431275e-64</td>\n",
       "      <td>-2.304770e-63</td>\n",
       "      <td>5.007237e-68</td>\n",
       "      <td>-2.836178e-68</td>\n",
       "      <td>3</td>\n",
       "    </tr>\n",
       "    <tr>\n",
       "      <th>4</th>\n",
       "      <td>-6.108489e+02</td>\n",
       "      <td>-4.774177e-75</td>\n",
       "      <td>-2.556236e-73</td>\n",
       "      <td>1.324140e-09</td>\n",
       "      <td>3.032083e-11</td>\n",
       "      <td>5.398360e-29</td>\n",
       "      <td>8.020508e-29</td>\n",
       "      <td>-2.182393e-13</td>\n",
       "      <td>6.718919e-14</td>\n",
       "      <td>-3.947750e+02</td>\n",
       "      <td>...</td>\n",
       "      <td>4.542449e-77</td>\n",
       "      <td>1.909353e-13</td>\n",
       "      <td>1.765667e-13</td>\n",
       "      <td>-5.339021e-04</td>\n",
       "      <td>1.315704e-04</td>\n",
       "      <td>-1.013565e-12</td>\n",
       "      <td>9.188656e-13</td>\n",
       "      <td>2.973551e-12</td>\n",
       "      <td>-5.380977e-12</td>\n",
       "      <td>2</td>\n",
       "    </tr>\n",
       "    <tr>\n",
       "      <th>...</th>\n",
       "      <td>...</td>\n",
       "      <td>...</td>\n",
       "      <td>...</td>\n",
       "      <td>...</td>\n",
       "      <td>...</td>\n",
       "      <td>...</td>\n",
       "      <td>...</td>\n",
       "      <td>...</td>\n",
       "      <td>...</td>\n",
       "      <td>...</td>\n",
       "      <td>...</td>\n",
       "      <td>...</td>\n",
       "      <td>...</td>\n",
       "      <td>...</td>\n",
       "      <td>...</td>\n",
       "      <td>...</td>\n",
       "      <td>...</td>\n",
       "      <td>...</td>\n",
       "      <td>...</td>\n",
       "      <td>...</td>\n",
       "      <td>...</td>\n",
       "    </tr>\n",
       "    <tr>\n",
       "      <th>175</th>\n",
       "      <td>2.469600e-76</td>\n",
       "      <td>-2.127544e-101</td>\n",
       "      <td>-3.961401e-102</td>\n",
       "      <td>3.158993e-38</td>\n",
       "      <td>-4.928546e-39</td>\n",
       "      <td>4.060685e-07</td>\n",
       "      <td>-3.256555e-07</td>\n",
       "      <td>3.116926e-22</td>\n",
       "      <td>1.919253e-21</td>\n",
       "      <td>2.807933e+02</td>\n",
       "      <td>...</td>\n",
       "      <td>3.116940e+02</td>\n",
       "      <td>-9.625251e-59</td>\n",
       "      <td>1.828872e-59</td>\n",
       "      <td>-1.126573e-92</td>\n",
       "      <td>-6.884640e-93</td>\n",
       "      <td>2.015816e-57</td>\n",
       "      <td>-4.932614e-57</td>\n",
       "      <td>-1.183888e-108</td>\n",
       "      <td>-1.808014e-108</td>\n",
       "      <td>3</td>\n",
       "    </tr>\n",
       "    <tr>\n",
       "      <th>176</th>\n",
       "      <td>-2.646097e-77</td>\n",
       "      <td>-2.207125e-08</td>\n",
       "      <td>-1.471587e-08</td>\n",
       "      <td>3.406349e-01</td>\n",
       "      <td>-7.914119e-02</td>\n",
       "      <td>-3.149337e-22</td>\n",
       "      <td>7.069275e-22</td>\n",
       "      <td>-2.533592e-90</td>\n",
       "      <td>-3.348437e-90</td>\n",
       "      <td>-1.009626e+02</td>\n",
       "      <td>...</td>\n",
       "      <td>1.547784e+02</td>\n",
       "      <td>6.057408e-81</td>\n",
       "      <td>6.748593e-81</td>\n",
       "      <td>-1.590314e-87</td>\n",
       "      <td>1.575105e-85</td>\n",
       "      <td>-5.940840e-60</td>\n",
       "      <td>7.816334e-61</td>\n",
       "      <td>-2.191440e-126</td>\n",
       "      <td>-7.739605e-127</td>\n",
       "      <td>1</td>\n",
       "    </tr>\n",
       "    <tr>\n",
       "      <th>177</th>\n",
       "      <td>-1.895537e+03</td>\n",
       "      <td>3.551489e-52</td>\n",
       "      <td>-3.178033e-52</td>\n",
       "      <td>7.631325e-05</td>\n",
       "      <td>-6.396587e-05</td>\n",
       "      <td>-1.105146e-66</td>\n",
       "      <td>-1.735186e-67</td>\n",
       "      <td>-1.667519e-108</td>\n",
       "      <td>-2.433090e-108</td>\n",
       "      <td>-2.003017e+03</td>\n",
       "      <td>...</td>\n",
       "      <td>-1.142723e+02</td>\n",
       "      <td>1.982870e-16</td>\n",
       "      <td>-1.113400e-16</td>\n",
       "      <td>4.518902e-62</td>\n",
       "      <td>7.344210e-63</td>\n",
       "      <td>-1.849436e-120</td>\n",
       "      <td>-5.459026e-120</td>\n",
       "      <td>2.485663e-42</td>\n",
       "      <td>3.610396e-43</td>\n",
       "      <td>2</td>\n",
       "    </tr>\n",
       "    <tr>\n",
       "      <th>178</th>\n",
       "      <td>-3.472427e+02</td>\n",
       "      <td>1.094493e-65</td>\n",
       "      <td>-3.185684e-65</td>\n",
       "      <td>3.274418e-05</td>\n",
       "      <td>-2.777735e-05</td>\n",
       "      <td>9.824676e-16</td>\n",
       "      <td>4.769123e-16</td>\n",
       "      <td>4.780448e-46</td>\n",
       "      <td>1.683266e-46</td>\n",
       "      <td>-1.724950e+02</td>\n",
       "      <td>...</td>\n",
       "      <td>-2.361505e+02</td>\n",
       "      <td>-8.118200e-73</td>\n",
       "      <td>-2.569398e-73</td>\n",
       "      <td>3.971691e-95</td>\n",
       "      <td>-9.384924e-95</td>\n",
       "      <td>-2.158658e-06</td>\n",
       "      <td>1.104791e-06</td>\n",
       "      <td>-2.670286e-26</td>\n",
       "      <td>-1.252506e-26</td>\n",
       "      <td>2</td>\n",
       "    </tr>\n",
       "    <tr>\n",
       "      <th>179</th>\n",
       "      <td>-2.405874e-75</td>\n",
       "      <td>2.182308e-46</td>\n",
       "      <td>-4.207452e-47</td>\n",
       "      <td>2.607502e-06</td>\n",
       "      <td>-1.237097e-06</td>\n",
       "      <td>-1.740874e-83</td>\n",
       "      <td>-1.670734e-83</td>\n",
       "      <td>-1.077499e-14</td>\n",
       "      <td>1.824726e-14</td>\n",
       "      <td>-3.655737e+03</td>\n",
       "      <td>...</td>\n",
       "      <td>2.848894e+02</td>\n",
       "      <td>5.774927e-88</td>\n",
       "      <td>1.323418e-87</td>\n",
       "      <td>-3.656592e-114</td>\n",
       "      <td>1.594260e-114</td>\n",
       "      <td>1.209391e-35</td>\n",
       "      <td>-1.443933e-35</td>\n",
       "      <td>-1.225275e-16</td>\n",
       "      <td>1.409715e-17</td>\n",
       "      <td>1</td>\n",
       "    </tr>\n",
       "  </tbody>\n",
       "</table>\n",
       "<p>180 rows × 190 columns</p>\n",
       "</div>"
      ],
      "text/plain": [
       "                0              1              2             3             4  \\\n",
       "0    6.774084e+02  -3.658509e-15  -1.161754e-15 -2.234203e-49 -3.570310e-49   \n",
       "1   -5.098791e+02  -8.695633e-84  -1.944416e-83  2.482555e-16 -5.524410e-16   \n",
       "2   -7.474603e+01  -7.728301e-84  -9.437695e-84  5.376054e-17 -8.539955e-17   \n",
       "3   -4.286223e+02   6.775193e-11   6.127753e-11 -6.491594e-02 -8.331186e-01   \n",
       "4   -6.108489e+02  -4.774177e-75  -2.556236e-73  1.324140e-09  3.032083e-11   \n",
       "..            ...            ...            ...           ...           ...   \n",
       "175  2.469600e-76 -2.127544e-101 -3.961401e-102  3.158993e-38 -4.928546e-39   \n",
       "176 -2.646097e-77  -2.207125e-08  -1.471587e-08  3.406349e-01 -7.914119e-02   \n",
       "177 -1.895537e+03   3.551489e-52  -3.178033e-52  7.631325e-05 -6.396587e-05   \n",
       "178 -3.472427e+02   1.094493e-65  -3.185684e-65  3.274418e-05 -2.777735e-05   \n",
       "179 -2.405874e-75   2.182308e-46  -4.207452e-47  2.607502e-06 -1.237097e-06   \n",
       "\n",
       "                5             6              7              8             9  \\\n",
       "0   -1.361099e-18  5.602069e-18   1.085382e-53  -1.023216e-53  3.741605e-76   \n",
       "1    2.375314e-16  1.254132e-16   4.395313e-30   6.674489e-30 -6.629898e+02   \n",
       "2    9.602870e-17  4.088333e-17  -4.432783e-31   2.391548e-30 -1.377812e-76   \n",
       "3    4.036113e-16  1.499913e-16   1.653951e-07   1.804537e-07 -2.321522e-76   \n",
       "4    5.398360e-29  8.020508e-29  -2.182393e-13   6.718919e-14 -3.947750e+02   \n",
       "..            ...           ...            ...            ...           ...   \n",
       "175  4.060685e-07 -3.256555e-07   3.116926e-22   1.919253e-21  2.807933e+02   \n",
       "176 -3.149337e-22  7.069275e-22  -2.533592e-90  -3.348437e-90 -1.009626e+02   \n",
       "177 -1.105146e-66 -1.735186e-67 -1.667519e-108 -2.433090e-108 -2.003017e+03   \n",
       "178  9.824676e-16  4.769123e-16   4.780448e-46   1.683266e-46 -1.724950e+02   \n",
       "179 -1.740874e-83 -1.670734e-83  -1.077499e-14   1.824726e-14 -3.655737e+03   \n",
       "\n",
       "     ...           180           181           182            183  \\\n",
       "0    ...  6.353515e+02  5.958215e-99  2.154629e-97 -7.610256e-101   \n",
       "1    ...  1.239828e-76 -1.347391e-73 -3.603831e-74  -2.476464e-05   \n",
       "2    ... -3.248989e-76  1.594411e-43 -5.079428e-43   2.038329e-09   \n",
       "3    ...  8.593604e+01 -1.637153e-86 -2.237977e-87   9.729883e-34   \n",
       "4    ...  4.542449e-77  1.909353e-13  1.765667e-13  -5.339021e-04   \n",
       "..   ...           ...           ...           ...            ...   \n",
       "175  ...  3.116940e+02 -9.625251e-59  1.828872e-59  -1.126573e-92   \n",
       "176  ...  1.547784e+02  6.057408e-81  6.748593e-81  -1.590314e-87   \n",
       "177  ... -1.142723e+02  1.982870e-16 -1.113400e-16   4.518902e-62   \n",
       "178  ... -2.361505e+02 -8.118200e-73 -2.569398e-73   3.971691e-95   \n",
       "179  ...  2.848894e+02  5.774927e-88  1.323418e-87 -3.656592e-114   \n",
       "\n",
       "               184            185            186            187  \\\n",
       "0    1.059557e-100   8.259053e-05   2.780973e-05  -3.591473e-18   \n",
       "1     4.638225e-06 -4.622906e-120 -1.356658e-119  -6.710757e-01   \n",
       "2     1.977436e-09  -3.295464e-95  -1.462509e-95   2.982885e-91   \n",
       "3    -2.025608e-34   3.431275e-64  -2.304770e-63   5.007237e-68   \n",
       "4     1.315704e-04  -1.013565e-12   9.188656e-13   2.973551e-12   \n",
       "..             ...            ...            ...            ...   \n",
       "175  -6.884640e-93   2.015816e-57  -4.932614e-57 -1.183888e-108   \n",
       "176   1.575105e-85  -5.940840e-60   7.816334e-61 -2.191440e-126   \n",
       "177   7.344210e-63 -1.849436e-120 -5.459026e-120   2.485663e-42   \n",
       "178  -9.384924e-95  -2.158658e-06   1.104791e-06  -2.670286e-26   \n",
       "179  1.594260e-114   1.209391e-35  -1.443933e-35  -1.225275e-16   \n",
       "\n",
       "               188  label  \n",
       "0     1.364920e-19      1  \n",
       "1    -8.565707e+00      2  \n",
       "2    -2.275603e-90      3  \n",
       "3    -2.836178e-68      3  \n",
       "4    -5.380977e-12      2  \n",
       "..             ...    ...  \n",
       "175 -1.808014e-108      3  \n",
       "176 -7.739605e-127      1  \n",
       "177   3.610396e-43      2  \n",
       "178  -1.252506e-26      2  \n",
       "179   1.409715e-17      1  \n",
       "\n",
       "[180 rows x 190 columns]"
      ]
     },
     "execution_count": 33,
     "metadata": {},
     "output_type": "execute_result"
    }
   ],
   "source": [
    "test"
   ]
  },
  {
   "cell_type": "code",
   "execution_count": 34,
   "metadata": {
    "id": "OVdQcELFKWm5"
   },
   "outputs": [],
   "source": [
    "X_train = train[train.columns[:-1]]\n",
    "y_train = train['label']\n",
    "\n",
    "X_test = test[test.columns[:-1]]\n",
    "y_test = test['label']"
   ]
  },
  {
   "cell_type": "code",
   "execution_count": 35,
   "metadata": {
    "colab": {
     "base_uri": "https://localhost:8080/",
     "height": 609
    },
    "id": "OxWKZ0kKK1ct",
    "outputId": "39feba58-8a0b-40c1-b6af-f7f15b7a4aeb"
   },
   "outputs": [
    {
     "data": {
      "text/html": [
       "<div>\n",
       "<style scoped>\n",
       "    .dataframe tbody tr th:only-of-type {\n",
       "        vertical-align: middle;\n",
       "    }\n",
       "\n",
       "    .dataframe tbody tr th {\n",
       "        vertical-align: top;\n",
       "    }\n",
       "\n",
       "    .dataframe thead th {\n",
       "        text-align: right;\n",
       "    }\n",
       "</style>\n",
       "<table border=\"1\" class=\"dataframe\">\n",
       "  <thead>\n",
       "    <tr style=\"text-align: right;\">\n",
       "      <th></th>\n",
       "      <th>0</th>\n",
       "      <th>1</th>\n",
       "      <th>2</th>\n",
       "      <th>3</th>\n",
       "      <th>4</th>\n",
       "      <th>5</th>\n",
       "      <th>6</th>\n",
       "      <th>7</th>\n",
       "      <th>8</th>\n",
       "      <th>9</th>\n",
       "      <th>...</th>\n",
       "      <th>179</th>\n",
       "      <th>180</th>\n",
       "      <th>181</th>\n",
       "      <th>182</th>\n",
       "      <th>183</th>\n",
       "      <th>184</th>\n",
       "      <th>185</th>\n",
       "      <th>186</th>\n",
       "      <th>187</th>\n",
       "      <th>188</th>\n",
       "    </tr>\n",
       "  </thead>\n",
       "  <tbody>\n",
       "    <tr>\n",
       "      <th>0</th>\n",
       "      <td>-7.652111e+01</td>\n",
       "      <td>-2.037931e-40</td>\n",
       "      <td>3.534409e-42</td>\n",
       "      <td>3.751506e-16</td>\n",
       "      <td>-8.198989e-16</td>\n",
       "      <td>4.432605e-21</td>\n",
       "      <td>3.561691e-21</td>\n",
       "      <td>-1.418002e+00</td>\n",
       "      <td>2.051399e+00</td>\n",
       "      <td>-2.306623e+02</td>\n",
       "      <td>...</td>\n",
       "      <td>-3.909700e-30</td>\n",
       "      <td>-2.179281e+02</td>\n",
       "      <td>-3.977771e-70</td>\n",
       "      <td>-1.742990e-70</td>\n",
       "      <td>-5.522196e-108</td>\n",
       "      <td>-8.426595e-107</td>\n",
       "      <td>-1.835282e-129</td>\n",
       "      <td>-2.094126e-129</td>\n",
       "      <td>-6.869231e-10</td>\n",
       "      <td>-1.390547e-09</td>\n",
       "    </tr>\n",
       "    <tr>\n",
       "      <th>1</th>\n",
       "      <td>1.290694e-76</td>\n",
       "      <td>-2.713728e-35</td>\n",
       "      <td>1.360487e-35</td>\n",
       "      <td>1.791488e-05</td>\n",
       "      <td>-2.892714e-04</td>\n",
       "      <td>1.381798e-04</td>\n",
       "      <td>-1.154611e-05</td>\n",
       "      <td>5.577240e-14</td>\n",
       "      <td>1.118564e-13</td>\n",
       "      <td>3.344319e+02</td>\n",
       "      <td>...</td>\n",
       "      <td>-2.019133e-07</td>\n",
       "      <td>-2.347357e-76</td>\n",
       "      <td>-5.243507e-73</td>\n",
       "      <td>-4.127383e-73</td>\n",
       "      <td>4.495775e-60</td>\n",
       "      <td>-1.441433e-59</td>\n",
       "      <td>1.070168e-63</td>\n",
       "      <td>-6.921493e-63</td>\n",
       "      <td>-3.275484e-106</td>\n",
       "      <td>-6.110874e-106</td>\n",
       "    </tr>\n",
       "    <tr>\n",
       "      <th>2</th>\n",
       "      <td>-4.831509e+02</td>\n",
       "      <td>-9.829733e-91</td>\n",
       "      <td>-7.038034e-91</td>\n",
       "      <td>8.980178e-08</td>\n",
       "      <td>-4.926570e-07</td>\n",
       "      <td>4.181214e-07</td>\n",
       "      <td>-3.487459e-07</td>\n",
       "      <td>2.991714e-05</td>\n",
       "      <td>6.366007e-06</td>\n",
       "      <td>-2.771201e-76</td>\n",
       "      <td>...</td>\n",
       "      <td>8.989255e-82</td>\n",
       "      <td>4.254046e+01</td>\n",
       "      <td>-2.660691e-67</td>\n",
       "      <td>-3.359971e-67</td>\n",
       "      <td>-3.146031e-12</td>\n",
       "      <td>3.076530e-11</td>\n",
       "      <td>-3.029648e-94</td>\n",
       "      <td>-1.527944e-94</td>\n",
       "      <td>8.668678e-82</td>\n",
       "      <td>-1.569103e-81</td>\n",
       "    </tr>\n",
       "    <tr>\n",
       "      <th>3</th>\n",
       "      <td>2.464597e+02</td>\n",
       "      <td>-4.153169e-04</td>\n",
       "      <td>-3.899940e-04</td>\n",
       "      <td>1.863835e-01</td>\n",
       "      <td>-4.310005e-02</td>\n",
       "      <td>1.251957e-12</td>\n",
       "      <td>6.396419e-13</td>\n",
       "      <td>-4.685810e-15</td>\n",
       "      <td>7.671106e-15</td>\n",
       "      <td>1.325509e-76</td>\n",
       "      <td>...</td>\n",
       "      <td>-5.160923e-48</td>\n",
       "      <td>5.520854e+02</td>\n",
       "      <td>-6.748606e-131</td>\n",
       "      <td>1.746235e-131</td>\n",
       "      <td>-3.314646e-122</td>\n",
       "      <td>2.758873e-123</td>\n",
       "      <td>3.073014e-42</td>\n",
       "      <td>-6.962352e-42</td>\n",
       "      <td>1.208516e-89</td>\n",
       "      <td>-4.513381e-89</td>\n",
       "    </tr>\n",
       "    <tr>\n",
       "      <th>4</th>\n",
       "      <td>3.005160e+02</td>\n",
       "      <td>-9.548446e-10</td>\n",
       "      <td>-5.437507e-10</td>\n",
       "      <td>5.283421e-06</td>\n",
       "      <td>-2.398181e-06</td>\n",
       "      <td>2.406417e-08</td>\n",
       "      <td>1.783431e-08</td>\n",
       "      <td>-1.285832e-14</td>\n",
       "      <td>2.162199e-14</td>\n",
       "      <td>2.755120e-76</td>\n",
       "      <td>...</td>\n",
       "      <td>-4.165298e-73</td>\n",
       "      <td>-6.363809e-77</td>\n",
       "      <td>-1.391903e-114</td>\n",
       "      <td>1.846460e-114</td>\n",
       "      <td>-1.182449e-03</td>\n",
       "      <td>-1.928412e-03</td>\n",
       "      <td>4.272644e-30</td>\n",
       "      <td>-3.417617e-30</td>\n",
       "      <td>4.691218e-94</td>\n",
       "      <td>-4.436889e-93</td>\n",
       "    </tr>\n",
       "    <tr>\n",
       "      <th>...</th>\n",
       "      <td>...</td>\n",
       "      <td>...</td>\n",
       "      <td>...</td>\n",
       "      <td>...</td>\n",
       "      <td>...</td>\n",
       "      <td>...</td>\n",
       "      <td>...</td>\n",
       "      <td>...</td>\n",
       "      <td>...</td>\n",
       "      <td>...</td>\n",
       "      <td>...</td>\n",
       "      <td>...</td>\n",
       "      <td>...</td>\n",
       "      <td>...</td>\n",
       "      <td>...</td>\n",
       "      <td>...</td>\n",
       "      <td>...</td>\n",
       "      <td>...</td>\n",
       "      <td>...</td>\n",
       "      <td>...</td>\n",
       "      <td>...</td>\n",
       "    </tr>\n",
       "    <tr>\n",
       "      <th>715</th>\n",
       "      <td>-6.504000e+02</td>\n",
       "      <td>-3.236034e-83</td>\n",
       "      <td>-7.483118e-83</td>\n",
       "      <td>5.040470e-20</td>\n",
       "      <td>-1.727124e-19</td>\n",
       "      <td>7.988554e-15</td>\n",
       "      <td>3.638026e-15</td>\n",
       "      <td>-2.473176e-126</td>\n",
       "      <td>-6.780014e-127</td>\n",
       "      <td>-6.873837e+02</td>\n",
       "      <td>...</td>\n",
       "      <td>2.242902e-74</td>\n",
       "      <td>3.817846e-77</td>\n",
       "      <td>9.620388e-05</td>\n",
       "      <td>3.977411e-05</td>\n",
       "      <td>-2.620513e-14</td>\n",
       "      <td>4.715122e-14</td>\n",
       "      <td>-1.951780e-145</td>\n",
       "      <td>-4.221757e-146</td>\n",
       "      <td>2.980806e-09</td>\n",
       "      <td>-7.755414e-09</td>\n",
       "    </tr>\n",
       "    <tr>\n",
       "      <th>716</th>\n",
       "      <td>-3.165870e-76</td>\n",
       "      <td>4.087731e-15</td>\n",
       "      <td>-5.724963e-14</td>\n",
       "      <td>1.721399e-26</td>\n",
       "      <td>2.827981e-26</td>\n",
       "      <td>-1.963953e-33</td>\n",
       "      <td>1.645061e-33</td>\n",
       "      <td>-1.624224e-77</td>\n",
       "      <td>-1.527864e-76</td>\n",
       "      <td>-4.154700e+02</td>\n",
       "      <td>...</td>\n",
       "      <td>1.504899e-19</td>\n",
       "      <td>2.168409e+02</td>\n",
       "      <td>-2.029118e-104</td>\n",
       "      <td>9.336195e-104</td>\n",
       "      <td>2.531589e-84</td>\n",
       "      <td>2.118069e-83</td>\n",
       "      <td>-8.673776e-51</td>\n",
       "      <td>4.551224e-51</td>\n",
       "      <td>1.797332e-79</td>\n",
       "      <td>-2.294568e-79</td>\n",
       "    </tr>\n",
       "    <tr>\n",
       "      <th>717</th>\n",
       "      <td>4.229550e-76</td>\n",
       "      <td>-8.255397e-100</td>\n",
       "      <td>-4.406900e-100</td>\n",
       "      <td>1.425999e-06</td>\n",
       "      <td>-1.513313e-07</td>\n",
       "      <td>1.022555e-13</td>\n",
       "      <td>4.007397e-14</td>\n",
       "      <td>1.030169e-46</td>\n",
       "      <td>3.386276e-47</td>\n",
       "      <td>3.778391e-76</td>\n",
       "      <td>...</td>\n",
       "      <td>2.405657e-78</td>\n",
       "      <td>2.769934e-77</td>\n",
       "      <td>-6.929960e-68</td>\n",
       "      <td>1.530355e-68</td>\n",
       "      <td>-4.127614e-139</td>\n",
       "      <td>-7.451328e-140</td>\n",
       "      <td>-7.038834e-120</td>\n",
       "      <td>-2.159297e-119</td>\n",
       "      <td>9.523369e-13</td>\n",
       "      <td>-1.636540e-12</td>\n",
       "    </tr>\n",
       "    <tr>\n",
       "      <th>718</th>\n",
       "      <td>-1.674677e-75</td>\n",
       "      <td>8.537395e-28</td>\n",
       "      <td>-1.234565e-27</td>\n",
       "      <td>2.421131e-17</td>\n",
       "      <td>-2.926802e-17</td>\n",
       "      <td>1.880097e-44</td>\n",
       "      <td>-1.959065e-44</td>\n",
       "      <td>-1.648436e-18</td>\n",
       "      <td>1.995556e-18</td>\n",
       "      <td>-2.499094e+03</td>\n",
       "      <td>...</td>\n",
       "      <td>-4.991557e-47</td>\n",
       "      <td>5.263673e+01</td>\n",
       "      <td>-1.870046e-100</td>\n",
       "      <td>4.353140e-99</td>\n",
       "      <td>-7.186789e-13</td>\n",
       "      <td>-5.565707e-13</td>\n",
       "      <td>-2.650218e-54</td>\n",
       "      <td>-4.889484e-53</td>\n",
       "      <td>2.189742e-30</td>\n",
       "      <td>3.880303e-30</td>\n",
       "    </tr>\n",
       "    <tr>\n",
       "      <th>719</th>\n",
       "      <td>-1.629343e+03</td>\n",
       "      <td>4.162232e-64</td>\n",
       "      <td>-1.032294e-63</td>\n",
       "      <td>2.472557e-11</td>\n",
       "      <td>-3.516458e-11</td>\n",
       "      <td>4.566847e-03</td>\n",
       "      <td>-2.079956e-03</td>\n",
       "      <td>-1.865198e-06</td>\n",
       "      <td>1.211562e-06</td>\n",
       "      <td>-1.627371e+03</td>\n",
       "      <td>...</td>\n",
       "      <td>-1.493558e-37</td>\n",
       "      <td>-1.842876e+02</td>\n",
       "      <td>-1.416919e-57</td>\n",
       "      <td>1.014730e-57</td>\n",
       "      <td>-1.102540e-115</td>\n",
       "      <td>-2.393567e-115</td>\n",
       "      <td>-9.346760e-127</td>\n",
       "      <td>-1.358168e-126</td>\n",
       "      <td>5.579154e-11</td>\n",
       "      <td>-1.151684e-10</td>\n",
       "    </tr>\n",
       "  </tbody>\n",
       "</table>\n",
       "<p>720 rows × 189 columns</p>\n",
       "</div>"
      ],
      "text/plain": [
       "              0              1              2             3             4    \\\n",
       "0   -7.652111e+01  -2.037931e-40   3.534409e-42  3.751506e-16 -8.198989e-16   \n",
       "1    1.290694e-76  -2.713728e-35   1.360487e-35  1.791488e-05 -2.892714e-04   \n",
       "2   -4.831509e+02  -9.829733e-91  -7.038034e-91  8.980178e-08 -4.926570e-07   \n",
       "3    2.464597e+02  -4.153169e-04  -3.899940e-04  1.863835e-01 -4.310005e-02   \n",
       "4    3.005160e+02  -9.548446e-10  -5.437507e-10  5.283421e-06 -2.398181e-06   \n",
       "..            ...            ...            ...           ...           ...   \n",
       "715 -6.504000e+02  -3.236034e-83  -7.483118e-83  5.040470e-20 -1.727124e-19   \n",
       "716 -3.165870e-76   4.087731e-15  -5.724963e-14  1.721399e-26  2.827981e-26   \n",
       "717  4.229550e-76 -8.255397e-100 -4.406900e-100  1.425999e-06 -1.513313e-07   \n",
       "718 -1.674677e-75   8.537395e-28  -1.234565e-27  2.421131e-17 -2.926802e-17   \n",
       "719 -1.629343e+03   4.162232e-64  -1.032294e-63  2.472557e-11 -3.516458e-11   \n",
       "\n",
       "              5             6              7              8             9    \\\n",
       "0    4.432605e-21  3.561691e-21  -1.418002e+00   2.051399e+00 -2.306623e+02   \n",
       "1    1.381798e-04 -1.154611e-05   5.577240e-14   1.118564e-13  3.344319e+02   \n",
       "2    4.181214e-07 -3.487459e-07   2.991714e-05   6.366007e-06 -2.771201e-76   \n",
       "3    1.251957e-12  6.396419e-13  -4.685810e-15   7.671106e-15  1.325509e-76   \n",
       "4    2.406417e-08  1.783431e-08  -1.285832e-14   2.162199e-14  2.755120e-76   \n",
       "..            ...           ...            ...            ...           ...   \n",
       "715  7.988554e-15  3.638026e-15 -2.473176e-126 -6.780014e-127 -6.873837e+02   \n",
       "716 -1.963953e-33  1.645061e-33  -1.624224e-77  -1.527864e-76 -4.154700e+02   \n",
       "717  1.022555e-13  4.007397e-14   1.030169e-46   3.386276e-47  3.778391e-76   \n",
       "718  1.880097e-44 -1.959065e-44  -1.648436e-18   1.995556e-18 -2.499094e+03   \n",
       "719  4.566847e-03 -2.079956e-03  -1.865198e-06   1.211562e-06 -1.627371e+03   \n",
       "\n",
       "     ...           179           180            181            182  \\\n",
       "0    ... -3.909700e-30 -2.179281e+02  -3.977771e-70  -1.742990e-70   \n",
       "1    ... -2.019133e-07 -2.347357e-76  -5.243507e-73  -4.127383e-73   \n",
       "2    ...  8.989255e-82  4.254046e+01  -2.660691e-67  -3.359971e-67   \n",
       "3    ... -5.160923e-48  5.520854e+02 -6.748606e-131  1.746235e-131   \n",
       "4    ... -4.165298e-73 -6.363809e-77 -1.391903e-114  1.846460e-114   \n",
       "..   ...           ...           ...            ...            ...   \n",
       "715  ...  2.242902e-74  3.817846e-77   9.620388e-05   3.977411e-05   \n",
       "716  ...  1.504899e-19  2.168409e+02 -2.029118e-104  9.336195e-104   \n",
       "717  ...  2.405657e-78  2.769934e-77  -6.929960e-68   1.530355e-68   \n",
       "718  ... -4.991557e-47  5.263673e+01 -1.870046e-100   4.353140e-99   \n",
       "719  ... -1.493558e-37 -1.842876e+02  -1.416919e-57   1.014730e-57   \n",
       "\n",
       "               183            184            185            186  \\\n",
       "0   -5.522196e-108 -8.426595e-107 -1.835282e-129 -2.094126e-129   \n",
       "1     4.495775e-60  -1.441433e-59   1.070168e-63  -6.921493e-63   \n",
       "2    -3.146031e-12   3.076530e-11  -3.029648e-94  -1.527944e-94   \n",
       "3   -3.314646e-122  2.758873e-123   3.073014e-42  -6.962352e-42   \n",
       "4    -1.182449e-03  -1.928412e-03   4.272644e-30  -3.417617e-30   \n",
       "..             ...            ...            ...            ...   \n",
       "715  -2.620513e-14   4.715122e-14 -1.951780e-145 -4.221757e-146   \n",
       "716   2.531589e-84   2.118069e-83  -8.673776e-51   4.551224e-51   \n",
       "717 -4.127614e-139 -7.451328e-140 -7.038834e-120 -2.159297e-119   \n",
       "718  -7.186789e-13  -5.565707e-13  -2.650218e-54  -4.889484e-53   \n",
       "719 -1.102540e-115 -2.393567e-115 -9.346760e-127 -1.358168e-126   \n",
       "\n",
       "               187            188  \n",
       "0    -6.869231e-10  -1.390547e-09  \n",
       "1   -3.275484e-106 -6.110874e-106  \n",
       "2     8.668678e-82  -1.569103e-81  \n",
       "3     1.208516e-89  -4.513381e-89  \n",
       "4     4.691218e-94  -4.436889e-93  \n",
       "..             ...            ...  \n",
       "715   2.980806e-09  -7.755414e-09  \n",
       "716   1.797332e-79  -2.294568e-79  \n",
       "717   9.523369e-13  -1.636540e-12  \n",
       "718   2.189742e-30   3.880303e-30  \n",
       "719   5.579154e-11  -1.151684e-10  \n",
       "\n",
       "[720 rows x 189 columns]"
      ]
     },
     "execution_count": 35,
     "metadata": {},
     "output_type": "execute_result"
    }
   ],
   "source": [
    "X_train"
   ]
  },
  {
   "cell_type": "code",
   "execution_count": 36,
   "metadata": {
    "colab": {
     "base_uri": "https://localhost:8080/"
    },
    "id": "7Nu4PWR6K5Ss",
    "outputId": "7eff21c9-40db-4f26-f3ba-438ea30538a2"
   },
   "outputs": [
    {
     "data": {
      "text/plain": [
       "0      2\n",
       "1      3\n",
       "2      3\n",
       "3      1\n",
       "4      1\n",
       "      ..\n",
       "715    2\n",
       "716    1\n",
       "717    2\n",
       "718    1\n",
       "719    2\n",
       "Name: label, Length: 720, dtype: int64"
      ]
     },
     "execution_count": 36,
     "metadata": {},
     "output_type": "execute_result"
    }
   ],
   "source": [
    "y_train"
   ]
  },
  {
   "cell_type": "code",
   "execution_count": 37,
   "metadata": {
    "colab": {
     "base_uri": "https://localhost:8080/",
     "height": 609
    },
    "id": "8LYgTH-yM4we",
    "outputId": "e8db04e6-1a75-465b-cc30-ffec24d0a290"
   },
   "outputs": [
    {
     "data": {
      "text/html": [
       "<div>\n",
       "<style scoped>\n",
       "    .dataframe tbody tr th:only-of-type {\n",
       "        vertical-align: middle;\n",
       "    }\n",
       "\n",
       "    .dataframe tbody tr th {\n",
       "        vertical-align: top;\n",
       "    }\n",
       "\n",
       "    .dataframe thead th {\n",
       "        text-align: right;\n",
       "    }\n",
       "</style>\n",
       "<table border=\"1\" class=\"dataframe\">\n",
       "  <thead>\n",
       "    <tr style=\"text-align: right;\">\n",
       "      <th></th>\n",
       "      <th>0</th>\n",
       "      <th>1</th>\n",
       "      <th>2</th>\n",
       "      <th>3</th>\n",
       "      <th>4</th>\n",
       "      <th>5</th>\n",
       "      <th>6</th>\n",
       "      <th>7</th>\n",
       "      <th>8</th>\n",
       "      <th>9</th>\n",
       "      <th>...</th>\n",
       "      <th>179</th>\n",
       "      <th>180</th>\n",
       "      <th>181</th>\n",
       "      <th>182</th>\n",
       "      <th>183</th>\n",
       "      <th>184</th>\n",
       "      <th>185</th>\n",
       "      <th>186</th>\n",
       "      <th>187</th>\n",
       "      <th>188</th>\n",
       "    </tr>\n",
       "  </thead>\n",
       "  <tbody>\n",
       "    <tr>\n",
       "      <th>0</th>\n",
       "      <td>6.774084e+02</td>\n",
       "      <td>-3.658509e-15</td>\n",
       "      <td>-1.161754e-15</td>\n",
       "      <td>-2.234203e-49</td>\n",
       "      <td>-3.570310e-49</td>\n",
       "      <td>-1.361099e-18</td>\n",
       "      <td>5.602069e-18</td>\n",
       "      <td>1.085382e-53</td>\n",
       "      <td>-1.023216e-53</td>\n",
       "      <td>3.741605e-76</td>\n",
       "      <td>...</td>\n",
       "      <td>2.925675e-44</td>\n",
       "      <td>6.353515e+02</td>\n",
       "      <td>5.958215e-99</td>\n",
       "      <td>2.154629e-97</td>\n",
       "      <td>-7.610256e-101</td>\n",
       "      <td>1.059557e-100</td>\n",
       "      <td>8.259053e-05</td>\n",
       "      <td>2.780973e-05</td>\n",
       "      <td>-3.591473e-18</td>\n",
       "      <td>1.364920e-19</td>\n",
       "    </tr>\n",
       "    <tr>\n",
       "      <th>1</th>\n",
       "      <td>-5.098791e+02</td>\n",
       "      <td>-8.695633e-84</td>\n",
       "      <td>-1.944416e-83</td>\n",
       "      <td>2.482555e-16</td>\n",
       "      <td>-5.524410e-16</td>\n",
       "      <td>2.375314e-16</td>\n",
       "      <td>1.254132e-16</td>\n",
       "      <td>4.395313e-30</td>\n",
       "      <td>6.674489e-30</td>\n",
       "      <td>-6.629898e+02</td>\n",
       "      <td>...</td>\n",
       "      <td>-5.902858e-20</td>\n",
       "      <td>1.239828e-76</td>\n",
       "      <td>-1.347391e-73</td>\n",
       "      <td>-3.603831e-74</td>\n",
       "      <td>-2.476464e-05</td>\n",
       "      <td>4.638225e-06</td>\n",
       "      <td>-4.622906e-120</td>\n",
       "      <td>-1.356658e-119</td>\n",
       "      <td>-6.710757e-01</td>\n",
       "      <td>-8.565707e+00</td>\n",
       "    </tr>\n",
       "    <tr>\n",
       "      <th>2</th>\n",
       "      <td>-7.474603e+01</td>\n",
       "      <td>-7.728301e-84</td>\n",
       "      <td>-9.437695e-84</td>\n",
       "      <td>5.376054e-17</td>\n",
       "      <td>-8.539955e-17</td>\n",
       "      <td>9.602870e-17</td>\n",
       "      <td>4.088333e-17</td>\n",
       "      <td>-4.432783e-31</td>\n",
       "      <td>2.391548e-30</td>\n",
       "      <td>-1.377812e-76</td>\n",
       "      <td>...</td>\n",
       "      <td>-7.255297e-04</td>\n",
       "      <td>-3.248989e-76</td>\n",
       "      <td>1.594411e-43</td>\n",
       "      <td>-5.079428e-43</td>\n",
       "      <td>2.038329e-09</td>\n",
       "      <td>1.977436e-09</td>\n",
       "      <td>-3.295464e-95</td>\n",
       "      <td>-1.462509e-95</td>\n",
       "      <td>2.982885e-91</td>\n",
       "      <td>-2.275603e-90</td>\n",
       "    </tr>\n",
       "    <tr>\n",
       "      <th>3</th>\n",
       "      <td>-4.286223e+02</td>\n",
       "      <td>6.775193e-11</td>\n",
       "      <td>6.127753e-11</td>\n",
       "      <td>-6.491594e-02</td>\n",
       "      <td>-8.331186e-01</td>\n",
       "      <td>4.036113e-16</td>\n",
       "      <td>1.499913e-16</td>\n",
       "      <td>1.653951e-07</td>\n",
       "      <td>1.804537e-07</td>\n",
       "      <td>-2.321522e-76</td>\n",
       "      <td>...</td>\n",
       "      <td>-6.543138e-02</td>\n",
       "      <td>8.593604e+01</td>\n",
       "      <td>-1.637153e-86</td>\n",
       "      <td>-2.237977e-87</td>\n",
       "      <td>9.729883e-34</td>\n",
       "      <td>-2.025608e-34</td>\n",
       "      <td>3.431275e-64</td>\n",
       "      <td>-2.304770e-63</td>\n",
       "      <td>5.007237e-68</td>\n",
       "      <td>-2.836178e-68</td>\n",
       "    </tr>\n",
       "    <tr>\n",
       "      <th>4</th>\n",
       "      <td>-6.108489e+02</td>\n",
       "      <td>-4.774177e-75</td>\n",
       "      <td>-2.556236e-73</td>\n",
       "      <td>1.324140e-09</td>\n",
       "      <td>3.032083e-11</td>\n",
       "      <td>5.398360e-29</td>\n",
       "      <td>8.020508e-29</td>\n",
       "      <td>-2.182393e-13</td>\n",
       "      <td>6.718919e-14</td>\n",
       "      <td>-3.947750e+02</td>\n",
       "      <td>...</td>\n",
       "      <td>-2.050787e-70</td>\n",
       "      <td>4.542449e-77</td>\n",
       "      <td>1.909353e-13</td>\n",
       "      <td>1.765667e-13</td>\n",
       "      <td>-5.339021e-04</td>\n",
       "      <td>1.315704e-04</td>\n",
       "      <td>-1.013565e-12</td>\n",
       "      <td>9.188656e-13</td>\n",
       "      <td>2.973551e-12</td>\n",
       "      <td>-5.380977e-12</td>\n",
       "    </tr>\n",
       "    <tr>\n",
       "      <th>...</th>\n",
       "      <td>...</td>\n",
       "      <td>...</td>\n",
       "      <td>...</td>\n",
       "      <td>...</td>\n",
       "      <td>...</td>\n",
       "      <td>...</td>\n",
       "      <td>...</td>\n",
       "      <td>...</td>\n",
       "      <td>...</td>\n",
       "      <td>...</td>\n",
       "      <td>...</td>\n",
       "      <td>...</td>\n",
       "      <td>...</td>\n",
       "      <td>...</td>\n",
       "      <td>...</td>\n",
       "      <td>...</td>\n",
       "      <td>...</td>\n",
       "      <td>...</td>\n",
       "      <td>...</td>\n",
       "      <td>...</td>\n",
       "      <td>...</td>\n",
       "    </tr>\n",
       "    <tr>\n",
       "      <th>175</th>\n",
       "      <td>2.469600e-76</td>\n",
       "      <td>-2.127544e-101</td>\n",
       "      <td>-3.961401e-102</td>\n",
       "      <td>3.158993e-38</td>\n",
       "      <td>-4.928546e-39</td>\n",
       "      <td>4.060685e-07</td>\n",
       "      <td>-3.256555e-07</td>\n",
       "      <td>3.116926e-22</td>\n",
       "      <td>1.919253e-21</td>\n",
       "      <td>2.807933e+02</td>\n",
       "      <td>...</td>\n",
       "      <td>-1.118362e-53</td>\n",
       "      <td>3.116940e+02</td>\n",
       "      <td>-9.625251e-59</td>\n",
       "      <td>1.828872e-59</td>\n",
       "      <td>-1.126573e-92</td>\n",
       "      <td>-6.884640e-93</td>\n",
       "      <td>2.015816e-57</td>\n",
       "      <td>-4.932614e-57</td>\n",
       "      <td>-1.183888e-108</td>\n",
       "      <td>-1.808014e-108</td>\n",
       "    </tr>\n",
       "    <tr>\n",
       "      <th>176</th>\n",
       "      <td>-2.646097e-77</td>\n",
       "      <td>-2.207125e-08</td>\n",
       "      <td>-1.471587e-08</td>\n",
       "      <td>3.406349e-01</td>\n",
       "      <td>-7.914119e-02</td>\n",
       "      <td>-3.149337e-22</td>\n",
       "      <td>7.069275e-22</td>\n",
       "      <td>-2.533592e-90</td>\n",
       "      <td>-3.348437e-90</td>\n",
       "      <td>-1.009626e+02</td>\n",
       "      <td>...</td>\n",
       "      <td>1.989634e+01</td>\n",
       "      <td>1.547784e+02</td>\n",
       "      <td>6.057408e-81</td>\n",
       "      <td>6.748593e-81</td>\n",
       "      <td>-1.590314e-87</td>\n",
       "      <td>1.575105e-85</td>\n",
       "      <td>-5.940840e-60</td>\n",
       "      <td>7.816334e-61</td>\n",
       "      <td>-2.191440e-126</td>\n",
       "      <td>-7.739605e-127</td>\n",
       "    </tr>\n",
       "    <tr>\n",
       "      <th>177</th>\n",
       "      <td>-1.895537e+03</td>\n",
       "      <td>3.551489e-52</td>\n",
       "      <td>-3.178033e-52</td>\n",
       "      <td>7.631325e-05</td>\n",
       "      <td>-6.396587e-05</td>\n",
       "      <td>-1.105146e-66</td>\n",
       "      <td>-1.735186e-67</td>\n",
       "      <td>-1.667519e-108</td>\n",
       "      <td>-2.433090e-108</td>\n",
       "      <td>-2.003017e+03</td>\n",
       "      <td>...</td>\n",
       "      <td>2.246585e-115</td>\n",
       "      <td>-1.142723e+02</td>\n",
       "      <td>1.982870e-16</td>\n",
       "      <td>-1.113400e-16</td>\n",
       "      <td>4.518902e-62</td>\n",
       "      <td>7.344210e-63</td>\n",
       "      <td>-1.849436e-120</td>\n",
       "      <td>-5.459026e-120</td>\n",
       "      <td>2.485663e-42</td>\n",
       "      <td>3.610396e-43</td>\n",
       "    </tr>\n",
       "    <tr>\n",
       "      <th>178</th>\n",
       "      <td>-3.472427e+02</td>\n",
       "      <td>1.094493e-65</td>\n",
       "      <td>-3.185684e-65</td>\n",
       "      <td>3.274418e-05</td>\n",
       "      <td>-2.777735e-05</td>\n",
       "      <td>9.824676e-16</td>\n",
       "      <td>4.769123e-16</td>\n",
       "      <td>4.780448e-46</td>\n",
       "      <td>1.683266e-46</td>\n",
       "      <td>-1.724950e+02</td>\n",
       "      <td>...</td>\n",
       "      <td>-1.412280e-21</td>\n",
       "      <td>-2.361505e+02</td>\n",
       "      <td>-8.118200e-73</td>\n",
       "      <td>-2.569398e-73</td>\n",
       "      <td>3.971691e-95</td>\n",
       "      <td>-9.384924e-95</td>\n",
       "      <td>-2.158658e-06</td>\n",
       "      <td>1.104791e-06</td>\n",
       "      <td>-2.670286e-26</td>\n",
       "      <td>-1.252506e-26</td>\n",
       "    </tr>\n",
       "    <tr>\n",
       "      <th>179</th>\n",
       "      <td>-2.405874e-75</td>\n",
       "      <td>2.182308e-46</td>\n",
       "      <td>-4.207452e-47</td>\n",
       "      <td>2.607502e-06</td>\n",
       "      <td>-1.237097e-06</td>\n",
       "      <td>-1.740874e-83</td>\n",
       "      <td>-1.670734e-83</td>\n",
       "      <td>-1.077499e-14</td>\n",
       "      <td>1.824726e-14</td>\n",
       "      <td>-3.655737e+03</td>\n",
       "      <td>...</td>\n",
       "      <td>-3.869700e-40</td>\n",
       "      <td>2.848894e+02</td>\n",
       "      <td>5.774927e-88</td>\n",
       "      <td>1.323418e-87</td>\n",
       "      <td>-3.656592e-114</td>\n",
       "      <td>1.594260e-114</td>\n",
       "      <td>1.209391e-35</td>\n",
       "      <td>-1.443933e-35</td>\n",
       "      <td>-1.225275e-16</td>\n",
       "      <td>1.409715e-17</td>\n",
       "    </tr>\n",
       "  </tbody>\n",
       "</table>\n",
       "<p>180 rows × 189 columns</p>\n",
       "</div>"
      ],
      "text/plain": [
       "              0              1              2             3             4    \\\n",
       "0    6.774084e+02  -3.658509e-15  -1.161754e-15 -2.234203e-49 -3.570310e-49   \n",
       "1   -5.098791e+02  -8.695633e-84  -1.944416e-83  2.482555e-16 -5.524410e-16   \n",
       "2   -7.474603e+01  -7.728301e-84  -9.437695e-84  5.376054e-17 -8.539955e-17   \n",
       "3   -4.286223e+02   6.775193e-11   6.127753e-11 -6.491594e-02 -8.331186e-01   \n",
       "4   -6.108489e+02  -4.774177e-75  -2.556236e-73  1.324140e-09  3.032083e-11   \n",
       "..            ...            ...            ...           ...           ...   \n",
       "175  2.469600e-76 -2.127544e-101 -3.961401e-102  3.158993e-38 -4.928546e-39   \n",
       "176 -2.646097e-77  -2.207125e-08  -1.471587e-08  3.406349e-01 -7.914119e-02   \n",
       "177 -1.895537e+03   3.551489e-52  -3.178033e-52  7.631325e-05 -6.396587e-05   \n",
       "178 -3.472427e+02   1.094493e-65  -3.185684e-65  3.274418e-05 -2.777735e-05   \n",
       "179 -2.405874e-75   2.182308e-46  -4.207452e-47  2.607502e-06 -1.237097e-06   \n",
       "\n",
       "              5             6              7              8             9    \\\n",
       "0   -1.361099e-18  5.602069e-18   1.085382e-53  -1.023216e-53  3.741605e-76   \n",
       "1    2.375314e-16  1.254132e-16   4.395313e-30   6.674489e-30 -6.629898e+02   \n",
       "2    9.602870e-17  4.088333e-17  -4.432783e-31   2.391548e-30 -1.377812e-76   \n",
       "3    4.036113e-16  1.499913e-16   1.653951e-07   1.804537e-07 -2.321522e-76   \n",
       "4    5.398360e-29  8.020508e-29  -2.182393e-13   6.718919e-14 -3.947750e+02   \n",
       "..            ...           ...            ...            ...           ...   \n",
       "175  4.060685e-07 -3.256555e-07   3.116926e-22   1.919253e-21  2.807933e+02   \n",
       "176 -3.149337e-22  7.069275e-22  -2.533592e-90  -3.348437e-90 -1.009626e+02   \n",
       "177 -1.105146e-66 -1.735186e-67 -1.667519e-108 -2.433090e-108 -2.003017e+03   \n",
       "178  9.824676e-16  4.769123e-16   4.780448e-46   1.683266e-46 -1.724950e+02   \n",
       "179 -1.740874e-83 -1.670734e-83  -1.077499e-14   1.824726e-14 -3.655737e+03   \n",
       "\n",
       "     ...            179           180           181           182  \\\n",
       "0    ...   2.925675e-44  6.353515e+02  5.958215e-99  2.154629e-97   \n",
       "1    ...  -5.902858e-20  1.239828e-76 -1.347391e-73 -3.603831e-74   \n",
       "2    ...  -7.255297e-04 -3.248989e-76  1.594411e-43 -5.079428e-43   \n",
       "3    ...  -6.543138e-02  8.593604e+01 -1.637153e-86 -2.237977e-87   \n",
       "4    ...  -2.050787e-70  4.542449e-77  1.909353e-13  1.765667e-13   \n",
       "..   ...            ...           ...           ...           ...   \n",
       "175  ...  -1.118362e-53  3.116940e+02 -9.625251e-59  1.828872e-59   \n",
       "176  ...   1.989634e+01  1.547784e+02  6.057408e-81  6.748593e-81   \n",
       "177  ...  2.246585e-115 -1.142723e+02  1.982870e-16 -1.113400e-16   \n",
       "178  ...  -1.412280e-21 -2.361505e+02 -8.118200e-73 -2.569398e-73   \n",
       "179  ...  -3.869700e-40  2.848894e+02  5.774927e-88  1.323418e-87   \n",
       "\n",
       "               183            184            185            186  \\\n",
       "0   -7.610256e-101  1.059557e-100   8.259053e-05   2.780973e-05   \n",
       "1    -2.476464e-05   4.638225e-06 -4.622906e-120 -1.356658e-119   \n",
       "2     2.038329e-09   1.977436e-09  -3.295464e-95  -1.462509e-95   \n",
       "3     9.729883e-34  -2.025608e-34   3.431275e-64  -2.304770e-63   \n",
       "4    -5.339021e-04   1.315704e-04  -1.013565e-12   9.188656e-13   \n",
       "..             ...            ...            ...            ...   \n",
       "175  -1.126573e-92  -6.884640e-93   2.015816e-57  -4.932614e-57   \n",
       "176  -1.590314e-87   1.575105e-85  -5.940840e-60   7.816334e-61   \n",
       "177   4.518902e-62   7.344210e-63 -1.849436e-120 -5.459026e-120   \n",
       "178   3.971691e-95  -9.384924e-95  -2.158658e-06   1.104791e-06   \n",
       "179 -3.656592e-114  1.594260e-114   1.209391e-35  -1.443933e-35   \n",
       "\n",
       "               187            188  \n",
       "0    -3.591473e-18   1.364920e-19  \n",
       "1    -6.710757e-01  -8.565707e+00  \n",
       "2     2.982885e-91  -2.275603e-90  \n",
       "3     5.007237e-68  -2.836178e-68  \n",
       "4     2.973551e-12  -5.380977e-12  \n",
       "..             ...            ...  \n",
       "175 -1.183888e-108 -1.808014e-108  \n",
       "176 -2.191440e-126 -7.739605e-127  \n",
       "177   2.485663e-42   3.610396e-43  \n",
       "178  -2.670286e-26  -1.252506e-26  \n",
       "179  -1.225275e-16   1.409715e-17  \n",
       "\n",
       "[180 rows x 189 columns]"
      ]
     },
     "execution_count": 37,
     "metadata": {},
     "output_type": "execute_result"
    }
   ],
   "source": [
    "X_test"
   ]
  },
  {
   "cell_type": "code",
   "execution_count": 38,
   "metadata": {
    "colab": {
     "base_uri": "https://localhost:8080/"
    },
    "id": "gvFjbl_8O2IG",
    "outputId": "4f10f7bb-ff15-4295-e315-172e3a4fb095"
   },
   "outputs": [
    {
     "data": {
      "text/plain": [
       "0      1\n",
       "1      2\n",
       "2      3\n",
       "3      3\n",
       "4      2\n",
       "      ..\n",
       "175    3\n",
       "176    1\n",
       "177    2\n",
       "178    2\n",
       "179    1\n",
       "Name: label, Length: 180, dtype: int64"
      ]
     },
     "execution_count": 38,
     "metadata": {},
     "output_type": "execute_result"
    }
   ],
   "source": [
    "y_test"
   ]
  },
  {
   "cell_type": "code",
   "execution_count": 39,
   "metadata": {
    "colab": {
     "base_uri": "https://localhost:8080/"
    },
    "id": "VlFfCb-JO4wO",
    "outputId": "cfae2448-725d-4697-b3c0-e2f74d4b9842"
   },
   "outputs": [
    {
     "data": {
      "text/plain": [
       "(180, 189)"
      ]
     },
     "execution_count": 39,
     "metadata": {},
     "output_type": "execute_result"
    }
   ],
   "source": [
    "np.array(X_test).shape"
   ]
  },
  {
   "cell_type": "code",
   "execution_count": null,
   "metadata": {},
   "outputs": [],
   "source": []
  },
  {
   "cell_type": "code",
   "execution_count": null,
   "metadata": {},
   "outputs": [],
   "source": []
  },
  {
   "cell_type": "code",
   "execution_count": null,
   "metadata": {},
   "outputs": [],
   "source": []
  },
  {
   "cell_type": "code",
   "execution_count": null,
   "metadata": {},
   "outputs": [],
   "source": []
  },
  {
   "cell_type": "code",
   "execution_count": null,
   "metadata": {},
   "outputs": [],
   "source": []
  },
  {
   "cell_type": "code",
   "execution_count": null,
   "metadata": {},
   "outputs": [],
   "source": []
  },
  {
   "cell_type": "code",
   "execution_count": null,
   "metadata": {},
   "outputs": [],
   "source": []
  },
  {
   "cell_type": "markdown",
   "metadata": {
    "id": "o_tmA1f1Vu2k"
   },
   "source": [
    "# SVM (Support vector machine)"
   ]
  },
  {
   "cell_type": "code",
   "execution_count": 40,
   "metadata": {},
   "outputs": [],
   "source": [
    "train_acc, test_acc, predicted_test, confusion, report = SVM_ml(X_train, y_train, X_test, y_test)"
   ]
  },
  {
   "cell_type": "code",
   "execution_count": 41,
   "metadata": {
    "colab": {
     "base_uri": "https://localhost:8080/"
    },
    "id": "1ZioZ0BqTztk",
    "outputId": "6305e45b-d732-4809-b07b-8e6ade4f8acc"
   },
   "outputs": [
    {
     "name": "stdout",
     "output_type": "stream",
     "text": [
      "0.9986111111111111\n",
      "1.0\n"
     ]
    }
   ],
   "source": [
    "print(train_acc)\n",
    "print(test_acc)"
   ]
  },
  {
   "cell_type": "code",
   "execution_count": 42,
   "metadata": {
    "colab": {
     "base_uri": "https://localhost:8080/"
    },
    "id": "IbW652NdWfG2",
    "outputId": "87ca1158-ce86-4193-e40d-5c5201f83f27",
    "scrolled": true
   },
   "outputs": [
    {
     "name": "stdout",
     "output_type": "stream",
     "text": [
      "[[56  0  0]\n",
      " [ 0 71  0]\n",
      " [ 0  0 53]]\n"
     ]
    }
   ],
   "source": [
    "print(confusion)"
   ]
  },
  {
   "cell_type": "code",
   "execution_count": 43,
   "metadata": {
    "colab": {
     "base_uri": "https://localhost:8080/"
    },
    "id": "IG5cxeu-WHb0",
    "outputId": "57ec0bd1-d387-455a-ecbc-ccd4e0f6c54d"
   },
   "outputs": [
    {
     "name": "stdout",
     "output_type": "stream",
     "text": [
      "              precision    recall  f1-score   support\n",
      "\n",
      "           1       1.00      1.00      1.00        56\n",
      "           2       1.00      1.00      1.00        71\n",
      "           3       1.00      1.00      1.00        53\n",
      "\n",
      "    accuracy                           1.00       180\n",
      "   macro avg       1.00      1.00      1.00       180\n",
      "weighted avg       1.00      1.00      1.00       180\n",
      "\n"
     ]
    }
   ],
   "source": [
    "print(report)"
   ]
  },
  {
   "cell_type": "markdown",
   "metadata": {
    "id": "a_I5l_z8V1av"
   },
   "source": [
    "# Decision Tree"
   ]
  },
  {
   "cell_type": "code",
   "execution_count": 44,
   "metadata": {
    "id": "Bx3n1qWkV0_R"
   },
   "outputs": [],
   "source": [
    "train_acc, test_acc, predicted_test, confusion, report = dTree_ml(X_train, y_train, X_test, y_test)"
   ]
  },
  {
   "cell_type": "code",
   "execution_count": 45,
   "metadata": {
    "colab": {
     "base_uri": "https://localhost:8080/"
    },
    "id": "82bsVIgAYfNk",
    "outputId": "64a028e6-866a-49c7-dd20-db8b4414bdeb"
   },
   "outputs": [
    {
     "name": "stdout",
     "output_type": "stream",
     "text": [
      "0.9972222222222222\n",
      "0.9777777777777777\n"
     ]
    }
   ],
   "source": [
    "print(train_acc)\n",
    "print(test_acc)"
   ]
  },
  {
   "cell_type": "code",
   "execution_count": 46,
   "metadata": {},
   "outputs": [
    {
     "name": "stdout",
     "output_type": "stream",
     "text": [
      "[[53  3  0]\n",
      " [ 0 71  0]\n",
      " [ 1  0 52]]\n"
     ]
    }
   ],
   "source": [
    "print(confusion)"
   ]
  },
  {
   "cell_type": "code",
   "execution_count": 47,
   "metadata": {},
   "outputs": [
    {
     "name": "stdout",
     "output_type": "stream",
     "text": [
      "              precision    recall  f1-score   support\n",
      "\n",
      "           1       0.98      0.95      0.96        56\n",
      "           2       0.96      1.00      0.98        71\n",
      "           3       1.00      0.98      0.99        53\n",
      "\n",
      "    accuracy                           0.98       180\n",
      "   macro avg       0.98      0.98      0.98       180\n",
      "weighted avg       0.98      0.98      0.98       180\n",
      "\n"
     ]
    }
   ],
   "source": [
    "print(report)"
   ]
  },
  {
   "cell_type": "code",
   "execution_count": null,
   "metadata": {},
   "outputs": [],
   "source": []
  },
  {
   "cell_type": "markdown",
   "metadata": {
    "id": "AbJ0rXDTaesa"
   },
   "source": [
    "# Random Forest"
   ]
  },
  {
   "cell_type": "code",
   "execution_count": 48,
   "metadata": {},
   "outputs": [],
   "source": [
    "train_acc, test_acc, predicted_test, confusion, report = rforest_ml(X_train, y_train, X_test, y_test)"
   ]
  },
  {
   "cell_type": "code",
   "execution_count": 49,
   "metadata": {},
   "outputs": [
    {
     "name": "stdout",
     "output_type": "stream",
     "text": [
      "1.0\n",
      "1.0\n"
     ]
    }
   ],
   "source": [
    "print(train_acc)\n",
    "print(test_acc)"
   ]
  },
  {
   "cell_type": "code",
   "execution_count": 50,
   "metadata": {},
   "outputs": [
    {
     "name": "stdout",
     "output_type": "stream",
     "text": [
      "[[56  0  0]\n",
      " [ 0 71  0]\n",
      " [ 0  0 53]]\n"
     ]
    }
   ],
   "source": [
    "print(confusion)"
   ]
  },
  {
   "cell_type": "code",
   "execution_count": 51,
   "metadata": {},
   "outputs": [
    {
     "name": "stdout",
     "output_type": "stream",
     "text": [
      "              precision    recall  f1-score   support\n",
      "\n",
      "           1       1.00      1.00      1.00        56\n",
      "           2       1.00      1.00      1.00        71\n",
      "           3       1.00      1.00      1.00        53\n",
      "\n",
      "    accuracy                           1.00       180\n",
      "   macro avg       1.00      1.00      1.00       180\n",
      "weighted avg       1.00      1.00      1.00       180\n",
      "\n"
     ]
    }
   ],
   "source": [
    "print(report)"
   ]
  },
  {
   "cell_type": "code",
   "execution_count": null,
   "metadata": {},
   "outputs": [],
   "source": []
  },
  {
   "cell_type": "markdown",
   "metadata": {
    "id": "8Niu2rq3bTfn"
   },
   "source": [
    "# AdaBoosting"
   ]
  },
  {
   "cell_type": "code",
   "execution_count": 52,
   "metadata": {},
   "outputs": [],
   "source": [
    "train_acc, test_acc, predicted_test, confusion, report = adaBoost_ml(X_train, y_train, X_test, y_test)"
   ]
  },
  {
   "cell_type": "code",
   "execution_count": 53,
   "metadata": {},
   "outputs": [
    {
     "name": "stdout",
     "output_type": "stream",
     "text": [
      "0.9958333333333333\n",
      "0.9944444444444445\n"
     ]
    }
   ],
   "source": [
    "print(train_acc)\n",
    "print(test_acc)"
   ]
  },
  {
   "cell_type": "code",
   "execution_count": 54,
   "metadata": {},
   "outputs": [
    {
     "name": "stdout",
     "output_type": "stream",
     "text": [
      "[[56  0  0]\n",
      " [ 0 71  0]\n",
      " [ 1  0 52]]\n"
     ]
    }
   ],
   "source": [
    "print(confusion)"
   ]
  },
  {
   "cell_type": "code",
   "execution_count": 55,
   "metadata": {},
   "outputs": [
    {
     "name": "stdout",
     "output_type": "stream",
     "text": [
      "              precision    recall  f1-score   support\n",
      "\n",
      "           1       0.98      1.00      0.99        56\n",
      "           2       1.00      1.00      1.00        71\n",
      "           3       1.00      0.98      0.99        53\n",
      "\n",
      "    accuracy                           0.99       180\n",
      "   macro avg       0.99      0.99      0.99       180\n",
      "weighted avg       0.99      0.99      0.99       180\n",
      "\n"
     ]
    }
   ],
   "source": [
    "print(report)"
   ]
  },
  {
   "cell_type": "code",
   "execution_count": null,
   "metadata": {},
   "outputs": [],
   "source": []
  },
  {
   "cell_type": "markdown",
   "metadata": {
    "id": "eENcuXwmczx-"
   },
   "source": [
    "# Bagging"
   ]
  },
  {
   "cell_type": "code",
   "execution_count": 56,
   "metadata": {},
   "outputs": [],
   "source": [
    "train_acc, test_acc, predicted_test, confusion, report = bagging_ml(X_train, y_train, X_test, y_test)"
   ]
  },
  {
   "cell_type": "code",
   "execution_count": 57,
   "metadata": {},
   "outputs": [
    {
     "name": "stdout",
     "output_type": "stream",
     "text": [
      "1.0\n",
      "0.9888888888888889\n"
     ]
    }
   ],
   "source": [
    "print(train_acc)\n",
    "print(test_acc)"
   ]
  },
  {
   "cell_type": "code",
   "execution_count": 58,
   "metadata": {},
   "outputs": [
    {
     "name": "stdout",
     "output_type": "stream",
     "text": [
      "[[54  1  1]\n",
      " [ 0 71  0]\n",
      " [ 0  0 53]]\n"
     ]
    }
   ],
   "source": [
    "print(confusion)"
   ]
  },
  {
   "cell_type": "code",
   "execution_count": 59,
   "metadata": {},
   "outputs": [
    {
     "name": "stdout",
     "output_type": "stream",
     "text": [
      "              precision    recall  f1-score   support\n",
      "\n",
      "           1       1.00      0.96      0.98        56\n",
      "           2       0.99      1.00      0.99        71\n",
      "           3       0.98      1.00      0.99        53\n",
      "\n",
      "    accuracy                           0.99       180\n",
      "   macro avg       0.99      0.99      0.99       180\n",
      "weighted avg       0.99      0.99      0.99       180\n",
      "\n"
     ]
    }
   ],
   "source": [
    "print(report)"
   ]
  },
  {
   "cell_type": "code",
   "execution_count": null,
   "metadata": {},
   "outputs": [],
   "source": []
  },
  {
   "cell_type": "markdown",
   "metadata": {
    "id": "ZoKx5Dnrc3Ll"
   },
   "source": [
    "# NB_classifier"
   ]
  },
  {
   "cell_type": "markdown",
   "metadata": {
    "id": "o0KXEbzonuid"
   },
   "source": [
    "## Gaussian_NB"
   ]
  },
  {
   "cell_type": "code",
   "execution_count": 60,
   "metadata": {},
   "outputs": [],
   "source": [
    "train_acc, test_acc, predicted_test, confusion, report = gaussianNB_ml(X_train, y_train, X_test, y_test)"
   ]
  },
  {
   "cell_type": "code",
   "execution_count": 61,
   "metadata": {},
   "outputs": [
    {
     "name": "stdout",
     "output_type": "stream",
     "text": [
      "0.6819444444444445\n",
      "0.6611111111111111\n"
     ]
    }
   ],
   "source": [
    "print(train_acc)\n",
    "print(test_acc)"
   ]
  },
  {
   "cell_type": "code",
   "execution_count": 62,
   "metadata": {},
   "outputs": [
    {
     "name": "stdout",
     "output_type": "stream",
     "text": [
      "[[51  2  3]\n",
      " [26 43  2]\n",
      " [24  4 25]]\n"
     ]
    }
   ],
   "source": [
    "print(confusion)"
   ]
  },
  {
   "cell_type": "code",
   "execution_count": 63,
   "metadata": {},
   "outputs": [
    {
     "name": "stdout",
     "output_type": "stream",
     "text": [
      "              precision    recall  f1-score   support\n",
      "\n",
      "           1       0.50      0.91      0.65        56\n",
      "           2       0.88      0.61      0.72        71\n",
      "           3       0.83      0.47      0.60        53\n",
      "\n",
      "    accuracy                           0.66       180\n",
      "   macro avg       0.74      0.66      0.66       180\n",
      "weighted avg       0.75      0.66      0.66       180\n",
      "\n"
     ]
    }
   ],
   "source": [
    "print(report)"
   ]
  },
  {
   "cell_type": "code",
   "execution_count": null,
   "metadata": {},
   "outputs": [],
   "source": []
  },
  {
   "cell_type": "markdown",
   "metadata": {
    "id": "zhwVV7vrnnmR"
   },
   "source": [
    "## Bernoulli_NB"
   ]
  },
  {
   "cell_type": "code",
   "execution_count": 64,
   "metadata": {},
   "outputs": [],
   "source": [
    "train_acc, test_acc, predicted_test, confusion, report = bernoulliNB_ml(X_train, y_train, X_test, y_test)"
   ]
  },
  {
   "cell_type": "code",
   "execution_count": 65,
   "metadata": {},
   "outputs": [
    {
     "name": "stdout",
     "output_type": "stream",
     "text": [
      "0.7333333333333333\n",
      "0.7888888888888889\n"
     ]
    }
   ],
   "source": [
    "print(train_acc)\n",
    "print(test_acc)"
   ]
  },
  {
   "cell_type": "code",
   "execution_count": 66,
   "metadata": {},
   "outputs": [
    {
     "name": "stdout",
     "output_type": "stream",
     "text": [
      "[[39 12  5]\n",
      " [ 4 60  7]\n",
      " [ 7  3 43]]\n"
     ]
    }
   ],
   "source": [
    "print(confusion)"
   ]
  },
  {
   "cell_type": "code",
   "execution_count": 67,
   "metadata": {},
   "outputs": [
    {
     "name": "stdout",
     "output_type": "stream",
     "text": [
      "              precision    recall  f1-score   support\n",
      "\n",
      "           1       0.78      0.70      0.74        56\n",
      "           2       0.80      0.85      0.82        71\n",
      "           3       0.78      0.81      0.80        53\n",
      "\n",
      "    accuracy                           0.79       180\n",
      "   macro avg       0.79      0.78      0.78       180\n",
      "weighted avg       0.79      0.79      0.79       180\n",
      "\n"
     ]
    }
   ],
   "source": [
    "print(report)"
   ]
  },
  {
   "cell_type": "code",
   "execution_count": null,
   "metadata": {},
   "outputs": [],
   "source": []
  },
  {
   "cell_type": "markdown",
   "metadata": {
    "id": "rLyaG58En0Vk"
   },
   "source": [
    "# MLP (Multi Layer perceptron) classifier"
   ]
  },
  {
   "cell_type": "code",
   "execution_count": 68,
   "metadata": {},
   "outputs": [],
   "source": [
    "train_acc, test_acc, predicted_test, confusion, report = MLP_ml(X_train, y_train, X_test, y_test)"
   ]
  },
  {
   "cell_type": "code",
   "execution_count": 69,
   "metadata": {},
   "outputs": [
    {
     "name": "stdout",
     "output_type": "stream",
     "text": [
      "1.0\n",
      "0.9833333333333333\n"
     ]
    }
   ],
   "source": [
    "print(train_acc)\n",
    "print(test_acc)"
   ]
  },
  {
   "cell_type": "code",
   "execution_count": 70,
   "metadata": {},
   "outputs": [
    {
     "name": "stdout",
     "output_type": "stream",
     "text": [
      "[[53  2  1]\n",
      " [ 0 71  0]\n",
      " [ 0  0 53]]\n"
     ]
    }
   ],
   "source": [
    "print(confusion)"
   ]
  },
  {
   "cell_type": "code",
   "execution_count": 71,
   "metadata": {},
   "outputs": [
    {
     "name": "stdout",
     "output_type": "stream",
     "text": [
      "              precision    recall  f1-score   support\n",
      "\n",
      "           1       1.00      0.95      0.97        56\n",
      "           2       0.97      1.00      0.99        71\n",
      "           3       0.98      1.00      0.99        53\n",
      "\n",
      "    accuracy                           0.98       180\n",
      "   macro avg       0.98      0.98      0.98       180\n",
      "weighted avg       0.98      0.98      0.98       180\n",
      "\n"
     ]
    }
   ],
   "source": [
    "print(report)"
   ]
  },
  {
   "cell_type": "code",
   "execution_count": null,
   "metadata": {},
   "outputs": [],
   "source": []
  },
  {
   "cell_type": "markdown",
   "metadata": {
    "id": "ZEzZLLy7oCRr"
   },
   "source": [
    "# Quadratic Discriminant Analysis"
   ]
  },
  {
   "cell_type": "code",
   "execution_count": 72,
   "metadata": {},
   "outputs": [
    {
     "name": "stderr",
     "output_type": "stream",
     "text": [
      "/home/suraj/anaconda3/lib/python3.8/site-packages/sklearn/discriminant_analysis.py:715: UserWarning: Variables are collinear\n",
      "  warnings.warn(\"Variables are collinear\")\n"
     ]
    }
   ],
   "source": [
    "train_acc, test_acc, predicted_test, confusion, report = QDA_ml(X_train, y_train, X_test, y_test)"
   ]
  },
  {
   "cell_type": "code",
   "execution_count": 73,
   "metadata": {},
   "outputs": [
    {
     "name": "stdout",
     "output_type": "stream",
     "text": [
      "0.9833333333333333\n",
      "0.8888888888888888\n"
     ]
    }
   ],
   "source": [
    "print(train_acc)\n",
    "print(test_acc)"
   ]
  },
  {
   "cell_type": "code",
   "execution_count": 74,
   "metadata": {},
   "outputs": [
    {
     "name": "stdout",
     "output_type": "stream",
     "text": [
      "[[53  3  0]\n",
      " [ 6 63  2]\n",
      " [ 5  4 44]]\n"
     ]
    }
   ],
   "source": [
    "print(confusion)"
   ]
  },
  {
   "cell_type": "code",
   "execution_count": 75,
   "metadata": {},
   "outputs": [
    {
     "name": "stdout",
     "output_type": "stream",
     "text": [
      "              precision    recall  f1-score   support\n",
      "\n",
      "           1       0.83      0.95      0.88        56\n",
      "           2       0.90      0.89      0.89        71\n",
      "           3       0.96      0.83      0.89        53\n",
      "\n",
      "    accuracy                           0.89       180\n",
      "   macro avg       0.89      0.89      0.89       180\n",
      "weighted avg       0.89      0.89      0.89       180\n",
      "\n"
     ]
    }
   ],
   "source": [
    "print(report)"
   ]
  },
  {
   "cell_type": "code",
   "execution_count": null,
   "metadata": {},
   "outputs": [],
   "source": []
  },
  {
   "cell_type": "markdown",
   "metadata": {},
   "source": [
    "# KNN"
   ]
  },
  {
   "cell_type": "code",
   "execution_count": 76,
   "metadata": {},
   "outputs": [],
   "source": [
    "train_acc, test_acc, predicted_test, confusion, report = KNN_ml(X_train, y_train, X_test, y_test)"
   ]
  },
  {
   "cell_type": "code",
   "execution_count": 77,
   "metadata": {},
   "outputs": [
    {
     "name": "stdout",
     "output_type": "stream",
     "text": [
      "0.9972222222222222\n",
      "0.9722222222222222\n"
     ]
    }
   ],
   "source": [
    "print(train_acc)\n",
    "print(test_acc)"
   ]
  },
  {
   "cell_type": "code",
   "execution_count": 78,
   "metadata": {},
   "outputs": [
    {
     "name": "stdout",
     "output_type": "stream",
     "text": [
      "[[53  2  1]\n",
      " [ 0 71  0]\n",
      " [ 1  1 51]]\n"
     ]
    }
   ],
   "source": [
    "print(confusion)"
   ]
  },
  {
   "cell_type": "code",
   "execution_count": 79,
   "metadata": {},
   "outputs": [
    {
     "name": "stdout",
     "output_type": "stream",
     "text": [
      "              precision    recall  f1-score   support\n",
      "\n",
      "           1       0.98      0.95      0.96        56\n",
      "           2       0.96      1.00      0.98        71\n",
      "           3       0.98      0.96      0.97        53\n",
      "\n",
      "    accuracy                           0.97       180\n",
      "   macro avg       0.97      0.97      0.97       180\n",
      "weighted avg       0.97      0.97      0.97       180\n",
      "\n"
     ]
    }
   ],
   "source": [
    "print(report)"
   ]
  },
  {
   "cell_type": "code",
   "execution_count": null,
   "metadata": {},
   "outputs": [],
   "source": []
  }
 ],
 "metadata": {
  "accelerator": "TPU",
  "colab": {
   "collapsed_sections": [],
   "name": "motor_imagery.ipynb",
   "provenance": []
  },
  "kernelspec": {
   "display_name": "Python 3",
   "language": "python",
   "name": "python3"
  },
  "language_info": {
   "codemirror_mode": {
    "name": "ipython",
    "version": 3
   },
   "file_extension": ".py",
   "mimetype": "text/x-python",
   "name": "python",
   "nbconvert_exporter": "python",
   "pygments_lexer": "ipython3",
   "version": "3.8.3"
  }
 },
 "nbformat": 4,
 "nbformat_minor": 1
}
