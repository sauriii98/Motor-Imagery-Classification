{
 "cells": [
  {
   "cell_type": "code",
   "execution_count": 80,
   "metadata": {
    "id": "W9FG4zC2oJ7m"
   },
   "outputs": [],
   "source": [
    "from preprocess import *\n",
    "import matplotlib.pyplot as plt\n",
    "from c_models import *"
   ]
  },
  {
   "cell_type": "code",
   "execution_count": 2,
   "metadata": {
    "colab": {
     "base_uri": "https://localhost:8080/"
    },
    "id": "ypQUVSltoRsL",
    "outputId": "d8217cd2-30ec-4b5a-a23d-6a8d1e242db7"
   },
   "outputs": [],
   "source": [
    "# from google.colab import drive\n",
    "# drive.mount('/content/drive')"
   ]
  },
  {
   "cell_type": "markdown",
   "metadata": {
    "id": "a2uDTDtioJ8D"
   },
   "source": [
    "download the file from https://figshare.com/collections/A_large_electroencephalographic_motor_imagery_dataset_for_electroencephalographic_brain_computer_interfaces/3917698"
   ]
  },
  {
   "cell_type": "markdown",
   "metadata": {
    "id": "xQW9CJexn-9o"
   },
   "source": [
    "# Input"
   ]
  },
  {
   "cell_type": "code",
   "execution_count": 3,
   "metadata": {},
   "outputs": [],
   "source": [
    "file_name = \"CLA-SubjectJ-170504-3St-LRHand-Inter\""
   ]
  },
  {
   "cell_type": "code",
   "execution_count": 4,
   "metadata": {
    "colab": {
     "base_uri": "https://localhost:8080/"
    },
    "id": "tkWdgBbbpe9m",
    "outputId": "c0ec5c92-ab8a-4a2e-b87e-354145e9167d"
   },
   "outputs": [
    {
     "data": {
      "text/plain": [
       "{'__header__': b'MATLAB 5.0 MAT-file, Platform: GLNXA64, Created on: Mon Apr 23 22:30:55 2018',\n",
       " '__version__': '1.0',\n",
       " '__globals__': [],\n",
       " 'ans': array([[23.53949045]]),\n",
       " 'o': array([[(array(['201705041304.32BEA9DD'], dtype='<U21'), array([], dtype='<U1'), array([[620168]], dtype=int32), array([[200]], dtype=uint8), array([[0],\n",
       "        [0],\n",
       "        [0],\n",
       "        ...,\n",
       "        [0],\n",
       "        [0],\n",
       "        [0]], dtype=uint8), array([[ 0],\n",
       "        [ 0],\n",
       "        [ 0],\n",
       "        ...,\n",
       "        [92],\n",
       "        [92],\n",
       "        [92]], dtype=uint8), array([[ -0. ,  -0. ,  -0. , ...,  -0. ,  -0. ,  -0. ],\n",
       "        [ -0. ,  -0. ,  -0. , ...,  -0. ,  -0. ,  -0. ],\n",
       "        [ -0. ,  -0. ,  -0. , ...,  -0. ,  -0. ,  -0. ],\n",
       "        ...,\n",
       "        [-92.4, -34.8, -14.4, ...,   8.4,   8.4,  -0. ],\n",
       "        [-84. , -29.4, -16.2, ...,   7.2,  11.4,  -0.6],\n",
       "        [-84.6, -31.2, -13.2, ...,   6.6,  12. ,  -0. ]]), array([[array(['Fp1'], dtype='<U3')],\n",
       "        [array(['Fp2'], dtype='<U3')],\n",
       "        [array(['F3'], dtype='<U2')],\n",
       "        [array(['F4'], dtype='<U2')],\n",
       "        [array(['C3'], dtype='<U2')],\n",
       "        [array(['C4'], dtype='<U2')],\n",
       "        [array(['P3'], dtype='<U2')],\n",
       "        [array(['P4'], dtype='<U2')],\n",
       "        [array(['O1'], dtype='<U2')],\n",
       "        [array(['O2'], dtype='<U2')],\n",
       "        [array(['A1'], dtype='<U2')],\n",
       "        [array(['A2'], dtype='<U2')],\n",
       "        [array(['F7'], dtype='<U2')],\n",
       "        [array(['F8'], dtype='<U2')],\n",
       "        [array(['T3'], dtype='<U2')],\n",
       "        [array(['T4'], dtype='<U2')],\n",
       "        [array(['T5'], dtype='<U2')],\n",
       "        [array(['T6'], dtype='<U2')],\n",
       "        [array(['Fz'], dtype='<U2')],\n",
       "        [array(['Cz'], dtype='<U2')],\n",
       "        [array(['Pz'], dtype='<U2')]], dtype=object), array([[1]], dtype=uint8))]],\n",
       "       dtype=[('id', 'O'), ('tag', 'O'), ('nS', 'O'), ('sampFreq', 'O'), ('marker', 'O'), ('marker_old', 'O'), ('data', 'O'), ('chnames', 'O'), ('binsuV', 'O')]),\n",
       " 'x': array([[24. ],\n",
       "        [23.4],\n",
       "        [23.4],\n",
       "        [24. ],\n",
       "        [24. ],\n",
       "        [23.4],\n",
       "        [23.4],\n",
       "        [23.4],\n",
       "        [24. ],\n",
       "        [23.4],\n",
       "        [24.6],\n",
       "        [23.4],\n",
       "        [23.4],\n",
       "        [23.4],\n",
       "        [24. ],\n",
       "        [24. ],\n",
       "        [24. ],\n",
       "        [25.2],\n",
       "        [24. ],\n",
       "        [24. ],\n",
       "        [23.4],\n",
       "        [23.4],\n",
       "        [23.4],\n",
       "        [23.4],\n",
       "        [23.4],\n",
       "        [23.4],\n",
       "        [23.4],\n",
       "        [24.6],\n",
       "        [23.4],\n",
       "        [24. ],\n",
       "        [23.4],\n",
       "        [23.4],\n",
       "        [23.4],\n",
       "        [24.6],\n",
       "        [23.4],\n",
       "        [23.4],\n",
       "        [23.4],\n",
       "        [23.4],\n",
       "        [24. ],\n",
       "        [23.4],\n",
       "        [24. ],\n",
       "        [23.4],\n",
       "        [23.4],\n",
       "        [23.4],\n",
       "        [23.4],\n",
       "        [23.4],\n",
       "        [23.4],\n",
       "        [23.4],\n",
       "        [23.4],\n",
       "        [23.4],\n",
       "        [23.4],\n",
       "        [23.4],\n",
       "        [23.4],\n",
       "        [23.4],\n",
       "        [23.4],\n",
       "        [23.4],\n",
       "        [23.4],\n",
       "        [23.4],\n",
       "        [23.4],\n",
       "        [24. ],\n",
       "        [23.4],\n",
       "        [23.4],\n",
       "        [24.6],\n",
       "        [23.4],\n",
       "        [23.4],\n",
       "        [23.4],\n",
       "        [23.4],\n",
       "        [23.4],\n",
       "        [23.4],\n",
       "        [23.4],\n",
       "        [23.4],\n",
       "        [24. ],\n",
       "        [23.4],\n",
       "        [24. ],\n",
       "        [24.6],\n",
       "        [23.4],\n",
       "        [23.4],\n",
       "        [23.4],\n",
       "        [23.4],\n",
       "        [23.4],\n",
       "        [23.4],\n",
       "        [23.4],\n",
       "        [23.4],\n",
       "        [23.4],\n",
       "        [23.4],\n",
       "        [25.8],\n",
       "        [24. ],\n",
       "        [23.4],\n",
       "        [23.4],\n",
       "        [23.4],\n",
       "        [23.4],\n",
       "        [23.4],\n",
       "        [23.4],\n",
       "        [23.4],\n",
       "        [24. ],\n",
       "        [23.4],\n",
       "        [23.4],\n",
       "        [23.4],\n",
       "        [23.4],\n",
       "        [23.4],\n",
       "        [23.4],\n",
       "        [23.4],\n",
       "        [23.4],\n",
       "        [23.4],\n",
       "        [23.4],\n",
       "        [23.4],\n",
       "        [23.4],\n",
       "        [23.4],\n",
       "        [23.4],\n",
       "        [23.4],\n",
       "        [23.4],\n",
       "        [23.4],\n",
       "        [23.4],\n",
       "        [23.4],\n",
       "        [23.4],\n",
       "        [23.4],\n",
       "        [23.4],\n",
       "        [23.4],\n",
       "        [23.4],\n",
       "        [23.4],\n",
       "        [23.4],\n",
       "        [23.4],\n",
       "        [23.4],\n",
       "        [23.4],\n",
       "        [23.4],\n",
       "        [23.4],\n",
       "        [23.4],\n",
       "        [23.4],\n",
       "        [23.4],\n",
       "        [23.4],\n",
       "        [23.4],\n",
       "        [23.4],\n",
       "        [23.4],\n",
       "        [23.4],\n",
       "        [23.4],\n",
       "        [23.4],\n",
       "        [23.4],\n",
       "        [23.4],\n",
       "        [23.4],\n",
       "        [23.4],\n",
       "        [23.4],\n",
       "        [23.4],\n",
       "        [23.4],\n",
       "        [23.4],\n",
       "        [23.4],\n",
       "        [23.4],\n",
       "        [23.4],\n",
       "        [23.4],\n",
       "        [23.4],\n",
       "        [24. ],\n",
       "        [23.4],\n",
       "        [24. ],\n",
       "        [24.6],\n",
       "        [24. ],\n",
       "        [24. ],\n",
       "        [23.4],\n",
       "        [23.4],\n",
       "        [23.4],\n",
       "        [24. ],\n",
       "        [23.4],\n",
       "        [23.4],\n",
       "        [23.4],\n",
       "        [23.4],\n",
       "        [23.4],\n",
       "        [23.4],\n",
       "        [23.4],\n",
       "        [23.4],\n",
       "        [23.4],\n",
       "        [23.4],\n",
       "        [23.4],\n",
       "        [23.4],\n",
       "        [23.4],\n",
       "        [24. ],\n",
       "        [23.4],\n",
       "        [23.4],\n",
       "        [23.4],\n",
       "        [23.4],\n",
       "        [23.4],\n",
       "        [23.4],\n",
       "        [24. ],\n",
       "        [23.4],\n",
       "        [23.4],\n",
       "        [23.4],\n",
       "        [23.4],\n",
       "        [23.4],\n",
       "        [23.4],\n",
       "        [23.4],\n",
       "        [23.4],\n",
       "        [26.4],\n",
       "        [23.4],\n",
       "        [23.4],\n",
       "        [24. ],\n",
       "        [24. ],\n",
       "        [23.4],\n",
       "        [23.4],\n",
       "        [24. ],\n",
       "        [24. ],\n",
       "        [23.4],\n",
       "        [23.4],\n",
       "        [24.6],\n",
       "        [23.4],\n",
       "        [23.4],\n",
       "        [23.4],\n",
       "        [23.4],\n",
       "        [23.4],\n",
       "        [23.4],\n",
       "        [23.4],\n",
       "        [23.4],\n",
       "        [24.6],\n",
       "        [23.4],\n",
       "        [23.4],\n",
       "        [23.4],\n",
       "        [23.4],\n",
       "        [24. ],\n",
       "        [24. ],\n",
       "        [23.4],\n",
       "        [23.4],\n",
       "        [24. ],\n",
       "        [23.4],\n",
       "        [23.4],\n",
       "        [23.4],\n",
       "        [23.4],\n",
       "        [23.4],\n",
       "        [23.4],\n",
       "        [23.4],\n",
       "        [25.8],\n",
       "        [23.4],\n",
       "        [23.4],\n",
       "        [23.4],\n",
       "        [23.4],\n",
       "        [23.4],\n",
       "        [23.4],\n",
       "        [23.4],\n",
       "        [23.4],\n",
       "        [23.4],\n",
       "        [23.4],\n",
       "        [23.4],\n",
       "        [23.4],\n",
       "        [23.4],\n",
       "        [23.4],\n",
       "        [23.4],\n",
       "        [23.4],\n",
       "        [23.4],\n",
       "        [23.4],\n",
       "        [23.4],\n",
       "        [23.4],\n",
       "        [23.4],\n",
       "        [23.4],\n",
       "        [23.4],\n",
       "        [23.4],\n",
       "        [23.4],\n",
       "        [23.4],\n",
       "        [24. ],\n",
       "        [23.4],\n",
       "        [23.4],\n",
       "        [23.4],\n",
       "        [23.4],\n",
       "        [23.4],\n",
       "        [24. ],\n",
       "        [24. ],\n",
       "        [24. ],\n",
       "        [23.4],\n",
       "        [23.4],\n",
       "        [23.4],\n",
       "        [23.4],\n",
       "        [23.4],\n",
       "        [23.4],\n",
       "        [23.4],\n",
       "        [23.4],\n",
       "        [23.4],\n",
       "        [23.4],\n",
       "        [23.4],\n",
       "        [24. ],\n",
       "        [24. ],\n",
       "        [24. ],\n",
       "        [23.4],\n",
       "        [23.4],\n",
       "        [23.4],\n",
       "        [23.4],\n",
       "        [23.4],\n",
       "        [23.4],\n",
       "        [23.4],\n",
       "        [23.4],\n",
       "        [23.4],\n",
       "        [23.4],\n",
       "        [23.4],\n",
       "        [23.4],\n",
       "        [23.4],\n",
       "        [23.4],\n",
       "        [23.4],\n",
       "        [23.4],\n",
       "        [24.6],\n",
       "        [23.4],\n",
       "        [23.4],\n",
       "        [23.4],\n",
       "        [23.4],\n",
       "        [23.4],\n",
       "        [23.4],\n",
       "        [23.4],\n",
       "        [23.4],\n",
       "        [23.4],\n",
       "        [23.4],\n",
       "        [23.4],\n",
       "        [23.4],\n",
       "        [23.4],\n",
       "        [23.4],\n",
       "        [24. ],\n",
       "        [23.4],\n",
       "        [23.4],\n",
       "        [23.4],\n",
       "        [23.4],\n",
       "        [23.4],\n",
       "        [23.4],\n",
       "        [23.4]])}"
      ]
     },
     "execution_count": 4,
     "metadata": {},
     "output_type": "execute_result"
    }
   ],
   "source": [
    "f1 = \"rawData/\" + file_name + \".mat\"\n",
    "mat = take_input(f1)\n",
    "mat"
   ]
  },
  {
   "cell_type": "code",
   "execution_count": 5,
   "metadata": {
    "colab": {
     "base_uri": "https://localhost:8080/"
    },
    "id": "YE50qVMRoJ8H",
    "outputId": "26d0b676-6621-40c3-a2ba-caa5da8e90dd"
   },
   "outputs": [
    {
     "data": {
      "text/plain": [
       "dtype([('id', 'O'), ('tag', 'O'), ('nS', 'O'), ('sampFreq', 'O'), ('marker', 'O'), ('marker_old', 'O'), ('data', 'O'), ('chnames', 'O'), ('binsuV', 'O')])"
      ]
     },
     "execution_count": 5,
     "metadata": {},
     "output_type": "execute_result"
    }
   ],
   "source": [
    "mat['o'][0][0].dtype"
   ]
  },
  {
   "cell_type": "code",
   "execution_count": 6,
   "metadata": {
    "id": "B3JkUQ6LpX3-"
   },
   "outputs": [],
   "source": [
    "idx = 4\n",
    "markers = get_markers(mat, idx) "
   ]
  },
  {
   "cell_type": "code",
   "execution_count": 84,
   "metadata": {},
   "outputs": [
    {
     "data": {
      "text/plain": [
       "(620168,)"
      ]
     },
     "execution_count": 84,
     "metadata": {},
     "output_type": "execute_result"
    }
   ],
   "source": [
    "markers.shape"
   ]
  },
  {
   "cell_type": "code",
   "execution_count": 82,
   "metadata": {
    "scrolled": true
   },
   "outputs": [
    {
     "data": {
      "text/plain": [
       "{0, 1, 2, 3}"
      ]
     },
     "execution_count": 82,
     "metadata": {},
     "output_type": "execute_result"
    }
   ],
   "source": [
    "set(markers)"
   ]
  },
  {
   "cell_type": "code",
   "execution_count": 83,
   "metadata": {},
   "outputs": [
    {
     "data": {
      "text/plain": [
       "Counter({0: 467168, 3: 48280, 1: 49130, 2: 55590})"
      ]
     },
     "execution_count": 83,
     "metadata": {},
     "output_type": "execute_result"
    }
   ],
   "source": [
    "import collections\n",
    "collections.Counter(markers)"
   ]
  },
  {
   "cell_type": "code",
   "execution_count": 7,
   "metadata": {
    "id": "i0ct3kSg9ioz"
   },
   "outputs": [],
   "source": [
    "idx = 6\n",
    "data = get_data(mat, idx)"
   ]
  },
  {
   "cell_type": "code",
   "execution_count": 8,
   "metadata": {
    "id": "580QViV_rqay"
   },
   "outputs": [],
   "source": [
    "frame_of_1 = get_trial_frames(data, markers, 1)\n",
    "frame_of_2 = get_trial_frames(data, markers, 2)\n",
    "frame_of_3 = get_trial_frames(data, markers, 3)\n"
   ]
  },
  {
   "cell_type": "code",
   "execution_count": 9,
   "metadata": {
    "colab": {
     "base_uri": "https://localhost:8080/",
     "height": 282
    },
    "id": "AR4kAOnnoJ8u",
    "outputId": "2ef3a1f5-fed6-471f-abb6-20d44a954b19"
   },
   "outputs": [
    {
     "data": {
      "text/plain": [
       "[<matplotlib.lines.Line2D at 0x7f9863dfa820>]"
      ]
     },
     "execution_count": 9,
     "metadata": {},
     "output_type": "execute_result"
    },
    {
     "data": {
      "image/png": "[encoded data removed]",
      "text/plain": [
       "<Figure size 432x288 with 1 Axes>"
      ]
     },
     "metadata": {
      "needs_background": "light"
     },
     "output_type": "display_data"
    }
   ],
   "source": [
    "plt.plot(np.arange(170),frame_of_1[0][0])"
   ]
  },
  {
   "cell_type": "code",
   "execution_count": 10,
   "metadata": {
    "id": "5KPuYWtGtCep"
   },
   "outputs": [],
   "source": [
    "low_pass_filter = design_filter(8, 200, 5)"
   ]
  },
  {
   "cell_type": "code",
   "execution_count": 11,
   "metadata": {
    "id": "RV6MIenGvcD8"
   },
   "outputs": [],
   "source": [
    "f_signal_1 = apply_filter(low_pass_filter, frame_of_1)\n",
    "f_signal_2 = apply_filter(low_pass_filter, frame_of_2)\n",
    "f_signal_3 = apply_filter(low_pass_filter, frame_of_3)"
   ]
  },
  {
   "cell_type": "code",
   "execution_count": 12,
   "metadata": {
    "colab": {
     "base_uri": "https://localhost:8080/",
     "height": 282
    },
    "id": "dd10iuAUoJ8y",
    "outputId": "9400b95b-311d-443b-d1e0-0ff23846c1b4"
   },
   "outputs": [
    {
     "data": {
      "text/plain": [
       "[<matplotlib.lines.Line2D at 0x7f9863d0ac10>]"
      ]
     },
     "execution_count": 12,
     "metadata": {},
     "output_type": "execute_result"
    },
    {
     "data": {
      "image/png": "[encoded data removed]",
      "text/plain": [
       "<Figure size 432x288 with 1 Axes>"
      ]
     },
     "metadata": {
      "needs_background": "light"
     },
     "output_type": "display_data"
    }
   ],
   "source": [
    "plt.plot(np.arange(170),f_signal_1[0][0])"
   ]
  },
  {
   "cell_type": "code",
   "execution_count": 13,
   "metadata": {
    "id": "Yh2YKV2Bwi6J"
   },
   "outputs": [],
   "source": [
    "transformed_frame_of_1 = fourier_trans(f_signal_1)\n",
    "transformed_frame_of_2 = fourier_trans(f_signal_2)\n",
    "transformed_frame_of_3 = fourier_trans(f_signal_3)"
   ]
  },
  {
   "cell_type": "code",
   "execution_count": 14,
   "metadata": {
    "colab": {
     "base_uri": "https://localhost:8080/",
     "height": 282
    },
    "id": "Vl_fBx8woJ84",
    "outputId": "cc889666-9c16-4222-b941-6f0e7a8cbce0"
   },
   "outputs": [
    {
     "data": {
      "text/plain": [
       "[<matplotlib.lines.Line2D at 0x7f9863cf32b0>]"
      ]
     },
     "execution_count": 14,
     "metadata": {},
     "output_type": "execute_result"
    },
    {
     "data": {
      "image/png": "[encoded data removed]",
      "text/plain": [
       "<Figure size 432x288 with 1 Axes>"
      ]
     },
     "metadata": {
      "needs_background": "light"
     },
     "output_type": "display_data"
    }
   ],
   "source": [
    "plt.plot(abs(transformed_frame_of_1[0][0]))"
   ]
  },
  {
   "cell_type": "code",
   "execution_count": 15,
   "metadata": {
    "colab": {
     "base_uri": "https://localhost:8080/",
     "height": 265
    },
    "id": "_C_Ug49boJ86",
    "outputId": "72bccb6d-f3a8-41b6-eebf-354ca481dfc0",
    "scrolled": true
   },
   "outputs": [
    {
     "data": {
      "image/png": "[encoded data removed]",
      "text/plain": [
       "<Figure size 432x288 with 1 Axes>"
      ]
     },
     "metadata": {
      "needs_background": "light"
     },
     "output_type": "display_data"
    }
   ],
   "source": [
    "yf = transformed_frame_of_1[0][0]\n",
    "v = np.arange(86)\n",
    "t = 170/200.0\n",
    "xf = v/t\n",
    "\n",
    "fig, ax = plt.subplots()\n",
    "ax.plot(xf, abs(yf))\n",
    "plt.show()\n"
   ]
  },
  {
   "cell_type": "code",
   "execution_count": 16,
   "metadata": {
    "colab": {
     "base_uri": "https://localhost:8080/",
     "height": 265
    },
    "id": "UBm0tWogoJ87",
    "outputId": "534eb148-f723-4a7a-ee70-61f47bc39bf4"
   },
   "outputs": [
    {
     "data": {
      "image/png": "[encoded data removed]",
      "text/plain": [
       "<Figure size 432x288 with 1 Axes>"
      ]
     },
     "metadata": {
      "needs_background": "light"
     },
     "output_type": "display_data"
    }
   ],
   "source": [
    "yf = fft.fft(f_signal_1, axis=2)\n",
    "yf = yf[0][0]\n",
    "xf = fft.fftfreq(170, 1/200.0)\n",
    "fig, ax = plt.subplots()\n",
    "ax.plot(xf, np.abs(yf))\n",
    "plt.show()"
   ]
  },
  {
   "cell_type": "code",
   "execution_count": 17,
   "metadata": {
    "colab": {
     "base_uri": "https://localhost:8080/",
     "height": 265
    },
    "id": "LBKQblzwoJ88",
    "outputId": "5df224ee-d05e-42eb-e2b2-0683258a5867"
   },
   "outputs": [
    {
     "data": {
      "image/png": "[encoded data removed]",
      "text/plain": [
       "<Figure size 432x288 with 1 Axes>"
      ]
     },
     "metadata": {
      "needs_background": "light"
     },
     "output_type": "display_data"
    }
   ],
   "source": [
    "yf = fft.fft(f_signal_1, axis=2)\n",
    "yf = yf[0][0]\n",
    "xf = np.linspace(0.0, 1.0/(2.0*(1.0/200.0)), 85)\n",
    "                 \n",
    "fig, ax = plt.subplots()\n",
    "ax.plot(xf, (2.0/170) * np.abs(yf[0:85]))\n",
    "plt.show()"
   ]
  },
  {
   "cell_type": "code",
   "execution_count": 18,
   "metadata": {
    "id": "uVOtSAqAyyOd"
   },
   "outputs": [],
   "source": [
    "transformed_frame_of_1 = remove_phase_shift(transformed_frame_of_1)\n",
    "transformed_frame_of_2 = remove_phase_shift(transformed_frame_of_2)\n",
    "transformed_frame_of_3 = remove_phase_shift(transformed_frame_of_3)"
   ]
  },
  {
   "cell_type": "code",
   "execution_count": 19,
   "metadata": {
    "colab": {
     "base_uri": "https://localhost:8080/",
     "height": 265
    },
    "id": "neu0YSZ4oJ9C",
    "outputId": "41778b8c-59b8-48c8-dee6-febbbb6c018a"
   },
   "outputs": [
    {
     "data": {
      "image/png": "[encoded data removed]",
      "text/plain": [
       "<Figure size 432x288 with 1 Axes>"
      ]
     },
     "metadata": {
      "needs_background": "light"
     },
     "output_type": "display_data"
    }
   ],
   "source": [
    "yf = transformed_frame_of_1[0][0]\n",
    "xf = fft.rfftfreq(170, 1/200.0)\n",
    "fig, ax = plt.subplots()\n",
    "ax.plot(xf, np.abs(yf))\n",
    "plt.show()"
   ]
  },
  {
   "cell_type": "code",
   "execution_count": 20,
   "metadata": {
    "colab": {
     "base_uri": "https://localhost:8080/",
     "height": 265
    },
    "id": "XDEee5sloJ9F",
    "outputId": "0c9c66ed-352b-4943-ae73-51e0291eb306"
   },
   "outputs": [
    {
     "data": {
      "image/png": "[encoded data removed]",
      "text/plain": [
       "<Figure size 432x288 with 1 Axes>"
      ]
     },
     "metadata": {
      "needs_background": "light"
     },
     "output_type": "display_data"
    }
   ],
   "source": [
    "yf = transformed_frame_of_2[0][0]\n",
    "xf = fft.rfftfreq(170, 1/200.0)\n",
    "fig, ax = plt.subplots()\n",
    "ax.plot(xf, np.abs(yf))\n",
    "plt.show()"
   ]
  },
  {
   "cell_type": "code",
   "execution_count": 21,
   "metadata": {
    "colab": {
     "base_uri": "https://localhost:8080/",
     "height": 265
    },
    "id": "WlZFUBCAoJ9H",
    "outputId": "9607d6ac-41e4-41c0-9329-4b717ff6b163"
   },
   "outputs": [
    {
     "data": {
      "image/png": "[encoded data removed]",
      "text/plain": [
       "<Figure size 432x288 with 1 Axes>"
      ]
     },
     "metadata": {
      "needs_background": "light"
     },
     "output_type": "display_data"
    }
   ],
   "source": [
    "yf = transformed_frame_of_3[0][0]\n",
    "xf = fft.rfftfreq(170, 1/200.0)\n",
    "fig, ax = plt.subplots()\n",
    "ax.plot(xf, np.abs(yf))\n",
    "plt.show()"
   ]
  },
  {
   "cell_type": "code",
   "execution_count": 22,
   "metadata": {
    "id": "bAdCJVHQ3kDm"
   },
   "outputs": [],
   "source": [
    "all_trials_of_1 = extract_features(transformed_frame_of_1)\n",
    "all_trials_of_2 = extract_features(transformed_frame_of_2)\n",
    "all_trials_of_3 = extract_features(transformed_frame_of_3)"
   ]
  },
  {
   "cell_type": "code",
   "execution_count": 23,
   "metadata": {
    "colab": {
     "base_uri": "https://localhost:8080/"
    },
    "id": "lcyupO414FYF",
    "outputId": "815b89c8-0d85-4ba9-8ee8-10950eab732e"
   },
   "outputs": [
    {
     "name": "stdout",
     "output_type": "stream",
     "text": [
      "(289, 189)\n",
      "(327, 189)\n",
      "(284, 189)\n"
     ]
    }
   ],
   "source": [
    "print(all_trials_of_1.shape)\n",
    "print(all_trials_of_2.shape)\n",
    "print(all_trials_of_3.shape)"
   ]
  },
  {
   "cell_type": "code",
   "execution_count": 24,
   "metadata": {
    "id": "PjRrRd2B7dx9"
   },
   "outputs": [],
   "source": [
    "trials_sets = [all_trials_of_1, all_trials_of_2, all_trials_of_3]\n",
    "class_labels = [1, 2, 3]\n",
    "dataset = create_dataset(trials_sets, class_labels)"
   ]
  },
  {
   "cell_type": "code",
   "execution_count": 25,
   "metadata": {
    "colab": {
     "base_uri": "https://localhost:8080/",
     "height": 609
    },
    "id": "TetFgCIM_gWU",
    "outputId": "44f5fd1f-85ac-43c6-bb3c-26b70f8cd21c"
   },
   "outputs": [
    {
     "data": {
      "text/html": [
       "<div>\n",
       "<style scoped>\n",
       "    .dataframe tbody tr th:only-of-type {\n",
       "        vertical-align: middle;\n",
       "    }\n",
       "\n",
       "    .dataframe tbody tr th {\n",
       "        vertical-align: top;\n",
       "    }\n",
       "\n",
       "    .dataframe thead th {\n",
       "        text-align: right;\n",
       "    }\n",
       "</style>\n",
       "<table border=\"1\" class=\"dataframe\">\n",
       "  <thead>\n",
       "    <tr style=\"text-align: right;\">\n",
       "      <th></th>\n",
       "      <th>0</th>\n",
       "      <th>1</th>\n",
       "      <th>2</th>\n",
       "      <th>3</th>\n",
       "      <th>4</th>\n",
       "      <th>5</th>\n",
       "      <th>6</th>\n",
       "      <th>7</th>\n",
       "      <th>8</th>\n",
       "      <th>9</th>\n",
       "      <th>...</th>\n",
       "      <th>180</th>\n",
       "      <th>181</th>\n",
       "      <th>182</th>\n",
       "      <th>183</th>\n",
       "      <th>184</th>\n",
       "      <th>185</th>\n",
       "      <th>186</th>\n",
       "      <th>187</th>\n",
       "      <th>188</th>\n",
       "      <th>label</th>\n",
       "    </tr>\n",
       "  </thead>\n",
       "  <tbody>\n",
       "    <tr>\n",
       "      <th>0</th>\n",
       "      <td>1.333233e+02</td>\n",
       "      <td>-3.951829e+02</td>\n",
       "      <td>-3.206725e+02</td>\n",
       "      <td>2.192320e+02</td>\n",
       "      <td>-1.276870e+02</td>\n",
       "      <td>2.002779e+02</td>\n",
       "      <td>2.105060e+02</td>\n",
       "      <td>-1.684008e+02</td>\n",
       "      <td>-1.097830e+02</td>\n",
       "      <td>2.030456e+02</td>\n",
       "      <td>...</td>\n",
       "      <td>-1.523644e+02</td>\n",
       "      <td>-5.061767e+01</td>\n",
       "      <td>-3.428006e+01</td>\n",
       "      <td>1.088685e+02</td>\n",
       "      <td>-7.414298e+01</td>\n",
       "      <td>1.229984e+01</td>\n",
       "      <td>-9.757946e+00</td>\n",
       "      <td>9.755409e+00</td>\n",
       "      <td>2.082776e+01</td>\n",
       "      <td>1</td>\n",
       "    </tr>\n",
       "    <tr>\n",
       "      <th>1</th>\n",
       "      <td>-4.249005e-76</td>\n",
       "      <td>4.218955e-27</td>\n",
       "      <td>-1.790195e-26</td>\n",
       "      <td>5.052471e-02</td>\n",
       "      <td>-1.974817e-02</td>\n",
       "      <td>7.928239e-14</td>\n",
       "      <td>4.365613e-13</td>\n",
       "      <td>-3.289360e-138</td>\n",
       "      <td>2.968595e-139</td>\n",
       "      <td>-4.418262e-76</td>\n",
       "      <td>...</td>\n",
       "      <td>1.406481e-76</td>\n",
       "      <td>-5.272645e-120</td>\n",
       "      <td>5.507473e-120</td>\n",
       "      <td>-3.534495e-48</td>\n",
       "      <td>-2.263164e-48</td>\n",
       "      <td>-8.590548e-25</td>\n",
       "      <td>-7.391418e-24</td>\n",
       "      <td>9.806915e-01</td>\n",
       "      <td>2.397849e+00</td>\n",
       "      <td>1</td>\n",
       "    </tr>\n",
       "    <tr>\n",
       "      <th>2</th>\n",
       "      <td>6.704144e+02</td>\n",
       "      <td>-7.264173e-05</td>\n",
       "      <td>-1.042459e-04</td>\n",
       "      <td>3.135817e-18</td>\n",
       "      <td>8.763798e-19</td>\n",
       "      <td>2.423030e-07</td>\n",
       "      <td>5.605944e-07</td>\n",
       "      <td>5.033216e-48</td>\n",
       "      <td>-3.270632e-48</td>\n",
       "      <td>1.092715e+02</td>\n",
       "      <td>...</td>\n",
       "      <td>-1.875475e+02</td>\n",
       "      <td>-1.890315e-07</td>\n",
       "      <td>-2.702959e-07</td>\n",
       "      <td>-7.627075e-48</td>\n",
       "      <td>-4.769753e-48</td>\n",
       "      <td>2.030248e-02</td>\n",
       "      <td>-2.175795e-02</td>\n",
       "      <td>1.116670e-52</td>\n",
       "      <td>-1.820541e-52</td>\n",
       "      <td>1</td>\n",
       "    </tr>\n",
       "    <tr>\n",
       "      <th>3</th>\n",
       "      <td>1.139780e+03</td>\n",
       "      <td>-8.975985e-10</td>\n",
       "      <td>-1.884819e-10</td>\n",
       "      <td>-1.443137e-52</td>\n",
       "      <td>-6.643539e-53</td>\n",
       "      <td>4.697246e-06</td>\n",
       "      <td>2.564722e-06</td>\n",
       "      <td>9.735044e-44</td>\n",
       "      <td>-9.282512e-44</td>\n",
       "      <td>4.578123e+02</td>\n",
       "      <td>...</td>\n",
       "      <td>6.444420e-77</td>\n",
       "      <td>-4.735424e-125</td>\n",
       "      <td>3.248380e-125</td>\n",
       "      <td>1.469371e-17</td>\n",
       "      <td>-6.172572e-17</td>\n",
       "      <td>2.054551e-22</td>\n",
       "      <td>-7.760480e-21</td>\n",
       "      <td>5.618163e-25</td>\n",
       "      <td>4.757264e-26</td>\n",
       "      <td>1</td>\n",
       "    </tr>\n",
       "    <tr>\n",
       "      <th>4</th>\n",
       "      <td>-4.879283e-76</td>\n",
       "      <td>-6.696091e-18</td>\n",
       "      <td>-5.346614e-17</td>\n",
       "      <td>3.015551e-19</td>\n",
       "      <td>9.451781e-20</td>\n",
       "      <td>-3.069639e-82</td>\n",
       "      <td>-2.036983e-82</td>\n",
       "      <td>9.117520e-34</td>\n",
       "      <td>-2.143647e-33</td>\n",
       "      <td>-3.202739e-76</td>\n",
       "      <td>...</td>\n",
       "      <td>2.673062e-76</td>\n",
       "      <td>-6.168320e-127</td>\n",
       "      <td>3.533265e-127</td>\n",
       "      <td>5.163702e-24</td>\n",
       "      <td>-2.002391e-22</td>\n",
       "      <td>1.888514e-01</td>\n",
       "      <td>-1.273112e-01</td>\n",
       "      <td>-3.886308e-23</td>\n",
       "      <td>7.168544e-23</td>\n",
       "      <td>1</td>\n",
       "    </tr>\n",
       "    <tr>\n",
       "      <th>...</th>\n",
       "      <td>...</td>\n",
       "      <td>...</td>\n",
       "      <td>...</td>\n",
       "      <td>...</td>\n",
       "      <td>...</td>\n",
       "      <td>...</td>\n",
       "      <td>...</td>\n",
       "      <td>...</td>\n",
       "      <td>...</td>\n",
       "      <td>...</td>\n",
       "      <td>...</td>\n",
       "      <td>...</td>\n",
       "      <td>...</td>\n",
       "      <td>...</td>\n",
       "      <td>...</td>\n",
       "      <td>...</td>\n",
       "      <td>...</td>\n",
       "      <td>...</td>\n",
       "      <td>...</td>\n",
       "      <td>...</td>\n",
       "      <td>...</td>\n",
       "    </tr>\n",
       "    <tr>\n",
       "      <th>895</th>\n",
       "      <td>8.160103e+02</td>\n",
       "      <td>3.369514e-62</td>\n",
       "      <td>-9.834204e-63</td>\n",
       "      <td>2.976433e-30</td>\n",
       "      <td>1.391032e-30</td>\n",
       "      <td>1.028572e-22</td>\n",
       "      <td>7.814110e-23</td>\n",
       "      <td>3.361297e-05</td>\n",
       "      <td>4.433746e-05</td>\n",
       "      <td>1.038169e+03</td>\n",
       "      <td>...</td>\n",
       "      <td>8.992873e+00</td>\n",
       "      <td>-2.258477e-98</td>\n",
       "      <td>-2.094776e-99</td>\n",
       "      <td>-3.097044e-101</td>\n",
       "      <td>-4.440353e-101</td>\n",
       "      <td>-6.500338e-119</td>\n",
       "      <td>-8.079043e-120</td>\n",
       "      <td>-3.334961e-119</td>\n",
       "      <td>-6.570855e-119</td>\n",
       "      <td>3</td>\n",
       "    </tr>\n",
       "    <tr>\n",
       "      <th>896</th>\n",
       "      <td>-6.454930e-76</td>\n",
       "      <td>-1.459900e-30</td>\n",
       "      <td>-3.280767e-29</td>\n",
       "      <td>-8.473584e-22</td>\n",
       "      <td>-3.689807e-21</td>\n",
       "      <td>1.121079e+01</td>\n",
       "      <td>-3.319648e+00</td>\n",
       "      <td>1.703511e+02</td>\n",
       "      <td>1.240620e+02</td>\n",
       "      <td>-6.205268e-77</td>\n",
       "      <td>...</td>\n",
       "      <td>2.538225e+01</td>\n",
       "      <td>-5.813649e-21</td>\n",
       "      <td>1.979585e-20</td>\n",
       "      <td>-4.453816e-96</td>\n",
       "      <td>-1.031374e-95</td>\n",
       "      <td>-4.994613e-111</td>\n",
       "      <td>-2.244643e-111</td>\n",
       "      <td>-9.409541e-117</td>\n",
       "      <td>-2.451284e-116</td>\n",
       "      <td>3</td>\n",
       "    </tr>\n",
       "    <tr>\n",
       "      <th>897</th>\n",
       "      <td>-2.440752e-76</td>\n",
       "      <td>-7.431783e+01</td>\n",
       "      <td>-1.744032e+01</td>\n",
       "      <td>1.384663e-09</td>\n",
       "      <td>-5.263277e-09</td>\n",
       "      <td>1.020750e-15</td>\n",
       "      <td>-1.748020e-15</td>\n",
       "      <td>1.393947e-19</td>\n",
       "      <td>-3.017071e-20</td>\n",
       "      <td>-1.998171e-76</td>\n",
       "      <td>...</td>\n",
       "      <td>2.555589e+00</td>\n",
       "      <td>-1.366264e-67</td>\n",
       "      <td>-5.903653e-67</td>\n",
       "      <td>-2.557043e-17</td>\n",
       "      <td>1.285087e-17</td>\n",
       "      <td>-9.322752e-11</td>\n",
       "      <td>1.088560e-10</td>\n",
       "      <td>-3.908467e-110</td>\n",
       "      <td>-5.071616e-109</td>\n",
       "      <td>3</td>\n",
       "    </tr>\n",
       "    <tr>\n",
       "      <th>898</th>\n",
       "      <td>-8.833328e-76</td>\n",
       "      <td>2.124004e-44</td>\n",
       "      <td>-3.695109e-44</td>\n",
       "      <td>1.101446e-14</td>\n",
       "      <td>-1.437583e-13</td>\n",
       "      <td>1.061543e-25</td>\n",
       "      <td>-6.819383e-25</td>\n",
       "      <td>5.509879e-07</td>\n",
       "      <td>7.476768e-07</td>\n",
       "      <td>-2.672413e-76</td>\n",
       "      <td>...</td>\n",
       "      <td>-2.327198e-77</td>\n",
       "      <td>3.463369e-58</td>\n",
       "      <td>-1.933509e-57</td>\n",
       "      <td>2.035699e-47</td>\n",
       "      <td>-6.668103e-49</td>\n",
       "      <td>-1.145908e-09</td>\n",
       "      <td>1.472186e-09</td>\n",
       "      <td>2.037723e-38</td>\n",
       "      <td>5.850633e-38</td>\n",
       "      <td>3</td>\n",
       "    </tr>\n",
       "    <tr>\n",
       "      <th>899</th>\n",
       "      <td>-4.879146e-77</td>\n",
       "      <td>-1.204758e+00</td>\n",
       "      <td>-4.800992e-01</td>\n",
       "      <td>7.536310e-04</td>\n",
       "      <td>-1.437829e-03</td>\n",
       "      <td>1.551149e-04</td>\n",
       "      <td>-1.060184e-04</td>\n",
       "      <td>3.241797e-23</td>\n",
       "      <td>1.449951e-21</td>\n",
       "      <td>-3.046079e-76</td>\n",
       "      <td>...</td>\n",
       "      <td>6.118325e+01</td>\n",
       "      <td>5.706416e-06</td>\n",
       "      <td>4.609498e-06</td>\n",
       "      <td>-7.287813e-05</td>\n",
       "      <td>5.307270e-04</td>\n",
       "      <td>-1.008646e-115</td>\n",
       "      <td>-2.495709e-116</td>\n",
       "      <td>-7.395433e-129</td>\n",
       "      <td>-6.399990e-129</td>\n",
       "      <td>3</td>\n",
       "    </tr>\n",
       "  </tbody>\n",
       "</table>\n",
       "<p>900 rows × 190 columns</p>\n",
       "</div>"
      ],
      "text/plain": [
       "                0             1             2             3             4  \\\n",
       "0    1.333233e+02 -3.951829e+02 -3.206725e+02  2.192320e+02 -1.276870e+02   \n",
       "1   -4.249005e-76  4.218955e-27 -1.790195e-26  5.052471e-02 -1.974817e-02   \n",
       "2    6.704144e+02 -7.264173e-05 -1.042459e-04  3.135817e-18  8.763798e-19   \n",
       "3    1.139780e+03 -8.975985e-10 -1.884819e-10 -1.443137e-52 -6.643539e-53   \n",
       "4   -4.879283e-76 -6.696091e-18 -5.346614e-17  3.015551e-19  9.451781e-20   \n",
       "..            ...           ...           ...           ...           ...   \n",
       "895  8.160103e+02  3.369514e-62 -9.834204e-63  2.976433e-30  1.391032e-30   \n",
       "896 -6.454930e-76 -1.459900e-30 -3.280767e-29 -8.473584e-22 -3.689807e-21   \n",
       "897 -2.440752e-76 -7.431783e+01 -1.744032e+01  1.384663e-09 -5.263277e-09   \n",
       "898 -8.833328e-76  2.124004e-44 -3.695109e-44  1.101446e-14 -1.437583e-13   \n",
       "899 -4.879146e-77 -1.204758e+00 -4.800992e-01  7.536310e-04 -1.437829e-03   \n",
       "\n",
       "                5             6              7              8             9  \\\n",
       "0    2.002779e+02  2.105060e+02  -1.684008e+02  -1.097830e+02  2.030456e+02   \n",
       "1    7.928239e-14  4.365613e-13 -3.289360e-138  2.968595e-139 -4.418262e-76   \n",
       "2    2.423030e-07  5.605944e-07   5.033216e-48  -3.270632e-48  1.092715e+02   \n",
       "3    4.697246e-06  2.564722e-06   9.735044e-44  -9.282512e-44  4.578123e+02   \n",
       "4   -3.069639e-82 -2.036983e-82   9.117520e-34  -2.143647e-33 -3.202739e-76   \n",
       "..            ...           ...            ...            ...           ...   \n",
       "895  1.028572e-22  7.814110e-23   3.361297e-05   4.433746e-05  1.038169e+03   \n",
       "896  1.121079e+01 -3.319648e+00   1.703511e+02   1.240620e+02 -6.205268e-77   \n",
       "897  1.020750e-15 -1.748020e-15   1.393947e-19  -3.017071e-20 -1.998171e-76   \n",
       "898  1.061543e-25 -6.819383e-25   5.509879e-07   7.476768e-07 -2.672413e-76   \n",
       "899  1.551149e-04 -1.060184e-04   3.241797e-23   1.449951e-21 -3.046079e-76   \n",
       "\n",
       "     ...           180            181            182            183  \\\n",
       "0    ... -1.523644e+02  -5.061767e+01  -3.428006e+01   1.088685e+02   \n",
       "1    ...  1.406481e-76 -5.272645e-120  5.507473e-120  -3.534495e-48   \n",
       "2    ... -1.875475e+02  -1.890315e-07  -2.702959e-07  -7.627075e-48   \n",
       "3    ...  6.444420e-77 -4.735424e-125  3.248380e-125   1.469371e-17   \n",
       "4    ...  2.673062e-76 -6.168320e-127  3.533265e-127   5.163702e-24   \n",
       "..   ...           ...            ...            ...            ...   \n",
       "895  ...  8.992873e+00  -2.258477e-98  -2.094776e-99 -3.097044e-101   \n",
       "896  ...  2.538225e+01  -5.813649e-21   1.979585e-20  -4.453816e-96   \n",
       "897  ...  2.555589e+00  -1.366264e-67  -5.903653e-67  -2.557043e-17   \n",
       "898  ... -2.327198e-77   3.463369e-58  -1.933509e-57   2.035699e-47   \n",
       "899  ...  6.118325e+01   5.706416e-06   4.609498e-06  -7.287813e-05   \n",
       "\n",
       "               184            185            186            187  \\\n",
       "0    -7.414298e+01   1.229984e+01  -9.757946e+00   9.755409e+00   \n",
       "1    -2.263164e-48  -8.590548e-25  -7.391418e-24   9.806915e-01   \n",
       "2    -4.769753e-48   2.030248e-02  -2.175795e-02   1.116670e-52   \n",
       "3    -6.172572e-17   2.054551e-22  -7.760480e-21   5.618163e-25   \n",
       "4    -2.002391e-22   1.888514e-01  -1.273112e-01  -3.886308e-23   \n",
       "..             ...            ...            ...            ...   \n",
       "895 -4.440353e-101 -6.500338e-119 -8.079043e-120 -3.334961e-119   \n",
       "896  -1.031374e-95 -4.994613e-111 -2.244643e-111 -9.409541e-117   \n",
       "897   1.285087e-17  -9.322752e-11   1.088560e-10 -3.908467e-110   \n",
       "898  -6.668103e-49  -1.145908e-09   1.472186e-09   2.037723e-38   \n",
       "899   5.307270e-04 -1.008646e-115 -2.495709e-116 -7.395433e-129   \n",
       "\n",
       "               188  label  \n",
       "0     2.082776e+01      1  \n",
       "1     2.397849e+00      1  \n",
       "2    -1.820541e-52      1  \n",
       "3     4.757264e-26      1  \n",
       "4     7.168544e-23      1  \n",
       "..             ...    ...  \n",
       "895 -6.570855e-119      3  \n",
       "896 -2.451284e-116      3  \n",
       "897 -5.071616e-109      3  \n",
       "898   5.850633e-38      3  \n",
       "899 -6.399990e-129      3  \n",
       "\n",
       "[900 rows x 190 columns]"
      ]
     },
     "execution_count": 25,
     "metadata": {},
     "output_type": "execute_result"
    }
   ],
   "source": [
    "dataset"
   ]
  },
  {
   "cell_type": "code",
   "execution_count": 26,
   "metadata": {
    "id": "FHq27QR2Cv3i"
   },
   "outputs": [],
   "source": [
    "f2 = \"csvDatasets/\" + file_name + \".csv\"\n",
    "dataset.to_csv(f2)\n",
    "# !cp dataset.csv \"/content/drive/MyDrive/IIT Delhi/HSL622_termPaper\""
   ]
  },
  {
   "cell_type": "markdown",
   "metadata": {
    "id": "nfsc0txNoJ9U"
   },
   "source": [
    "Apply different ML classification algorithms to dataset present in \"dataset\"\n",
    "few implemented algorithms are here https://github.com/mrzResearchArena/MI-EEG/tree/master/Machine-Learning"
   ]
  },
  {
   "cell_type": "code",
   "execution_count": 27,
   "metadata": {
    "id": "-4Rn7gK9CW6u"
   },
   "outputs": [],
   "source": [
    "dataset = dataset.sample(frac=1).reset_index(drop=True)"
   ]
  },
  {
   "cell_type": "code",
   "execution_count": 28,
   "metadata": {
    "colab": {
     "base_uri": "https://localhost:8080/",
     "height": 578
    },
    "id": "cuRG8_0aHJu_",
    "outputId": "cbf4df2b-ff41-4399-9d27-44823a6d6801"
   },
   "outputs": [
    {
     "data": {
      "text/html": [
       "<div>\n",
       "<style scoped>\n",
       "    .dataframe tbody tr th:only-of-type {\n",
       "        vertical-align: middle;\n",
       "    }\n",
       "\n",
       "    .dataframe tbody tr th {\n",
       "        vertical-align: top;\n",
       "    }\n",
       "\n",
       "    .dataframe thead th {\n",
       "        text-align: right;\n",
       "    }\n",
       "</style>\n",
       "<table border=\"1\" class=\"dataframe\">\n",
       "  <thead>\n",
       "    <tr style=\"text-align: right;\">\n",
       "      <th></th>\n",
       "      <th>0</th>\n",
       "      <th>1</th>\n",
       "      <th>2</th>\n",
       "      <th>3</th>\n",
       "      <th>4</th>\n",
       "      <th>5</th>\n",
       "      <th>6</th>\n",
       "      <th>7</th>\n",
       "      <th>8</th>\n",
       "      <th>9</th>\n",
       "      <th>...</th>\n",
       "      <th>180</th>\n",
       "      <th>181</th>\n",
       "      <th>182</th>\n",
       "      <th>183</th>\n",
       "      <th>184</th>\n",
       "      <th>185</th>\n",
       "      <th>186</th>\n",
       "      <th>187</th>\n",
       "      <th>188</th>\n",
       "      <th>label</th>\n",
       "    </tr>\n",
       "  </thead>\n",
       "  <tbody>\n",
       "    <tr>\n",
       "      <th>0</th>\n",
       "      <td>6.668082e+02</td>\n",
       "      <td>-1.695469e-09</td>\n",
       "      <td>-3.544297e-09</td>\n",
       "      <td>1.014611e-47</td>\n",
       "      <td>7.106629e-47</td>\n",
       "      <td>5.188904e-12</td>\n",
       "      <td>2.156118e-11</td>\n",
       "      <td>-1.826036e-08</td>\n",
       "      <td>-3.248780e-09</td>\n",
       "      <td>3.380735e+02</td>\n",
       "      <td>...</td>\n",
       "      <td>-6.115749e+01</td>\n",
       "      <td>-9.414594e-10</td>\n",
       "      <td>-1.541395e-10</td>\n",
       "      <td>-2.382286e-32</td>\n",
       "      <td>-6.198004e-32</td>\n",
       "      <td>2.818072e-52</td>\n",
       "      <td>1.987865e-51</td>\n",
       "      <td>9.706677e-58</td>\n",
       "      <td>-2.520193e-57</td>\n",
       "      <td>1</td>\n",
       "    </tr>\n",
       "    <tr>\n",
       "      <th>1</th>\n",
       "      <td>-6.226801e-75</td>\n",
       "      <td>4.453153e-68</td>\n",
       "      <td>1.804469e-68</td>\n",
       "      <td>7.013827e-08</td>\n",
       "      <td>-9.634985e-08</td>\n",
       "      <td>-3.676030e-66</td>\n",
       "      <td>-1.001351e-65</td>\n",
       "      <td>-9.155489e-114</td>\n",
       "      <td>1.647757e-113</td>\n",
       "      <td>-5.577280e-75</td>\n",
       "      <td>...</td>\n",
       "      <td>7.497380e-76</td>\n",
       "      <td>8.746765e-97</td>\n",
       "      <td>4.364355e-96</td>\n",
       "      <td>-2.253734e-66</td>\n",
       "      <td>3.576287e-66</td>\n",
       "      <td>1.717160e-46</td>\n",
       "      <td>5.023628e-46</td>\n",
       "      <td>-6.488682e-29</td>\n",
       "      <td>6.786756e-29</td>\n",
       "      <td>1</td>\n",
       "    </tr>\n",
       "    <tr>\n",
       "      <th>2</th>\n",
       "      <td>3.693942e+03</td>\n",
       "      <td>1.469204e-77</td>\n",
       "      <td>5.449699e-78</td>\n",
       "      <td>2.380011e-34</td>\n",
       "      <td>1.692094e-34</td>\n",
       "      <td>2.517108e-30</td>\n",
       "      <td>3.662622e-30</td>\n",
       "      <td>4.377309e-13</td>\n",
       "      <td>1.297703e-12</td>\n",
       "      <td>3.392622e+03</td>\n",
       "      <td>...</td>\n",
       "      <td>-1.607978e-77</td>\n",
       "      <td>-6.253206e-30</td>\n",
       "      <td>8.166744e-30</td>\n",
       "      <td>-5.728147e-103</td>\n",
       "      <td>-6.876811e-103</td>\n",
       "      <td>-1.009635e-113</td>\n",
       "      <td>-3.275330e-114</td>\n",
       "      <td>-1.650857e-126</td>\n",
       "      <td>-1.691168e-126</td>\n",
       "      <td>3</td>\n",
       "    </tr>\n",
       "    <tr>\n",
       "      <th>3</th>\n",
       "      <td>-8.458635e-76</td>\n",
       "      <td>-2.230276e-18</td>\n",
       "      <td>-1.861589e-17</td>\n",
       "      <td>5.179621e+00</td>\n",
       "      <td>-2.444740e+00</td>\n",
       "      <td>8.634752e-29</td>\n",
       "      <td>-3.717157e-29</td>\n",
       "      <td>-1.376323e-104</td>\n",
       "      <td>1.397611e-103</td>\n",
       "      <td>-9.771233e-76</td>\n",
       "      <td>...</td>\n",
       "      <td>1.618081e-76</td>\n",
       "      <td>-1.158439e-02</td>\n",
       "      <td>-5.188563e-03</td>\n",
       "      <td>-1.995222e-87</td>\n",
       "      <td>3.360157e-88</td>\n",
       "      <td>-1.888566e-23</td>\n",
       "      <td>-4.142928e-22</td>\n",
       "      <td>5.044488e-44</td>\n",
       "      <td>-4.090115e-44</td>\n",
       "      <td>1</td>\n",
       "    </tr>\n",
       "    <tr>\n",
       "      <th>4</th>\n",
       "      <td>-2.440752e-76</td>\n",
       "      <td>-7.431783e+01</td>\n",
       "      <td>-1.744032e+01</td>\n",
       "      <td>1.384663e-09</td>\n",
       "      <td>-5.263277e-09</td>\n",
       "      <td>1.020750e-15</td>\n",
       "      <td>-1.748020e-15</td>\n",
       "      <td>1.393947e-19</td>\n",
       "      <td>-3.017071e-20</td>\n",
       "      <td>-1.998171e-76</td>\n",
       "      <td>...</td>\n",
       "      <td>2.555589e+00</td>\n",
       "      <td>-1.366264e-67</td>\n",
       "      <td>-5.903653e-67</td>\n",
       "      <td>-2.557043e-17</td>\n",
       "      <td>1.285087e-17</td>\n",
       "      <td>-9.322752e-11</td>\n",
       "      <td>1.088560e-10</td>\n",
       "      <td>-3.908467e-110</td>\n",
       "      <td>-5.071616e-109</td>\n",
       "      <td>3</td>\n",
       "    </tr>\n",
       "    <tr>\n",
       "      <th>5</th>\n",
       "      <td>5.846015e+02</td>\n",
       "      <td>-2.239370e-18</td>\n",
       "      <td>-4.208785e-18</td>\n",
       "      <td>8.852659e-49</td>\n",
       "      <td>1.973813e-48</td>\n",
       "      <td>-2.707745e-48</td>\n",
       "      <td>3.604120e-46</td>\n",
       "      <td>-5.899725e-62</td>\n",
       "      <td>-1.680865e-61</td>\n",
       "      <td>7.395902e+02</td>\n",
       "      <td>...</td>\n",
       "      <td>-2.410793e-76</td>\n",
       "      <td>4.306656e-58</td>\n",
       "      <td>-2.181553e-57</td>\n",
       "      <td>1.667252e-73</td>\n",
       "      <td>-2.985850e-73</td>\n",
       "      <td>2.047263e-64</td>\n",
       "      <td>-2.335563e-64</td>\n",
       "      <td>-3.933805e-29</td>\n",
       "      <td>7.627229e-28</td>\n",
       "      <td>3</td>\n",
       "    </tr>\n",
       "    <tr>\n",
       "      <th>6</th>\n",
       "      <td>-2.105693e-75</td>\n",
       "      <td>4.662736e-66</td>\n",
       "      <td>-6.195979e-67</td>\n",
       "      <td>4.701131e-07</td>\n",
       "      <td>-1.285994e-06</td>\n",
       "      <td>-9.150638e-31</td>\n",
       "      <td>-2.770389e-29</td>\n",
       "      <td>2.221660e-11</td>\n",
       "      <td>2.615663e-12</td>\n",
       "      <td>-2.113359e-75</td>\n",
       "      <td>...</td>\n",
       "      <td>-5.205977e-77</td>\n",
       "      <td>-6.455572e-86</td>\n",
       "      <td>-4.374334e-86</td>\n",
       "      <td>-1.574847e-97</td>\n",
       "      <td>-3.145375e-97</td>\n",
       "      <td>-9.308537e-94</td>\n",
       "      <td>-1.995549e-93</td>\n",
       "      <td>2.277090e-73</td>\n",
       "      <td>-4.751922e-74</td>\n",
       "      <td>3</td>\n",
       "    </tr>\n",
       "    <tr>\n",
       "      <th>7</th>\n",
       "      <td>-7.310937e-77</td>\n",
       "      <td>-1.931916e+02</td>\n",
       "      <td>-2.419751e+02</td>\n",
       "      <td>-1.971894e-56</td>\n",
       "      <td>-2.982614e-56</td>\n",
       "      <td>7.294974e-11</td>\n",
       "      <td>-1.669009e-12</td>\n",
       "      <td>5.310145e-35</td>\n",
       "      <td>-1.798316e-34</td>\n",
       "      <td>3.945275e+02</td>\n",
       "      <td>...</td>\n",
       "      <td>3.633178e+02</td>\n",
       "      <td>5.099797e-82</td>\n",
       "      <td>-6.790824e-82</td>\n",
       "      <td>-2.626973e-99</td>\n",
       "      <td>9.026879e-99</td>\n",
       "      <td>2.652088e-13</td>\n",
       "      <td>5.963449e-13</td>\n",
       "      <td>-1.848158e-01</td>\n",
       "      <td>3.284608e-02</td>\n",
       "      <td>2</td>\n",
       "    </tr>\n",
       "    <tr>\n",
       "      <th>8</th>\n",
       "      <td>3.522581e+02</td>\n",
       "      <td>-9.450339e+00</td>\n",
       "      <td>-1.054125e+01</td>\n",
       "      <td>1.791709e-03</td>\n",
       "      <td>7.351699e-04</td>\n",
       "      <td>6.135738e-05</td>\n",
       "      <td>1.439940e-05</td>\n",
       "      <td>7.551271e-31</td>\n",
       "      <td>4.187962e-30</td>\n",
       "      <td>8.275680e+02</td>\n",
       "      <td>...</td>\n",
       "      <td>1.058545e+01</td>\n",
       "      <td>4.834160e-28</td>\n",
       "      <td>1.394897e-27</td>\n",
       "      <td>3.387261e-22</td>\n",
       "      <td>-1.099440e-21</td>\n",
       "      <td>1.841216e-03</td>\n",
       "      <td>1.757468e-03</td>\n",
       "      <td>-8.521850e-01</td>\n",
       "      <td>1.302461e-01</td>\n",
       "      <td>2</td>\n",
       "    </tr>\n",
       "    <tr>\n",
       "      <th>9</th>\n",
       "      <td>-1.622929e-76</td>\n",
       "      <td>3.712947e-88</td>\n",
       "      <td>3.371100e-88</td>\n",
       "      <td>-2.898035e-64</td>\n",
       "      <td>1.831198e-63</td>\n",
       "      <td>-6.122873e-54</td>\n",
       "      <td>-3.894292e-54</td>\n",
       "      <td>-1.455239e-57</td>\n",
       "      <td>-1.207848e-56</td>\n",
       "      <td>-2.525847e-76</td>\n",
       "      <td>...</td>\n",
       "      <td>2.173627e+02</td>\n",
       "      <td>-1.989525e-42</td>\n",
       "      <td>8.499370e-43</td>\n",
       "      <td>-6.795864e-98</td>\n",
       "      <td>-1.279499e-97</td>\n",
       "      <td>-5.175449e-86</td>\n",
       "      <td>-5.958440e-85</td>\n",
       "      <td>3.903794e-105</td>\n",
       "      <td>-3.052017e-104</td>\n",
       "      <td>3</td>\n",
       "    </tr>\n",
       "  </tbody>\n",
       "</table>\n",
       "<p>10 rows × 190 columns</p>\n",
       "</div>"
      ],
      "text/plain": [
       "              0             1             2             3             4  \\\n",
       "0  6.668082e+02 -1.695469e-09 -3.544297e-09  1.014611e-47  7.106629e-47   \n",
       "1 -6.226801e-75  4.453153e-68  1.804469e-68  7.013827e-08 -9.634985e-08   \n",
       "2  3.693942e+03  1.469204e-77  5.449699e-78  2.380011e-34  1.692094e-34   \n",
       "3 -8.458635e-76 -2.230276e-18 -1.861589e-17  5.179621e+00 -2.444740e+00   \n",
       "4 -2.440752e-76 -7.431783e+01 -1.744032e+01  1.384663e-09 -5.263277e-09   \n",
       "5  5.846015e+02 -2.239370e-18 -4.208785e-18  8.852659e-49  1.973813e-48   \n",
       "6 -2.105693e-75  4.662736e-66 -6.195979e-67  4.701131e-07 -1.285994e-06   \n",
       "7 -7.310937e-77 -1.931916e+02 -2.419751e+02 -1.971894e-56 -2.982614e-56   \n",
       "8  3.522581e+02 -9.450339e+00 -1.054125e+01  1.791709e-03  7.351699e-04   \n",
       "9 -1.622929e-76  3.712947e-88  3.371100e-88 -2.898035e-64  1.831198e-63   \n",
       "\n",
       "              5             6              7              8             9  \\\n",
       "0  5.188904e-12  2.156118e-11  -1.826036e-08  -3.248780e-09  3.380735e+02   \n",
       "1 -3.676030e-66 -1.001351e-65 -9.155489e-114  1.647757e-113 -5.577280e-75   \n",
       "2  2.517108e-30  3.662622e-30   4.377309e-13   1.297703e-12  3.392622e+03   \n",
       "3  8.634752e-29 -3.717157e-29 -1.376323e-104  1.397611e-103 -9.771233e-76   \n",
       "4  1.020750e-15 -1.748020e-15   1.393947e-19  -3.017071e-20 -1.998171e-76   \n",
       "5 -2.707745e-48  3.604120e-46  -5.899725e-62  -1.680865e-61  7.395902e+02   \n",
       "6 -9.150638e-31 -2.770389e-29   2.221660e-11   2.615663e-12 -2.113359e-75   \n",
       "7  7.294974e-11 -1.669009e-12   5.310145e-35  -1.798316e-34  3.945275e+02   \n",
       "8  6.135738e-05  1.439940e-05   7.551271e-31   4.187962e-30  8.275680e+02   \n",
       "9 -6.122873e-54 -3.894292e-54  -1.455239e-57  -1.207848e-56 -2.525847e-76   \n",
       "\n",
       "   ...           180           181           182            183  \\\n",
       "0  ... -6.115749e+01 -9.414594e-10 -1.541395e-10  -2.382286e-32   \n",
       "1  ...  7.497380e-76  8.746765e-97  4.364355e-96  -2.253734e-66   \n",
       "2  ... -1.607978e-77 -6.253206e-30  8.166744e-30 -5.728147e-103   \n",
       "3  ...  1.618081e-76 -1.158439e-02 -5.188563e-03  -1.995222e-87   \n",
       "4  ...  2.555589e+00 -1.366264e-67 -5.903653e-67  -2.557043e-17   \n",
       "5  ... -2.410793e-76  4.306656e-58 -2.181553e-57   1.667252e-73   \n",
       "6  ... -5.205977e-77 -6.455572e-86 -4.374334e-86  -1.574847e-97   \n",
       "7  ...  3.633178e+02  5.099797e-82 -6.790824e-82  -2.626973e-99   \n",
       "8  ...  1.058545e+01  4.834160e-28  1.394897e-27   3.387261e-22   \n",
       "9  ...  2.173627e+02 -1.989525e-42  8.499370e-43  -6.795864e-98   \n",
       "\n",
       "             184            185            186            187            188  \\\n",
       "0  -6.198004e-32   2.818072e-52   1.987865e-51   9.706677e-58  -2.520193e-57   \n",
       "1   3.576287e-66   1.717160e-46   5.023628e-46  -6.488682e-29   6.786756e-29   \n",
       "2 -6.876811e-103 -1.009635e-113 -3.275330e-114 -1.650857e-126 -1.691168e-126   \n",
       "3   3.360157e-88  -1.888566e-23  -4.142928e-22   5.044488e-44  -4.090115e-44   \n",
       "4   1.285087e-17  -9.322752e-11   1.088560e-10 -3.908467e-110 -5.071616e-109   \n",
       "5  -2.985850e-73   2.047263e-64  -2.335563e-64  -3.933805e-29   7.627229e-28   \n",
       "6  -3.145375e-97  -9.308537e-94  -1.995549e-93   2.277090e-73  -4.751922e-74   \n",
       "7   9.026879e-99   2.652088e-13   5.963449e-13  -1.848158e-01   3.284608e-02   \n",
       "8  -1.099440e-21   1.841216e-03   1.757468e-03  -8.521850e-01   1.302461e-01   \n",
       "9  -1.279499e-97  -5.175449e-86  -5.958440e-85  3.903794e-105 -3.052017e-104   \n",
       "\n",
       "   label  \n",
       "0      1  \n",
       "1      1  \n",
       "2      3  \n",
       "3      1  \n",
       "4      3  \n",
       "5      3  \n",
       "6      3  \n",
       "7      2  \n",
       "8      2  \n",
       "9      3  \n",
       "\n",
       "[10 rows x 190 columns]"
      ]
     },
     "execution_count": 28,
     "metadata": {},
     "output_type": "execute_result"
    }
   ],
   "source": [
    "dataset.head(10)"
   ]
  },
  {
   "cell_type": "code",
   "execution_count": 29,
   "metadata": {
    "id": "RyFHppewHVE2"
   },
   "outputs": [],
   "source": [
    "from sklearn.model_selection import train_test_split"
   ]
  },
  {
   "cell_type": "code",
   "execution_count": 30,
   "metadata": {
    "id": "nZi4CdCUIefZ"
   },
   "outputs": [],
   "source": [
    "train, test = train_test_split(dataset, test_size=0.2, shuffle=False, random_state=0)"
   ]
  },
  {
   "cell_type": "code",
   "execution_count": 31,
   "metadata": {
    "colab": {
     "base_uri": "https://localhost:8080/",
     "height": 609
    },
    "id": "oCPvIB_CJLmh",
    "outputId": "bdf8291d-f881-43a4-8611-9f3b2def2195"
   },
   "outputs": [
    {
     "data": {
      "text/html": [
       "<div>\n",
       "<style scoped>\n",
       "    .dataframe tbody tr th:only-of-type {\n",
       "        vertical-align: middle;\n",
       "    }\n",
       "\n",
       "    .dataframe tbody tr th {\n",
       "        vertical-align: top;\n",
       "    }\n",
       "\n",
       "    .dataframe thead th {\n",
       "        text-align: right;\n",
       "    }\n",
       "</style>\n",
       "<table border=\"1\" class=\"dataframe\">\n",
       "  <thead>\n",
       "    <tr style=\"text-align: right;\">\n",
       "      <th></th>\n",
       "      <th>0</th>\n",
       "      <th>1</th>\n",
       "      <th>2</th>\n",
       "      <th>3</th>\n",
       "      <th>4</th>\n",
       "      <th>5</th>\n",
       "      <th>6</th>\n",
       "      <th>7</th>\n",
       "      <th>8</th>\n",
       "      <th>9</th>\n",
       "      <th>...</th>\n",
       "      <th>180</th>\n",
       "      <th>181</th>\n",
       "      <th>182</th>\n",
       "      <th>183</th>\n",
       "      <th>184</th>\n",
       "      <th>185</th>\n",
       "      <th>186</th>\n",
       "      <th>187</th>\n",
       "      <th>188</th>\n",
       "      <th>label</th>\n",
       "    </tr>\n",
       "  </thead>\n",
       "  <tbody>\n",
       "    <tr>\n",
       "      <th>0</th>\n",
       "      <td>6.668082e+02</td>\n",
       "      <td>-1.695469e-09</td>\n",
       "      <td>-3.544297e-09</td>\n",
       "      <td>1.014611e-47</td>\n",
       "      <td>7.106629e-47</td>\n",
       "      <td>5.188904e-12</td>\n",
       "      <td>2.156118e-11</td>\n",
       "      <td>-1.826036e-08</td>\n",
       "      <td>-3.248780e-09</td>\n",
       "      <td>3.380735e+02</td>\n",
       "      <td>...</td>\n",
       "      <td>-6.115749e+01</td>\n",
       "      <td>-9.414594e-10</td>\n",
       "      <td>-1.541395e-10</td>\n",
       "      <td>-2.382286e-32</td>\n",
       "      <td>-6.198004e-32</td>\n",
       "      <td>2.818072e-52</td>\n",
       "      <td>1.987865e-51</td>\n",
       "      <td>9.706677e-58</td>\n",
       "      <td>-2.520193e-57</td>\n",
       "      <td>1</td>\n",
       "    </tr>\n",
       "    <tr>\n",
       "      <th>1</th>\n",
       "      <td>-6.226801e-75</td>\n",
       "      <td>4.453153e-68</td>\n",
       "      <td>1.804469e-68</td>\n",
       "      <td>7.013827e-08</td>\n",
       "      <td>-9.634985e-08</td>\n",
       "      <td>-3.676030e-66</td>\n",
       "      <td>-1.001351e-65</td>\n",
       "      <td>-9.155489e-114</td>\n",
       "      <td>1.647757e-113</td>\n",
       "      <td>-5.577280e-75</td>\n",
       "      <td>...</td>\n",
       "      <td>7.497380e-76</td>\n",
       "      <td>8.746765e-97</td>\n",
       "      <td>4.364355e-96</td>\n",
       "      <td>-2.253734e-66</td>\n",
       "      <td>3.576287e-66</td>\n",
       "      <td>1.717160e-46</td>\n",
       "      <td>5.023628e-46</td>\n",
       "      <td>-6.488682e-29</td>\n",
       "      <td>6.786756e-29</td>\n",
       "      <td>1</td>\n",
       "    </tr>\n",
       "    <tr>\n",
       "      <th>2</th>\n",
       "      <td>3.693942e+03</td>\n",
       "      <td>1.469204e-77</td>\n",
       "      <td>5.449699e-78</td>\n",
       "      <td>2.380011e-34</td>\n",
       "      <td>1.692094e-34</td>\n",
       "      <td>2.517108e-30</td>\n",
       "      <td>3.662622e-30</td>\n",
       "      <td>4.377309e-13</td>\n",
       "      <td>1.297703e-12</td>\n",
       "      <td>3.392622e+03</td>\n",
       "      <td>...</td>\n",
       "      <td>-1.607978e-77</td>\n",
       "      <td>-6.253206e-30</td>\n",
       "      <td>8.166744e-30</td>\n",
       "      <td>-5.728147e-103</td>\n",
       "      <td>-6.876811e-103</td>\n",
       "      <td>-1.009635e-113</td>\n",
       "      <td>-3.275330e-114</td>\n",
       "      <td>-1.650857e-126</td>\n",
       "      <td>-1.691168e-126</td>\n",
       "      <td>3</td>\n",
       "    </tr>\n",
       "    <tr>\n",
       "      <th>3</th>\n",
       "      <td>-8.458635e-76</td>\n",
       "      <td>-2.230276e-18</td>\n",
       "      <td>-1.861589e-17</td>\n",
       "      <td>5.179621e+00</td>\n",
       "      <td>-2.444740e+00</td>\n",
       "      <td>8.634752e-29</td>\n",
       "      <td>-3.717157e-29</td>\n",
       "      <td>-1.376323e-104</td>\n",
       "      <td>1.397611e-103</td>\n",
       "      <td>-9.771233e-76</td>\n",
       "      <td>...</td>\n",
       "      <td>1.618081e-76</td>\n",
       "      <td>-1.158439e-02</td>\n",
       "      <td>-5.188563e-03</td>\n",
       "      <td>-1.995222e-87</td>\n",
       "      <td>3.360157e-88</td>\n",
       "      <td>-1.888566e-23</td>\n",
       "      <td>-4.142928e-22</td>\n",
       "      <td>5.044488e-44</td>\n",
       "      <td>-4.090115e-44</td>\n",
       "      <td>1</td>\n",
       "    </tr>\n",
       "    <tr>\n",
       "      <th>4</th>\n",
       "      <td>-2.440752e-76</td>\n",
       "      <td>-7.431783e+01</td>\n",
       "      <td>-1.744032e+01</td>\n",
       "      <td>1.384663e-09</td>\n",
       "      <td>-5.263277e-09</td>\n",
       "      <td>1.020750e-15</td>\n",
       "      <td>-1.748020e-15</td>\n",
       "      <td>1.393947e-19</td>\n",
       "      <td>-3.017071e-20</td>\n",
       "      <td>-1.998171e-76</td>\n",
       "      <td>...</td>\n",
       "      <td>2.555589e+00</td>\n",
       "      <td>-1.366264e-67</td>\n",
       "      <td>-5.903653e-67</td>\n",
       "      <td>-2.557043e-17</td>\n",
       "      <td>1.285087e-17</td>\n",
       "      <td>-9.322752e-11</td>\n",
       "      <td>1.088560e-10</td>\n",
       "      <td>-3.908467e-110</td>\n",
       "      <td>-5.071616e-109</td>\n",
       "      <td>3</td>\n",
       "    </tr>\n",
       "    <tr>\n",
       "      <th>...</th>\n",
       "      <td>...</td>\n",
       "      <td>...</td>\n",
       "      <td>...</td>\n",
       "      <td>...</td>\n",
       "      <td>...</td>\n",
       "      <td>...</td>\n",
       "      <td>...</td>\n",
       "      <td>...</td>\n",
       "      <td>...</td>\n",
       "      <td>...</td>\n",
       "      <td>...</td>\n",
       "      <td>...</td>\n",
       "      <td>...</td>\n",
       "      <td>...</td>\n",
       "      <td>...</td>\n",
       "      <td>...</td>\n",
       "      <td>...</td>\n",
       "      <td>...</td>\n",
       "      <td>...</td>\n",
       "      <td>...</td>\n",
       "      <td>...</td>\n",
       "    </tr>\n",
       "    <tr>\n",
       "      <th>715</th>\n",
       "      <td>-7.133785e-76</td>\n",
       "      <td>-1.075055e-08</td>\n",
       "      <td>-2.064762e-08</td>\n",
       "      <td>5.121377e-24</td>\n",
       "      <td>-1.004464e-22</td>\n",
       "      <td>1.349210e-35</td>\n",
       "      <td>-1.112455e-35</td>\n",
       "      <td>5.805281e-64</td>\n",
       "      <td>3.779794e-65</td>\n",
       "      <td>-1.983598e-76</td>\n",
       "      <td>...</td>\n",
       "      <td>8.086938e-77</td>\n",
       "      <td>-6.521426e-123</td>\n",
       "      <td>5.378498e-123</td>\n",
       "      <td>-4.528963e-53</td>\n",
       "      <td>-1.746460e-53</td>\n",
       "      <td>-2.528894e-33</td>\n",
       "      <td>-4.872140e-33</td>\n",
       "      <td>-1.380640e-98</td>\n",
       "      <td>-3.909398e-99</td>\n",
       "      <td>1</td>\n",
       "    </tr>\n",
       "    <tr>\n",
       "      <th>716</th>\n",
       "      <td>-4.761799e-76</td>\n",
       "      <td>-2.298938e-10</td>\n",
       "      <td>-1.113415e-09</td>\n",
       "      <td>4.477250e-29</td>\n",
       "      <td>-7.917406e-29</td>\n",
       "      <td>1.520801e-12</td>\n",
       "      <td>2.557499e-12</td>\n",
       "      <td>-4.812878e-47</td>\n",
       "      <td>-2.115970e-46</td>\n",
       "      <td>-4.106668e-76</td>\n",
       "      <td>...</td>\n",
       "      <td>2.512017e+02</td>\n",
       "      <td>-3.226085e-14</td>\n",
       "      <td>1.392924e-13</td>\n",
       "      <td>-7.135711e+00</td>\n",
       "      <td>-9.151486e+00</td>\n",
       "      <td>2.154261e-43</td>\n",
       "      <td>-5.412026e-43</td>\n",
       "      <td>5.366070e-70</td>\n",
       "      <td>1.202748e-70</td>\n",
       "      <td>2</td>\n",
       "    </tr>\n",
       "    <tr>\n",
       "      <th>717</th>\n",
       "      <td>-1.209261e-75</td>\n",
       "      <td>1.427327e-69</td>\n",
       "      <td>1.030926e-69</td>\n",
       "      <td>1.926059e-18</td>\n",
       "      <td>-1.447426e-18</td>\n",
       "      <td>-8.116902e-62</td>\n",
       "      <td>-1.506385e-61</td>\n",
       "      <td>-6.596973e-47</td>\n",
       "      <td>1.313289e-46</td>\n",
       "      <td>-9.739234e-76</td>\n",
       "      <td>...</td>\n",
       "      <td>3.124439e+02</td>\n",
       "      <td>-1.313379e-116</td>\n",
       "      <td>-1.422154e-116</td>\n",
       "      <td>-6.808575e-123</td>\n",
       "      <td>2.308382e-123</td>\n",
       "      <td>3.865903e-11</td>\n",
       "      <td>7.066709e-11</td>\n",
       "      <td>-5.780467e-129</td>\n",
       "      <td>-8.916164e-129</td>\n",
       "      <td>2</td>\n",
       "    </tr>\n",
       "    <tr>\n",
       "      <th>718</th>\n",
       "      <td>-1.517515e-75</td>\n",
       "      <td>5.274610e-73</td>\n",
       "      <td>8.690943e-74</td>\n",
       "      <td>4.720569e-18</td>\n",
       "      <td>-2.497981e-19</td>\n",
       "      <td>2.530889e-02</td>\n",
       "      <td>-4.661234e-03</td>\n",
       "      <td>1.215101e-02</td>\n",
       "      <td>1.305992e-02</td>\n",
       "      <td>-1.516052e-75</td>\n",
       "      <td>...</td>\n",
       "      <td>1.124158e+02</td>\n",
       "      <td>1.533422e-02</td>\n",
       "      <td>1.579236e-02</td>\n",
       "      <td>-2.648290e-18</td>\n",
       "      <td>1.151496e-18</td>\n",
       "      <td>-3.398445e-107</td>\n",
       "      <td>-2.216739e-107</td>\n",
       "      <td>1.123204e-107</td>\n",
       "      <td>-2.645047e-106</td>\n",
       "      <td>3</td>\n",
       "    </tr>\n",
       "    <tr>\n",
       "      <th>719</th>\n",
       "      <td>-2.705985e-76</td>\n",
       "      <td>-1.087940e+00</td>\n",
       "      <td>-4.087312e-01</td>\n",
       "      <td>-1.811329e-35</td>\n",
       "      <td>-1.826143e-35</td>\n",
       "      <td>-1.675191e-33</td>\n",
       "      <td>-9.871831e-33</td>\n",
       "      <td>3.626665e-29</td>\n",
       "      <td>-2.439603e-29</td>\n",
       "      <td>-2.329741e-77</td>\n",
       "      <td>...</td>\n",
       "      <td>-1.597935e-76</td>\n",
       "      <td>-2.856646e-68</td>\n",
       "      <td>-1.123436e-67</td>\n",
       "      <td>-1.795524e-94</td>\n",
       "      <td>-4.998196e-94</td>\n",
       "      <td>7.008565e-20</td>\n",
       "      <td>9.785896e-20</td>\n",
       "      <td>-1.417075e-135</td>\n",
       "      <td>-6.914053e-136</td>\n",
       "      <td>3</td>\n",
       "    </tr>\n",
       "  </tbody>\n",
       "</table>\n",
       "<p>720 rows × 190 columns</p>\n",
       "</div>"
      ],
      "text/plain": [
       "                0             1             2             3             4  \\\n",
       "0    6.668082e+02 -1.695469e-09 -3.544297e-09  1.014611e-47  7.106629e-47   \n",
       "1   -6.226801e-75  4.453153e-68  1.804469e-68  7.013827e-08 -9.634985e-08   \n",
       "2    3.693942e+03  1.469204e-77  5.449699e-78  2.380011e-34  1.692094e-34   \n",
       "3   -8.458635e-76 -2.230276e-18 -1.861589e-17  5.179621e+00 -2.444740e+00   \n",
       "4   -2.440752e-76 -7.431783e+01 -1.744032e+01  1.384663e-09 -5.263277e-09   \n",
       "..            ...           ...           ...           ...           ...   \n",
       "715 -7.133785e-76 -1.075055e-08 -2.064762e-08  5.121377e-24 -1.004464e-22   \n",
       "716 -4.761799e-76 -2.298938e-10 -1.113415e-09  4.477250e-29 -7.917406e-29   \n",
       "717 -1.209261e-75  1.427327e-69  1.030926e-69  1.926059e-18 -1.447426e-18   \n",
       "718 -1.517515e-75  5.274610e-73  8.690943e-74  4.720569e-18 -2.497981e-19   \n",
       "719 -2.705985e-76 -1.087940e+00 -4.087312e-01 -1.811329e-35 -1.826143e-35   \n",
       "\n",
       "                5             6              7              8             9  \\\n",
       "0    5.188904e-12  2.156118e-11  -1.826036e-08  -3.248780e-09  3.380735e+02   \n",
       "1   -3.676030e-66 -1.001351e-65 -9.155489e-114  1.647757e-113 -5.577280e-75   \n",
       "2    2.517108e-30  3.662622e-30   4.377309e-13   1.297703e-12  3.392622e+03   \n",
       "3    8.634752e-29 -3.717157e-29 -1.376323e-104  1.397611e-103 -9.771233e-76   \n",
       "4    1.020750e-15 -1.748020e-15   1.393947e-19  -3.017071e-20 -1.998171e-76   \n",
       "..            ...           ...            ...            ...           ...   \n",
       "715  1.349210e-35 -1.112455e-35   5.805281e-64   3.779794e-65 -1.983598e-76   \n",
       "716  1.520801e-12  2.557499e-12  -4.812878e-47  -2.115970e-46 -4.106668e-76   \n",
       "717 -8.116902e-62 -1.506385e-61  -6.596973e-47   1.313289e-46 -9.739234e-76   \n",
       "718  2.530889e-02 -4.661234e-03   1.215101e-02   1.305992e-02 -1.516052e-75   \n",
       "719 -1.675191e-33 -9.871831e-33   3.626665e-29  -2.439603e-29 -2.329741e-77   \n",
       "\n",
       "     ...           180            181            182            183  \\\n",
       "0    ... -6.115749e+01  -9.414594e-10  -1.541395e-10  -2.382286e-32   \n",
       "1    ...  7.497380e-76   8.746765e-97   4.364355e-96  -2.253734e-66   \n",
       "2    ... -1.607978e-77  -6.253206e-30   8.166744e-30 -5.728147e-103   \n",
       "3    ...  1.618081e-76  -1.158439e-02  -5.188563e-03  -1.995222e-87   \n",
       "4    ...  2.555589e+00  -1.366264e-67  -5.903653e-67  -2.557043e-17   \n",
       "..   ...           ...            ...            ...            ...   \n",
       "715  ...  8.086938e-77 -6.521426e-123  5.378498e-123  -4.528963e-53   \n",
       "716  ...  2.512017e+02  -3.226085e-14   1.392924e-13  -7.135711e+00   \n",
       "717  ...  3.124439e+02 -1.313379e-116 -1.422154e-116 -6.808575e-123   \n",
       "718  ...  1.124158e+02   1.533422e-02   1.579236e-02  -2.648290e-18   \n",
       "719  ... -1.597935e-76  -2.856646e-68  -1.123436e-67  -1.795524e-94   \n",
       "\n",
       "               184            185            186            187  \\\n",
       "0    -6.198004e-32   2.818072e-52   1.987865e-51   9.706677e-58   \n",
       "1     3.576287e-66   1.717160e-46   5.023628e-46  -6.488682e-29   \n",
       "2   -6.876811e-103 -1.009635e-113 -3.275330e-114 -1.650857e-126   \n",
       "3     3.360157e-88  -1.888566e-23  -4.142928e-22   5.044488e-44   \n",
       "4     1.285087e-17  -9.322752e-11   1.088560e-10 -3.908467e-110   \n",
       "..             ...            ...            ...            ...   \n",
       "715  -1.746460e-53  -2.528894e-33  -4.872140e-33  -1.380640e-98   \n",
       "716  -9.151486e+00   2.154261e-43  -5.412026e-43   5.366070e-70   \n",
       "717  2.308382e-123   3.865903e-11   7.066709e-11 -5.780467e-129   \n",
       "718   1.151496e-18 -3.398445e-107 -2.216739e-107  1.123204e-107   \n",
       "719  -4.998196e-94   7.008565e-20   9.785896e-20 -1.417075e-135   \n",
       "\n",
       "               188  label  \n",
       "0    -2.520193e-57      1  \n",
       "1     6.786756e-29      1  \n",
       "2   -1.691168e-126      3  \n",
       "3    -4.090115e-44      1  \n",
       "4   -5.071616e-109      3  \n",
       "..             ...    ...  \n",
       "715  -3.909398e-99      1  \n",
       "716   1.202748e-70      2  \n",
       "717 -8.916164e-129      2  \n",
       "718 -2.645047e-106      3  \n",
       "719 -6.914053e-136      3  \n",
       "\n",
       "[720 rows x 190 columns]"
      ]
     },
     "execution_count": 31,
     "metadata": {},
     "output_type": "execute_result"
    }
   ],
   "source": [
    "train"
   ]
  },
  {
   "cell_type": "code",
   "execution_count": 32,
   "metadata": {
    "id": "hmV-BVxIJNFk"
   },
   "outputs": [],
   "source": [
    "test = test.reset_index(drop=True)"
   ]
  },
  {
   "cell_type": "code",
   "execution_count": 33,
   "metadata": {
    "colab": {
     "base_uri": "https://localhost:8080/",
     "height": 609
    },
    "id": "wgKnwBxRKMuD",
    "outputId": "da8d6542-d3d6-460d-aaf2-300cce32e04f"
   },
   "outputs": [
    {
     "data": {
      "text/html": [
       "<div>\n",
       "<style scoped>\n",
       "    .dataframe tbody tr th:only-of-type {\n",
       "        vertical-align: middle;\n",
       "    }\n",
       "\n",
       "    .dataframe tbody tr th {\n",
       "        vertical-align: top;\n",
       "    }\n",
       "\n",
       "    .dataframe thead th {\n",
       "        text-align: right;\n",
       "    }\n",
       "</style>\n",
       "<table border=\"1\" class=\"dataframe\">\n",
       "  <thead>\n",
       "    <tr style=\"text-align: right;\">\n",
       "      <th></th>\n",
       "      <th>0</th>\n",
       "      <th>1</th>\n",
       "      <th>2</th>\n",
       "      <th>3</th>\n",
       "      <th>4</th>\n",
       "      <th>5</th>\n",
       "      <th>6</th>\n",
       "      <th>7</th>\n",
       "      <th>8</th>\n",
       "      <th>9</th>\n",
       "      <th>...</th>\n",
       "      <th>180</th>\n",
       "      <th>181</th>\n",
       "      <th>182</th>\n",
       "      <th>183</th>\n",
       "      <th>184</th>\n",
       "      <th>185</th>\n",
       "      <th>186</th>\n",
       "      <th>187</th>\n",
       "      <th>188</th>\n",
       "      <th>label</th>\n",
       "    </tr>\n",
       "  </thead>\n",
       "  <tbody>\n",
       "    <tr>\n",
       "      <th>0</th>\n",
       "      <td>3.593688e+02</td>\n",
       "      <td>-5.456178e-04</td>\n",
       "      <td>-2.605996e-04</td>\n",
       "      <td>-1.571689e-38</td>\n",
       "      <td>-2.628046e-38</td>\n",
       "      <td>2.445257e-55</td>\n",
       "      <td>-1.875435e-54</td>\n",
       "      <td>1.068726e-59</td>\n",
       "      <td>-1.059530e-60</td>\n",
       "      <td>4.599835e+02</td>\n",
       "      <td>...</td>\n",
       "      <td>3.997473e-76</td>\n",
       "      <td>-4.285114e-135</td>\n",
       "      <td>8.693187e-136</td>\n",
       "      <td>2.099330e-50</td>\n",
       "      <td>1.692574e-49</td>\n",
       "      <td>-2.870769e-64</td>\n",
       "      <td>7.217798e-64</td>\n",
       "      <td>-5.133756e-87</td>\n",
       "      <td>-4.676280e-87</td>\n",
       "      <td>1</td>\n",
       "    </tr>\n",
       "    <tr>\n",
       "      <th>1</th>\n",
       "      <td>-2.567170e-76</td>\n",
       "      <td>-4.631603e-112</td>\n",
       "      <td>7.963715e-112</td>\n",
       "      <td>1.303834e-13</td>\n",
       "      <td>-2.819202e-13</td>\n",
       "      <td>3.830168e-29</td>\n",
       "      <td>-1.756795e-29</td>\n",
       "      <td>2.159153e-95</td>\n",
       "      <td>8.128064e-95</td>\n",
       "      <td>-1.539671e-76</td>\n",
       "      <td>...</td>\n",
       "      <td>1.170221e-76</td>\n",
       "      <td>2.329324e-86</td>\n",
       "      <td>3.493582e-86</td>\n",
       "      <td>-1.077423e-62</td>\n",
       "      <td>2.565145e-62</td>\n",
       "      <td>-1.228789e-92</td>\n",
       "      <td>4.601820e-94</td>\n",
       "      <td>-1.654776e-88</td>\n",
       "      <td>-1.294095e-88</td>\n",
       "      <td>1</td>\n",
       "    </tr>\n",
       "    <tr>\n",
       "      <th>2</th>\n",
       "      <td>9.383965e+02</td>\n",
       "      <td>6.496916e-76</td>\n",
       "      <td>1.826273e-76</td>\n",
       "      <td>6.579253e-28</td>\n",
       "      <td>2.390497e-28</td>\n",
       "      <td>4.187052e-18</td>\n",
       "      <td>2.126818e-18</td>\n",
       "      <td>1.017863e-07</td>\n",
       "      <td>1.683314e-07</td>\n",
       "      <td>7.515967e+02</td>\n",
       "      <td>...</td>\n",
       "      <td>-1.435912e-76</td>\n",
       "      <td>-1.291577e-80</td>\n",
       "      <td>-1.330478e-80</td>\n",
       "      <td>-1.544684e-118</td>\n",
       "      <td>-4.120164e-119</td>\n",
       "      <td>-7.160507e-99</td>\n",
       "      <td>-9.400457e-99</td>\n",
       "      <td>-8.625647e-123</td>\n",
       "      <td>-1.208445e-122</td>\n",
       "      <td>3</td>\n",
       "    </tr>\n",
       "    <tr>\n",
       "      <th>3</th>\n",
       "      <td>5.030667e+03</td>\n",
       "      <td>1.915799e-81</td>\n",
       "      <td>1.087732e-81</td>\n",
       "      <td>4.513685e-46</td>\n",
       "      <td>8.550859e-46</td>\n",
       "      <td>-2.641797e-48</td>\n",
       "      <td>2.895873e-47</td>\n",
       "      <td>-3.593596e-34</td>\n",
       "      <td>6.164213e-34</td>\n",
       "      <td>4.083558e+03</td>\n",
       "      <td>...</td>\n",
       "      <td>-3.015311e-76</td>\n",
       "      <td>4.883058e-61</td>\n",
       "      <td>-7.271003e-60</td>\n",
       "      <td>-1.503436e-89</td>\n",
       "      <td>-1.266861e-88</td>\n",
       "      <td>-2.030903e-92</td>\n",
       "      <td>-5.267643e-92</td>\n",
       "      <td>3.221929e-89</td>\n",
       "      <td>-3.601855e-89</td>\n",
       "      <td>3</td>\n",
       "    </tr>\n",
       "    <tr>\n",
       "      <th>4</th>\n",
       "      <td>-3.304967e-77</td>\n",
       "      <td>1.900251e-32</td>\n",
       "      <td>-2.316071e-32</td>\n",
       "      <td>1.062959e-14</td>\n",
       "      <td>1.129957e-14</td>\n",
       "      <td>4.333131e-07</td>\n",
       "      <td>4.509274e-07</td>\n",
       "      <td>2.398624e-15</td>\n",
       "      <td>2.325229e-15</td>\n",
       "      <td>3.948131e+02</td>\n",
       "      <td>...</td>\n",
       "      <td>3.098225e+02</td>\n",
       "      <td>2.785611e-88</td>\n",
       "      <td>-6.531620e-88</td>\n",
       "      <td>-2.509661e-114</td>\n",
       "      <td>1.997071e-114</td>\n",
       "      <td>3.651667e-13</td>\n",
       "      <td>8.221484e-13</td>\n",
       "      <td>-1.214995e-119</td>\n",
       "      <td>-7.917653e-119</td>\n",
       "      <td>2</td>\n",
       "    </tr>\n",
       "    <tr>\n",
       "      <th>...</th>\n",
       "      <td>...</td>\n",
       "      <td>...</td>\n",
       "      <td>...</td>\n",
       "      <td>...</td>\n",
       "      <td>...</td>\n",
       "      <td>...</td>\n",
       "      <td>...</td>\n",
       "      <td>...</td>\n",
       "      <td>...</td>\n",
       "      <td>...</td>\n",
       "      <td>...</td>\n",
       "      <td>...</td>\n",
       "      <td>...</td>\n",
       "      <td>...</td>\n",
       "      <td>...</td>\n",
       "      <td>...</td>\n",
       "      <td>...</td>\n",
       "      <td>...</td>\n",
       "      <td>...</td>\n",
       "      <td>...</td>\n",
       "      <td>...</td>\n",
       "    </tr>\n",
       "    <tr>\n",
       "      <th>175</th>\n",
       "      <td>3.639018e+03</td>\n",
       "      <td>1.279077e-76</td>\n",
       "      <td>4.234456e-77</td>\n",
       "      <td>2.353994e-34</td>\n",
       "      <td>1.682578e-34</td>\n",
       "      <td>2.629061e-33</td>\n",
       "      <td>5.016211e-33</td>\n",
       "      <td>2.736131e-18</td>\n",
       "      <td>2.062907e-17</td>\n",
       "      <td>3.194424e+03</td>\n",
       "      <td>...</td>\n",
       "      <td>-4.975225e-76</td>\n",
       "      <td>9.844074e-54</td>\n",
       "      <td>-2.731795e-53</td>\n",
       "      <td>-8.620985e-107</td>\n",
       "      <td>-7.432299e-107</td>\n",
       "      <td>-1.469258e-94</td>\n",
       "      <td>-2.797716e-94</td>\n",
       "      <td>1.428593e-109</td>\n",
       "      <td>-4.966956e-107</td>\n",
       "      <td>3</td>\n",
       "    </tr>\n",
       "    <tr>\n",
       "      <th>176</th>\n",
       "      <td>4.995938e+02</td>\n",
       "      <td>-1.868868e-01</td>\n",
       "      <td>-2.001120e-01</td>\n",
       "      <td>7.287659e-03</td>\n",
       "      <td>-2.641052e-03</td>\n",
       "      <td>1.102811e+02</td>\n",
       "      <td>1.198934e+02</td>\n",
       "      <td>-1.277346e-116</td>\n",
       "      <td>1.873012e-116</td>\n",
       "      <td>-1.559252e-76</td>\n",
       "      <td>...</td>\n",
       "      <td>3.408122e-76</td>\n",
       "      <td>-1.397948e-06</td>\n",
       "      <td>-3.627409e-07</td>\n",
       "      <td>-4.049912e-60</td>\n",
       "      <td>1.458143e-59</td>\n",
       "      <td>4.268858e-12</td>\n",
       "      <td>-1.069007e-11</td>\n",
       "      <td>-3.658917e-73</td>\n",
       "      <td>-1.343538e-72</td>\n",
       "      <td>1</td>\n",
       "    </tr>\n",
       "    <tr>\n",
       "      <th>177</th>\n",
       "      <td>-5.069254e-76</td>\n",
       "      <td>5.285870e-68</td>\n",
       "      <td>1.974000e-68</td>\n",
       "      <td>2.353824e-13</td>\n",
       "      <td>2.034323e-14</td>\n",
       "      <td>-3.472911e-31</td>\n",
       "      <td>5.606585e-31</td>\n",
       "      <td>-1.314888e-121</td>\n",
       "      <td>1.244979e-121</td>\n",
       "      <td>-5.857127e-76</td>\n",
       "      <td>...</td>\n",
       "      <td>-6.034394e+01</td>\n",
       "      <td>-1.822185e-06</td>\n",
       "      <td>-4.946131e-07</td>\n",
       "      <td>-6.532477e-34</td>\n",
       "      <td>-1.379978e-33</td>\n",
       "      <td>1.147288e-17</td>\n",
       "      <td>-7.066183e-17</td>\n",
       "      <td>1.691055e-34</td>\n",
       "      <td>-5.376113e-35</td>\n",
       "      <td>1</td>\n",
       "    </tr>\n",
       "    <tr>\n",
       "      <th>178</th>\n",
       "      <td>5.471677e+01</td>\n",
       "      <td>-2.761631e-07</td>\n",
       "      <td>-1.627232e-07</td>\n",
       "      <td>-4.026148e-44</td>\n",
       "      <td>-7.994508e-43</td>\n",
       "      <td>1.077941e-06</td>\n",
       "      <td>1.468020e-07</td>\n",
       "      <td>-3.201690e-64</td>\n",
       "      <td>1.313129e-64</td>\n",
       "      <td>-9.341272e-77</td>\n",
       "      <td>...</td>\n",
       "      <td>5.973332e+02</td>\n",
       "      <td>-5.663269e-132</td>\n",
       "      <td>-1.006728e-132</td>\n",
       "      <td>4.256316e-74</td>\n",
       "      <td>4.750256e-74</td>\n",
       "      <td>-3.357267e-76</td>\n",
       "      <td>-2.402192e-76</td>\n",
       "      <td>-1.793362e-136</td>\n",
       "      <td>-1.474089e-136</td>\n",
       "      <td>2</td>\n",
       "    </tr>\n",
       "    <tr>\n",
       "      <th>179</th>\n",
       "      <td>-1.398773e-76</td>\n",
       "      <td>-1.675950e+01</td>\n",
       "      <td>-2.409412e+01</td>\n",
       "      <td>1.195814e-16</td>\n",
       "      <td>-7.609746e-17</td>\n",
       "      <td>3.830161e-08</td>\n",
       "      <td>4.499129e-08</td>\n",
       "      <td>3.699341e-42</td>\n",
       "      <td>-2.014501e-40</td>\n",
       "      <td>2.357779e+02</td>\n",
       "      <td>...</td>\n",
       "      <td>4.517943e+01</td>\n",
       "      <td>2.317942e-34</td>\n",
       "      <td>3.536104e-34</td>\n",
       "      <td>-2.115916e-126</td>\n",
       "      <td>3.950979e-127</td>\n",
       "      <td>1.188307e-51</td>\n",
       "      <td>-1.407930e-50</td>\n",
       "      <td>-4.423328e-122</td>\n",
       "      <td>-1.513247e-121</td>\n",
       "      <td>2</td>\n",
       "    </tr>\n",
       "  </tbody>\n",
       "</table>\n",
       "<p>180 rows × 190 columns</p>\n",
       "</div>"
      ],
      "text/plain": [
       "                0              1              2             3             4  \\\n",
       "0    3.593688e+02  -5.456178e-04  -2.605996e-04 -1.571689e-38 -2.628046e-38   \n",
       "1   -2.567170e-76 -4.631603e-112  7.963715e-112  1.303834e-13 -2.819202e-13   \n",
       "2    9.383965e+02   6.496916e-76   1.826273e-76  6.579253e-28  2.390497e-28   \n",
       "3    5.030667e+03   1.915799e-81   1.087732e-81  4.513685e-46  8.550859e-46   \n",
       "4   -3.304967e-77   1.900251e-32  -2.316071e-32  1.062959e-14  1.129957e-14   \n",
       "..            ...            ...            ...           ...           ...   \n",
       "175  3.639018e+03   1.279077e-76   4.234456e-77  2.353994e-34  1.682578e-34   \n",
       "176  4.995938e+02  -1.868868e-01  -2.001120e-01  7.287659e-03 -2.641052e-03   \n",
       "177 -5.069254e-76   5.285870e-68   1.974000e-68  2.353824e-13  2.034323e-14   \n",
       "178  5.471677e+01  -2.761631e-07  -1.627232e-07 -4.026148e-44 -7.994508e-43   \n",
       "179 -1.398773e-76  -1.675950e+01  -2.409412e+01  1.195814e-16 -7.609746e-17   \n",
       "\n",
       "                5             6              7              8             9  \\\n",
       "0    2.445257e-55 -1.875435e-54   1.068726e-59  -1.059530e-60  4.599835e+02   \n",
       "1    3.830168e-29 -1.756795e-29   2.159153e-95   8.128064e-95 -1.539671e-76   \n",
       "2    4.187052e-18  2.126818e-18   1.017863e-07   1.683314e-07  7.515967e+02   \n",
       "3   -2.641797e-48  2.895873e-47  -3.593596e-34   6.164213e-34  4.083558e+03   \n",
       "4    4.333131e-07  4.509274e-07   2.398624e-15   2.325229e-15  3.948131e+02   \n",
       "..            ...           ...            ...            ...           ...   \n",
       "175  2.629061e-33  5.016211e-33   2.736131e-18   2.062907e-17  3.194424e+03   \n",
       "176  1.102811e+02  1.198934e+02 -1.277346e-116  1.873012e-116 -1.559252e-76   \n",
       "177 -3.472911e-31  5.606585e-31 -1.314888e-121  1.244979e-121 -5.857127e-76   \n",
       "178  1.077941e-06  1.468020e-07  -3.201690e-64   1.313129e-64 -9.341272e-77   \n",
       "179  3.830161e-08  4.499129e-08   3.699341e-42  -2.014501e-40  2.357779e+02   \n",
       "\n",
       "     ...           180            181            182            183  \\\n",
       "0    ...  3.997473e-76 -4.285114e-135  8.693187e-136   2.099330e-50   \n",
       "1    ...  1.170221e-76   2.329324e-86   3.493582e-86  -1.077423e-62   \n",
       "2    ... -1.435912e-76  -1.291577e-80  -1.330478e-80 -1.544684e-118   \n",
       "3    ... -3.015311e-76   4.883058e-61  -7.271003e-60  -1.503436e-89   \n",
       "4    ...  3.098225e+02   2.785611e-88  -6.531620e-88 -2.509661e-114   \n",
       "..   ...           ...            ...            ...            ...   \n",
       "175  ... -4.975225e-76   9.844074e-54  -2.731795e-53 -8.620985e-107   \n",
       "176  ...  3.408122e-76  -1.397948e-06  -3.627409e-07  -4.049912e-60   \n",
       "177  ... -6.034394e+01  -1.822185e-06  -4.946131e-07  -6.532477e-34   \n",
       "178  ...  5.973332e+02 -5.663269e-132 -1.006728e-132   4.256316e-74   \n",
       "179  ...  4.517943e+01   2.317942e-34   3.536104e-34 -2.115916e-126   \n",
       "\n",
       "               184           185           186            187            188  \\\n",
       "0     1.692574e-49 -2.870769e-64  7.217798e-64  -5.133756e-87  -4.676280e-87   \n",
       "1     2.565145e-62 -1.228789e-92  4.601820e-94  -1.654776e-88  -1.294095e-88   \n",
       "2   -4.120164e-119 -7.160507e-99 -9.400457e-99 -8.625647e-123 -1.208445e-122   \n",
       "3    -1.266861e-88 -2.030903e-92 -5.267643e-92   3.221929e-89  -3.601855e-89   \n",
       "4    1.997071e-114  3.651667e-13  8.221484e-13 -1.214995e-119 -7.917653e-119   \n",
       "..             ...           ...           ...            ...            ...   \n",
       "175 -7.432299e-107 -1.469258e-94 -2.797716e-94  1.428593e-109 -4.966956e-107   \n",
       "176   1.458143e-59  4.268858e-12 -1.069007e-11  -3.658917e-73  -1.343538e-72   \n",
       "177  -1.379978e-33  1.147288e-17 -7.066183e-17   1.691055e-34  -5.376113e-35   \n",
       "178   4.750256e-74 -3.357267e-76 -2.402192e-76 -1.793362e-136 -1.474089e-136   \n",
       "179  3.950979e-127  1.188307e-51 -1.407930e-50 -4.423328e-122 -1.513247e-121   \n",
       "\n",
       "     label  \n",
       "0        1  \n",
       "1        1  \n",
       "2        3  \n",
       "3        3  \n",
       "4        2  \n",
       "..     ...  \n",
       "175      3  \n",
       "176      1  \n",
       "177      1  \n",
       "178      2  \n",
       "179      2  \n",
       "\n",
       "[180 rows x 190 columns]"
      ]
     },
     "execution_count": 33,
     "metadata": {},
     "output_type": "execute_result"
    }
   ],
   "source": [
    "test"
   ]
  },
  {
   "cell_type": "code",
   "execution_count": 34,
   "metadata": {
    "id": "OVdQcELFKWm5"
   },
   "outputs": [],
   "source": [
    "X_train = train[train.columns[:-1]]\n",
    "y_train = train['label']\n",
    "\n",
    "X_test = test[test.columns[:-1]]\n",
    "y_test = test['label']"
   ]
  },
  {
   "cell_type": "code",
   "execution_count": 35,
   "metadata": {
    "colab": {
     "base_uri": "https://localhost:8080/",
     "height": 609
    },
    "id": "OxWKZ0kKK1ct",
    "outputId": "39feba58-8a0b-40c1-b6af-f7f15b7a4aeb"
   },
   "outputs": [
    {
     "data": {
      "text/html": [
       "<div>\n",
       "<style scoped>\n",
       "    .dataframe tbody tr th:only-of-type {\n",
       "        vertical-align: middle;\n",
       "    }\n",
       "\n",
       "    .dataframe tbody tr th {\n",
       "        vertical-align: top;\n",
       "    }\n",
       "\n",
       "    .dataframe thead th {\n",
       "        text-align: right;\n",
       "    }\n",
       "</style>\n",
       "<table border=\"1\" class=\"dataframe\">\n",
       "  <thead>\n",
       "    <tr style=\"text-align: right;\">\n",
       "      <th></th>\n",
       "      <th>0</th>\n",
       "      <th>1</th>\n",
       "      <th>2</th>\n",
       "      <th>3</th>\n",
       "      <th>4</th>\n",
       "      <th>5</th>\n",
       "      <th>6</th>\n",
       "      <th>7</th>\n",
       "      <th>8</th>\n",
       "      <th>9</th>\n",
       "      <th>...</th>\n",
       "      <th>179</th>\n",
       "      <th>180</th>\n",
       "      <th>181</th>\n",
       "      <th>182</th>\n",
       "      <th>183</th>\n",
       "      <th>184</th>\n",
       "      <th>185</th>\n",
       "      <th>186</th>\n",
       "      <th>187</th>\n",
       "      <th>188</th>\n",
       "    </tr>\n",
       "  </thead>\n",
       "  <tbody>\n",
       "    <tr>\n",
       "      <th>0</th>\n",
       "      <td>6.668082e+02</td>\n",
       "      <td>-1.695469e-09</td>\n",
       "      <td>-3.544297e-09</td>\n",
       "      <td>1.014611e-47</td>\n",
       "      <td>7.106629e-47</td>\n",
       "      <td>5.188904e-12</td>\n",
       "      <td>2.156118e-11</td>\n",
       "      <td>-1.826036e-08</td>\n",
       "      <td>-3.248780e-09</td>\n",
       "      <td>3.380735e+02</td>\n",
       "      <td>...</td>\n",
       "      <td>1.082319e-42</td>\n",
       "      <td>-6.115749e+01</td>\n",
       "      <td>-9.414594e-10</td>\n",
       "      <td>-1.541395e-10</td>\n",
       "      <td>-2.382286e-32</td>\n",
       "      <td>-6.198004e-32</td>\n",
       "      <td>2.818072e-52</td>\n",
       "      <td>1.987865e-51</td>\n",
       "      <td>9.706677e-58</td>\n",
       "      <td>-2.520193e-57</td>\n",
       "    </tr>\n",
       "    <tr>\n",
       "      <th>1</th>\n",
       "      <td>-6.226801e-75</td>\n",
       "      <td>4.453153e-68</td>\n",
       "      <td>1.804469e-68</td>\n",
       "      <td>7.013827e-08</td>\n",
       "      <td>-9.634985e-08</td>\n",
       "      <td>-3.676030e-66</td>\n",
       "      <td>-1.001351e-65</td>\n",
       "      <td>-9.155489e-114</td>\n",
       "      <td>1.647757e-113</td>\n",
       "      <td>-5.577280e-75</td>\n",
       "      <td>...</td>\n",
       "      <td>-4.068900e+01</td>\n",
       "      <td>7.497380e-76</td>\n",
       "      <td>8.746765e-97</td>\n",
       "      <td>4.364355e-96</td>\n",
       "      <td>-2.253734e-66</td>\n",
       "      <td>3.576287e-66</td>\n",
       "      <td>1.717160e-46</td>\n",
       "      <td>5.023628e-46</td>\n",
       "      <td>-6.488682e-29</td>\n",
       "      <td>6.786756e-29</td>\n",
       "    </tr>\n",
       "    <tr>\n",
       "      <th>2</th>\n",
       "      <td>3.693942e+03</td>\n",
       "      <td>1.469204e-77</td>\n",
       "      <td>5.449699e-78</td>\n",
       "      <td>2.380011e-34</td>\n",
       "      <td>1.692094e-34</td>\n",
       "      <td>2.517108e-30</td>\n",
       "      <td>3.662622e-30</td>\n",
       "      <td>4.377309e-13</td>\n",
       "      <td>1.297703e-12</td>\n",
       "      <td>3.392622e+03</td>\n",
       "      <td>...</td>\n",
       "      <td>-3.849518e-13</td>\n",
       "      <td>-1.607978e-77</td>\n",
       "      <td>-6.253206e-30</td>\n",
       "      <td>8.166744e-30</td>\n",
       "      <td>-5.728147e-103</td>\n",
       "      <td>-6.876811e-103</td>\n",
       "      <td>-1.009635e-113</td>\n",
       "      <td>-3.275330e-114</td>\n",
       "      <td>-1.650857e-126</td>\n",
       "      <td>-1.691168e-126</td>\n",
       "    </tr>\n",
       "    <tr>\n",
       "      <th>3</th>\n",
       "      <td>-8.458635e-76</td>\n",
       "      <td>-2.230276e-18</td>\n",
       "      <td>-1.861589e-17</td>\n",
       "      <td>5.179621e+00</td>\n",
       "      <td>-2.444740e+00</td>\n",
       "      <td>8.634752e-29</td>\n",
       "      <td>-3.717157e-29</td>\n",
       "      <td>-1.376323e-104</td>\n",
       "      <td>1.397611e-103</td>\n",
       "      <td>-9.771233e-76</td>\n",
       "      <td>...</td>\n",
       "      <td>-2.103255e-33</td>\n",
       "      <td>1.618081e-76</td>\n",
       "      <td>-1.158439e-02</td>\n",
       "      <td>-5.188563e-03</td>\n",
       "      <td>-1.995222e-87</td>\n",
       "      <td>3.360157e-88</td>\n",
       "      <td>-1.888566e-23</td>\n",
       "      <td>-4.142928e-22</td>\n",
       "      <td>5.044488e-44</td>\n",
       "      <td>-4.090115e-44</td>\n",
       "    </tr>\n",
       "    <tr>\n",
       "      <th>4</th>\n",
       "      <td>-2.440752e-76</td>\n",
       "      <td>-7.431783e+01</td>\n",
       "      <td>-1.744032e+01</td>\n",
       "      <td>1.384663e-09</td>\n",
       "      <td>-5.263277e-09</td>\n",
       "      <td>1.020750e-15</td>\n",
       "      <td>-1.748020e-15</td>\n",
       "      <td>1.393947e-19</td>\n",
       "      <td>-3.017071e-20</td>\n",
       "      <td>-1.998171e-76</td>\n",
       "      <td>...</td>\n",
       "      <td>3.943420e-113</td>\n",
       "      <td>2.555589e+00</td>\n",
       "      <td>-1.366264e-67</td>\n",
       "      <td>-5.903653e-67</td>\n",
       "      <td>-2.557043e-17</td>\n",
       "      <td>1.285087e-17</td>\n",
       "      <td>-9.322752e-11</td>\n",
       "      <td>1.088560e-10</td>\n",
       "      <td>-3.908467e-110</td>\n",
       "      <td>-5.071616e-109</td>\n",
       "    </tr>\n",
       "    <tr>\n",
       "      <th>...</th>\n",
       "      <td>...</td>\n",
       "      <td>...</td>\n",
       "      <td>...</td>\n",
       "      <td>...</td>\n",
       "      <td>...</td>\n",
       "      <td>...</td>\n",
       "      <td>...</td>\n",
       "      <td>...</td>\n",
       "      <td>...</td>\n",
       "      <td>...</td>\n",
       "      <td>...</td>\n",
       "      <td>...</td>\n",
       "      <td>...</td>\n",
       "      <td>...</td>\n",
       "      <td>...</td>\n",
       "      <td>...</td>\n",
       "      <td>...</td>\n",
       "      <td>...</td>\n",
       "      <td>...</td>\n",
       "      <td>...</td>\n",
       "      <td>...</td>\n",
       "    </tr>\n",
       "    <tr>\n",
       "      <th>715</th>\n",
       "      <td>-7.133785e-76</td>\n",
       "      <td>-1.075055e-08</td>\n",
       "      <td>-2.064762e-08</td>\n",
       "      <td>5.121377e-24</td>\n",
       "      <td>-1.004464e-22</td>\n",
       "      <td>1.349210e-35</td>\n",
       "      <td>-1.112455e-35</td>\n",
       "      <td>5.805281e-64</td>\n",
       "      <td>3.779794e-65</td>\n",
       "      <td>-1.983598e-76</td>\n",
       "      <td>...</td>\n",
       "      <td>1.317134e-46</td>\n",
       "      <td>8.086938e-77</td>\n",
       "      <td>-6.521426e-123</td>\n",
       "      <td>5.378498e-123</td>\n",
       "      <td>-4.528963e-53</td>\n",
       "      <td>-1.746460e-53</td>\n",
       "      <td>-2.528894e-33</td>\n",
       "      <td>-4.872140e-33</td>\n",
       "      <td>-1.380640e-98</td>\n",
       "      <td>-3.909398e-99</td>\n",
       "    </tr>\n",
       "    <tr>\n",
       "      <th>716</th>\n",
       "      <td>-4.761799e-76</td>\n",
       "      <td>-2.298938e-10</td>\n",
       "      <td>-1.113415e-09</td>\n",
       "      <td>4.477250e-29</td>\n",
       "      <td>-7.917406e-29</td>\n",
       "      <td>1.520801e-12</td>\n",
       "      <td>2.557499e-12</td>\n",
       "      <td>-4.812878e-47</td>\n",
       "      <td>-2.115970e-46</td>\n",
       "      <td>-4.106668e-76</td>\n",
       "      <td>...</td>\n",
       "      <td>-5.371535e-05</td>\n",
       "      <td>2.512017e+02</td>\n",
       "      <td>-3.226085e-14</td>\n",
       "      <td>1.392924e-13</td>\n",
       "      <td>-7.135711e+00</td>\n",
       "      <td>-9.151486e+00</td>\n",
       "      <td>2.154261e-43</td>\n",
       "      <td>-5.412026e-43</td>\n",
       "      <td>5.366070e-70</td>\n",
       "      <td>1.202748e-70</td>\n",
       "    </tr>\n",
       "    <tr>\n",
       "      <th>717</th>\n",
       "      <td>-1.209261e-75</td>\n",
       "      <td>1.427327e-69</td>\n",
       "      <td>1.030926e-69</td>\n",
       "      <td>1.926059e-18</td>\n",
       "      <td>-1.447426e-18</td>\n",
       "      <td>-8.116902e-62</td>\n",
       "      <td>-1.506385e-61</td>\n",
       "      <td>-6.596973e-47</td>\n",
       "      <td>1.313289e-46</td>\n",
       "      <td>-9.739234e-76</td>\n",
       "      <td>...</td>\n",
       "      <td>6.996995e-129</td>\n",
       "      <td>3.124439e+02</td>\n",
       "      <td>-1.313379e-116</td>\n",
       "      <td>-1.422154e-116</td>\n",
       "      <td>-6.808575e-123</td>\n",
       "      <td>2.308382e-123</td>\n",
       "      <td>3.865903e-11</td>\n",
       "      <td>7.066709e-11</td>\n",
       "      <td>-5.780467e-129</td>\n",
       "      <td>-8.916164e-129</td>\n",
       "    </tr>\n",
       "    <tr>\n",
       "      <th>718</th>\n",
       "      <td>-1.517515e-75</td>\n",
       "      <td>5.274610e-73</td>\n",
       "      <td>8.690943e-74</td>\n",
       "      <td>4.720569e-18</td>\n",
       "      <td>-2.497981e-19</td>\n",
       "      <td>2.530889e-02</td>\n",
       "      <td>-4.661234e-03</td>\n",
       "      <td>1.215101e-02</td>\n",
       "      <td>1.305992e-02</td>\n",
       "      <td>-1.516052e-75</td>\n",
       "      <td>...</td>\n",
       "      <td>1.386074e-127</td>\n",
       "      <td>1.124158e+02</td>\n",
       "      <td>1.533422e-02</td>\n",
       "      <td>1.579236e-02</td>\n",
       "      <td>-2.648290e-18</td>\n",
       "      <td>1.151496e-18</td>\n",
       "      <td>-3.398445e-107</td>\n",
       "      <td>-2.216739e-107</td>\n",
       "      <td>1.123204e-107</td>\n",
       "      <td>-2.645047e-106</td>\n",
       "    </tr>\n",
       "    <tr>\n",
       "      <th>719</th>\n",
       "      <td>-2.705985e-76</td>\n",
       "      <td>-1.087940e+00</td>\n",
       "      <td>-4.087312e-01</td>\n",
       "      <td>-1.811329e-35</td>\n",
       "      <td>-1.826143e-35</td>\n",
       "      <td>-1.675191e-33</td>\n",
       "      <td>-9.871831e-33</td>\n",
       "      <td>3.626665e-29</td>\n",
       "      <td>-2.439603e-29</td>\n",
       "      <td>-2.329741e-77</td>\n",
       "      <td>...</td>\n",
       "      <td>2.268862e-139</td>\n",
       "      <td>-1.597935e-76</td>\n",
       "      <td>-2.856646e-68</td>\n",
       "      <td>-1.123436e-67</td>\n",
       "      <td>-1.795524e-94</td>\n",
       "      <td>-4.998196e-94</td>\n",
       "      <td>7.008565e-20</td>\n",
       "      <td>9.785896e-20</td>\n",
       "      <td>-1.417075e-135</td>\n",
       "      <td>-6.914053e-136</td>\n",
       "    </tr>\n",
       "  </tbody>\n",
       "</table>\n",
       "<p>720 rows × 189 columns</p>\n",
       "</div>"
      ],
      "text/plain": [
       "              0             1             2             3             4    \\\n",
       "0    6.668082e+02 -1.695469e-09 -3.544297e-09  1.014611e-47  7.106629e-47   \n",
       "1   -6.226801e-75  4.453153e-68  1.804469e-68  7.013827e-08 -9.634985e-08   \n",
       "2    3.693942e+03  1.469204e-77  5.449699e-78  2.380011e-34  1.692094e-34   \n",
       "3   -8.458635e-76 -2.230276e-18 -1.861589e-17  5.179621e+00 -2.444740e+00   \n",
       "4   -2.440752e-76 -7.431783e+01 -1.744032e+01  1.384663e-09 -5.263277e-09   \n",
       "..            ...           ...           ...           ...           ...   \n",
       "715 -7.133785e-76 -1.075055e-08 -2.064762e-08  5.121377e-24 -1.004464e-22   \n",
       "716 -4.761799e-76 -2.298938e-10 -1.113415e-09  4.477250e-29 -7.917406e-29   \n",
       "717 -1.209261e-75  1.427327e-69  1.030926e-69  1.926059e-18 -1.447426e-18   \n",
       "718 -1.517515e-75  5.274610e-73  8.690943e-74  4.720569e-18 -2.497981e-19   \n",
       "719 -2.705985e-76 -1.087940e+00 -4.087312e-01 -1.811329e-35 -1.826143e-35   \n",
       "\n",
       "              5             6              7              8             9    \\\n",
       "0    5.188904e-12  2.156118e-11  -1.826036e-08  -3.248780e-09  3.380735e+02   \n",
       "1   -3.676030e-66 -1.001351e-65 -9.155489e-114  1.647757e-113 -5.577280e-75   \n",
       "2    2.517108e-30  3.662622e-30   4.377309e-13   1.297703e-12  3.392622e+03   \n",
       "3    8.634752e-29 -3.717157e-29 -1.376323e-104  1.397611e-103 -9.771233e-76   \n",
       "4    1.020750e-15 -1.748020e-15   1.393947e-19  -3.017071e-20 -1.998171e-76   \n",
       "..            ...           ...            ...            ...           ...   \n",
       "715  1.349210e-35 -1.112455e-35   5.805281e-64   3.779794e-65 -1.983598e-76   \n",
       "716  1.520801e-12  2.557499e-12  -4.812878e-47  -2.115970e-46 -4.106668e-76   \n",
       "717 -8.116902e-62 -1.506385e-61  -6.596973e-47   1.313289e-46 -9.739234e-76   \n",
       "718  2.530889e-02 -4.661234e-03   1.215101e-02   1.305992e-02 -1.516052e-75   \n",
       "719 -1.675191e-33 -9.871831e-33   3.626665e-29  -2.439603e-29 -2.329741e-77   \n",
       "\n",
       "     ...            179           180            181            182  \\\n",
       "0    ...   1.082319e-42 -6.115749e+01  -9.414594e-10  -1.541395e-10   \n",
       "1    ...  -4.068900e+01  7.497380e-76   8.746765e-97   4.364355e-96   \n",
       "2    ...  -3.849518e-13 -1.607978e-77  -6.253206e-30   8.166744e-30   \n",
       "3    ...  -2.103255e-33  1.618081e-76  -1.158439e-02  -5.188563e-03   \n",
       "4    ...  3.943420e-113  2.555589e+00  -1.366264e-67  -5.903653e-67   \n",
       "..   ...            ...           ...            ...            ...   \n",
       "715  ...   1.317134e-46  8.086938e-77 -6.521426e-123  5.378498e-123   \n",
       "716  ...  -5.371535e-05  2.512017e+02  -3.226085e-14   1.392924e-13   \n",
       "717  ...  6.996995e-129  3.124439e+02 -1.313379e-116 -1.422154e-116   \n",
       "718  ...  1.386074e-127  1.124158e+02   1.533422e-02   1.579236e-02   \n",
       "719  ...  2.268862e-139 -1.597935e-76  -2.856646e-68  -1.123436e-67   \n",
       "\n",
       "               183            184            185            186  \\\n",
       "0    -2.382286e-32  -6.198004e-32   2.818072e-52   1.987865e-51   \n",
       "1    -2.253734e-66   3.576287e-66   1.717160e-46   5.023628e-46   \n",
       "2   -5.728147e-103 -6.876811e-103 -1.009635e-113 -3.275330e-114   \n",
       "3    -1.995222e-87   3.360157e-88  -1.888566e-23  -4.142928e-22   \n",
       "4    -2.557043e-17   1.285087e-17  -9.322752e-11   1.088560e-10   \n",
       "..             ...            ...            ...            ...   \n",
       "715  -4.528963e-53  -1.746460e-53  -2.528894e-33  -4.872140e-33   \n",
       "716  -7.135711e+00  -9.151486e+00   2.154261e-43  -5.412026e-43   \n",
       "717 -6.808575e-123  2.308382e-123   3.865903e-11   7.066709e-11   \n",
       "718  -2.648290e-18   1.151496e-18 -3.398445e-107 -2.216739e-107   \n",
       "719  -1.795524e-94  -4.998196e-94   7.008565e-20   9.785896e-20   \n",
       "\n",
       "               187            188  \n",
       "0     9.706677e-58  -2.520193e-57  \n",
       "1    -6.488682e-29   6.786756e-29  \n",
       "2   -1.650857e-126 -1.691168e-126  \n",
       "3     5.044488e-44  -4.090115e-44  \n",
       "4   -3.908467e-110 -5.071616e-109  \n",
       "..             ...            ...  \n",
       "715  -1.380640e-98  -3.909398e-99  \n",
       "716   5.366070e-70   1.202748e-70  \n",
       "717 -5.780467e-129 -8.916164e-129  \n",
       "718  1.123204e-107 -2.645047e-106  \n",
       "719 -1.417075e-135 -6.914053e-136  \n",
       "\n",
       "[720 rows x 189 columns]"
      ]
     },
     "execution_count": 35,
     "metadata": {},
     "output_type": "execute_result"
    }
   ],
   "source": [
    "X_train"
   ]
  },
  {
   "cell_type": "code",
   "execution_count": 36,
   "metadata": {
    "colab": {
     "base_uri": "https://localhost:8080/"
    },
    "id": "7Nu4PWR6K5Ss",
    "outputId": "7eff21c9-40db-4f26-f3ba-438ea30538a2"
   },
   "outputs": [
    {
     "data": {
      "text/plain": [
       "0      1\n",
       "1      1\n",
       "2      3\n",
       "3      1\n",
       "4      3\n",
       "      ..\n",
       "715    1\n",
       "716    2\n",
       "717    2\n",
       "718    3\n",
       "719    3\n",
       "Name: label, Length: 720, dtype: int64"
      ]
     },
     "execution_count": 36,
     "metadata": {},
     "output_type": "execute_result"
    }
   ],
   "source": [
    "y_train"
   ]
  },
  {
   "cell_type": "code",
   "execution_count": 37,
   "metadata": {
    "colab": {
     "base_uri": "https://localhost:8080/",
     "height": 609
    },
    "id": "8LYgTH-yM4we",
    "outputId": "e8db04e6-1a75-465b-cc30-ffec24d0a290"
   },
   "outputs": [
    {
     "data": {
      "text/html": [
       "<div>\n",
       "<style scoped>\n",
       "    .dataframe tbody tr th:only-of-type {\n",
       "        vertical-align: middle;\n",
       "    }\n",
       "\n",
       "    .dataframe tbody tr th {\n",
       "        vertical-align: top;\n",
       "    }\n",
       "\n",
       "    .dataframe thead th {\n",
       "        text-align: right;\n",
       "    }\n",
       "</style>\n",
       "<table border=\"1\" class=\"dataframe\">\n",
       "  <thead>\n",
       "    <tr style=\"text-align: right;\">\n",
       "      <th></th>\n",
       "      <th>0</th>\n",
       "      <th>1</th>\n",
       "      <th>2</th>\n",
       "      <th>3</th>\n",
       "      <th>4</th>\n",
       "      <th>5</th>\n",
       "      <th>6</th>\n",
       "      <th>7</th>\n",
       "      <th>8</th>\n",
       "      <th>9</th>\n",
       "      <th>...</th>\n",
       "      <th>179</th>\n",
       "      <th>180</th>\n",
       "      <th>181</th>\n",
       "      <th>182</th>\n",
       "      <th>183</th>\n",
       "      <th>184</th>\n",
       "      <th>185</th>\n",
       "      <th>186</th>\n",
       "      <th>187</th>\n",
       "      <th>188</th>\n",
       "    </tr>\n",
       "  </thead>\n",
       "  <tbody>\n",
       "    <tr>\n",
       "      <th>0</th>\n",
       "      <td>3.593688e+02</td>\n",
       "      <td>-5.456178e-04</td>\n",
       "      <td>-2.605996e-04</td>\n",
       "      <td>-1.571689e-38</td>\n",
       "      <td>-2.628046e-38</td>\n",
       "      <td>2.445257e-55</td>\n",
       "      <td>-1.875435e-54</td>\n",
       "      <td>1.068726e-59</td>\n",
       "      <td>-1.059530e-60</td>\n",
       "      <td>4.599835e+02</td>\n",
       "      <td>...</td>\n",
       "      <td>6.907914e-88</td>\n",
       "      <td>3.997473e-76</td>\n",
       "      <td>-4.285114e-135</td>\n",
       "      <td>8.693187e-136</td>\n",
       "      <td>2.099330e-50</td>\n",
       "      <td>1.692574e-49</td>\n",
       "      <td>-2.870769e-64</td>\n",
       "      <td>7.217798e-64</td>\n",
       "      <td>-5.133756e-87</td>\n",
       "      <td>-4.676280e-87</td>\n",
       "    </tr>\n",
       "    <tr>\n",
       "      <th>1</th>\n",
       "      <td>-2.567170e-76</td>\n",
       "      <td>-4.631603e-112</td>\n",
       "      <td>7.963715e-112</td>\n",
       "      <td>1.303834e-13</td>\n",
       "      <td>-2.819202e-13</td>\n",
       "      <td>3.830168e-29</td>\n",
       "      <td>-1.756795e-29</td>\n",
       "      <td>2.159153e-95</td>\n",
       "      <td>8.128064e-95</td>\n",
       "      <td>-1.539671e-76</td>\n",
       "      <td>...</td>\n",
       "      <td>1.954668e-43</td>\n",
       "      <td>1.170221e-76</td>\n",
       "      <td>2.329324e-86</td>\n",
       "      <td>3.493582e-86</td>\n",
       "      <td>-1.077423e-62</td>\n",
       "      <td>2.565145e-62</td>\n",
       "      <td>-1.228789e-92</td>\n",
       "      <td>4.601820e-94</td>\n",
       "      <td>-1.654776e-88</td>\n",
       "      <td>-1.294095e-88</td>\n",
       "    </tr>\n",
       "    <tr>\n",
       "      <th>2</th>\n",
       "      <td>9.383965e+02</td>\n",
       "      <td>6.496916e-76</td>\n",
       "      <td>1.826273e-76</td>\n",
       "      <td>6.579253e-28</td>\n",
       "      <td>2.390497e-28</td>\n",
       "      <td>4.187052e-18</td>\n",
       "      <td>2.126818e-18</td>\n",
       "      <td>1.017863e-07</td>\n",
       "      <td>1.683314e-07</td>\n",
       "      <td>7.515967e+02</td>\n",
       "      <td>...</td>\n",
       "      <td>-4.364109e-54</td>\n",
       "      <td>-1.435912e-76</td>\n",
       "      <td>-1.291577e-80</td>\n",
       "      <td>-1.330478e-80</td>\n",
       "      <td>-1.544684e-118</td>\n",
       "      <td>-4.120164e-119</td>\n",
       "      <td>-7.160507e-99</td>\n",
       "      <td>-9.400457e-99</td>\n",
       "      <td>-8.625647e-123</td>\n",
       "      <td>-1.208445e-122</td>\n",
       "    </tr>\n",
       "    <tr>\n",
       "      <th>3</th>\n",
       "      <td>5.030667e+03</td>\n",
       "      <td>1.915799e-81</td>\n",
       "      <td>1.087732e-81</td>\n",
       "      <td>4.513685e-46</td>\n",
       "      <td>8.550859e-46</td>\n",
       "      <td>-2.641797e-48</td>\n",
       "      <td>2.895873e-47</td>\n",
       "      <td>-3.593596e-34</td>\n",
       "      <td>6.164213e-34</td>\n",
       "      <td>4.083558e+03</td>\n",
       "      <td>...</td>\n",
       "      <td>-7.944708e-45</td>\n",
       "      <td>-3.015311e-76</td>\n",
       "      <td>4.883058e-61</td>\n",
       "      <td>-7.271003e-60</td>\n",
       "      <td>-1.503436e-89</td>\n",
       "      <td>-1.266861e-88</td>\n",
       "      <td>-2.030903e-92</td>\n",
       "      <td>-5.267643e-92</td>\n",
       "      <td>3.221929e-89</td>\n",
       "      <td>-3.601855e-89</td>\n",
       "    </tr>\n",
       "    <tr>\n",
       "      <th>4</th>\n",
       "      <td>-3.304967e-77</td>\n",
       "      <td>1.900251e-32</td>\n",
       "      <td>-2.316071e-32</td>\n",
       "      <td>1.062959e-14</td>\n",
       "      <td>1.129957e-14</td>\n",
       "      <td>4.333131e-07</td>\n",
       "      <td>4.509274e-07</td>\n",
       "      <td>2.398624e-15</td>\n",
       "      <td>2.325229e-15</td>\n",
       "      <td>3.948131e+02</td>\n",
       "      <td>...</td>\n",
       "      <td>-3.910445e-21</td>\n",
       "      <td>3.098225e+02</td>\n",
       "      <td>2.785611e-88</td>\n",
       "      <td>-6.531620e-88</td>\n",
       "      <td>-2.509661e-114</td>\n",
       "      <td>1.997071e-114</td>\n",
       "      <td>3.651667e-13</td>\n",
       "      <td>8.221484e-13</td>\n",
       "      <td>-1.214995e-119</td>\n",
       "      <td>-7.917653e-119</td>\n",
       "    </tr>\n",
       "    <tr>\n",
       "      <th>...</th>\n",
       "      <td>...</td>\n",
       "      <td>...</td>\n",
       "      <td>...</td>\n",
       "      <td>...</td>\n",
       "      <td>...</td>\n",
       "      <td>...</td>\n",
       "      <td>...</td>\n",
       "      <td>...</td>\n",
       "      <td>...</td>\n",
       "      <td>...</td>\n",
       "      <td>...</td>\n",
       "      <td>...</td>\n",
       "      <td>...</td>\n",
       "      <td>...</td>\n",
       "      <td>...</td>\n",
       "      <td>...</td>\n",
       "      <td>...</td>\n",
       "      <td>...</td>\n",
       "      <td>...</td>\n",
       "      <td>...</td>\n",
       "      <td>...</td>\n",
       "    </tr>\n",
       "    <tr>\n",
       "      <th>175</th>\n",
       "      <td>3.639018e+03</td>\n",
       "      <td>1.279077e-76</td>\n",
       "      <td>4.234456e-77</td>\n",
       "      <td>2.353994e-34</td>\n",
       "      <td>1.682578e-34</td>\n",
       "      <td>2.629061e-33</td>\n",
       "      <td>5.016211e-33</td>\n",
       "      <td>2.736131e-18</td>\n",
       "      <td>2.062907e-17</td>\n",
       "      <td>3.194424e+03</td>\n",
       "      <td>...</td>\n",
       "      <td>-9.944371e+00</td>\n",
       "      <td>-4.975225e-76</td>\n",
       "      <td>9.844074e-54</td>\n",
       "      <td>-2.731795e-53</td>\n",
       "      <td>-8.620985e-107</td>\n",
       "      <td>-7.432299e-107</td>\n",
       "      <td>-1.469258e-94</td>\n",
       "      <td>-2.797716e-94</td>\n",
       "      <td>1.428593e-109</td>\n",
       "      <td>-4.966956e-107</td>\n",
       "    </tr>\n",
       "    <tr>\n",
       "      <th>176</th>\n",
       "      <td>4.995938e+02</td>\n",
       "      <td>-1.868868e-01</td>\n",
       "      <td>-2.001120e-01</td>\n",
       "      <td>7.287659e-03</td>\n",
       "      <td>-2.641052e-03</td>\n",
       "      <td>1.102811e+02</td>\n",
       "      <td>1.198934e+02</td>\n",
       "      <td>-1.277346e-116</td>\n",
       "      <td>1.873012e-116</td>\n",
       "      <td>-1.559252e-76</td>\n",
       "      <td>...</td>\n",
       "      <td>-1.680179e-11</td>\n",
       "      <td>3.408122e-76</td>\n",
       "      <td>-1.397948e-06</td>\n",
       "      <td>-3.627409e-07</td>\n",
       "      <td>-4.049912e-60</td>\n",
       "      <td>1.458143e-59</td>\n",
       "      <td>4.268858e-12</td>\n",
       "      <td>-1.069007e-11</td>\n",
       "      <td>-3.658917e-73</td>\n",
       "      <td>-1.343538e-72</td>\n",
       "    </tr>\n",
       "    <tr>\n",
       "      <th>177</th>\n",
       "      <td>-5.069254e-76</td>\n",
       "      <td>5.285870e-68</td>\n",
       "      <td>1.974000e-68</td>\n",
       "      <td>2.353824e-13</td>\n",
       "      <td>2.034323e-14</td>\n",
       "      <td>-3.472911e-31</td>\n",
       "      <td>5.606585e-31</td>\n",
       "      <td>-1.314888e-121</td>\n",
       "      <td>1.244979e-121</td>\n",
       "      <td>-5.857127e-76</td>\n",
       "      <td>...</td>\n",
       "      <td>-2.566693e-11</td>\n",
       "      <td>-6.034394e+01</td>\n",
       "      <td>-1.822185e-06</td>\n",
       "      <td>-4.946131e-07</td>\n",
       "      <td>-6.532477e-34</td>\n",
       "      <td>-1.379978e-33</td>\n",
       "      <td>1.147288e-17</td>\n",
       "      <td>-7.066183e-17</td>\n",
       "      <td>1.691055e-34</td>\n",
       "      <td>-5.376113e-35</td>\n",
       "    </tr>\n",
       "    <tr>\n",
       "      <th>178</th>\n",
       "      <td>5.471677e+01</td>\n",
       "      <td>-2.761631e-07</td>\n",
       "      <td>-1.627232e-07</td>\n",
       "      <td>-4.026148e-44</td>\n",
       "      <td>-7.994508e-43</td>\n",
       "      <td>1.077941e-06</td>\n",
       "      <td>1.468020e-07</td>\n",
       "      <td>-3.201690e-64</td>\n",
       "      <td>1.313129e-64</td>\n",
       "      <td>-9.341272e-77</td>\n",
       "      <td>...</td>\n",
       "      <td>1.122361e-75</td>\n",
       "      <td>5.973332e+02</td>\n",
       "      <td>-5.663269e-132</td>\n",
       "      <td>-1.006728e-132</td>\n",
       "      <td>4.256316e-74</td>\n",
       "      <td>4.750256e-74</td>\n",
       "      <td>-3.357267e-76</td>\n",
       "      <td>-2.402192e-76</td>\n",
       "      <td>-1.793362e-136</td>\n",
       "      <td>-1.474089e-136</td>\n",
       "    </tr>\n",
       "    <tr>\n",
       "      <th>179</th>\n",
       "      <td>-1.398773e-76</td>\n",
       "      <td>-1.675950e+01</td>\n",
       "      <td>-2.409412e+01</td>\n",
       "      <td>1.195814e-16</td>\n",
       "      <td>-7.609746e-17</td>\n",
       "      <td>3.830161e-08</td>\n",
       "      <td>4.499129e-08</td>\n",
       "      <td>3.699341e-42</td>\n",
       "      <td>-2.014501e-40</td>\n",
       "      <td>2.357779e+02</td>\n",
       "      <td>...</td>\n",
       "      <td>-1.007770e-27</td>\n",
       "      <td>4.517943e+01</td>\n",
       "      <td>2.317942e-34</td>\n",
       "      <td>3.536104e-34</td>\n",
       "      <td>-2.115916e-126</td>\n",
       "      <td>3.950979e-127</td>\n",
       "      <td>1.188307e-51</td>\n",
       "      <td>-1.407930e-50</td>\n",
       "      <td>-4.423328e-122</td>\n",
       "      <td>-1.513247e-121</td>\n",
       "    </tr>\n",
       "  </tbody>\n",
       "</table>\n",
       "<p>180 rows × 189 columns</p>\n",
       "</div>"
      ],
      "text/plain": [
       "              0              1              2             3             4    \\\n",
       "0    3.593688e+02  -5.456178e-04  -2.605996e-04 -1.571689e-38 -2.628046e-38   \n",
       "1   -2.567170e-76 -4.631603e-112  7.963715e-112  1.303834e-13 -2.819202e-13   \n",
       "2    9.383965e+02   6.496916e-76   1.826273e-76  6.579253e-28  2.390497e-28   \n",
       "3    5.030667e+03   1.915799e-81   1.087732e-81  4.513685e-46  8.550859e-46   \n",
       "4   -3.304967e-77   1.900251e-32  -2.316071e-32  1.062959e-14  1.129957e-14   \n",
       "..            ...            ...            ...           ...           ...   \n",
       "175  3.639018e+03   1.279077e-76   4.234456e-77  2.353994e-34  1.682578e-34   \n",
       "176  4.995938e+02  -1.868868e-01  -2.001120e-01  7.287659e-03 -2.641052e-03   \n",
       "177 -5.069254e-76   5.285870e-68   1.974000e-68  2.353824e-13  2.034323e-14   \n",
       "178  5.471677e+01  -2.761631e-07  -1.627232e-07 -4.026148e-44 -7.994508e-43   \n",
       "179 -1.398773e-76  -1.675950e+01  -2.409412e+01  1.195814e-16 -7.609746e-17   \n",
       "\n",
       "              5             6              7              8             9    \\\n",
       "0    2.445257e-55 -1.875435e-54   1.068726e-59  -1.059530e-60  4.599835e+02   \n",
       "1    3.830168e-29 -1.756795e-29   2.159153e-95   8.128064e-95 -1.539671e-76   \n",
       "2    4.187052e-18  2.126818e-18   1.017863e-07   1.683314e-07  7.515967e+02   \n",
       "3   -2.641797e-48  2.895873e-47  -3.593596e-34   6.164213e-34  4.083558e+03   \n",
       "4    4.333131e-07  4.509274e-07   2.398624e-15   2.325229e-15  3.948131e+02   \n",
       "..            ...           ...            ...            ...           ...   \n",
       "175  2.629061e-33  5.016211e-33   2.736131e-18   2.062907e-17  3.194424e+03   \n",
       "176  1.102811e+02  1.198934e+02 -1.277346e-116  1.873012e-116 -1.559252e-76   \n",
       "177 -3.472911e-31  5.606585e-31 -1.314888e-121  1.244979e-121 -5.857127e-76   \n",
       "178  1.077941e-06  1.468020e-07  -3.201690e-64   1.313129e-64 -9.341272e-77   \n",
       "179  3.830161e-08  4.499129e-08   3.699341e-42  -2.014501e-40  2.357779e+02   \n",
       "\n",
       "     ...           179           180            181            182  \\\n",
       "0    ...  6.907914e-88  3.997473e-76 -4.285114e-135  8.693187e-136   \n",
       "1    ...  1.954668e-43  1.170221e-76   2.329324e-86   3.493582e-86   \n",
       "2    ... -4.364109e-54 -1.435912e-76  -1.291577e-80  -1.330478e-80   \n",
       "3    ... -7.944708e-45 -3.015311e-76   4.883058e-61  -7.271003e-60   \n",
       "4    ... -3.910445e-21  3.098225e+02   2.785611e-88  -6.531620e-88   \n",
       "..   ...           ...           ...            ...            ...   \n",
       "175  ... -9.944371e+00 -4.975225e-76   9.844074e-54  -2.731795e-53   \n",
       "176  ... -1.680179e-11  3.408122e-76  -1.397948e-06  -3.627409e-07   \n",
       "177  ... -2.566693e-11 -6.034394e+01  -1.822185e-06  -4.946131e-07   \n",
       "178  ...  1.122361e-75  5.973332e+02 -5.663269e-132 -1.006728e-132   \n",
       "179  ... -1.007770e-27  4.517943e+01   2.317942e-34   3.536104e-34   \n",
       "\n",
       "               183            184           185           186            187  \\\n",
       "0     2.099330e-50   1.692574e-49 -2.870769e-64  7.217798e-64  -5.133756e-87   \n",
       "1    -1.077423e-62   2.565145e-62 -1.228789e-92  4.601820e-94  -1.654776e-88   \n",
       "2   -1.544684e-118 -4.120164e-119 -7.160507e-99 -9.400457e-99 -8.625647e-123   \n",
       "3    -1.503436e-89  -1.266861e-88 -2.030903e-92 -5.267643e-92   3.221929e-89   \n",
       "4   -2.509661e-114  1.997071e-114  3.651667e-13  8.221484e-13 -1.214995e-119   \n",
       "..             ...            ...           ...           ...            ...   \n",
       "175 -8.620985e-107 -7.432299e-107 -1.469258e-94 -2.797716e-94  1.428593e-109   \n",
       "176  -4.049912e-60   1.458143e-59  4.268858e-12 -1.069007e-11  -3.658917e-73   \n",
       "177  -6.532477e-34  -1.379978e-33  1.147288e-17 -7.066183e-17   1.691055e-34   \n",
       "178   4.256316e-74   4.750256e-74 -3.357267e-76 -2.402192e-76 -1.793362e-136   \n",
       "179 -2.115916e-126  3.950979e-127  1.188307e-51 -1.407930e-50 -4.423328e-122   \n",
       "\n",
       "               188  \n",
       "0    -4.676280e-87  \n",
       "1    -1.294095e-88  \n",
       "2   -1.208445e-122  \n",
       "3    -3.601855e-89  \n",
       "4   -7.917653e-119  \n",
       "..             ...  \n",
       "175 -4.966956e-107  \n",
       "176  -1.343538e-72  \n",
       "177  -5.376113e-35  \n",
       "178 -1.474089e-136  \n",
       "179 -1.513247e-121  \n",
       "\n",
       "[180 rows x 189 columns]"
      ]
     },
     "execution_count": 37,
     "metadata": {},
     "output_type": "execute_result"
    }
   ],
   "source": [
    "X_test"
   ]
  },
  {
   "cell_type": "code",
   "execution_count": 38,
   "metadata": {
    "colab": {
     "base_uri": "https://localhost:8080/"
    },
    "id": "gvFjbl_8O2IG",
    "outputId": "4f10f7bb-ff15-4295-e315-172e3a4fb095"
   },
   "outputs": [
    {
     "data": {
      "text/plain": [
       "0      1\n",
       "1      1\n",
       "2      3\n",
       "3      3\n",
       "4      2\n",
       "      ..\n",
       "175    3\n",
       "176    1\n",
       "177    1\n",
       "178    2\n",
       "179    2\n",
       "Name: label, Length: 180, dtype: int64"
      ]
     },
     "execution_count": 38,
     "metadata": {},
     "output_type": "execute_result"
    }
   ],
   "source": [
    "y_test"
   ]
  },
  {
   "cell_type": "code",
   "execution_count": 39,
   "metadata": {
    "colab": {
     "base_uri": "https://localhost:8080/"
    },
    "id": "VlFfCb-JO4wO",
    "outputId": "cfae2448-725d-4697-b3c0-e2f74d4b9842"
   },
   "outputs": [
    {
     "data": {
      "text/plain": [
       "(180, 189)"
      ]
     },
     "execution_count": 39,
     "metadata": {},
     "output_type": "execute_result"
    }
   ],
   "source": [
    "np.array(X_test).shape"
   ]
  },
  {
   "cell_type": "code",
   "execution_count": null,
   "metadata": {},
   "outputs": [],
   "source": []
  },
  {
   "cell_type": "code",
   "execution_count": null,
   "metadata": {},
   "outputs": [],
   "source": []
  },
  {
   "cell_type": "code",
   "execution_count": null,
   "metadata": {},
   "outputs": [],
   "source": []
  },
  {
   "cell_type": "code",
   "execution_count": null,
   "metadata": {},
   "outputs": [],
   "source": []
  },
  {
   "cell_type": "code",
   "execution_count": null,
   "metadata": {},
   "outputs": [],
   "source": []
  },
  {
   "cell_type": "code",
   "execution_count": null,
   "metadata": {},
   "outputs": [],
   "source": []
  },
  {
   "cell_type": "code",
   "execution_count": null,
   "metadata": {},
   "outputs": [],
   "source": []
  },
  {
   "cell_type": "markdown",
   "metadata": {
    "id": "o_tmA1f1Vu2k"
   },
   "source": [
    "# SVM (Support vector machine)"
   ]
  },
  {
   "cell_type": "code",
   "execution_count": 40,
   "metadata": {},
   "outputs": [],
   "source": [
    "train_acc, test_acc, predicted_test, confusion, report = SVM_ml(X_train, y_train, X_test, y_test)"
   ]
  },
  {
   "cell_type": "code",
   "execution_count": 41,
   "metadata": {
    "colab": {
     "base_uri": "https://localhost:8080/"
    },
    "id": "1ZioZ0BqTztk",
    "outputId": "6305e45b-d732-4809-b07b-8e6ade4f8acc"
   },
   "outputs": [
    {
     "name": "stdout",
     "output_type": "stream",
     "text": [
      "0.9944444444444445\n",
      "0.9944444444444445\n"
     ]
    }
   ],
   "source": [
    "print(train_acc)\n",
    "print(test_acc)"
   ]
  },
  {
   "cell_type": "code",
   "execution_count": 42,
   "metadata": {
    "colab": {
     "base_uri": "https://localhost:8080/"
    },
    "id": "IbW652NdWfG2",
    "outputId": "87ca1158-ce86-4193-e40d-5c5201f83f27",
    "scrolled": true
   },
   "outputs": [
    {
     "name": "stdout",
     "output_type": "stream",
     "text": [
      "[[61  1  0]\n",
      " [ 0 55  0]\n",
      " [ 0  0 63]]\n"
     ]
    }
   ],
   "source": [
    "print(confusion)"
   ]
  },
  {
   "cell_type": "code",
   "execution_count": 43,
   "metadata": {
    "colab": {
     "base_uri": "https://localhost:8080/"
    },
    "id": "IG5cxeu-WHb0",
    "outputId": "57ec0bd1-d387-455a-ecbc-ccd4e0f6c54d"
   },
   "outputs": [
    {
     "name": "stdout",
     "output_type": "stream",
     "text": [
      "              precision    recall  f1-score   support\n",
      "\n",
      "           1       1.00      0.98      0.99        62\n",
      "           2       0.98      1.00      0.99        55\n",
      "           3       1.00      1.00      1.00        63\n",
      "\n",
      "    accuracy                           0.99       180\n",
      "   macro avg       0.99      0.99      0.99       180\n",
      "weighted avg       0.99      0.99      0.99       180\n",
      "\n"
     ]
    }
   ],
   "source": [
    "print(report)"
   ]
  },
  {
   "cell_type": "markdown",
   "metadata": {
    "id": "a_I5l_z8V1av"
   },
   "source": [
    "# Decision Tree"
   ]
  },
  {
   "cell_type": "code",
   "execution_count": 44,
   "metadata": {
    "id": "Bx3n1qWkV0_R"
   },
   "outputs": [],
   "source": [
    "train_acc, test_acc, predicted_test, confusion, report = dTree_ml(X_train, y_train, X_test, y_test)"
   ]
  },
  {
   "cell_type": "code",
   "execution_count": 45,
   "metadata": {
    "colab": {
     "base_uri": "https://localhost:8080/"
    },
    "id": "82bsVIgAYfNk",
    "outputId": "64a028e6-866a-49c7-dd20-db8b4414bdeb"
   },
   "outputs": [
    {
     "name": "stdout",
     "output_type": "stream",
     "text": [
      "0.9805555555555555\n",
      "0.95\n"
     ]
    }
   ],
   "source": [
    "print(train_acc)\n",
    "print(test_acc)"
   ]
  },
  {
   "cell_type": "code",
   "execution_count": 46,
   "metadata": {},
   "outputs": [
    {
     "name": "stdout",
     "output_type": "stream",
     "text": [
      "[[55  7  0]\n",
      " [ 0 55  0]\n",
      " [ 1  1 61]]\n"
     ]
    }
   ],
   "source": [
    "print(confusion)"
   ]
  },
  {
   "cell_type": "code",
   "execution_count": 47,
   "metadata": {},
   "outputs": [
    {
     "name": "stdout",
     "output_type": "stream",
     "text": [
      "              precision    recall  f1-score   support\n",
      "\n",
      "           1       0.98      0.89      0.93        62\n",
      "           2       0.87      1.00      0.93        55\n",
      "           3       1.00      0.97      0.98        63\n",
      "\n",
      "    accuracy                           0.95       180\n",
      "   macro avg       0.95      0.95      0.95       180\n",
      "weighted avg       0.96      0.95      0.95       180\n",
      "\n"
     ]
    }
   ],
   "source": [
    "print(report)"
   ]
  },
  {
   "cell_type": "code",
   "execution_count": null,
   "metadata": {},
   "outputs": [],
   "source": []
  },
  {
   "cell_type": "markdown",
   "metadata": {
    "id": "AbJ0rXDTaesa"
   },
   "source": [
    "# Random Forest"
   ]
  },
  {
   "cell_type": "code",
   "execution_count": 48,
   "metadata": {},
   "outputs": [],
   "source": [
    "train_acc, test_acc, predicted_test, confusion, report = rforest_ml(X_train, y_train, X_test, y_test)"
   ]
  },
  {
   "cell_type": "code",
   "execution_count": 49,
   "metadata": {},
   "outputs": [
    {
     "name": "stdout",
     "output_type": "stream",
     "text": [
      "1.0\n",
      "1.0\n"
     ]
    }
   ],
   "source": [
    "print(train_acc)\n",
    "print(test_acc)"
   ]
  },
  {
   "cell_type": "code",
   "execution_count": 50,
   "metadata": {},
   "outputs": [
    {
     "name": "stdout",
     "output_type": "stream",
     "text": [
      "[[62  0  0]\n",
      " [ 0 55  0]\n",
      " [ 0  0 63]]\n"
     ]
    }
   ],
   "source": [
    "print(confusion)"
   ]
  },
  {
   "cell_type": "code",
   "execution_count": 51,
   "metadata": {},
   "outputs": [
    {
     "name": "stdout",
     "output_type": "stream",
     "text": [
      "              precision    recall  f1-score   support\n",
      "\n",
      "           1       1.00      1.00      1.00        62\n",
      "           2       1.00      1.00      1.00        55\n",
      "           3       1.00      1.00      1.00        63\n",
      "\n",
      "    accuracy                           1.00       180\n",
      "   macro avg       1.00      1.00      1.00       180\n",
      "weighted avg       1.00      1.00      1.00       180\n",
      "\n"
     ]
    }
   ],
   "source": [
    "print(report)"
   ]
  },
  {
   "cell_type": "code",
   "execution_count": null,
   "metadata": {},
   "outputs": [],
   "source": []
  },
  {
   "cell_type": "markdown",
   "metadata": {
    "id": "8Niu2rq3bTfn"
   },
   "source": [
    "# AdaBoosting"
   ]
  },
  {
   "cell_type": "code",
   "execution_count": 52,
   "metadata": {},
   "outputs": [],
   "source": [
    "train_acc, test_acc, predicted_test, confusion, report = adaBoost_ml(X_train, y_train, X_test, y_test)"
   ]
  },
  {
   "cell_type": "code",
   "execution_count": 53,
   "metadata": {},
   "outputs": [
    {
     "name": "stdout",
     "output_type": "stream",
     "text": [
      "0.9458333333333333\n",
      "0.9611111111111111\n"
     ]
    }
   ],
   "source": [
    "print(train_acc)\n",
    "print(test_acc)"
   ]
  },
  {
   "cell_type": "code",
   "execution_count": 54,
   "metadata": {},
   "outputs": [
    {
     "name": "stdout",
     "output_type": "stream",
     "text": [
      "[[56  2  4]\n",
      " [ 0 55  0]\n",
      " [ 0  1 62]]\n"
     ]
    }
   ],
   "source": [
    "print(confusion)"
   ]
  },
  {
   "cell_type": "code",
   "execution_count": 55,
   "metadata": {},
   "outputs": [
    {
     "name": "stdout",
     "output_type": "stream",
     "text": [
      "              precision    recall  f1-score   support\n",
      "\n",
      "           1       1.00      0.90      0.95        62\n",
      "           2       0.95      1.00      0.97        55\n",
      "           3       0.94      0.98      0.96        63\n",
      "\n",
      "    accuracy                           0.96       180\n",
      "   macro avg       0.96      0.96      0.96       180\n",
      "weighted avg       0.96      0.96      0.96       180\n",
      "\n"
     ]
    }
   ],
   "source": [
    "print(report)"
   ]
  },
  {
   "cell_type": "code",
   "execution_count": null,
   "metadata": {},
   "outputs": [],
   "source": []
  },
  {
   "cell_type": "markdown",
   "metadata": {
    "id": "eENcuXwmczx-"
   },
   "source": [
    "# Bagging"
   ]
  },
  {
   "cell_type": "code",
   "execution_count": 56,
   "metadata": {},
   "outputs": [],
   "source": [
    "train_acc, test_acc, predicted_test, confusion, report = bagging_ml(X_train, y_train, X_test, y_test)"
   ]
  },
  {
   "cell_type": "code",
   "execution_count": 57,
   "metadata": {},
   "outputs": [
    {
     "name": "stdout",
     "output_type": "stream",
     "text": [
      "0.9986111111111111\n",
      "0.9722222222222222\n"
     ]
    }
   ],
   "source": [
    "print(train_acc)\n",
    "print(test_acc)"
   ]
  },
  {
   "cell_type": "code",
   "execution_count": 58,
   "metadata": {},
   "outputs": [
    {
     "name": "stdout",
     "output_type": "stream",
     "text": [
      "[[59  3  0]\n",
      " [ 0 55  0]\n",
      " [ 1  1 61]]\n"
     ]
    }
   ],
   "source": [
    "print(confusion)"
   ]
  },
  {
   "cell_type": "code",
   "execution_count": 59,
   "metadata": {},
   "outputs": [
    {
     "name": "stdout",
     "output_type": "stream",
     "text": [
      "              precision    recall  f1-score   support\n",
      "\n",
      "           1       0.98      0.95      0.97        62\n",
      "           2       0.93      1.00      0.96        55\n",
      "           3       1.00      0.97      0.98        63\n",
      "\n",
      "    accuracy                           0.97       180\n",
      "   macro avg       0.97      0.97      0.97       180\n",
      "weighted avg       0.97      0.97      0.97       180\n",
      "\n"
     ]
    }
   ],
   "source": [
    "print(report)"
   ]
  },
  {
   "cell_type": "code",
   "execution_count": null,
   "metadata": {},
   "outputs": [],
   "source": []
  },
  {
   "cell_type": "markdown",
   "metadata": {
    "id": "ZoKx5Dnrc3Ll"
   },
   "source": [
    "# NB_classifier"
   ]
  },
  {
   "cell_type": "markdown",
   "metadata": {
    "id": "o0KXEbzonuid"
   },
   "source": [
    "## Gaussian_NB"
   ]
  },
  {
   "cell_type": "code",
   "execution_count": 60,
   "metadata": {},
   "outputs": [],
   "source": [
    "train_acc, test_acc, predicted_test, confusion, report = gaussianNB_ml(X_train, y_train, X_test, y_test)"
   ]
  },
  {
   "cell_type": "code",
   "execution_count": 61,
   "metadata": {},
   "outputs": [
    {
     "name": "stdout",
     "output_type": "stream",
     "text": [
      "0.7388888888888889\n",
      "0.65\n"
     ]
    }
   ],
   "source": [
    "print(train_acc)\n",
    "print(test_acc)"
   ]
  },
  {
   "cell_type": "code",
   "execution_count": 62,
   "metadata": {},
   "outputs": [
    {
     "name": "stdout",
     "output_type": "stream",
     "text": [
      "[[31 27  4]\n",
      " [ 4 45  6]\n",
      " [ 2 20 41]]\n"
     ]
    }
   ],
   "source": [
    "print(confusion)"
   ]
  },
  {
   "cell_type": "code",
   "execution_count": 63,
   "metadata": {},
   "outputs": [
    {
     "name": "stdout",
     "output_type": "stream",
     "text": [
      "              precision    recall  f1-score   support\n",
      "\n",
      "           1       0.84      0.50      0.63        62\n",
      "           2       0.49      0.82      0.61        55\n",
      "           3       0.80      0.65      0.72        63\n",
      "\n",
      "    accuracy                           0.65       180\n",
      "   macro avg       0.71      0.66      0.65       180\n",
      "weighted avg       0.72      0.65      0.65       180\n",
      "\n"
     ]
    }
   ],
   "source": [
    "print(report)"
   ]
  },
  {
   "cell_type": "code",
   "execution_count": null,
   "metadata": {},
   "outputs": [],
   "source": []
  },
  {
   "cell_type": "markdown",
   "metadata": {
    "id": "zhwVV7vrnnmR"
   },
   "source": [
    "## Bernoulli_NB"
   ]
  },
  {
   "cell_type": "code",
   "execution_count": 64,
   "metadata": {},
   "outputs": [],
   "source": [
    "train_acc, test_acc, predicted_test, confusion, report = bernoulliNB_ml(X_train, y_train, X_test, y_test)"
   ]
  },
  {
   "cell_type": "code",
   "execution_count": 65,
   "metadata": {},
   "outputs": [
    {
     "name": "stdout",
     "output_type": "stream",
     "text": [
      "0.75\n",
      "0.7277777777777777\n"
     ]
    }
   ],
   "source": [
    "print(train_acc)\n",
    "print(test_acc)"
   ]
  },
  {
   "cell_type": "code",
   "execution_count": 66,
   "metadata": {},
   "outputs": [
    {
     "name": "stdout",
     "output_type": "stream",
     "text": [
      "[[46 10  6]\n",
      " [ 9 38  8]\n",
      " [10  6 47]]\n"
     ]
    }
   ],
   "source": [
    "print(confusion)"
   ]
  },
  {
   "cell_type": "code",
   "execution_count": 67,
   "metadata": {},
   "outputs": [
    {
     "name": "stdout",
     "output_type": "stream",
     "text": [
      "              precision    recall  f1-score   support\n",
      "\n",
      "           1       0.71      0.74      0.72        62\n",
      "           2       0.70      0.69      0.70        55\n",
      "           3       0.77      0.75      0.76        63\n",
      "\n",
      "    accuracy                           0.73       180\n",
      "   macro avg       0.73      0.73      0.73       180\n",
      "weighted avg       0.73      0.73      0.73       180\n",
      "\n"
     ]
    }
   ],
   "source": [
    "print(report)"
   ]
  },
  {
   "cell_type": "code",
   "execution_count": null,
   "metadata": {},
   "outputs": [],
   "source": []
  },
  {
   "cell_type": "markdown",
   "metadata": {
    "id": "rLyaG58En0Vk"
   },
   "source": [
    "# MLP (Multi Layer perceptron) classifier"
   ]
  },
  {
   "cell_type": "code",
   "execution_count": 68,
   "metadata": {},
   "outputs": [],
   "source": [
    "train_acc, test_acc, predicted_test, confusion, report = MLP_ml(X_train, y_train, X_test, y_test)"
   ]
  },
  {
   "cell_type": "code",
   "execution_count": 69,
   "metadata": {},
   "outputs": [
    {
     "name": "stdout",
     "output_type": "stream",
     "text": [
      "1.0\n",
      "0.9944444444444445\n"
     ]
    }
   ],
   "source": [
    "print(train_acc)\n",
    "print(test_acc)"
   ]
  },
  {
   "cell_type": "code",
   "execution_count": 70,
   "metadata": {},
   "outputs": [
    {
     "name": "stdout",
     "output_type": "stream",
     "text": [
      "[[62  0  0]\n",
      " [ 1 54  0]\n",
      " [ 0  0 63]]\n"
     ]
    }
   ],
   "source": [
    "print(confusion)"
   ]
  },
  {
   "cell_type": "code",
   "execution_count": 71,
   "metadata": {},
   "outputs": [
    {
     "name": "stdout",
     "output_type": "stream",
     "text": [
      "              precision    recall  f1-score   support\n",
      "\n",
      "           1       0.98      1.00      0.99        62\n",
      "           2       1.00      0.98      0.99        55\n",
      "           3       1.00      1.00      1.00        63\n",
      "\n",
      "    accuracy                           0.99       180\n",
      "   macro avg       0.99      0.99      0.99       180\n",
      "weighted avg       0.99      0.99      0.99       180\n",
      "\n"
     ]
    }
   ],
   "source": [
    "print(report)"
   ]
  },
  {
   "cell_type": "code",
   "execution_count": null,
   "metadata": {},
   "outputs": [],
   "source": []
  },
  {
   "cell_type": "markdown",
   "metadata": {
    "id": "ZEzZLLy7oCRr"
   },
   "source": [
    "# Quadratic Discriminant Analysis"
   ]
  },
  {
   "cell_type": "code",
   "execution_count": 72,
   "metadata": {},
   "outputs": [
    {
     "name": "stderr",
     "output_type": "stream",
     "text": [
      "/home/suraj/anaconda3/lib/python3.8/site-packages/sklearn/discriminant_analysis.py:715: UserWarning: Variables are collinear\n",
      "  warnings.warn(\"Variables are collinear\")\n"
     ]
    }
   ],
   "source": [
    "train_acc, test_acc, predicted_test, confusion, report = QDA_ml(X_train, y_train, X_test, y_test)"
   ]
  },
  {
   "cell_type": "code",
   "execution_count": 73,
   "metadata": {},
   "outputs": [
    {
     "name": "stdout",
     "output_type": "stream",
     "text": [
      "0.9972222222222222\n",
      "0.85\n"
     ]
    }
   ],
   "source": [
    "print(train_acc)\n",
    "print(test_acc)"
   ]
  },
  {
   "cell_type": "code",
   "execution_count": 74,
   "metadata": {},
   "outputs": [
    {
     "name": "stdout",
     "output_type": "stream",
     "text": [
      "[[50 11  1]\n",
      " [ 0 55  0]\n",
      " [ 5 10 48]]\n"
     ]
    }
   ],
   "source": [
    "print(confusion)"
   ]
  },
  {
   "cell_type": "code",
   "execution_count": 75,
   "metadata": {},
   "outputs": [
    {
     "name": "stdout",
     "output_type": "stream",
     "text": [
      "              precision    recall  f1-score   support\n",
      "\n",
      "           1       0.91      0.81      0.85        62\n",
      "           2       0.72      1.00      0.84        55\n",
      "           3       0.98      0.76      0.86        63\n",
      "\n",
      "    accuracy                           0.85       180\n",
      "   macro avg       0.87      0.86      0.85       180\n",
      "weighted avg       0.88      0.85      0.85       180\n",
      "\n"
     ]
    }
   ],
   "source": [
    "print(report)"
   ]
  },
  {
   "cell_type": "code",
   "execution_count": null,
   "metadata": {},
   "outputs": [],
   "source": []
  },
  {
   "cell_type": "markdown",
   "metadata": {},
   "source": [
    "# KNN"
   ]
  },
  {
   "cell_type": "code",
   "execution_count": 76,
   "metadata": {},
   "outputs": [],
   "source": [
    "train_acc, test_acc, predicted_test, confusion, report = KNN_ml(X_train, y_train, X_test, y_test)"
   ]
  },
  {
   "cell_type": "code",
   "execution_count": 77,
   "metadata": {},
   "outputs": [
    {
     "name": "stdout",
     "output_type": "stream",
     "text": [
      "0.9847222222222223\n",
      "0.9833333333333333\n"
     ]
    }
   ],
   "source": [
    "print(train_acc)\n",
    "print(test_acc)"
   ]
  },
  {
   "cell_type": "code",
   "execution_count": 78,
   "metadata": {},
   "outputs": [
    {
     "name": "stdout",
     "output_type": "stream",
     "text": [
      "[[61  0  1]\n",
      " [ 1 53  1]\n",
      " [ 0  0 63]]\n"
     ]
    }
   ],
   "source": [
    "print(confusion)"
   ]
  },
  {
   "cell_type": "code",
   "execution_count": 79,
   "metadata": {},
   "outputs": [
    {
     "name": "stdout",
     "output_type": "stream",
     "text": [
      "              precision    recall  f1-score   support\n",
      "\n",
      "           1       0.98      0.98      0.98        62\n",
      "           2       1.00      0.96      0.98        55\n",
      "           3       0.97      1.00      0.98        63\n",
      "\n",
      "    accuracy                           0.98       180\n",
      "   macro avg       0.98      0.98      0.98       180\n",
      "weighted avg       0.98      0.98      0.98       180\n",
      "\n"
     ]
    }
   ],
   "source": [
    "print(report)"
   ]
  },
  {
   "cell_type": "code",
   "execution_count": null,
   "metadata": {},
   "outputs": [],
   "source": []
  }
 ],
 "metadata": {
  "accelerator": "TPU",
  "colab": {
   "collapsed_sections": [],
   "name": "motor_imagery.ipynb",
   "provenance": []
  },
  "kernelspec": {
   "display_name": "Python 3",
   "language": "python",
   "name": "python3"
  },
  "language_info": {
   "codemirror_mode": {
    "name": "ipython",
    "version": 3
   },
   "file_extension": ".py",
   "mimetype": "text/x-python",
   "name": "python",
   "nbconvert_exporter": "python",
   "pygments_lexer": "ipython3",
   "version": "3.8.3"
  }
 },
 "nbformat": 4,
 "nbformat_minor": 1
}
