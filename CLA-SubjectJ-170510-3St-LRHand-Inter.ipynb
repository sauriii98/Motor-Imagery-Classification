{
 "cells": [
  {
   "cell_type": "code",
   "execution_count": 1,
   "metadata": {
    "id": "W9FG4zC2oJ7m"
   },
   "outputs": [],
   "source": [
    "from preprocess import *\n",
    "import matplotlib.pyplot as plt\n",
    "from c_models import *"
   ]
  },
  {
   "cell_type": "code",
   "execution_count": 2,
   "metadata": {
    "colab": {
     "base_uri": "https://localhost:8080/"
    },
    "id": "ypQUVSltoRsL",
    "outputId": "d8217cd2-30ec-4b5a-a23d-6a8d1e242db7"
   },
   "outputs": [],
   "source": [
    "# from google.colab import drive\n",
    "# drive.mount('/content/drive')"
   ]
  },
  {
   "cell_type": "markdown",
   "metadata": {
    "id": "a2uDTDtioJ8D"
   },
   "source": [
    "download the file from https://figshare.com/collections/A_large_electroencephalographic_motor_imagery_dataset_for_electroencephalographic_brain_computer_interfaces/3917698"
   ]
  },
  {
   "cell_type": "markdown",
   "metadata": {
    "id": "xQW9CJexn-9o"
   },
   "source": [
    "# Input"
   ]
  },
  {
   "cell_type": "code",
   "execution_count": 3,
   "metadata": {},
   "outputs": [],
   "source": [
    "file_name = \"CLA-SubjectJ-170510-3St-LRHand-Inter\""
   ]
  },
  {
   "cell_type": "code",
   "execution_count": 4,
   "metadata": {
    "colab": {
     "base_uri": "https://localhost:8080/"
    },
    "id": "tkWdgBbbpe9m",
    "outputId": "c0ec5c92-ab8a-4a2e-b87e-354145e9167d"
   },
   "outputs": [
    {
     "data": {
      "text/plain": [
       "{'__header__': b'MATLAB 5.0 MAT-file, Platform: GLNXA64, Created on: Mon Apr 23 22:31:58 2018',\n",
       " '__version__': '1.0',\n",
       " '__globals__': [],\n",
       " 'ans': array([[23.71073254]]),\n",
       " 'o': array([[(array(['201705101500.32BEA9DD'], dtype='<U21'), array([], dtype='<U1'), array([[621884]], dtype=int32), array([[200]], dtype=uint8), array([[0],\n",
       "        [0],\n",
       "        [0],\n",
       "        ...,\n",
       "        [0],\n",
       "        [0],\n",
       "        [0]], dtype=uint8), array([[ 0],\n",
       "        [ 0],\n",
       "        [ 0],\n",
       "        ...,\n",
       "        [92],\n",
       "        [92],\n",
       "        [92]], dtype=uint8), array([[ 13.2,   6.6,  -1.2, ...,  -0.6,   4.8,  -0. ],\n",
       "        [-21.6,  -5.4,   2.4, ..., -12. ,  -9.6,  -0. ],\n",
       "        [-13.2,   8.4,   0.6, ...,  -3.6,  -0.6,  -0. ],\n",
       "        ...,\n",
       "        [-39.6, -10.8,  -5.4, ...,  -3.6,   4.2,  -0. ],\n",
       "        [-40.2, -14.4,  -3.6, ...,  -1.2,   2.4,  -0. ],\n",
       "        [-24.6,  -6.6, -12. , ...,  -0. ,   1.2,  -0. ]]), array([[array(['Fp1'], dtype='<U3')],\n",
       "        [array(['Fp2'], dtype='<U3')],\n",
       "        [array(['F3'], dtype='<U2')],\n",
       "        [array(['F4'], dtype='<U2')],\n",
       "        [array(['C3'], dtype='<U2')],\n",
       "        [array(['C4'], dtype='<U2')],\n",
       "        [array(['P3'], dtype='<U2')],\n",
       "        [array(['P4'], dtype='<U2')],\n",
       "        [array(['O1'], dtype='<U2')],\n",
       "        [array(['O2'], dtype='<U2')],\n",
       "        [array(['A1'], dtype='<U2')],\n",
       "        [array(['A2'], dtype='<U2')],\n",
       "        [array(['F7'], dtype='<U2')],\n",
       "        [array(['F8'], dtype='<U2')],\n",
       "        [array(['T3'], dtype='<U2')],\n",
       "        [array(['T4'], dtype='<U2')],\n",
       "        [array(['T5'], dtype='<U2')],\n",
       "        [array(['T6'], dtype='<U2')],\n",
       "        [array(['Fz'], dtype='<U2')],\n",
       "        [array(['Cz'], dtype='<U2')],\n",
       "        [array(['Pz'], dtype='<U2')]], dtype=object), array([[1]], dtype=uint8))]],\n",
       "       dtype=[('id', 'O'), ('tag', 'O'), ('nS', 'O'), ('sampFreq', 'O'), ('marker', 'O'), ('marker_old', 'O'), ('data', 'O'), ('chnames', 'O'), ('binsuV', 'O')]),\n",
       " 'x': array([[23.4],\n",
       "        [23.4],\n",
       "        [23.4],\n",
       "        [23.4],\n",
       "        [23.4],\n",
       "        [23.4],\n",
       "        [23.4],\n",
       "        [24.6],\n",
       "        [23.4],\n",
       "        [23.4],\n",
       "        [24. ],\n",
       "        [23.4],\n",
       "        [23.4],\n",
       "        [23.4],\n",
       "        [23.4],\n",
       "        [23.4],\n",
       "        [23.4],\n",
       "        [24. ],\n",
       "        [24. ],\n",
       "        [24. ],\n",
       "        [24. ],\n",
       "        [23.4],\n",
       "        [23.4],\n",
       "        [23.4],\n",
       "        [23.4],\n",
       "        [23.4],\n",
       "        [23.4],\n",
       "        [23.4],\n",
       "        [23.4],\n",
       "        [23.4],\n",
       "        [23.4],\n",
       "        [23.4],\n",
       "        [23.4],\n",
       "        [24. ],\n",
       "        [24. ],\n",
       "        [23.4],\n",
       "        [24. ],\n",
       "        [23.4],\n",
       "        [23.4],\n",
       "        [23.4],\n",
       "        [23.4],\n",
       "        [24. ],\n",
       "        [23.4],\n",
       "        [23.4],\n",
       "        [23.4],\n",
       "        [23.4],\n",
       "        [23.4],\n",
       "        [23.4],\n",
       "        [23.4],\n",
       "        [23.4],\n",
       "        [24. ],\n",
       "        [23.4],\n",
       "        [23.4],\n",
       "        [23.4],\n",
       "        [24.6],\n",
       "        [23.4],\n",
       "        [23.4],\n",
       "        [23.4],\n",
       "        [23.4],\n",
       "        [23.4],\n",
       "        [23.4],\n",
       "        [23.4],\n",
       "        [23.4],\n",
       "        [23.4],\n",
       "        [23.4],\n",
       "        [23.4],\n",
       "        [23.4],\n",
       "        [23.4],\n",
       "        [23.4],\n",
       "        [23.4],\n",
       "        [23.4],\n",
       "        [25.2],\n",
       "        [24.6],\n",
       "        [24. ],\n",
       "        [25.2],\n",
       "        [24. ],\n",
       "        [23.4],\n",
       "        [23.4],\n",
       "        [24.6],\n",
       "        [25.2],\n",
       "        [24. ],\n",
       "        [24. ],\n",
       "        [23.4],\n",
       "        [25.2],\n",
       "        [23.4],\n",
       "        [24. ],\n",
       "        [24. ],\n",
       "        [24.6],\n",
       "        [25.8],\n",
       "        [25.2],\n",
       "        [24.6],\n",
       "        [23.4],\n",
       "        [23.4],\n",
       "        [25.2],\n",
       "        [24. ],\n",
       "        [24. ],\n",
       "        [23.4],\n",
       "        [24. ],\n",
       "        [23.4],\n",
       "        [23.4],\n",
       "        [23.4],\n",
       "        [23.4],\n",
       "        [23.4],\n",
       "        [23.4],\n",
       "        [23.4],\n",
       "        [23.4],\n",
       "        [23.4],\n",
       "        [23.4],\n",
       "        [23.4],\n",
       "        [23.4],\n",
       "        [23.4],\n",
       "        [24.6],\n",
       "        [24.6],\n",
       "        [25.2],\n",
       "        [24. ],\n",
       "        [24. ],\n",
       "        [23.4],\n",
       "        [24.6],\n",
       "        [24.6],\n",
       "        [24. ],\n",
       "        [23.4],\n",
       "        [23.4],\n",
       "        [23.4],\n",
       "        [23.4],\n",
       "        [23.4],\n",
       "        [23.4],\n",
       "        [23.4],\n",
       "        [23.4],\n",
       "        [23.4],\n",
       "        [23.4],\n",
       "        [23.4],\n",
       "        [23.4],\n",
       "        [23.4],\n",
       "        [23.4],\n",
       "        [23.4],\n",
       "        [23.4],\n",
       "        [23.4],\n",
       "        [23.4],\n",
       "        [23.4],\n",
       "        [23.4],\n",
       "        [23.4],\n",
       "        [23.4],\n",
       "        [23.4],\n",
       "        [23.4],\n",
       "        [23.4],\n",
       "        [23.4],\n",
       "        [23.4],\n",
       "        [23.4],\n",
       "        [23.4],\n",
       "        [23.4],\n",
       "        [23.4],\n",
       "        [23.4],\n",
       "        [23.4],\n",
       "        [23.4],\n",
       "        [23.4],\n",
       "        [23.4],\n",
       "        [24. ],\n",
       "        [23.4],\n",
       "        [23.4],\n",
       "        [23.4],\n",
       "        [24. ],\n",
       "        [24.6],\n",
       "        [23.4],\n",
       "        [23.4],\n",
       "        [24. ],\n",
       "        [23.4],\n",
       "        [24. ],\n",
       "        [24.6],\n",
       "        [24. ],\n",
       "        [25.8],\n",
       "        [24. ],\n",
       "        [23.4],\n",
       "        [23.4],\n",
       "        [23.4],\n",
       "        [23.4],\n",
       "        [23.4],\n",
       "        [23.4],\n",
       "        [23.4],\n",
       "        [23.4],\n",
       "        [23.4],\n",
       "        [23.4],\n",
       "        [23.4],\n",
       "        [23.4],\n",
       "        [23.4],\n",
       "        [23.4],\n",
       "        [23.4],\n",
       "        [23.4],\n",
       "        [23.4],\n",
       "        [23.4],\n",
       "        [23.4],\n",
       "        [23.4],\n",
       "        [23.4],\n",
       "        [23.4],\n",
       "        [23.4],\n",
       "        [23.4],\n",
       "        [23.4],\n",
       "        [23.4],\n",
       "        [23.4],\n",
       "        [23.4],\n",
       "        [23.4],\n",
       "        [23.4],\n",
       "        [24. ],\n",
       "        [24. ],\n",
       "        [23.4],\n",
       "        [24. ],\n",
       "        [23.4],\n",
       "        [25.2],\n",
       "        [23.4],\n",
       "        [24. ],\n",
       "        [24.6],\n",
       "        [23.4],\n",
       "        [24. ],\n",
       "        [23.4],\n",
       "        [23.4],\n",
       "        [23.4],\n",
       "        [24.6],\n",
       "        [23.4],\n",
       "        [23.4],\n",
       "        [23.4],\n",
       "        [24.6],\n",
       "        [25.8],\n",
       "        [24. ],\n",
       "        [23.4],\n",
       "        [23.4],\n",
       "        [24.6],\n",
       "        [24. ],\n",
       "        [23.4],\n",
       "        [24. ],\n",
       "        [24. ],\n",
       "        [24. ],\n",
       "        [23.4],\n",
       "        [23.4],\n",
       "        [23.4],\n",
       "        [24. ],\n",
       "        [23.4],\n",
       "        [23.4],\n",
       "        [24.6],\n",
       "        [23.4],\n",
       "        [23.4],\n",
       "        [23.4],\n",
       "        [23.4],\n",
       "        [23.4],\n",
       "        [23.4],\n",
       "        [24.6],\n",
       "        [24. ],\n",
       "        [23.4],\n",
       "        [25.2],\n",
       "        [24. ],\n",
       "        [23.4],\n",
       "        [24.6],\n",
       "        [23.4],\n",
       "        [24. ],\n",
       "        [24. ],\n",
       "        [23.4],\n",
       "        [24. ],\n",
       "        [24. ],\n",
       "        [24.6],\n",
       "        [23.4],\n",
       "        [23.4],\n",
       "        [24. ],\n",
       "        [24. ],\n",
       "        [26.4],\n",
       "        [23.4],\n",
       "        [23.4],\n",
       "        [23.4],\n",
       "        [23.4],\n",
       "        [23.4],\n",
       "        [23.4],\n",
       "        [23.4],\n",
       "        [23.4],\n",
       "        [23.4],\n",
       "        [23.4],\n",
       "        [23.4],\n",
       "        [23.4],\n",
       "        [23.4],\n",
       "        [24.6],\n",
       "        [25.8],\n",
       "        [23.4],\n",
       "        [24.6],\n",
       "        [23.4],\n",
       "        [23.4],\n",
       "        [24. ],\n",
       "        [23.4],\n",
       "        [24.6],\n",
       "        [23.4],\n",
       "        [24. ],\n",
       "        [23.4],\n",
       "        [24.6],\n",
       "        [23.4],\n",
       "        [23.4],\n",
       "        [23.4],\n",
       "        [23.4],\n",
       "        [23.4],\n",
       "        [24. ],\n",
       "        [25.2],\n",
       "        [23.4],\n",
       "        [23.4],\n",
       "        [23.4],\n",
       "        [23.4],\n",
       "        [25.2],\n",
       "        [23.4],\n",
       "        [23.4],\n",
       "        [23.4],\n",
       "        [24. ],\n",
       "        [23.4],\n",
       "        [24. ],\n",
       "        [23.4],\n",
       "        [24. ],\n",
       "        [24.6],\n",
       "        [25.2],\n",
       "        [24. ],\n",
       "        [23.4],\n",
       "        [23.4],\n",
       "        [23.4],\n",
       "        [24. ],\n",
       "        [23.4],\n",
       "        [24.6],\n",
       "        [23.4],\n",
       "        [23.4],\n",
       "        [23.4],\n",
       "        [24. ],\n",
       "        [24. ],\n",
       "        [24. ],\n",
       "        [25.8],\n",
       "        [23.4],\n",
       "        [24. ],\n",
       "        [23.4],\n",
       "        [23.4],\n",
       "        [23.4],\n",
       "        [23.4],\n",
       "        [23.4],\n",
       "        [23.4],\n",
       "        [23.4],\n",
       "        [23.4],\n",
       "        [23.4],\n",
       "        [23.4],\n",
       "        [23.4],\n",
       "        [23.4],\n",
       "        [23.4],\n",
       "        [23.4],\n",
       "        [25.2],\n",
       "        [24. ],\n",
       "        [23.4],\n",
       "        [24.6],\n",
       "        [24.6],\n",
       "        [24. ],\n",
       "        [23.4],\n",
       "        [23.4],\n",
       "        [23.4],\n",
       "        [23.4],\n",
       "        [24.6],\n",
       "        [23.4],\n",
       "        [25.2],\n",
       "        [23.4],\n",
       "        [23.4],\n",
       "        [23.4],\n",
       "        [24. ],\n",
       "        [23.4],\n",
       "        [24.6],\n",
       "        [23.4],\n",
       "        [24. ],\n",
       "        [24.6],\n",
       "        [23.4],\n",
       "        [24. ],\n",
       "        [23.4],\n",
       "        [23.4],\n",
       "        [23.4],\n",
       "        [23.4],\n",
       "        [24.6],\n",
       "        [23.4],\n",
       "        [24. ],\n",
       "        [24. ],\n",
       "        [24. ],\n",
       "        [23.4],\n",
       "        [23.4],\n",
       "        [24. ],\n",
       "        [23.4],\n",
       "        [24.6],\n",
       "        [23.4],\n",
       "        [23.4],\n",
       "        [23.4],\n",
       "        [23.4],\n",
       "        [23.4],\n",
       "        [23.4],\n",
       "        [23.4],\n",
       "        [23.4],\n",
       "        [23.4],\n",
       "        [24. ],\n",
       "        [24.6],\n",
       "        [23.4],\n",
       "        [23.4],\n",
       "        [24. ],\n",
       "        [23.4],\n",
       "        [23.4],\n",
       "        [24. ],\n",
       "        [23.4],\n",
       "        [23.4],\n",
       "        [23.4],\n",
       "        [23.4],\n",
       "        [23.4],\n",
       "        [23.4],\n",
       "        [23.4],\n",
       "        [23.4],\n",
       "        [23.4],\n",
       "        [23.4],\n",
       "        [23.4],\n",
       "        [23.4],\n",
       "        [23.4],\n",
       "        [23.4],\n",
       "        [23.4],\n",
       "        [23.4],\n",
       "        [23.4],\n",
       "        [24. ],\n",
       "        [23.4],\n",
       "        [23.4],\n",
       "        [23.4],\n",
       "        [24.6],\n",
       "        [23.4],\n",
       "        [24. ],\n",
       "        [24. ],\n",
       "        [24. ],\n",
       "        [23.4],\n",
       "        [25.2],\n",
       "        [23.4],\n",
       "        [23.4],\n",
       "        [23.4],\n",
       "        [23.4],\n",
       "        [23.4],\n",
       "        [23.4],\n",
       "        [23.4],\n",
       "        [23.4],\n",
       "        [24. ],\n",
       "        [24. ],\n",
       "        [24. ],\n",
       "        [24. ],\n",
       "        [23.4],\n",
       "        [24. ],\n",
       "        [23.4],\n",
       "        [23.4],\n",
       "        [25.2],\n",
       "        [23.4],\n",
       "        [23.4],\n",
       "        [23.4],\n",
       "        [23.4],\n",
       "        [23.4],\n",
       "        [23.4],\n",
       "        [24.6],\n",
       "        [24.6],\n",
       "        [24. ],\n",
       "        [24. ],\n",
       "        [24.6],\n",
       "        [24. ],\n",
       "        [24. ],\n",
       "        [23.4],\n",
       "        [24.6],\n",
       "        [23.4],\n",
       "        [23.4],\n",
       "        [23.4],\n",
       "        [23.4],\n",
       "        [25.2],\n",
       "        [24.6],\n",
       "        [24. ],\n",
       "        [23.4],\n",
       "        [23.4],\n",
       "        [23.4],\n",
       "        [24. ],\n",
       "        [23.4],\n",
       "        [25.8],\n",
       "        [25.8],\n",
       "        [23.4],\n",
       "        [23.4],\n",
       "        [23.4],\n",
       "        [23.4],\n",
       "        [23.4],\n",
       "        [23.4],\n",
       "        [23.4],\n",
       "        [23.4],\n",
       "        [23.4],\n",
       "        [23.4],\n",
       "        [24.6],\n",
       "        [24. ],\n",
       "        [23.4],\n",
       "        [24.6],\n",
       "        [24. ],\n",
       "        [23.4],\n",
       "        [23.4],\n",
       "        [24. ],\n",
       "        [24. ],\n",
       "        [24.6],\n",
       "        [23.4],\n",
       "        [23.4],\n",
       "        [23.4],\n",
       "        [23.4],\n",
       "        [23.4],\n",
       "        [24. ],\n",
       "        [23.4],\n",
       "        [23.4],\n",
       "        [23.4],\n",
       "        [23.4],\n",
       "        [23.4],\n",
       "        [23.4],\n",
       "        [23.4],\n",
       "        [23.4],\n",
       "        [23.4],\n",
       "        [23.4],\n",
       "        [23.4],\n",
       "        [23.4],\n",
       "        [23.4],\n",
       "        [23.4],\n",
       "        [24. ],\n",
       "        [24. ],\n",
       "        [23.4],\n",
       "        [24.6],\n",
       "        [24. ],\n",
       "        [23.4],\n",
       "        [24.6],\n",
       "        [23.4],\n",
       "        [23.4],\n",
       "        [23.4],\n",
       "        [24. ],\n",
       "        [23.4],\n",
       "        [23.4],\n",
       "        [23.4],\n",
       "        [23.4],\n",
       "        [24.6],\n",
       "        [24. ],\n",
       "        [24. ],\n",
       "        [24. ],\n",
       "        [24.6],\n",
       "        [23.4],\n",
       "        [23.4],\n",
       "        [23.4],\n",
       "        [23.4],\n",
       "        [23.4],\n",
       "        [23.4],\n",
       "        [23.4],\n",
       "        [23.4],\n",
       "        [23.4],\n",
       "        [23.4],\n",
       "        [24. ],\n",
       "        [24. ],\n",
       "        [23.4],\n",
       "        [24. ],\n",
       "        [23.4],\n",
       "        [23.4],\n",
       "        [24.6],\n",
       "        [23.4],\n",
       "        [24. ],\n",
       "        [23.4],\n",
       "        [23.4],\n",
       "        [24. ],\n",
       "        [23.4],\n",
       "        [26.4],\n",
       "        [25.2],\n",
       "        [24. ],\n",
       "        [24. ],\n",
       "        [24.6],\n",
       "        [24. ],\n",
       "        [23.4],\n",
       "        [23.4],\n",
       "        [23.4],\n",
       "        [23.4],\n",
       "        [23.4],\n",
       "        [23.4],\n",
       "        [23.4],\n",
       "        [23.4],\n",
       "        [23.4],\n",
       "        [23.4],\n",
       "        [23.4],\n",
       "        [24. ],\n",
       "        [25.2],\n",
       "        [24. ],\n",
       "        [24. ],\n",
       "        [23.4],\n",
       "        [23.4],\n",
       "        [23.4],\n",
       "        [23.4],\n",
       "        [23.4],\n",
       "        [24. ],\n",
       "        [23.4],\n",
       "        [24. ],\n",
       "        [23.4],\n",
       "        [23.4],\n",
       "        [23.4],\n",
       "        [23.4],\n",
       "        [23.4],\n",
       "        [23.4]])}"
      ]
     },
     "execution_count": 4,
     "metadata": {},
     "output_type": "execute_result"
    }
   ],
   "source": [
    "f1 = \"rawData/\" + file_name + \".mat\"\n",
    "mat = take_input(f1)\n",
    "mat"
   ]
  },
  {
   "cell_type": "code",
   "execution_count": 5,
   "metadata": {
    "colab": {
     "base_uri": "https://localhost:8080/"
    },
    "id": "YE50qVMRoJ8H",
    "outputId": "26d0b676-6621-40c3-a2ba-caa5da8e90dd",
    "scrolled": true
   },
   "outputs": [
    {
     "data": {
      "text/plain": [
       "dtype([('id', 'O'), ('tag', 'O'), ('nS', 'O'), ('sampFreq', 'O'), ('marker', 'O'), ('marker_old', 'O'), ('data', 'O'), ('chnames', 'O'), ('binsuV', 'O')])"
      ]
     },
     "execution_count": 5,
     "metadata": {},
     "output_type": "execute_result"
    }
   ],
   "source": [
    "mat['o'][0][0].dtype"
   ]
  },
  {
   "cell_type": "code",
   "execution_count": 6,
   "metadata": {
    "id": "B3JkUQ6LpX3-"
   },
   "outputs": [],
   "source": [
    "idx = 4\n",
    "markers = get_markers(mat, idx) "
   ]
  },
  {
   "cell_type": "code",
   "execution_count": 7,
   "metadata": {
    "id": "i0ct3kSg9ioz"
   },
   "outputs": [],
   "source": [
    "idx = 6\n",
    "data = get_data(mat, idx)"
   ]
  },
  {
   "cell_type": "code",
   "execution_count": 8,
   "metadata": {
    "id": "580QViV_rqay"
   },
   "outputs": [],
   "source": [
    "frame_of_1 = get_trial_frames(data, markers, 1)\n",
    "frame_of_2 = get_trial_frames(data, markers, 2)\n",
    "frame_of_3 = get_trial_frames(data, markers, 3)\n"
   ]
  },
  {
   "cell_type": "code",
   "execution_count": 9,
   "metadata": {
    "colab": {
     "base_uri": "https://localhost:8080/",
     "height": 282
    },
    "id": "AR4kAOnnoJ8u",
    "outputId": "2ef3a1f5-fed6-471f-abb6-20d44a954b19"
   },
   "outputs": [
    {
     "data": {
      "text/plain": [
       "[<matplotlib.lines.Line2D at 0x7f1503a9c8b0>]"
      ]
     },
     "execution_count": 9,
     "metadata": {},
     "output_type": "execute_result"
    },
    {
     "data": {
      "image/png": "[encoded data removed]",
      "text/plain": [
       "<Figure size 432x288 with 1 Axes>"
      ]
     },
     "metadata": {
      "needs_background": "light"
     },
     "output_type": "display_data"
    }
   ],
   "source": [
    "plt.plot(np.arange(170),frame_of_1[0][0])"
   ]
  },
  {
   "cell_type": "code",
   "execution_count": 10,
   "metadata": {
    "id": "5KPuYWtGtCep"
   },
   "outputs": [],
   "source": [
    "low_pass_filter = design_filter(8, 200, 5)"
   ]
  },
  {
   "cell_type": "code",
   "execution_count": 11,
   "metadata": {
    "id": "RV6MIenGvcD8"
   },
   "outputs": [],
   "source": [
    "f_signal_1 = apply_filter(low_pass_filter, frame_of_1)\n",
    "f_signal_2 = apply_filter(low_pass_filter, frame_of_2)\n",
    "f_signal_3 = apply_filter(low_pass_filter, frame_of_3)"
   ]
  },
  {
   "cell_type": "code",
   "execution_count": 12,
   "metadata": {
    "colab": {
     "base_uri": "https://localhost:8080/",
     "height": 282
    },
    "id": "dd10iuAUoJ8y",
    "outputId": "9400b95b-311d-443b-d1e0-0ff23846c1b4"
   },
   "outputs": [
    {
     "data": {
      "text/plain": [
       "[<matplotlib.lines.Line2D at 0x7f15039b9280>]"
      ]
     },
     "execution_count": 12,
     "metadata": {},
     "output_type": "execute_result"
    },
    {
     "data": {
      "image/png": "[encoded data removed]",
      "text/plain": [
       "<Figure size 432x288 with 1 Axes>"
      ]
     },
     "metadata": {
      "needs_background": "light"
     },
     "output_type": "display_data"
    }
   ],
   "source": [
    "plt.plot(np.arange(170),f_signal_1[0][0])"
   ]
  },
  {
   "cell_type": "code",
   "execution_count": 13,
   "metadata": {
    "id": "Yh2YKV2Bwi6J"
   },
   "outputs": [],
   "source": [
    "transformed_frame_of_1 = fourier_trans(f_signal_1)\n",
    "transformed_frame_of_2 = fourier_trans(f_signal_2)\n",
    "transformed_frame_of_3 = fourier_trans(f_signal_3)"
   ]
  },
  {
   "cell_type": "code",
   "execution_count": 14,
   "metadata": {
    "colab": {
     "base_uri": "https://localhost:8080/",
     "height": 282
    },
    "id": "Vl_fBx8woJ84",
    "outputId": "cc889666-9c16-4222-b941-6f0e7a8cbce0"
   },
   "outputs": [
    {
     "data": {
      "text/plain": [
       "[<matplotlib.lines.Line2D at 0x7f1503990be0>]"
      ]
     },
     "execution_count": 14,
     "metadata": {},
     "output_type": "execute_result"
    },
    {
     "data": {
      "image/png": "[encoded data removed]",
      "text/plain": [
       "<Figure size 432x288 with 1 Axes>"
      ]
     },
     "metadata": {
      "needs_background": "light"
     },
     "output_type": "display_data"
    }
   ],
   "source": [
    "plt.plot(abs(transformed_frame_of_1[0][0]))"
   ]
  },
  {
   "cell_type": "code",
   "execution_count": 15,
   "metadata": {
    "colab": {
     "base_uri": "https://localhost:8080/",
     "height": 265
    },
    "id": "_C_Ug49boJ86",
    "outputId": "72bccb6d-f3a8-41b6-eebf-354ca481dfc0",
    "scrolled": true
   },
   "outputs": [
    {
     "data": {
      "image/png": "[encoded data removed]",
      "text/plain": [
       "<Figure size 432x288 with 1 Axes>"
      ]
     },
     "metadata": {
      "needs_background": "light"
     },
     "output_type": "display_data"
    }
   ],
   "source": [
    "yf = transformed_frame_of_1[0][0]\n",
    "v = np.arange(86)\n",
    "t = 170/200.0\n",
    "xf = v/t\n",
    "\n",
    "fig, ax = plt.subplots()\n",
    "ax.plot(xf, abs(yf))\n",
    "plt.show()\n"
   ]
  },
  {
   "cell_type": "code",
   "execution_count": 16,
   "metadata": {
    "colab": {
     "base_uri": "https://localhost:8080/",
     "height": 265
    },
    "id": "UBm0tWogoJ87",
    "outputId": "534eb148-f723-4a7a-ee70-61f47bc39bf4"
   },
   "outputs": [
    {
     "data": {
      "image/png": "[encoded data removed]",
      "text/plain": [
       "<Figure size 432x288 with 1 Axes>"
      ]
     },
     "metadata": {
      "needs_background": "light"
     },
     "output_type": "display_data"
    }
   ],
   "source": [
    "yf = fft.fft(f_signal_1, axis=2)\n",
    "yf = yf[0][0]\n",
    "xf = fft.fftfreq(170, 1/200.0)\n",
    "fig, ax = plt.subplots()\n",
    "ax.plot(xf, np.abs(yf))\n",
    "plt.show()"
   ]
  },
  {
   "cell_type": "code",
   "execution_count": 17,
   "metadata": {
    "colab": {
     "base_uri": "https://localhost:8080/",
     "height": 265
    },
    "id": "LBKQblzwoJ88",
    "outputId": "5df224ee-d05e-42eb-e2b2-0683258a5867"
   },
   "outputs": [
    {
     "data": {
      "image/png": "[encoded data removed]",
      "text/plain": [
       "<Figure size 432x288 with 1 Axes>"
      ]
     },
     "metadata": {
      "needs_background": "light"
     },
     "output_type": "display_data"
    }
   ],
   "source": [
    "yf = fft.fft(f_signal_1, axis=2)\n",
    "yf = yf[0][0]\n",
    "xf = np.linspace(0.0, 1.0/(2.0*(1.0/200.0)), 85)\n",
    "                 \n",
    "fig, ax = plt.subplots()\n",
    "ax.plot(xf, (2.0/170) * np.abs(yf[0:85]))\n",
    "plt.show()"
   ]
  },
  {
   "cell_type": "code",
   "execution_count": 18,
   "metadata": {
    "id": "uVOtSAqAyyOd"
   },
   "outputs": [],
   "source": [
    "transformed_frame_of_1 = remove_phase_shift(transformed_frame_of_1)\n",
    "transformed_frame_of_2 = remove_phase_shift(transformed_frame_of_2)\n",
    "transformed_frame_of_3 = remove_phase_shift(transformed_frame_of_3)"
   ]
  },
  {
   "cell_type": "code",
   "execution_count": 19,
   "metadata": {
    "colab": {
     "base_uri": "https://localhost:8080/",
     "height": 265
    },
    "id": "neu0YSZ4oJ9C",
    "outputId": "41778b8c-59b8-48c8-dee6-febbbb6c018a"
   },
   "outputs": [
    {
     "data": {
      "image/png": "[encoded data removed]",
      "text/plain": [
       "<Figure size 432x288 with 1 Axes>"
      ]
     },
     "metadata": {
      "needs_background": "light"
     },
     "output_type": "display_data"
    }
   ],
   "source": [
    "yf = transformed_frame_of_1[0][0]\n",
    "xf = fft.rfftfreq(170, 1/200.0)\n",
    "fig, ax = plt.subplots()\n",
    "ax.plot(xf, np.abs(yf))\n",
    "plt.show()"
   ]
  },
  {
   "cell_type": "code",
   "execution_count": 20,
   "metadata": {
    "colab": {
     "base_uri": "https://localhost:8080/",
     "height": 265
    },
    "id": "XDEee5sloJ9F",
    "outputId": "0c9c66ed-352b-4943-ae73-51e0291eb306"
   },
   "outputs": [
    {
     "data": {
      "image/png": "[encoded data removed]",
      "text/plain": [
       "<Figure size 432x288 with 1 Axes>"
      ]
     },
     "metadata": {
      "needs_background": "light"
     },
     "output_type": "display_data"
    }
   ],
   "source": [
    "yf = transformed_frame_of_2[0][0]\n",
    "xf = fft.rfftfreq(170, 1/200.0)\n",
    "fig, ax = plt.subplots()\n",
    "ax.plot(xf, np.abs(yf))\n",
    "plt.show()"
   ]
  },
  {
   "cell_type": "code",
   "execution_count": 21,
   "metadata": {
    "colab": {
     "base_uri": "https://localhost:8080/",
     "height": 265
    },
    "id": "WlZFUBCAoJ9H",
    "outputId": "9607d6ac-41e4-41c0-9329-4b717ff6b163"
   },
   "outputs": [
    {
     "data": {
      "image/png": "[encoded data removed]",
      "text/plain": [
       "<Figure size 432x288 with 1 Axes>"
      ]
     },
     "metadata": {
      "needs_background": "light"
     },
     "output_type": "display_data"
    }
   ],
   "source": [
    "yf = transformed_frame_of_3[0][0]\n",
    "xf = fft.rfftfreq(170, 1/200.0)\n",
    "fig, ax = plt.subplots()\n",
    "ax.plot(xf, np.abs(yf))\n",
    "plt.show()"
   ]
  },
  {
   "cell_type": "code",
   "execution_count": 22,
   "metadata": {
    "id": "bAdCJVHQ3kDm"
   },
   "outputs": [],
   "source": [
    "all_trials_of_1 = extract_features(transformed_frame_of_1)\n",
    "all_trials_of_2 = extract_features(transformed_frame_of_2)\n",
    "all_trials_of_3 = extract_features(transformed_frame_of_3)"
   ]
  },
  {
   "cell_type": "code",
   "execution_count": 23,
   "metadata": {
    "colab": {
     "base_uri": "https://localhost:8080/"
    },
    "id": "lcyupO414FYF",
    "outputId": "815b89c8-0d85-4ba9-8ee8-10950eab732e"
   },
   "outputs": [
    {
     "name": "stdout",
     "output_type": "stream",
     "text": [
      "(289, 189)\n",
      "(327, 189)\n",
      "(284, 189)\n"
     ]
    }
   ],
   "source": [
    "print(all_trials_of_1.shape)\n",
    "print(all_trials_of_2.shape)\n",
    "print(all_trials_of_3.shape)"
   ]
  },
  {
   "cell_type": "code",
   "execution_count": 24,
   "metadata": {
    "id": "PjRrRd2B7dx9"
   },
   "outputs": [],
   "source": [
    "trials_sets = [all_trials_of_1, all_trials_of_2, all_trials_of_3]\n",
    "class_labels = [1, 2, 3]\n",
    "dataset = create_dataset(trials_sets, class_labels)"
   ]
  },
  {
   "cell_type": "code",
   "execution_count": 25,
   "metadata": {
    "colab": {
     "base_uri": "https://localhost:8080/",
     "height": 609
    },
    "id": "TetFgCIM_gWU",
    "outputId": "44f5fd1f-85ac-43c6-bb3c-26b70f8cd21c"
   },
   "outputs": [
    {
     "data": {
      "text/html": [
       "<div>\n",
       "<style scoped>\n",
       "    .dataframe tbody tr th:only-of-type {\n",
       "        vertical-align: middle;\n",
       "    }\n",
       "\n",
       "    .dataframe tbody tr th {\n",
       "        vertical-align: top;\n",
       "    }\n",
       "\n",
       "    .dataframe thead th {\n",
       "        text-align: right;\n",
       "    }\n",
       "</style>\n",
       "<table border=\"1\" class=\"dataframe\">\n",
       "  <thead>\n",
       "    <tr style=\"text-align: right;\">\n",
       "      <th></th>\n",
       "      <th>0</th>\n",
       "      <th>1</th>\n",
       "      <th>2</th>\n",
       "      <th>3</th>\n",
       "      <th>4</th>\n",
       "      <th>5</th>\n",
       "      <th>6</th>\n",
       "      <th>7</th>\n",
       "      <th>8</th>\n",
       "      <th>9</th>\n",
       "      <th>...</th>\n",
       "      <th>180</th>\n",
       "      <th>181</th>\n",
       "      <th>182</th>\n",
       "      <th>183</th>\n",
       "      <th>184</th>\n",
       "      <th>185</th>\n",
       "      <th>186</th>\n",
       "      <th>187</th>\n",
       "      <th>188</th>\n",
       "      <th>label</th>\n",
       "    </tr>\n",
       "  </thead>\n",
       "  <tbody>\n",
       "    <tr>\n",
       "      <th>0</th>\n",
       "      <td>3.009208e+02</td>\n",
       "      <td>-3.429649e+02</td>\n",
       "      <td>-4.647622e+02</td>\n",
       "      <td>-2.246806e+02</td>\n",
       "      <td>6.696642e+01</td>\n",
       "      <td>4.447605e+02</td>\n",
       "      <td>-1.110354e+02</td>\n",
       "      <td>-1.349488e+02</td>\n",
       "      <td>1.608583e+02</td>\n",
       "      <td>2.724722e+02</td>\n",
       "      <td>...</td>\n",
       "      <td>1.448769e+02</td>\n",
       "      <td>-6.538818e+01</td>\n",
       "      <td>6.694365e+01</td>\n",
       "      <td>-1.105842e+02</td>\n",
       "      <td>-4.063089e+01</td>\n",
       "      <td>2.597227e+01</td>\n",
       "      <td>-7.757350e+01</td>\n",
       "      <td>5.763786e+01</td>\n",
       "      <td>-3.373140e+01</td>\n",
       "      <td>1</td>\n",
       "    </tr>\n",
       "    <tr>\n",
       "      <th>1</th>\n",
       "      <td>8.153356e+01</td>\n",
       "      <td>-2.487301e+02</td>\n",
       "      <td>-3.439767e+02</td>\n",
       "      <td>4.348247e-70</td>\n",
       "      <td>-1.549788e-71</td>\n",
       "      <td>3.002417e-09</td>\n",
       "      <td>5.969172e-10</td>\n",
       "      <td>-8.524113e-09</td>\n",
       "      <td>2.774222e-08</td>\n",
       "      <td>-3.028136e-77</td>\n",
       "      <td>...</td>\n",
       "      <td>2.133608e+02</td>\n",
       "      <td>-5.294351e-11</td>\n",
       "      <td>1.579116e-11</td>\n",
       "      <td>-3.877128e-19</td>\n",
       "      <td>-9.025796e-19</td>\n",
       "      <td>-7.986507e-98</td>\n",
       "      <td>3.732105e-98</td>\n",
       "      <td>1.717720e-16</td>\n",
       "      <td>-4.723078e-16</td>\n",
       "      <td>1</td>\n",
       "    </tr>\n",
       "    <tr>\n",
       "      <th>2</th>\n",
       "      <td>-6.844169e-77</td>\n",
       "      <td>-1.602293e-05</td>\n",
       "      <td>-4.474336e-05</td>\n",
       "      <td>9.900584e-54</td>\n",
       "      <td>7.165481e-54</td>\n",
       "      <td>1.620427e-29</td>\n",
       "      <td>2.498059e-29</td>\n",
       "      <td>-1.309452e-118</td>\n",
       "      <td>-8.702618e-119</td>\n",
       "      <td>5.592183e+01</td>\n",
       "      <td>...</td>\n",
       "      <td>1.366472e+02</td>\n",
       "      <td>1.415349e-24</td>\n",
       "      <td>5.354570e-24</td>\n",
       "      <td>-5.195356e-01</td>\n",
       "      <td>-2.534969e-01</td>\n",
       "      <td>-1.472199e-97</td>\n",
       "      <td>6.984946e-98</td>\n",
       "      <td>2.136611e-01</td>\n",
       "      <td>-1.549255e-01</td>\n",
       "      <td>1</td>\n",
       "    </tr>\n",
       "    <tr>\n",
       "      <th>3</th>\n",
       "      <td>-4.542022e-76</td>\n",
       "      <td>6.922251e-24</td>\n",
       "      <td>-1.779245e-23</td>\n",
       "      <td>2.150871e-75</td>\n",
       "      <td>-5.714650e-76</td>\n",
       "      <td>7.055221e-37</td>\n",
       "      <td>2.307332e-36</td>\n",
       "      <td>-3.934227e-15</td>\n",
       "      <td>5.671445e-14</td>\n",
       "      <td>-2.062241e-76</td>\n",
       "      <td>...</td>\n",
       "      <td>6.171925e+01</td>\n",
       "      <td>-1.335113e+00</td>\n",
       "      <td>1.617750e+00</td>\n",
       "      <td>-1.789012e-15</td>\n",
       "      <td>-2.929098e-15</td>\n",
       "      <td>2.321463e-06</td>\n",
       "      <td>-3.811522e-05</td>\n",
       "      <td>-2.923351e-62</td>\n",
       "      <td>-2.061884e-63</td>\n",
       "      <td>1</td>\n",
       "    </tr>\n",
       "    <tr>\n",
       "      <th>4</th>\n",
       "      <td>1.377595e+01</td>\n",
       "      <td>4.669149e-43</td>\n",
       "      <td>-2.001648e-43</td>\n",
       "      <td>-1.152643e-21</td>\n",
       "      <td>3.008323e-21</td>\n",
       "      <td>-2.048172e-49</td>\n",
       "      <td>9.448091e-49</td>\n",
       "      <td>-4.400864e-107</td>\n",
       "      <td>-7.942572e-107</td>\n",
       "      <td>-1.044384e-76</td>\n",
       "      <td>...</td>\n",
       "      <td>1.395123e+02</td>\n",
       "      <td>-8.592200e-17</td>\n",
       "      <td>4.485000e-18</td>\n",
       "      <td>-1.068665e-28</td>\n",
       "      <td>-2.040480e-27</td>\n",
       "      <td>9.672725e-29</td>\n",
       "      <td>-3.286783e-30</td>\n",
       "      <td>-7.530437e-60</td>\n",
       "      <td>-1.312692e-60</td>\n",
       "      <td>1</td>\n",
       "    </tr>\n",
       "    <tr>\n",
       "      <th>...</th>\n",
       "      <td>...</td>\n",
       "      <td>...</td>\n",
       "      <td>...</td>\n",
       "      <td>...</td>\n",
       "      <td>...</td>\n",
       "      <td>...</td>\n",
       "      <td>...</td>\n",
       "      <td>...</td>\n",
       "      <td>...</td>\n",
       "      <td>...</td>\n",
       "      <td>...</td>\n",
       "      <td>...</td>\n",
       "      <td>...</td>\n",
       "      <td>...</td>\n",
       "      <td>...</td>\n",
       "      <td>...</td>\n",
       "      <td>...</td>\n",
       "      <td>...</td>\n",
       "      <td>...</td>\n",
       "      <td>...</td>\n",
       "      <td>...</td>\n",
       "    </tr>\n",
       "    <tr>\n",
       "      <th>895</th>\n",
       "      <td>1.157846e-76</td>\n",
       "      <td>-5.470302e-26</td>\n",
       "      <td>3.043942e-27</td>\n",
       "      <td>6.240048e-13</td>\n",
       "      <td>-1.264379e-12</td>\n",
       "      <td>6.792496e-04</td>\n",
       "      <td>1.814291e-05</td>\n",
       "      <td>1.346263e-07</td>\n",
       "      <td>1.954964e-06</td>\n",
       "      <td>9.082846e-77</td>\n",
       "      <td>...</td>\n",
       "      <td>-3.007331e-77</td>\n",
       "      <td>-2.060494e-43</td>\n",
       "      <td>-7.399476e-44</td>\n",
       "      <td>5.178311e-08</td>\n",
       "      <td>-3.137088e-09</td>\n",
       "      <td>2.906324e-43</td>\n",
       "      <td>-2.743590e-43</td>\n",
       "      <td>-5.960972e-45</td>\n",
       "      <td>2.233801e-45</td>\n",
       "      <td>3</td>\n",
       "    </tr>\n",
       "    <tr>\n",
       "      <th>896</th>\n",
       "      <td>-2.168122e+02</td>\n",
       "      <td>-4.792867e-98</td>\n",
       "      <td>-9.646731e-98</td>\n",
       "      <td>5.953986e-18</td>\n",
       "      <td>-2.190032e-17</td>\n",
       "      <td>1.626795e-01</td>\n",
       "      <td>6.364161e-02</td>\n",
       "      <td>-3.974077e+00</td>\n",
       "      <td>1.345732e+01</td>\n",
       "      <td>-4.816425e+01</td>\n",
       "      <td>...</td>\n",
       "      <td>-1.649178e-76</td>\n",
       "      <td>-1.049403e-15</td>\n",
       "      <td>-1.373780e-14</td>\n",
       "      <td>7.401185e-21</td>\n",
       "      <td>3.758611e-21</td>\n",
       "      <td>-1.949933e-99</td>\n",
       "      <td>-2.543363e-100</td>\n",
       "      <td>-2.118328e-72</td>\n",
       "      <td>-4.586728e-72</td>\n",
       "      <td>3</td>\n",
       "    </tr>\n",
       "    <tr>\n",
       "      <th>897</th>\n",
       "      <td>2.566527e-76</td>\n",
       "      <td>-1.652214e-113</td>\n",
       "      <td>-8.639612e-114</td>\n",
       "      <td>1.699006e-03</td>\n",
       "      <td>-1.585772e-03</td>\n",
       "      <td>5.662407e+01</td>\n",
       "      <td>1.236966e+01</td>\n",
       "      <td>5.786020e-09</td>\n",
       "      <td>4.060978e-08</td>\n",
       "      <td>1.808748e-76</td>\n",
       "      <td>...</td>\n",
       "      <td>1.513038e+01</td>\n",
       "      <td>-1.060098e-26</td>\n",
       "      <td>-1.750698e-26</td>\n",
       "      <td>-1.800823e-77</td>\n",
       "      <td>7.522683e-78</td>\n",
       "      <td>-1.630013e-76</td>\n",
       "      <td>-2.853988e-76</td>\n",
       "      <td>5.646336e-59</td>\n",
       "      <td>-4.876300e-58</td>\n",
       "      <td>3</td>\n",
       "    </tr>\n",
       "    <tr>\n",
       "      <th>898</th>\n",
       "      <td>1.838723e-76</td>\n",
       "      <td>-7.426431e-108</td>\n",
       "      <td>-6.460741e-108</td>\n",
       "      <td>5.544584e-16</td>\n",
       "      <td>9.510354e-17</td>\n",
       "      <td>-7.440065e-36</td>\n",
       "      <td>5.226040e-35</td>\n",
       "      <td>-1.709426e-13</td>\n",
       "      <td>1.622303e-13</td>\n",
       "      <td>2.078416e-76</td>\n",
       "      <td>...</td>\n",
       "      <td>-1.601755e-76</td>\n",
       "      <td>-6.566466e-17</td>\n",
       "      <td>-4.765018e-16</td>\n",
       "      <td>-3.967253e-33</td>\n",
       "      <td>-1.826134e-32</td>\n",
       "      <td>-9.850697e-15</td>\n",
       "      <td>3.601815e-13</td>\n",
       "      <td>2.265741e-44</td>\n",
       "      <td>-2.811641e-44</td>\n",
       "      <td>3</td>\n",
       "    </tr>\n",
       "    <tr>\n",
       "      <th>899</th>\n",
       "      <td>1.448964e-76</td>\n",
       "      <td>-7.522969e-101</td>\n",
       "      <td>-1.163637e-100</td>\n",
       "      <td>-4.657812e-39</td>\n",
       "      <td>-6.996677e-39</td>\n",
       "      <td>2.902599e+00</td>\n",
       "      <td>9.837693e-01</td>\n",
       "      <td>1.445942e-56</td>\n",
       "      <td>-7.847801e-57</td>\n",
       "      <td>-8.075486e+01</td>\n",
       "      <td>...</td>\n",
       "      <td>-1.093012e-76</td>\n",
       "      <td>-1.285983e-93</td>\n",
       "      <td>4.327525e-94</td>\n",
       "      <td>-1.351911e-35</td>\n",
       "      <td>-4.033133e-35</td>\n",
       "      <td>-5.697690e-47</td>\n",
       "      <td>1.019269e-47</td>\n",
       "      <td>-1.747551e-74</td>\n",
       "      <td>-2.881117e-74</td>\n",
       "      <td>3</td>\n",
       "    </tr>\n",
       "  </tbody>\n",
       "</table>\n",
       "<p>900 rows × 190 columns</p>\n",
       "</div>"
      ],
      "text/plain": [
       "                0              1              2             3             4  \\\n",
       "0    3.009208e+02  -3.429649e+02  -4.647622e+02 -2.246806e+02  6.696642e+01   \n",
       "1    8.153356e+01  -2.487301e+02  -3.439767e+02  4.348247e-70 -1.549788e-71   \n",
       "2   -6.844169e-77  -1.602293e-05  -4.474336e-05  9.900584e-54  7.165481e-54   \n",
       "3   -4.542022e-76   6.922251e-24  -1.779245e-23  2.150871e-75 -5.714650e-76   \n",
       "4    1.377595e+01   4.669149e-43  -2.001648e-43 -1.152643e-21  3.008323e-21   \n",
       "..            ...            ...            ...           ...           ...   \n",
       "895  1.157846e-76  -5.470302e-26   3.043942e-27  6.240048e-13 -1.264379e-12   \n",
       "896 -2.168122e+02  -4.792867e-98  -9.646731e-98  5.953986e-18 -2.190032e-17   \n",
       "897  2.566527e-76 -1.652214e-113 -8.639612e-114  1.699006e-03 -1.585772e-03   \n",
       "898  1.838723e-76 -7.426431e-108 -6.460741e-108  5.544584e-16  9.510354e-17   \n",
       "899  1.448964e-76 -7.522969e-101 -1.163637e-100 -4.657812e-39 -6.996677e-39   \n",
       "\n",
       "                5             6              7              8             9  \\\n",
       "0    4.447605e+02 -1.110354e+02  -1.349488e+02   1.608583e+02  2.724722e+02   \n",
       "1    3.002417e-09  5.969172e-10  -8.524113e-09   2.774222e-08 -3.028136e-77   \n",
       "2    1.620427e-29  2.498059e-29 -1.309452e-118 -8.702618e-119  5.592183e+01   \n",
       "3    7.055221e-37  2.307332e-36  -3.934227e-15   5.671445e-14 -2.062241e-76   \n",
       "4   -2.048172e-49  9.448091e-49 -4.400864e-107 -7.942572e-107 -1.044384e-76   \n",
       "..            ...           ...            ...            ...           ...   \n",
       "895  6.792496e-04  1.814291e-05   1.346263e-07   1.954964e-06  9.082846e-77   \n",
       "896  1.626795e-01  6.364161e-02  -3.974077e+00   1.345732e+01 -4.816425e+01   \n",
       "897  5.662407e+01  1.236966e+01   5.786020e-09   4.060978e-08  1.808748e-76   \n",
       "898 -7.440065e-36  5.226040e-35  -1.709426e-13   1.622303e-13  2.078416e-76   \n",
       "899  2.902599e+00  9.837693e-01   1.445942e-56  -7.847801e-57 -8.075486e+01   \n",
       "\n",
       "     ...           180           181           182           183  \\\n",
       "0    ...  1.448769e+02 -6.538818e+01  6.694365e+01 -1.105842e+02   \n",
       "1    ...  2.133608e+02 -5.294351e-11  1.579116e-11 -3.877128e-19   \n",
       "2    ...  1.366472e+02  1.415349e-24  5.354570e-24 -5.195356e-01   \n",
       "3    ...  6.171925e+01 -1.335113e+00  1.617750e+00 -1.789012e-15   \n",
       "4    ...  1.395123e+02 -8.592200e-17  4.485000e-18 -1.068665e-28   \n",
       "..   ...           ...           ...           ...           ...   \n",
       "895  ... -3.007331e-77 -2.060494e-43 -7.399476e-44  5.178311e-08   \n",
       "896  ... -1.649178e-76 -1.049403e-15 -1.373780e-14  7.401185e-21   \n",
       "897  ...  1.513038e+01 -1.060098e-26 -1.750698e-26 -1.800823e-77   \n",
       "898  ... -1.601755e-76 -6.566466e-17 -4.765018e-16 -3.967253e-33   \n",
       "899  ... -1.093012e-76 -1.285983e-93  4.327525e-94 -1.351911e-35   \n",
       "\n",
       "              184           185            186           187           188  \\\n",
       "0   -4.063089e+01  2.597227e+01  -7.757350e+01  5.763786e+01 -3.373140e+01   \n",
       "1   -9.025796e-19 -7.986507e-98   3.732105e-98  1.717720e-16 -4.723078e-16   \n",
       "2   -2.534969e-01 -1.472199e-97   6.984946e-98  2.136611e-01 -1.549255e-01   \n",
       "3   -2.929098e-15  2.321463e-06  -3.811522e-05 -2.923351e-62 -2.061884e-63   \n",
       "4   -2.040480e-27  9.672725e-29  -3.286783e-30 -7.530437e-60 -1.312692e-60   \n",
       "..            ...           ...            ...           ...           ...   \n",
       "895 -3.137088e-09  2.906324e-43  -2.743590e-43 -5.960972e-45  2.233801e-45   \n",
       "896  3.758611e-21 -1.949933e-99 -2.543363e-100 -2.118328e-72 -4.586728e-72   \n",
       "897  7.522683e-78 -1.630013e-76  -2.853988e-76  5.646336e-59 -4.876300e-58   \n",
       "898 -1.826134e-32 -9.850697e-15   3.601815e-13  2.265741e-44 -2.811641e-44   \n",
       "899 -4.033133e-35 -5.697690e-47   1.019269e-47 -1.747551e-74 -2.881117e-74   \n",
       "\n",
       "     label  \n",
       "0        1  \n",
       "1        1  \n",
       "2        1  \n",
       "3        1  \n",
       "4        1  \n",
       "..     ...  \n",
       "895      3  \n",
       "896      3  \n",
       "897      3  \n",
       "898      3  \n",
       "899      3  \n",
       "\n",
       "[900 rows x 190 columns]"
      ]
     },
     "execution_count": 25,
     "metadata": {},
     "output_type": "execute_result"
    }
   ],
   "source": [
    "dataset"
   ]
  },
  {
   "cell_type": "code",
   "execution_count": 26,
   "metadata": {
    "id": "FHq27QR2Cv3i"
   },
   "outputs": [],
   "source": [
    "f2 = \"csvDatasets/\" + file_name + \".csv\"\n",
    "dataset.to_csv(f2)\n",
    "# !cp dataset.csv \"/content/drive/MyDrive/IIT Delhi/HSL622_termPaper\""
   ]
  },
  {
   "cell_type": "markdown",
   "metadata": {
    "id": "nfsc0txNoJ9U"
   },
   "source": [
    "Apply different ML classification algorithms to dataset present in \"dataset\"\n",
    "few implemented algorithms are here https://github.com/mrzResearchArena/MI-EEG/tree/master/Machine-Learning"
   ]
  },
  {
   "cell_type": "code",
   "execution_count": 27,
   "metadata": {
    "id": "-4Rn7gK9CW6u"
   },
   "outputs": [],
   "source": [
    "dataset = dataset.sample(frac=1).reset_index(drop=True)"
   ]
  },
  {
   "cell_type": "code",
   "execution_count": 28,
   "metadata": {
    "colab": {
     "base_uri": "https://localhost:8080/",
     "height": 578
    },
    "id": "cuRG8_0aHJu_",
    "outputId": "cbf4df2b-ff41-4399-9d27-44823a6d6801"
   },
   "outputs": [
    {
     "data": {
      "text/html": [
       "<div>\n",
       "<style scoped>\n",
       "    .dataframe tbody tr th:only-of-type {\n",
       "        vertical-align: middle;\n",
       "    }\n",
       "\n",
       "    .dataframe tbody tr th {\n",
       "        vertical-align: top;\n",
       "    }\n",
       "\n",
       "    .dataframe thead th {\n",
       "        text-align: right;\n",
       "    }\n",
       "</style>\n",
       "<table border=\"1\" class=\"dataframe\">\n",
       "  <thead>\n",
       "    <tr style=\"text-align: right;\">\n",
       "      <th></th>\n",
       "      <th>0</th>\n",
       "      <th>1</th>\n",
       "      <th>2</th>\n",
       "      <th>3</th>\n",
       "      <th>4</th>\n",
       "      <th>5</th>\n",
       "      <th>6</th>\n",
       "      <th>7</th>\n",
       "      <th>8</th>\n",
       "      <th>9</th>\n",
       "      <th>...</th>\n",
       "      <th>180</th>\n",
       "      <th>181</th>\n",
       "      <th>182</th>\n",
       "      <th>183</th>\n",
       "      <th>184</th>\n",
       "      <th>185</th>\n",
       "      <th>186</th>\n",
       "      <th>187</th>\n",
       "      <th>188</th>\n",
       "      <th>label</th>\n",
       "    </tr>\n",
       "  </thead>\n",
       "  <tbody>\n",
       "    <tr>\n",
       "      <th>0</th>\n",
       "      <td>5.309435e-77</td>\n",
       "      <td>6.181262e-69</td>\n",
       "      <td>8.927493e-69</td>\n",
       "      <td>2.913466e-12</td>\n",
       "      <td>5.612300e-13</td>\n",
       "      <td>4.292969e-25</td>\n",
       "      <td>4.043772e-23</td>\n",
       "      <td>-8.918421e-06</td>\n",
       "      <td>4.824815e-06</td>\n",
       "      <td>1.992344e-76</td>\n",
       "      <td>...</td>\n",
       "      <td>1.665034e-76</td>\n",
       "      <td>-6.889740e-13</td>\n",
       "      <td>-2.653141e-13</td>\n",
       "      <td>-5.465731e-08</td>\n",
       "      <td>-2.159313e-08</td>\n",
       "      <td>1.065775e-03</td>\n",
       "      <td>-7.056326e-03</td>\n",
       "      <td>-8.964495e-22</td>\n",
       "      <td>-1.447673e-20</td>\n",
       "      <td>2</td>\n",
       "    </tr>\n",
       "    <tr>\n",
       "      <th>1</th>\n",
       "      <td>1.529883e+03</td>\n",
       "      <td>-1.484220e-98</td>\n",
       "      <td>6.344729e-98</td>\n",
       "      <td>7.095286e-49</td>\n",
       "      <td>7.624116e-49</td>\n",
       "      <td>1.981440e-17</td>\n",
       "      <td>1.151334e-17</td>\n",
       "      <td>1.161849e-22</td>\n",
       "      <td>4.207620e-22</td>\n",
       "      <td>1.363320e+03</td>\n",
       "      <td>...</td>\n",
       "      <td>-2.942766e-77</td>\n",
       "      <td>-4.115855e+00</td>\n",
       "      <td>4.545926e+00</td>\n",
       "      <td>-5.917235e+01</td>\n",
       "      <td>-2.267318e+01</td>\n",
       "      <td>-6.237189e-46</td>\n",
       "      <td>-4.130259e-48</td>\n",
       "      <td>-2.321699e-29</td>\n",
       "      <td>-1.404989e-28</td>\n",
       "      <td>1</td>\n",
       "    </tr>\n",
       "    <tr>\n",
       "      <th>2</th>\n",
       "      <td>-2.972209e+02</td>\n",
       "      <td>1.601514e-07</td>\n",
       "      <td>-4.379627e-06</td>\n",
       "      <td>1.387038e-20</td>\n",
       "      <td>-4.346833e-20</td>\n",
       "      <td>2.551042e+01</td>\n",
       "      <td>1.753175e+01</td>\n",
       "      <td>3.984404e-38</td>\n",
       "      <td>3.740111e-38</td>\n",
       "      <td>-1.966406e+02</td>\n",
       "      <td>...</td>\n",
       "      <td>2.134584e-76</td>\n",
       "      <td>-4.506618e-09</td>\n",
       "      <td>-2.629496e-09</td>\n",
       "      <td>-8.489333e-129</td>\n",
       "      <td>1.511194e-128</td>\n",
       "      <td>-1.024871e-115</td>\n",
       "      <td>8.361676e-118</td>\n",
       "      <td>-8.435696e-27</td>\n",
       "      <td>-2.806746e-26</td>\n",
       "      <td>2</td>\n",
       "    </tr>\n",
       "    <tr>\n",
       "      <th>3</th>\n",
       "      <td>-1.548582e+02</td>\n",
       "      <td>-6.727792e-06</td>\n",
       "      <td>-2.905734e-04</td>\n",
       "      <td>1.826624e-04</td>\n",
       "      <td>-2.334468e-05</td>\n",
       "      <td>4.122635e-07</td>\n",
       "      <td>5.399802e-07</td>\n",
       "      <td>-6.211021e+01</td>\n",
       "      <td>6.518996e+01</td>\n",
       "      <td>-8.502421e+02</td>\n",
       "      <td>...</td>\n",
       "      <td>-1.319806e+02</td>\n",
       "      <td>-3.306898e-10</td>\n",
       "      <td>-1.683080e-10</td>\n",
       "      <td>-4.278274e-30</td>\n",
       "      <td>-1.324991e-29</td>\n",
       "      <td>3.340014e-10</td>\n",
       "      <td>-6.677676e-10</td>\n",
       "      <td>7.854094e-12</td>\n",
       "      <td>-2.361667e-11</td>\n",
       "      <td>2</td>\n",
       "    </tr>\n",
       "    <tr>\n",
       "      <th>4</th>\n",
       "      <td>1.900824e-75</td>\n",
       "      <td>9.393667e-42</td>\n",
       "      <td>1.852840e-42</td>\n",
       "      <td>3.234156e-25</td>\n",
       "      <td>2.091567e-25</td>\n",
       "      <td>9.282569e-17</td>\n",
       "      <td>1.494606e-16</td>\n",
       "      <td>1.593498e-12</td>\n",
       "      <td>4.644421e-12</td>\n",
       "      <td>1.947480e-75</td>\n",
       "      <td>...</td>\n",
       "      <td>-2.650807e-76</td>\n",
       "      <td>-1.759200e-20</td>\n",
       "      <td>-5.723854e-20</td>\n",
       "      <td>-2.400264e-63</td>\n",
       "      <td>-2.660440e-64</td>\n",
       "      <td>1.718164e-61</td>\n",
       "      <td>-1.632686e-60</td>\n",
       "      <td>-2.021712e-66</td>\n",
       "      <td>-9.907250e-66</td>\n",
       "      <td>3</td>\n",
       "    </tr>\n",
       "    <tr>\n",
       "      <th>5</th>\n",
       "      <td>2.034277e-76</td>\n",
       "      <td>-8.217915e-07</td>\n",
       "      <td>-1.179554e-06</td>\n",
       "      <td>3.623800e-07</td>\n",
       "      <td>-5.342950e-09</td>\n",
       "      <td>2.992930e-06</td>\n",
       "      <td>3.626993e-06</td>\n",
       "      <td>-2.195948e-09</td>\n",
       "      <td>6.043134e-09</td>\n",
       "      <td>3.489272e-76</td>\n",
       "      <td>...</td>\n",
       "      <td>7.736473e-77</td>\n",
       "      <td>-3.672713e-20</td>\n",
       "      <td>-3.046894e-21</td>\n",
       "      <td>-1.651316e-04</td>\n",
       "      <td>-4.203844e-05</td>\n",
       "      <td>-9.811160e-13</td>\n",
       "      <td>-1.576735e-12</td>\n",
       "      <td>7.406880e-13</td>\n",
       "      <td>-2.709706e-12</td>\n",
       "      <td>2</td>\n",
       "    </tr>\n",
       "    <tr>\n",
       "      <th>6</th>\n",
       "      <td>-2.479081e+02</td>\n",
       "      <td>-2.442803e-105</td>\n",
       "      <td>-2.584985e-105</td>\n",
       "      <td>1.707668e-07</td>\n",
       "      <td>-2.161975e-07</td>\n",
       "      <td>5.388556e-22</td>\n",
       "      <td>-4.587529e-22</td>\n",
       "      <td>1.149031e-11</td>\n",
       "      <td>4.468636e-11</td>\n",
       "      <td>-2.214776e+02</td>\n",
       "      <td>...</td>\n",
       "      <td>-3.147179e-77</td>\n",
       "      <td>-2.550494e-81</td>\n",
       "      <td>2.770381e-81</td>\n",
       "      <td>1.088136e-01</td>\n",
       "      <td>-3.367842e-02</td>\n",
       "      <td>-9.638314e-76</td>\n",
       "      <td>-1.807129e-75</td>\n",
       "      <td>1.044369e-01</td>\n",
       "      <td>1.114779e-01</td>\n",
       "      <td>3</td>\n",
       "    </tr>\n",
       "    <tr>\n",
       "      <th>7</th>\n",
       "      <td>-2.179917e+02</td>\n",
       "      <td>-9.970795e-111</td>\n",
       "      <td>-6.652068e-111</td>\n",
       "      <td>-1.439702e-26</td>\n",
       "      <td>-1.823712e-25</td>\n",
       "      <td>1.883039e-11</td>\n",
       "      <td>-5.620318e-12</td>\n",
       "      <td>2.372658e-39</td>\n",
       "      <td>4.532786e-40</td>\n",
       "      <td>-3.029994e+02</td>\n",
       "      <td>...</td>\n",
       "      <td>-5.261588e-77</td>\n",
       "      <td>-3.767858e-23</td>\n",
       "      <td>-8.829505e-23</td>\n",
       "      <td>6.899506e-50</td>\n",
       "      <td>5.170083e-48</td>\n",
       "      <td>-1.094274e-87</td>\n",
       "      <td>-7.366705e-88</td>\n",
       "      <td>-6.335383e-75</td>\n",
       "      <td>-1.033325e-74</td>\n",
       "      <td>3</td>\n",
       "    </tr>\n",
       "    <tr>\n",
       "      <th>8</th>\n",
       "      <td>5.656720e-76</td>\n",
       "      <td>-1.461992e-110</td>\n",
       "      <td>7.388230e-111</td>\n",
       "      <td>-3.868980e-55</td>\n",
       "      <td>1.353127e-54</td>\n",
       "      <td>1.438153e-31</td>\n",
       "      <td>-1.369759e-31</td>\n",
       "      <td>4.178230e-29</td>\n",
       "      <td>8.996613e-29</td>\n",
       "      <td>5.520204e-76</td>\n",
       "      <td>...</td>\n",
       "      <td>1.417290e-76</td>\n",
       "      <td>-8.765541e-04</td>\n",
       "      <td>-8.255361e-04</td>\n",
       "      <td>-1.244650e-09</td>\n",
       "      <td>-5.632360e-10</td>\n",
       "      <td>1.234921e-73</td>\n",
       "      <td>7.956979e-73</td>\n",
       "      <td>-5.531025e-37</td>\n",
       "      <td>-6.577837e-37</td>\n",
       "      <td>2</td>\n",
       "    </tr>\n",
       "    <tr>\n",
       "      <th>9</th>\n",
       "      <td>-8.384314e+01</td>\n",
       "      <td>-1.597429e-99</td>\n",
       "      <td>-2.854362e-99</td>\n",
       "      <td>5.290332e-08</td>\n",
       "      <td>-9.219525e-09</td>\n",
       "      <td>7.003355e-11</td>\n",
       "      <td>-1.792935e-11</td>\n",
       "      <td>-5.985424e-06</td>\n",
       "      <td>1.836980e-04</td>\n",
       "      <td>-6.104367e+02</td>\n",
       "      <td>...</td>\n",
       "      <td>-1.735700e-78</td>\n",
       "      <td>-1.313115e-30</td>\n",
       "      <td>-1.535325e-30</td>\n",
       "      <td>-1.349162e-43</td>\n",
       "      <td>-1.743341e-43</td>\n",
       "      <td>5.674866e-06</td>\n",
       "      <td>5.253474e-06</td>\n",
       "      <td>2.418116e-37</td>\n",
       "      <td>-1.749994e-37</td>\n",
       "      <td>3</td>\n",
       "    </tr>\n",
       "  </tbody>\n",
       "</table>\n",
       "<p>10 rows × 190 columns</p>\n",
       "</div>"
      ],
      "text/plain": [
       "              0              1              2             3             4  \\\n",
       "0  5.309435e-77   6.181262e-69   8.927493e-69  2.913466e-12  5.612300e-13   \n",
       "1  1.529883e+03  -1.484220e-98   6.344729e-98  7.095286e-49  7.624116e-49   \n",
       "2 -2.972209e+02   1.601514e-07  -4.379627e-06  1.387038e-20 -4.346833e-20   \n",
       "3 -1.548582e+02  -6.727792e-06  -2.905734e-04  1.826624e-04 -2.334468e-05   \n",
       "4  1.900824e-75   9.393667e-42   1.852840e-42  3.234156e-25  2.091567e-25   \n",
       "5  2.034277e-76  -8.217915e-07  -1.179554e-06  3.623800e-07 -5.342950e-09   \n",
       "6 -2.479081e+02 -2.442803e-105 -2.584985e-105  1.707668e-07 -2.161975e-07   \n",
       "7 -2.179917e+02 -9.970795e-111 -6.652068e-111 -1.439702e-26 -1.823712e-25   \n",
       "8  5.656720e-76 -1.461992e-110  7.388230e-111 -3.868980e-55  1.353127e-54   \n",
       "9 -8.384314e+01  -1.597429e-99  -2.854362e-99  5.290332e-08 -9.219525e-09   \n",
       "\n",
       "              5             6             7             8             9  ...  \\\n",
       "0  4.292969e-25  4.043772e-23 -8.918421e-06  4.824815e-06  1.992344e-76  ...   \n",
       "1  1.981440e-17  1.151334e-17  1.161849e-22  4.207620e-22  1.363320e+03  ...   \n",
       "2  2.551042e+01  1.753175e+01  3.984404e-38  3.740111e-38 -1.966406e+02  ...   \n",
       "3  4.122635e-07  5.399802e-07 -6.211021e+01  6.518996e+01 -8.502421e+02  ...   \n",
       "4  9.282569e-17  1.494606e-16  1.593498e-12  4.644421e-12  1.947480e-75  ...   \n",
       "5  2.992930e-06  3.626993e-06 -2.195948e-09  6.043134e-09  3.489272e-76  ...   \n",
       "6  5.388556e-22 -4.587529e-22  1.149031e-11  4.468636e-11 -2.214776e+02  ...   \n",
       "7  1.883039e-11 -5.620318e-12  2.372658e-39  4.532786e-40 -3.029994e+02  ...   \n",
       "8  1.438153e-31 -1.369759e-31  4.178230e-29  8.996613e-29  5.520204e-76  ...   \n",
       "9  7.003355e-11 -1.792935e-11 -5.985424e-06  1.836980e-04 -6.104367e+02  ...   \n",
       "\n",
       "            180           181           182            183            184  \\\n",
       "0  1.665034e-76 -6.889740e-13 -2.653141e-13  -5.465731e-08  -2.159313e-08   \n",
       "1 -2.942766e-77 -4.115855e+00  4.545926e+00  -5.917235e+01  -2.267318e+01   \n",
       "2  2.134584e-76 -4.506618e-09 -2.629496e-09 -8.489333e-129  1.511194e-128   \n",
       "3 -1.319806e+02 -3.306898e-10 -1.683080e-10  -4.278274e-30  -1.324991e-29   \n",
       "4 -2.650807e-76 -1.759200e-20 -5.723854e-20  -2.400264e-63  -2.660440e-64   \n",
       "5  7.736473e-77 -3.672713e-20 -3.046894e-21  -1.651316e-04  -4.203844e-05   \n",
       "6 -3.147179e-77 -2.550494e-81  2.770381e-81   1.088136e-01  -3.367842e-02   \n",
       "7 -5.261588e-77 -3.767858e-23 -8.829505e-23   6.899506e-50   5.170083e-48   \n",
       "8  1.417290e-76 -8.765541e-04 -8.255361e-04  -1.244650e-09  -5.632360e-10   \n",
       "9 -1.735700e-78 -1.313115e-30 -1.535325e-30  -1.349162e-43  -1.743341e-43   \n",
       "\n",
       "             185            186           187           188  label  \n",
       "0   1.065775e-03  -7.056326e-03 -8.964495e-22 -1.447673e-20      2  \n",
       "1  -6.237189e-46  -4.130259e-48 -2.321699e-29 -1.404989e-28      1  \n",
       "2 -1.024871e-115  8.361676e-118 -8.435696e-27 -2.806746e-26      2  \n",
       "3   3.340014e-10  -6.677676e-10  7.854094e-12 -2.361667e-11      2  \n",
       "4   1.718164e-61  -1.632686e-60 -2.021712e-66 -9.907250e-66      3  \n",
       "5  -9.811160e-13  -1.576735e-12  7.406880e-13 -2.709706e-12      2  \n",
       "6  -9.638314e-76  -1.807129e-75  1.044369e-01  1.114779e-01      3  \n",
       "7  -1.094274e-87  -7.366705e-88 -6.335383e-75 -1.033325e-74      3  \n",
       "8   1.234921e-73   7.956979e-73 -5.531025e-37 -6.577837e-37      2  \n",
       "9   5.674866e-06   5.253474e-06  2.418116e-37 -1.749994e-37      3  \n",
       "\n",
       "[10 rows x 190 columns]"
      ]
     },
     "execution_count": 28,
     "metadata": {},
     "output_type": "execute_result"
    }
   ],
   "source": [
    "dataset.head(10)"
   ]
  },
  {
   "cell_type": "code",
   "execution_count": 29,
   "metadata": {
    "id": "RyFHppewHVE2"
   },
   "outputs": [],
   "source": [
    "from sklearn.model_selection import train_test_split\n"
   ]
  },
  {
   "cell_type": "code",
   "execution_count": 30,
   "metadata": {
    "id": "nZi4CdCUIefZ"
   },
   "outputs": [],
   "source": [
    "train, test = train_test_split(dataset, test_size=0.2, shuffle=False, random_state=0)"
   ]
  },
  {
   "cell_type": "code",
   "execution_count": 31,
   "metadata": {
    "colab": {
     "base_uri": "https://localhost:8080/",
     "height": 609
    },
    "id": "oCPvIB_CJLmh",
    "outputId": "bdf8291d-f881-43a4-8611-9f3b2def2195"
   },
   "outputs": [
    {
     "data": {
      "text/html": [
       "<div>\n",
       "<style scoped>\n",
       "    .dataframe tbody tr th:only-of-type {\n",
       "        vertical-align: middle;\n",
       "    }\n",
       "\n",
       "    .dataframe tbody tr th {\n",
       "        vertical-align: top;\n",
       "    }\n",
       "\n",
       "    .dataframe thead th {\n",
       "        text-align: right;\n",
       "    }\n",
       "</style>\n",
       "<table border=\"1\" class=\"dataframe\">\n",
       "  <thead>\n",
       "    <tr style=\"text-align: right;\">\n",
       "      <th></th>\n",
       "      <th>0</th>\n",
       "      <th>1</th>\n",
       "      <th>2</th>\n",
       "      <th>3</th>\n",
       "      <th>4</th>\n",
       "      <th>5</th>\n",
       "      <th>6</th>\n",
       "      <th>7</th>\n",
       "      <th>8</th>\n",
       "      <th>9</th>\n",
       "      <th>...</th>\n",
       "      <th>180</th>\n",
       "      <th>181</th>\n",
       "      <th>182</th>\n",
       "      <th>183</th>\n",
       "      <th>184</th>\n",
       "      <th>185</th>\n",
       "      <th>186</th>\n",
       "      <th>187</th>\n",
       "      <th>188</th>\n",
       "      <th>label</th>\n",
       "    </tr>\n",
       "  </thead>\n",
       "  <tbody>\n",
       "    <tr>\n",
       "      <th>0</th>\n",
       "      <td>5.309435e-77</td>\n",
       "      <td>6.181262e-69</td>\n",
       "      <td>8.927493e-69</td>\n",
       "      <td>2.913466e-12</td>\n",
       "      <td>5.612300e-13</td>\n",
       "      <td>4.292969e-25</td>\n",
       "      <td>4.043772e-23</td>\n",
       "      <td>-8.918421e-06</td>\n",
       "      <td>4.824815e-06</td>\n",
       "      <td>1.992344e-76</td>\n",
       "      <td>...</td>\n",
       "      <td>1.665034e-76</td>\n",
       "      <td>-6.889740e-13</td>\n",
       "      <td>-2.653141e-13</td>\n",
       "      <td>-5.465731e-08</td>\n",
       "      <td>-2.159313e-08</td>\n",
       "      <td>1.065775e-03</td>\n",
       "      <td>-7.056326e-03</td>\n",
       "      <td>-8.964495e-22</td>\n",
       "      <td>-1.447673e-20</td>\n",
       "      <td>2</td>\n",
       "    </tr>\n",
       "    <tr>\n",
       "      <th>1</th>\n",
       "      <td>1.529883e+03</td>\n",
       "      <td>-1.484220e-98</td>\n",
       "      <td>6.344729e-98</td>\n",
       "      <td>7.095286e-49</td>\n",
       "      <td>7.624116e-49</td>\n",
       "      <td>1.981440e-17</td>\n",
       "      <td>1.151334e-17</td>\n",
       "      <td>1.161849e-22</td>\n",
       "      <td>4.207620e-22</td>\n",
       "      <td>1.363320e+03</td>\n",
       "      <td>...</td>\n",
       "      <td>-2.942766e-77</td>\n",
       "      <td>-4.115855e+00</td>\n",
       "      <td>4.545926e+00</td>\n",
       "      <td>-5.917235e+01</td>\n",
       "      <td>-2.267318e+01</td>\n",
       "      <td>-6.237189e-46</td>\n",
       "      <td>-4.130259e-48</td>\n",
       "      <td>-2.321699e-29</td>\n",
       "      <td>-1.404989e-28</td>\n",
       "      <td>1</td>\n",
       "    </tr>\n",
       "    <tr>\n",
       "      <th>2</th>\n",
       "      <td>-2.972209e+02</td>\n",
       "      <td>1.601514e-07</td>\n",
       "      <td>-4.379627e-06</td>\n",
       "      <td>1.387038e-20</td>\n",
       "      <td>-4.346833e-20</td>\n",
       "      <td>2.551042e+01</td>\n",
       "      <td>1.753175e+01</td>\n",
       "      <td>3.984404e-38</td>\n",
       "      <td>3.740111e-38</td>\n",
       "      <td>-1.966406e+02</td>\n",
       "      <td>...</td>\n",
       "      <td>2.134584e-76</td>\n",
       "      <td>-4.506618e-09</td>\n",
       "      <td>-2.629496e-09</td>\n",
       "      <td>-8.489333e-129</td>\n",
       "      <td>1.511194e-128</td>\n",
       "      <td>-1.024871e-115</td>\n",
       "      <td>8.361676e-118</td>\n",
       "      <td>-8.435696e-27</td>\n",
       "      <td>-2.806746e-26</td>\n",
       "      <td>2</td>\n",
       "    </tr>\n",
       "    <tr>\n",
       "      <th>3</th>\n",
       "      <td>-1.548582e+02</td>\n",
       "      <td>-6.727792e-06</td>\n",
       "      <td>-2.905734e-04</td>\n",
       "      <td>1.826624e-04</td>\n",
       "      <td>-2.334468e-05</td>\n",
       "      <td>4.122635e-07</td>\n",
       "      <td>5.399802e-07</td>\n",
       "      <td>-6.211021e+01</td>\n",
       "      <td>6.518996e+01</td>\n",
       "      <td>-8.502421e+02</td>\n",
       "      <td>...</td>\n",
       "      <td>-1.319806e+02</td>\n",
       "      <td>-3.306898e-10</td>\n",
       "      <td>-1.683080e-10</td>\n",
       "      <td>-4.278274e-30</td>\n",
       "      <td>-1.324991e-29</td>\n",
       "      <td>3.340014e-10</td>\n",
       "      <td>-6.677676e-10</td>\n",
       "      <td>7.854094e-12</td>\n",
       "      <td>-2.361667e-11</td>\n",
       "      <td>2</td>\n",
       "    </tr>\n",
       "    <tr>\n",
       "      <th>4</th>\n",
       "      <td>1.900824e-75</td>\n",
       "      <td>9.393667e-42</td>\n",
       "      <td>1.852840e-42</td>\n",
       "      <td>3.234156e-25</td>\n",
       "      <td>2.091567e-25</td>\n",
       "      <td>9.282569e-17</td>\n",
       "      <td>1.494606e-16</td>\n",
       "      <td>1.593498e-12</td>\n",
       "      <td>4.644421e-12</td>\n",
       "      <td>1.947480e-75</td>\n",
       "      <td>...</td>\n",
       "      <td>-2.650807e-76</td>\n",
       "      <td>-1.759200e-20</td>\n",
       "      <td>-5.723854e-20</td>\n",
       "      <td>-2.400264e-63</td>\n",
       "      <td>-2.660440e-64</td>\n",
       "      <td>1.718164e-61</td>\n",
       "      <td>-1.632686e-60</td>\n",
       "      <td>-2.021712e-66</td>\n",
       "      <td>-9.907250e-66</td>\n",
       "      <td>3</td>\n",
       "    </tr>\n",
       "    <tr>\n",
       "      <th>...</th>\n",
       "      <td>...</td>\n",
       "      <td>...</td>\n",
       "      <td>...</td>\n",
       "      <td>...</td>\n",
       "      <td>...</td>\n",
       "      <td>...</td>\n",
       "      <td>...</td>\n",
       "      <td>...</td>\n",
       "      <td>...</td>\n",
       "      <td>...</td>\n",
       "      <td>...</td>\n",
       "      <td>...</td>\n",
       "      <td>...</td>\n",
       "      <td>...</td>\n",
       "      <td>...</td>\n",
       "      <td>...</td>\n",
       "      <td>...</td>\n",
       "      <td>...</td>\n",
       "      <td>...</td>\n",
       "      <td>...</td>\n",
       "      <td>...</td>\n",
       "    </tr>\n",
       "    <tr>\n",
       "      <th>715</th>\n",
       "      <td>-2.804787e-76</td>\n",
       "      <td>5.944987e-28</td>\n",
       "      <td>-9.692217e-28</td>\n",
       "      <td>4.898975e-76</td>\n",
       "      <td>-1.409999e-76</td>\n",
       "      <td>7.442626e-40</td>\n",
       "      <td>4.444868e-39</td>\n",
       "      <td>-3.243842e+00</td>\n",
       "      <td>4.411685e+00</td>\n",
       "      <td>4.164473e+01</td>\n",
       "      <td>...</td>\n",
       "      <td>1.121676e+02</td>\n",
       "      <td>-2.842922e+01</td>\n",
       "      <td>2.745786e+01</td>\n",
       "      <td>-7.092738e-11</td>\n",
       "      <td>-8.011412e-11</td>\n",
       "      <td>6.110635e+00</td>\n",
       "      <td>-1.668941e+01</td>\n",
       "      <td>-8.075239e-53</td>\n",
       "      <td>-4.308418e-53</td>\n",
       "      <td>1</td>\n",
       "    </tr>\n",
       "    <tr>\n",
       "      <th>716</th>\n",
       "      <td>-1.076830e-76</td>\n",
       "      <td>7.922468e-21</td>\n",
       "      <td>-3.069162e-20</td>\n",
       "      <td>1.187495e-62</td>\n",
       "      <td>3.186556e-63</td>\n",
       "      <td>6.298117e-38</td>\n",
       "      <td>2.564056e-37</td>\n",
       "      <td>-2.301173e-14</td>\n",
       "      <td>5.506741e-15</td>\n",
       "      <td>-2.408699e-76</td>\n",
       "      <td>...</td>\n",
       "      <td>1.686937e+02</td>\n",
       "      <td>-9.667722e-13</td>\n",
       "      <td>4.198479e-12</td>\n",
       "      <td>-9.781087e-03</td>\n",
       "      <td>-5.591904e-03</td>\n",
       "      <td>1.110592e-09</td>\n",
       "      <td>-1.194475e-09</td>\n",
       "      <td>5.316137e-11</td>\n",
       "      <td>-2.888534e-12</td>\n",
       "      <td>1</td>\n",
       "    </tr>\n",
       "    <tr>\n",
       "      <th>717</th>\n",
       "      <td>-2.489340e+02</td>\n",
       "      <td>-6.131938e-94</td>\n",
       "      <td>-2.162894e-93</td>\n",
       "      <td>3.016632e-02</td>\n",
       "      <td>-2.574009e-02</td>\n",
       "      <td>8.575968e-15</td>\n",
       "      <td>1.098997e-14</td>\n",
       "      <td>3.370607e-07</td>\n",
       "      <td>1.487087e-05</td>\n",
       "      <td>-1.670946e+02</td>\n",
       "      <td>...</td>\n",
       "      <td>-1.444676e-76</td>\n",
       "      <td>-5.559014e-26</td>\n",
       "      <td>-9.819147e-26</td>\n",
       "      <td>1.064784e-16</td>\n",
       "      <td>-2.238266e-16</td>\n",
       "      <td>3.338911e-60</td>\n",
       "      <td>-1.917192e-59</td>\n",
       "      <td>-1.333073e-65</td>\n",
       "      <td>-9.597605e-65</td>\n",
       "      <td>3</td>\n",
       "    </tr>\n",
       "    <tr>\n",
       "      <th>718</th>\n",
       "      <td>-8.791364e-77</td>\n",
       "      <td>-1.138522e-11</td>\n",
       "      <td>-4.978418e-12</td>\n",
       "      <td>-1.319478e-130</td>\n",
       "      <td>-1.083767e-130</td>\n",
       "      <td>-4.411069e-57</td>\n",
       "      <td>-2.681252e-57</td>\n",
       "      <td>1.543164e-80</td>\n",
       "      <td>-2.507878e-80</td>\n",
       "      <td>-3.196249e-76</td>\n",
       "      <td>...</td>\n",
       "      <td>-1.047460e-76</td>\n",
       "      <td>-1.957346e-106</td>\n",
       "      <td>-4.931016e-106</td>\n",
       "      <td>-6.387222e-147</td>\n",
       "      <td>2.674878e-149</td>\n",
       "      <td>1.000024e+01</td>\n",
       "      <td>-3.162134e+01</td>\n",
       "      <td>-2.117187e-54</td>\n",
       "      <td>-8.635576e-55</td>\n",
       "      <td>1</td>\n",
       "    </tr>\n",
       "    <tr>\n",
       "      <th>719</th>\n",
       "      <td>2.697998e-76</td>\n",
       "      <td>3.034653e-79</td>\n",
       "      <td>1.595145e-78</td>\n",
       "      <td>-5.512165e-82</td>\n",
       "      <td>9.609508e-83</td>\n",
       "      <td>5.181985e-42</td>\n",
       "      <td>-1.197320e-41</td>\n",
       "      <td>4.927939e-35</td>\n",
       "      <td>6.012537e-35</td>\n",
       "      <td>3.377096e-76</td>\n",
       "      <td>...</td>\n",
       "      <td>9.410190e-77</td>\n",
       "      <td>-4.823899e+00</td>\n",
       "      <td>-5.974478e+00</td>\n",
       "      <td>-1.402074e-118</td>\n",
       "      <td>2.440056e-117</td>\n",
       "      <td>2.390850e-16</td>\n",
       "      <td>-2.972583e-16</td>\n",
       "      <td>-9.911628e-47</td>\n",
       "      <td>-5.043031e-47</td>\n",
       "      <td>2</td>\n",
       "    </tr>\n",
       "  </tbody>\n",
       "</table>\n",
       "<p>720 rows × 190 columns</p>\n",
       "</div>"
      ],
      "text/plain": [
       "                0             1             2              3              4  \\\n",
       "0    5.309435e-77  6.181262e-69  8.927493e-69   2.913466e-12   5.612300e-13   \n",
       "1    1.529883e+03 -1.484220e-98  6.344729e-98   7.095286e-49   7.624116e-49   \n",
       "2   -2.972209e+02  1.601514e-07 -4.379627e-06   1.387038e-20  -4.346833e-20   \n",
       "3   -1.548582e+02 -6.727792e-06 -2.905734e-04   1.826624e-04  -2.334468e-05   \n",
       "4    1.900824e-75  9.393667e-42  1.852840e-42   3.234156e-25   2.091567e-25   \n",
       "..            ...           ...           ...            ...            ...   \n",
       "715 -2.804787e-76  5.944987e-28 -9.692217e-28   4.898975e-76  -1.409999e-76   \n",
       "716 -1.076830e-76  7.922468e-21 -3.069162e-20   1.187495e-62   3.186556e-63   \n",
       "717 -2.489340e+02 -6.131938e-94 -2.162894e-93   3.016632e-02  -2.574009e-02   \n",
       "718 -8.791364e-77 -1.138522e-11 -4.978418e-12 -1.319478e-130 -1.083767e-130   \n",
       "719  2.697998e-76  3.034653e-79  1.595145e-78  -5.512165e-82   9.609508e-83   \n",
       "\n",
       "                5             6             7             8             9  \\\n",
       "0    4.292969e-25  4.043772e-23 -8.918421e-06  4.824815e-06  1.992344e-76   \n",
       "1    1.981440e-17  1.151334e-17  1.161849e-22  4.207620e-22  1.363320e+03   \n",
       "2    2.551042e+01  1.753175e+01  3.984404e-38  3.740111e-38 -1.966406e+02   \n",
       "3    4.122635e-07  5.399802e-07 -6.211021e+01  6.518996e+01 -8.502421e+02   \n",
       "4    9.282569e-17  1.494606e-16  1.593498e-12  4.644421e-12  1.947480e-75   \n",
       "..            ...           ...           ...           ...           ...   \n",
       "715  7.442626e-40  4.444868e-39 -3.243842e+00  4.411685e+00  4.164473e+01   \n",
       "716  6.298117e-38  2.564056e-37 -2.301173e-14  5.506741e-15 -2.408699e-76   \n",
       "717  8.575968e-15  1.098997e-14  3.370607e-07  1.487087e-05 -1.670946e+02   \n",
       "718 -4.411069e-57 -2.681252e-57  1.543164e-80 -2.507878e-80 -3.196249e-76   \n",
       "719  5.181985e-42 -1.197320e-41  4.927939e-35  6.012537e-35  3.377096e-76   \n",
       "\n",
       "     ...           180            181            182            183  \\\n",
       "0    ...  1.665034e-76  -6.889740e-13  -2.653141e-13  -5.465731e-08   \n",
       "1    ... -2.942766e-77  -4.115855e+00   4.545926e+00  -5.917235e+01   \n",
       "2    ...  2.134584e-76  -4.506618e-09  -2.629496e-09 -8.489333e-129   \n",
       "3    ... -1.319806e+02  -3.306898e-10  -1.683080e-10  -4.278274e-30   \n",
       "4    ... -2.650807e-76  -1.759200e-20  -5.723854e-20  -2.400264e-63   \n",
       "..   ...           ...            ...            ...            ...   \n",
       "715  ...  1.121676e+02  -2.842922e+01   2.745786e+01  -7.092738e-11   \n",
       "716  ...  1.686937e+02  -9.667722e-13   4.198479e-12  -9.781087e-03   \n",
       "717  ... -1.444676e-76  -5.559014e-26  -9.819147e-26   1.064784e-16   \n",
       "718  ... -1.047460e-76 -1.957346e-106 -4.931016e-106 -6.387222e-147   \n",
       "719  ...  9.410190e-77  -4.823899e+00  -5.974478e+00 -1.402074e-118   \n",
       "\n",
       "               184            185            186           187           188  \\\n",
       "0    -2.159313e-08   1.065775e-03  -7.056326e-03 -8.964495e-22 -1.447673e-20   \n",
       "1    -2.267318e+01  -6.237189e-46  -4.130259e-48 -2.321699e-29 -1.404989e-28   \n",
       "2    1.511194e-128 -1.024871e-115  8.361676e-118 -8.435696e-27 -2.806746e-26   \n",
       "3    -1.324991e-29   3.340014e-10  -6.677676e-10  7.854094e-12 -2.361667e-11   \n",
       "4    -2.660440e-64   1.718164e-61  -1.632686e-60 -2.021712e-66 -9.907250e-66   \n",
       "..             ...            ...            ...           ...           ...   \n",
       "715  -8.011412e-11   6.110635e+00  -1.668941e+01 -8.075239e-53 -4.308418e-53   \n",
       "716  -5.591904e-03   1.110592e-09  -1.194475e-09  5.316137e-11 -2.888534e-12   \n",
       "717  -2.238266e-16   3.338911e-60  -1.917192e-59 -1.333073e-65 -9.597605e-65   \n",
       "718  2.674878e-149   1.000024e+01  -3.162134e+01 -2.117187e-54 -8.635576e-55   \n",
       "719  2.440056e-117   2.390850e-16  -2.972583e-16 -9.911628e-47 -5.043031e-47   \n",
       "\n",
       "     label  \n",
       "0        2  \n",
       "1        1  \n",
       "2        2  \n",
       "3        2  \n",
       "4        3  \n",
       "..     ...  \n",
       "715      1  \n",
       "716      1  \n",
       "717      3  \n",
       "718      1  \n",
       "719      2  \n",
       "\n",
       "[720 rows x 190 columns]"
      ]
     },
     "execution_count": 31,
     "metadata": {},
     "output_type": "execute_result"
    }
   ],
   "source": [
    "train"
   ]
  },
  {
   "cell_type": "code",
   "execution_count": 32,
   "metadata": {
    "id": "hmV-BVxIJNFk"
   },
   "outputs": [],
   "source": [
    "test = test.reset_index(drop=True)"
   ]
  },
  {
   "cell_type": "code",
   "execution_count": 33,
   "metadata": {
    "colab": {
     "base_uri": "https://localhost:8080/",
     "height": 609
    },
    "id": "wgKnwBxRKMuD",
    "outputId": "da8d6542-d3d6-460d-aaf2-300cce32e04f"
   },
   "outputs": [
    {
     "data": {
      "text/html": [
       "<div>\n",
       "<style scoped>\n",
       "    .dataframe tbody tr th:only-of-type {\n",
       "        vertical-align: middle;\n",
       "    }\n",
       "\n",
       "    .dataframe tbody tr th {\n",
       "        vertical-align: top;\n",
       "    }\n",
       "\n",
       "    .dataframe thead th {\n",
       "        text-align: right;\n",
       "    }\n",
       "</style>\n",
       "<table border=\"1\" class=\"dataframe\">\n",
       "  <thead>\n",
       "    <tr style=\"text-align: right;\">\n",
       "      <th></th>\n",
       "      <th>0</th>\n",
       "      <th>1</th>\n",
       "      <th>2</th>\n",
       "      <th>3</th>\n",
       "      <th>4</th>\n",
       "      <th>5</th>\n",
       "      <th>6</th>\n",
       "      <th>7</th>\n",
       "      <th>8</th>\n",
       "      <th>9</th>\n",
       "      <th>...</th>\n",
       "      <th>180</th>\n",
       "      <th>181</th>\n",
       "      <th>182</th>\n",
       "      <th>183</th>\n",
       "      <th>184</th>\n",
       "      <th>185</th>\n",
       "      <th>186</th>\n",
       "      <th>187</th>\n",
       "      <th>188</th>\n",
       "      <th>label</th>\n",
       "    </tr>\n",
       "  </thead>\n",
       "  <tbody>\n",
       "    <tr>\n",
       "      <th>0</th>\n",
       "      <td>-4.705584e+01</td>\n",
       "      <td>2.597979e-07</td>\n",
       "      <td>-1.330808e-05</td>\n",
       "      <td>4.299312e-30</td>\n",
       "      <td>5.260618e-30</td>\n",
       "      <td>-6.705858e-36</td>\n",
       "      <td>1.293833e-35</td>\n",
       "      <td>-3.353446e-123</td>\n",
       "      <td>-1.747745e-123</td>\n",
       "      <td>-3.753620e+02</td>\n",
       "      <td>...</td>\n",
       "      <td>9.778836e-77</td>\n",
       "      <td>-1.244790e-116</td>\n",
       "      <td>8.192154e-117</td>\n",
       "      <td>-1.429053e-25</td>\n",
       "      <td>-2.600254e-25</td>\n",
       "      <td>5.224132e-11</td>\n",
       "      <td>-9.887409e-11</td>\n",
       "      <td>1.371363e-25</td>\n",
       "      <td>4.150518e-26</td>\n",
       "      <td>2</td>\n",
       "    </tr>\n",
       "    <tr>\n",
       "      <th>1</th>\n",
       "      <td>-5.415394e+02</td>\n",
       "      <td>7.156170e-08</td>\n",
       "      <td>-1.211505e-06</td>\n",
       "      <td>7.617899e-12</td>\n",
       "      <td>-1.007089e-11</td>\n",
       "      <td>8.222866e-12</td>\n",
       "      <td>9.469310e-14</td>\n",
       "      <td>8.711564e-23</td>\n",
       "      <td>4.751590e-22</td>\n",
       "      <td>-3.243589e+02</td>\n",
       "      <td>...</td>\n",
       "      <td>2.056043e-76</td>\n",
       "      <td>-6.287865e-124</td>\n",
       "      <td>1.775055e-124</td>\n",
       "      <td>-8.972214e-30</td>\n",
       "      <td>-2.575798e-29</td>\n",
       "      <td>-2.321300e-22</td>\n",
       "      <td>-1.717769e-22</td>\n",
       "      <td>-1.132047e-30</td>\n",
       "      <td>-2.353809e-30</td>\n",
       "      <td>2</td>\n",
       "    </tr>\n",
       "    <tr>\n",
       "      <th>2</th>\n",
       "      <td>1.465716e+02</td>\n",
       "      <td>-3.638515e-12</td>\n",
       "      <td>-1.474075e-12</td>\n",
       "      <td>6.797526e-73</td>\n",
       "      <td>-1.023611e-73</td>\n",
       "      <td>-2.906357e-50</td>\n",
       "      <td>1.142826e-49</td>\n",
       "      <td>-1.712234e-121</td>\n",
       "      <td>-8.730327e-122</td>\n",
       "      <td>6.832598e+01</td>\n",
       "      <td>...</td>\n",
       "      <td>1.729941e+02</td>\n",
       "      <td>-4.838589e-116</td>\n",
       "      <td>-4.590326e-116</td>\n",
       "      <td>-1.722623e-06</td>\n",
       "      <td>-6.224675e-08</td>\n",
       "      <td>1.419622e+01</td>\n",
       "      <td>-4.188751e+01</td>\n",
       "      <td>4.097101e-07</td>\n",
       "      <td>-4.741621e-07</td>\n",
       "      <td>1</td>\n",
       "    </tr>\n",
       "    <tr>\n",
       "      <th>3</th>\n",
       "      <td>-2.667689e+02</td>\n",
       "      <td>-2.072160e-08</td>\n",
       "      <td>2.213543e-08</td>\n",
       "      <td>6.449432e-05</td>\n",
       "      <td>-6.755077e-05</td>\n",
       "      <td>1.088474e-26</td>\n",
       "      <td>4.820465e-26</td>\n",
       "      <td>-6.267921e-02</td>\n",
       "      <td>4.109936e-01</td>\n",
       "      <td>-2.964176e+02</td>\n",
       "      <td>...</td>\n",
       "      <td>5.719193e+01</td>\n",
       "      <td>-1.565343e-38</td>\n",
       "      <td>-9.154270e-39</td>\n",
       "      <td>5.880894e-09</td>\n",
       "      <td>-6.361575e-09</td>\n",
       "      <td>2.714514e-21</td>\n",
       "      <td>3.832410e-22</td>\n",
       "      <td>-8.973528e-68</td>\n",
       "      <td>-3.683552e-67</td>\n",
       "      <td>3</td>\n",
       "    </tr>\n",
       "    <tr>\n",
       "      <th>4</th>\n",
       "      <td>3.646765e+02</td>\n",
       "      <td>-9.268526e-10</td>\n",
       "      <td>-4.859369e-09</td>\n",
       "      <td>4.012564e-108</td>\n",
       "      <td>-5.163088e-107</td>\n",
       "      <td>8.283841e-20</td>\n",
       "      <td>6.069458e-20</td>\n",
       "      <td>1.078785e-22</td>\n",
       "      <td>4.161604e-22</td>\n",
       "      <td>1.800175e+02</td>\n",
       "      <td>...</td>\n",
       "      <td>1.521906e+01</td>\n",
       "      <td>-5.349454e-06</td>\n",
       "      <td>2.919361e-06</td>\n",
       "      <td>-3.903658e-07</td>\n",
       "      <td>-3.272691e-07</td>\n",
       "      <td>-6.972877e-18</td>\n",
       "      <td>-1.498021e-17</td>\n",
       "      <td>3.662975e-06</td>\n",
       "      <td>-3.912830e-06</td>\n",
       "      <td>1</td>\n",
       "    </tr>\n",
       "    <tr>\n",
       "      <th>...</th>\n",
       "      <td>...</td>\n",
       "      <td>...</td>\n",
       "      <td>...</td>\n",
       "      <td>...</td>\n",
       "      <td>...</td>\n",
       "      <td>...</td>\n",
       "      <td>...</td>\n",
       "      <td>...</td>\n",
       "      <td>...</td>\n",
       "      <td>...</td>\n",
       "      <td>...</td>\n",
       "      <td>...</td>\n",
       "      <td>...</td>\n",
       "      <td>...</td>\n",
       "      <td>...</td>\n",
       "      <td>...</td>\n",
       "      <td>...</td>\n",
       "      <td>...</td>\n",
       "      <td>...</td>\n",
       "      <td>...</td>\n",
       "      <td>...</td>\n",
       "    </tr>\n",
       "    <tr>\n",
       "      <th>175</th>\n",
       "      <td>-8.692214e+01</td>\n",
       "      <td>-2.704042e-102</td>\n",
       "      <td>-3.647507e-102</td>\n",
       "      <td>7.520688e-16</td>\n",
       "      <td>-2.145654e-15</td>\n",
       "      <td>1.120755e-05</td>\n",
       "      <td>-6.454782e-07</td>\n",
       "      <td>1.850367e-19</td>\n",
       "      <td>2.790835e-19</td>\n",
       "      <td>-2.458777e+01</td>\n",
       "      <td>...</td>\n",
       "      <td>-1.054659e-77</td>\n",
       "      <td>-6.269696e-95</td>\n",
       "      <td>1.769529e-95</td>\n",
       "      <td>2.063966e-37</td>\n",
       "      <td>3.985072e-37</td>\n",
       "      <td>-4.931164e-85</td>\n",
       "      <td>-4.156588e-85</td>\n",
       "      <td>-9.510122e-79</td>\n",
       "      <td>-1.117067e-78</td>\n",
       "      <td>3</td>\n",
       "    </tr>\n",
       "    <tr>\n",
       "      <th>176</th>\n",
       "      <td>-4.277757e+02</td>\n",
       "      <td>-1.122032e-101</td>\n",
       "      <td>-1.623720e-101</td>\n",
       "      <td>-3.535916e-27</td>\n",
       "      <td>-3.438151e-26</td>\n",
       "      <td>1.534756e+00</td>\n",
       "      <td>2.371664e-01</td>\n",
       "      <td>7.073585e-25</td>\n",
       "      <td>7.190839e-25</td>\n",
       "      <td>-5.734346e+02</td>\n",
       "      <td>...</td>\n",
       "      <td>-1.878466e-76</td>\n",
       "      <td>2.015467e-06</td>\n",
       "      <td>-1.710709e-06</td>\n",
       "      <td>-9.476534e-51</td>\n",
       "      <td>-6.825260e-51</td>\n",
       "      <td>-1.553758e-81</td>\n",
       "      <td>-1.737346e-81</td>\n",
       "      <td>6.698987e-46</td>\n",
       "      <td>-9.610093e-46</td>\n",
       "      <td>3</td>\n",
       "    </tr>\n",
       "    <tr>\n",
       "      <th>177</th>\n",
       "      <td>-5.853281e+02</td>\n",
       "      <td>1.076070e-30</td>\n",
       "      <td>-6.451394e-31</td>\n",
       "      <td>5.404873e-28</td>\n",
       "      <td>-1.127272e-26</td>\n",
       "      <td>1.273364e-01</td>\n",
       "      <td>5.836707e-02</td>\n",
       "      <td>5.185236e-23</td>\n",
       "      <td>2.731484e-22</td>\n",
       "      <td>-5.207607e+02</td>\n",
       "      <td>...</td>\n",
       "      <td>-4.904369e+01</td>\n",
       "      <td>-4.929788e-124</td>\n",
       "      <td>1.535240e-124</td>\n",
       "      <td>8.405805e-99</td>\n",
       "      <td>1.033836e-98</td>\n",
       "      <td>-1.726354e-21</td>\n",
       "      <td>-1.307386e-21</td>\n",
       "      <td>-2.451196e-34</td>\n",
       "      <td>-3.651182e-34</td>\n",
       "      <td>2</td>\n",
       "    </tr>\n",
       "    <tr>\n",
       "      <th>178</th>\n",
       "      <td>4.763348e-76</td>\n",
       "      <td>-2.391754e-113</td>\n",
       "      <td>-1.297228e-113</td>\n",
       "      <td>2.793505e-09</td>\n",
       "      <td>-4.107889e-09</td>\n",
       "      <td>1.542982e-13</td>\n",
       "      <td>1.817028e-13</td>\n",
       "      <td>-1.502215e-19</td>\n",
       "      <td>7.607351e-20</td>\n",
       "      <td>3.916064e-76</td>\n",
       "      <td>...</td>\n",
       "      <td>-2.965728e-76</td>\n",
       "      <td>2.210682e-51</td>\n",
       "      <td>4.505980e-51</td>\n",
       "      <td>-4.898786e-37</td>\n",
       "      <td>-1.243781e-36</td>\n",
       "      <td>-9.143888e-78</td>\n",
       "      <td>-1.373826e-77</td>\n",
       "      <td>3.435866e-49</td>\n",
       "      <td>-6.568550e-49</td>\n",
       "      <td>3</td>\n",
       "    </tr>\n",
       "    <tr>\n",
       "      <th>179</th>\n",
       "      <td>-3.181238e+00</td>\n",
       "      <td>4.758992e-32</td>\n",
       "      <td>3.449713e-32</td>\n",
       "      <td>3.955404e-47</td>\n",
       "      <td>1.851374e-46</td>\n",
       "      <td>-4.708717e-45</td>\n",
       "      <td>7.964582e-45</td>\n",
       "      <td>-1.314273e-22</td>\n",
       "      <td>5.078343e-23</td>\n",
       "      <td>1.341492e-76</td>\n",
       "      <td>...</td>\n",
       "      <td>3.863367e+02</td>\n",
       "      <td>-1.560173e-76</td>\n",
       "      <td>2.560267e-76</td>\n",
       "      <td>-5.102214e-77</td>\n",
       "      <td>2.261227e-77</td>\n",
       "      <td>2.418490e-29</td>\n",
       "      <td>-4.841311e-30</td>\n",
       "      <td>3.059198e-09</td>\n",
       "      <td>1.772067e-09</td>\n",
       "      <td>3</td>\n",
       "    </tr>\n",
       "  </tbody>\n",
       "</table>\n",
       "<p>180 rows × 190 columns</p>\n",
       "</div>"
      ],
      "text/plain": [
       "                0              1              2              3              4  \\\n",
       "0   -4.705584e+01   2.597979e-07  -1.330808e-05   4.299312e-30   5.260618e-30   \n",
       "1   -5.415394e+02   7.156170e-08  -1.211505e-06   7.617899e-12  -1.007089e-11   \n",
       "2    1.465716e+02  -3.638515e-12  -1.474075e-12   6.797526e-73  -1.023611e-73   \n",
       "3   -2.667689e+02  -2.072160e-08   2.213543e-08   6.449432e-05  -6.755077e-05   \n",
       "4    3.646765e+02  -9.268526e-10  -4.859369e-09  4.012564e-108 -5.163088e-107   \n",
       "..            ...            ...            ...            ...            ...   \n",
       "175 -8.692214e+01 -2.704042e-102 -3.647507e-102   7.520688e-16  -2.145654e-15   \n",
       "176 -4.277757e+02 -1.122032e-101 -1.623720e-101  -3.535916e-27  -3.438151e-26   \n",
       "177 -5.853281e+02   1.076070e-30  -6.451394e-31   5.404873e-28  -1.127272e-26   \n",
       "178  4.763348e-76 -2.391754e-113 -1.297228e-113   2.793505e-09  -4.107889e-09   \n",
       "179 -3.181238e+00   4.758992e-32   3.449713e-32   3.955404e-47   1.851374e-46   \n",
       "\n",
       "                5             6              7              8             9  \\\n",
       "0   -6.705858e-36  1.293833e-35 -3.353446e-123 -1.747745e-123 -3.753620e+02   \n",
       "1    8.222866e-12  9.469310e-14   8.711564e-23   4.751590e-22 -3.243589e+02   \n",
       "2   -2.906357e-50  1.142826e-49 -1.712234e-121 -8.730327e-122  6.832598e+01   \n",
       "3    1.088474e-26  4.820465e-26  -6.267921e-02   4.109936e-01 -2.964176e+02   \n",
       "4    8.283841e-20  6.069458e-20   1.078785e-22   4.161604e-22  1.800175e+02   \n",
       "..            ...           ...            ...            ...           ...   \n",
       "175  1.120755e-05 -6.454782e-07   1.850367e-19   2.790835e-19 -2.458777e+01   \n",
       "176  1.534756e+00  2.371664e-01   7.073585e-25   7.190839e-25 -5.734346e+02   \n",
       "177  1.273364e-01  5.836707e-02   5.185236e-23   2.731484e-22 -5.207607e+02   \n",
       "178  1.542982e-13  1.817028e-13  -1.502215e-19   7.607351e-20  3.916064e-76   \n",
       "179 -4.708717e-45  7.964582e-45  -1.314273e-22   5.078343e-23  1.341492e-76   \n",
       "\n",
       "     ...           180            181            182           183  \\\n",
       "0    ...  9.778836e-77 -1.244790e-116  8.192154e-117 -1.429053e-25   \n",
       "1    ...  2.056043e-76 -6.287865e-124  1.775055e-124 -8.972214e-30   \n",
       "2    ...  1.729941e+02 -4.838589e-116 -4.590326e-116 -1.722623e-06   \n",
       "3    ...  5.719193e+01  -1.565343e-38  -9.154270e-39  5.880894e-09   \n",
       "4    ...  1.521906e+01  -5.349454e-06   2.919361e-06 -3.903658e-07   \n",
       "..   ...           ...            ...            ...           ...   \n",
       "175  ... -1.054659e-77  -6.269696e-95   1.769529e-95  2.063966e-37   \n",
       "176  ... -1.878466e-76   2.015467e-06  -1.710709e-06 -9.476534e-51   \n",
       "177  ... -4.904369e+01 -4.929788e-124  1.535240e-124  8.405805e-99   \n",
       "178  ... -2.965728e-76   2.210682e-51   4.505980e-51 -4.898786e-37   \n",
       "179  ...  3.863367e+02  -1.560173e-76   2.560267e-76 -5.102214e-77   \n",
       "\n",
       "              184           185           186           187           188  \\\n",
       "0   -2.600254e-25  5.224132e-11 -9.887409e-11  1.371363e-25  4.150518e-26   \n",
       "1   -2.575798e-29 -2.321300e-22 -1.717769e-22 -1.132047e-30 -2.353809e-30   \n",
       "2   -6.224675e-08  1.419622e+01 -4.188751e+01  4.097101e-07 -4.741621e-07   \n",
       "3   -6.361575e-09  2.714514e-21  3.832410e-22 -8.973528e-68 -3.683552e-67   \n",
       "4   -3.272691e-07 -6.972877e-18 -1.498021e-17  3.662975e-06 -3.912830e-06   \n",
       "..            ...           ...           ...           ...           ...   \n",
       "175  3.985072e-37 -4.931164e-85 -4.156588e-85 -9.510122e-79 -1.117067e-78   \n",
       "176 -6.825260e-51 -1.553758e-81 -1.737346e-81  6.698987e-46 -9.610093e-46   \n",
       "177  1.033836e-98 -1.726354e-21 -1.307386e-21 -2.451196e-34 -3.651182e-34   \n",
       "178 -1.243781e-36 -9.143888e-78 -1.373826e-77  3.435866e-49 -6.568550e-49   \n",
       "179  2.261227e-77  2.418490e-29 -4.841311e-30  3.059198e-09  1.772067e-09   \n",
       "\n",
       "     label  \n",
       "0        2  \n",
       "1        2  \n",
       "2        1  \n",
       "3        3  \n",
       "4        1  \n",
       "..     ...  \n",
       "175      3  \n",
       "176      3  \n",
       "177      2  \n",
       "178      3  \n",
       "179      3  \n",
       "\n",
       "[180 rows x 190 columns]"
      ]
     },
     "execution_count": 33,
     "metadata": {},
     "output_type": "execute_result"
    }
   ],
   "source": [
    "test"
   ]
  },
  {
   "cell_type": "code",
   "execution_count": 34,
   "metadata": {
    "id": "OVdQcELFKWm5"
   },
   "outputs": [],
   "source": [
    "X_train = train[train.columns[:-1]]\n",
    "y_train = train['label']\n",
    "\n",
    "X_test = test[test.columns[:-1]]\n",
    "y_test = test['label']"
   ]
  },
  {
   "cell_type": "code",
   "execution_count": 35,
   "metadata": {
    "colab": {
     "base_uri": "https://localhost:8080/",
     "height": 609
    },
    "id": "OxWKZ0kKK1ct",
    "outputId": "39feba58-8a0b-40c1-b6af-f7f15b7a4aeb"
   },
   "outputs": [
    {
     "data": {
      "text/html": [
       "<div>\n",
       "<style scoped>\n",
       "    .dataframe tbody tr th:only-of-type {\n",
       "        vertical-align: middle;\n",
       "    }\n",
       "\n",
       "    .dataframe tbody tr th {\n",
       "        vertical-align: top;\n",
       "    }\n",
       "\n",
       "    .dataframe thead th {\n",
       "        text-align: right;\n",
       "    }\n",
       "</style>\n",
       "<table border=\"1\" class=\"dataframe\">\n",
       "  <thead>\n",
       "    <tr style=\"text-align: right;\">\n",
       "      <th></th>\n",
       "      <th>0</th>\n",
       "      <th>1</th>\n",
       "      <th>2</th>\n",
       "      <th>3</th>\n",
       "      <th>4</th>\n",
       "      <th>5</th>\n",
       "      <th>6</th>\n",
       "      <th>7</th>\n",
       "      <th>8</th>\n",
       "      <th>9</th>\n",
       "      <th>...</th>\n",
       "      <th>179</th>\n",
       "      <th>180</th>\n",
       "      <th>181</th>\n",
       "      <th>182</th>\n",
       "      <th>183</th>\n",
       "      <th>184</th>\n",
       "      <th>185</th>\n",
       "      <th>186</th>\n",
       "      <th>187</th>\n",
       "      <th>188</th>\n",
       "    </tr>\n",
       "  </thead>\n",
       "  <tbody>\n",
       "    <tr>\n",
       "      <th>0</th>\n",
       "      <td>5.309435e-77</td>\n",
       "      <td>6.181262e-69</td>\n",
       "      <td>8.927493e-69</td>\n",
       "      <td>2.913466e-12</td>\n",
       "      <td>5.612300e-13</td>\n",
       "      <td>4.292969e-25</td>\n",
       "      <td>4.043772e-23</td>\n",
       "      <td>-8.918421e-06</td>\n",
       "      <td>4.824815e-06</td>\n",
       "      <td>1.992344e-76</td>\n",
       "      <td>...</td>\n",
       "      <td>-1.099445e-24</td>\n",
       "      <td>1.665034e-76</td>\n",
       "      <td>-6.889740e-13</td>\n",
       "      <td>-2.653141e-13</td>\n",
       "      <td>-5.465731e-08</td>\n",
       "      <td>-2.159313e-08</td>\n",
       "      <td>1.065775e-03</td>\n",
       "      <td>-7.056326e-03</td>\n",
       "      <td>-8.964495e-22</td>\n",
       "      <td>-1.447673e-20</td>\n",
       "    </tr>\n",
       "    <tr>\n",
       "      <th>1</th>\n",
       "      <td>1.529883e+03</td>\n",
       "      <td>-1.484220e-98</td>\n",
       "      <td>6.344729e-98</td>\n",
       "      <td>7.095286e-49</td>\n",
       "      <td>7.624116e-49</td>\n",
       "      <td>1.981440e-17</td>\n",
       "      <td>1.151334e-17</td>\n",
       "      <td>1.161849e-22</td>\n",
       "      <td>4.207620e-22</td>\n",
       "      <td>1.363320e+03</td>\n",
       "      <td>...</td>\n",
       "      <td>-2.081313e-40</td>\n",
       "      <td>-2.942766e-77</td>\n",
       "      <td>-4.115855e+00</td>\n",
       "      <td>4.545926e+00</td>\n",
       "      <td>-5.917235e+01</td>\n",
       "      <td>-2.267318e+01</td>\n",
       "      <td>-6.237189e-46</td>\n",
       "      <td>-4.130259e-48</td>\n",
       "      <td>-2.321699e-29</td>\n",
       "      <td>-1.404989e-28</td>\n",
       "    </tr>\n",
       "    <tr>\n",
       "      <th>2</th>\n",
       "      <td>-2.972209e+02</td>\n",
       "      <td>1.601514e-07</td>\n",
       "      <td>-4.379627e-06</td>\n",
       "      <td>1.387038e-20</td>\n",
       "      <td>-4.346833e-20</td>\n",
       "      <td>2.551042e+01</td>\n",
       "      <td>1.753175e+01</td>\n",
       "      <td>3.984404e-38</td>\n",
       "      <td>3.740111e-38</td>\n",
       "      <td>-1.966406e+02</td>\n",
       "      <td>...</td>\n",
       "      <td>8.201524e-114</td>\n",
       "      <td>2.134584e-76</td>\n",
       "      <td>-4.506618e-09</td>\n",
       "      <td>-2.629496e-09</td>\n",
       "      <td>-8.489333e-129</td>\n",
       "      <td>1.511194e-128</td>\n",
       "      <td>-1.024871e-115</td>\n",
       "      <td>8.361676e-118</td>\n",
       "      <td>-8.435696e-27</td>\n",
       "      <td>-2.806746e-26</td>\n",
       "    </tr>\n",
       "    <tr>\n",
       "      <th>3</th>\n",
       "      <td>-1.548582e+02</td>\n",
       "      <td>-6.727792e-06</td>\n",
       "      <td>-2.905734e-04</td>\n",
       "      <td>1.826624e-04</td>\n",
       "      <td>-2.334468e-05</td>\n",
       "      <td>4.122635e-07</td>\n",
       "      <td>5.399802e-07</td>\n",
       "      <td>-6.211021e+01</td>\n",
       "      <td>6.518996e+01</td>\n",
       "      <td>-8.502421e+02</td>\n",
       "      <td>...</td>\n",
       "      <td>-8.604977e-06</td>\n",
       "      <td>-1.319806e+02</td>\n",
       "      <td>-3.306898e-10</td>\n",
       "      <td>-1.683080e-10</td>\n",
       "      <td>-4.278274e-30</td>\n",
       "      <td>-1.324991e-29</td>\n",
       "      <td>3.340014e-10</td>\n",
       "      <td>-6.677676e-10</td>\n",
       "      <td>7.854094e-12</td>\n",
       "      <td>-2.361667e-11</td>\n",
       "    </tr>\n",
       "    <tr>\n",
       "      <th>4</th>\n",
       "      <td>1.900824e-75</td>\n",
       "      <td>9.393667e-42</td>\n",
       "      <td>1.852840e-42</td>\n",
       "      <td>3.234156e-25</td>\n",
       "      <td>2.091567e-25</td>\n",
       "      <td>9.282569e-17</td>\n",
       "      <td>1.494606e-16</td>\n",
       "      <td>1.593498e-12</td>\n",
       "      <td>4.644421e-12</td>\n",
       "      <td>1.947480e-75</td>\n",
       "      <td>...</td>\n",
       "      <td>-1.327683e-25</td>\n",
       "      <td>-2.650807e-76</td>\n",
       "      <td>-1.759200e-20</td>\n",
       "      <td>-5.723854e-20</td>\n",
       "      <td>-2.400264e-63</td>\n",
       "      <td>-2.660440e-64</td>\n",
       "      <td>1.718164e-61</td>\n",
       "      <td>-1.632686e-60</td>\n",
       "      <td>-2.021712e-66</td>\n",
       "      <td>-9.907250e-66</td>\n",
       "    </tr>\n",
       "    <tr>\n",
       "      <th>...</th>\n",
       "      <td>...</td>\n",
       "      <td>...</td>\n",
       "      <td>...</td>\n",
       "      <td>...</td>\n",
       "      <td>...</td>\n",
       "      <td>...</td>\n",
       "      <td>...</td>\n",
       "      <td>...</td>\n",
       "      <td>...</td>\n",
       "      <td>...</td>\n",
       "      <td>...</td>\n",
       "      <td>...</td>\n",
       "      <td>...</td>\n",
       "      <td>...</td>\n",
       "      <td>...</td>\n",
       "      <td>...</td>\n",
       "      <td>...</td>\n",
       "      <td>...</td>\n",
       "      <td>...</td>\n",
       "      <td>...</td>\n",
       "      <td>...</td>\n",
       "    </tr>\n",
       "    <tr>\n",
       "      <th>715</th>\n",
       "      <td>-2.804787e-76</td>\n",
       "      <td>5.944987e-28</td>\n",
       "      <td>-9.692217e-28</td>\n",
       "      <td>4.898975e-76</td>\n",
       "      <td>-1.409999e-76</td>\n",
       "      <td>7.442626e-40</td>\n",
       "      <td>4.444868e-39</td>\n",
       "      <td>-3.243842e+00</td>\n",
       "      <td>4.411685e+00</td>\n",
       "      <td>4.164473e+01</td>\n",
       "      <td>...</td>\n",
       "      <td>-4.397888e-08</td>\n",
       "      <td>1.121676e+02</td>\n",
       "      <td>-2.842922e+01</td>\n",
       "      <td>2.745786e+01</td>\n",
       "      <td>-7.092738e-11</td>\n",
       "      <td>-8.011412e-11</td>\n",
       "      <td>6.110635e+00</td>\n",
       "      <td>-1.668941e+01</td>\n",
       "      <td>-8.075239e-53</td>\n",
       "      <td>-4.308418e-53</td>\n",
       "    </tr>\n",
       "    <tr>\n",
       "      <th>716</th>\n",
       "      <td>-1.076830e-76</td>\n",
       "      <td>7.922468e-21</td>\n",
       "      <td>-3.069162e-20</td>\n",
       "      <td>1.187495e-62</td>\n",
       "      <td>3.186556e-63</td>\n",
       "      <td>6.298117e-38</td>\n",
       "      <td>2.564056e-37</td>\n",
       "      <td>-2.301173e-14</td>\n",
       "      <td>5.506741e-15</td>\n",
       "      <td>-2.408699e-76</td>\n",
       "      <td>...</td>\n",
       "      <td>2.868196e-22</td>\n",
       "      <td>1.686937e+02</td>\n",
       "      <td>-9.667722e-13</td>\n",
       "      <td>4.198479e-12</td>\n",
       "      <td>-9.781087e-03</td>\n",
       "      <td>-5.591904e-03</td>\n",
       "      <td>1.110592e-09</td>\n",
       "      <td>-1.194475e-09</td>\n",
       "      <td>5.316137e-11</td>\n",
       "      <td>-2.888534e-12</td>\n",
       "    </tr>\n",
       "    <tr>\n",
       "      <th>717</th>\n",
       "      <td>-2.489340e+02</td>\n",
       "      <td>-6.131938e-94</td>\n",
       "      <td>-2.162894e-93</td>\n",
       "      <td>3.016632e-02</td>\n",
       "      <td>-2.574009e-02</td>\n",
       "      <td>8.575968e-15</td>\n",
       "      <td>1.098997e-14</td>\n",
       "      <td>3.370607e-07</td>\n",
       "      <td>1.487087e-05</td>\n",
       "      <td>-1.670946e+02</td>\n",
       "      <td>...</td>\n",
       "      <td>-1.468577e-37</td>\n",
       "      <td>-1.444676e-76</td>\n",
       "      <td>-5.559014e-26</td>\n",
       "      <td>-9.819147e-26</td>\n",
       "      <td>1.064784e-16</td>\n",
       "      <td>-2.238266e-16</td>\n",
       "      <td>3.338911e-60</td>\n",
       "      <td>-1.917192e-59</td>\n",
       "      <td>-1.333073e-65</td>\n",
       "      <td>-9.597605e-65</td>\n",
       "    </tr>\n",
       "    <tr>\n",
       "      <th>718</th>\n",
       "      <td>-8.791364e-77</td>\n",
       "      <td>-1.138522e-11</td>\n",
       "      <td>-4.978418e-12</td>\n",
       "      <td>-1.319478e-130</td>\n",
       "      <td>-1.083767e-130</td>\n",
       "      <td>-4.411069e-57</td>\n",
       "      <td>-2.681252e-57</td>\n",
       "      <td>1.543164e-80</td>\n",
       "      <td>-2.507878e-80</td>\n",
       "      <td>-3.196249e-76</td>\n",
       "      <td>...</td>\n",
       "      <td>2.039254e+00</td>\n",
       "      <td>-1.047460e-76</td>\n",
       "      <td>-1.957346e-106</td>\n",
       "      <td>-4.931016e-106</td>\n",
       "      <td>-6.387222e-147</td>\n",
       "      <td>2.674878e-149</td>\n",
       "      <td>1.000024e+01</td>\n",
       "      <td>-3.162134e+01</td>\n",
       "      <td>-2.117187e-54</td>\n",
       "      <td>-8.635576e-55</td>\n",
       "    </tr>\n",
       "    <tr>\n",
       "      <th>719</th>\n",
       "      <td>2.697998e-76</td>\n",
       "      <td>3.034653e-79</td>\n",
       "      <td>1.595145e-78</td>\n",
       "      <td>-5.512165e-82</td>\n",
       "      <td>9.609508e-83</td>\n",
       "      <td>5.181985e-42</td>\n",
       "      <td>-1.197320e-41</td>\n",
       "      <td>4.927939e-35</td>\n",
       "      <td>6.012537e-35</td>\n",
       "      <td>3.377096e-76</td>\n",
       "      <td>...</td>\n",
       "      <td>4.813716e-41</td>\n",
       "      <td>9.410190e-77</td>\n",
       "      <td>-4.823899e+00</td>\n",
       "      <td>-5.974478e+00</td>\n",
       "      <td>-1.402074e-118</td>\n",
       "      <td>2.440056e-117</td>\n",
       "      <td>2.390850e-16</td>\n",
       "      <td>-2.972583e-16</td>\n",
       "      <td>-9.911628e-47</td>\n",
       "      <td>-5.043031e-47</td>\n",
       "    </tr>\n",
       "  </tbody>\n",
       "</table>\n",
       "<p>720 rows × 189 columns</p>\n",
       "</div>"
      ],
      "text/plain": [
       "              0             1             2              3              4    \\\n",
       "0    5.309435e-77  6.181262e-69  8.927493e-69   2.913466e-12   5.612300e-13   \n",
       "1    1.529883e+03 -1.484220e-98  6.344729e-98   7.095286e-49   7.624116e-49   \n",
       "2   -2.972209e+02  1.601514e-07 -4.379627e-06   1.387038e-20  -4.346833e-20   \n",
       "3   -1.548582e+02 -6.727792e-06 -2.905734e-04   1.826624e-04  -2.334468e-05   \n",
       "4    1.900824e-75  9.393667e-42  1.852840e-42   3.234156e-25   2.091567e-25   \n",
       "..            ...           ...           ...            ...            ...   \n",
       "715 -2.804787e-76  5.944987e-28 -9.692217e-28   4.898975e-76  -1.409999e-76   \n",
       "716 -1.076830e-76  7.922468e-21 -3.069162e-20   1.187495e-62   3.186556e-63   \n",
       "717 -2.489340e+02 -6.131938e-94 -2.162894e-93   3.016632e-02  -2.574009e-02   \n",
       "718 -8.791364e-77 -1.138522e-11 -4.978418e-12 -1.319478e-130 -1.083767e-130   \n",
       "719  2.697998e-76  3.034653e-79  1.595145e-78  -5.512165e-82   9.609508e-83   \n",
       "\n",
       "              5             6             7             8             9    \\\n",
       "0    4.292969e-25  4.043772e-23 -8.918421e-06  4.824815e-06  1.992344e-76   \n",
       "1    1.981440e-17  1.151334e-17  1.161849e-22  4.207620e-22  1.363320e+03   \n",
       "2    2.551042e+01  1.753175e+01  3.984404e-38  3.740111e-38 -1.966406e+02   \n",
       "3    4.122635e-07  5.399802e-07 -6.211021e+01  6.518996e+01 -8.502421e+02   \n",
       "4    9.282569e-17  1.494606e-16  1.593498e-12  4.644421e-12  1.947480e-75   \n",
       "..            ...           ...           ...           ...           ...   \n",
       "715  7.442626e-40  4.444868e-39 -3.243842e+00  4.411685e+00  4.164473e+01   \n",
       "716  6.298117e-38  2.564056e-37 -2.301173e-14  5.506741e-15 -2.408699e-76   \n",
       "717  8.575968e-15  1.098997e-14  3.370607e-07  1.487087e-05 -1.670946e+02   \n",
       "718 -4.411069e-57 -2.681252e-57  1.543164e-80 -2.507878e-80 -3.196249e-76   \n",
       "719  5.181985e-42 -1.197320e-41  4.927939e-35  6.012537e-35  3.377096e-76   \n",
       "\n",
       "     ...            179           180            181            182  \\\n",
       "0    ...  -1.099445e-24  1.665034e-76  -6.889740e-13  -2.653141e-13   \n",
       "1    ...  -2.081313e-40 -2.942766e-77  -4.115855e+00   4.545926e+00   \n",
       "2    ...  8.201524e-114  2.134584e-76  -4.506618e-09  -2.629496e-09   \n",
       "3    ...  -8.604977e-06 -1.319806e+02  -3.306898e-10  -1.683080e-10   \n",
       "4    ...  -1.327683e-25 -2.650807e-76  -1.759200e-20  -5.723854e-20   \n",
       "..   ...            ...           ...            ...            ...   \n",
       "715  ...  -4.397888e-08  1.121676e+02  -2.842922e+01   2.745786e+01   \n",
       "716  ...   2.868196e-22  1.686937e+02  -9.667722e-13   4.198479e-12   \n",
       "717  ...  -1.468577e-37 -1.444676e-76  -5.559014e-26  -9.819147e-26   \n",
       "718  ...   2.039254e+00 -1.047460e-76 -1.957346e-106 -4.931016e-106   \n",
       "719  ...   4.813716e-41  9.410190e-77  -4.823899e+00  -5.974478e+00   \n",
       "\n",
       "               183            184            185            186           187  \\\n",
       "0    -5.465731e-08  -2.159313e-08   1.065775e-03  -7.056326e-03 -8.964495e-22   \n",
       "1    -5.917235e+01  -2.267318e+01  -6.237189e-46  -4.130259e-48 -2.321699e-29   \n",
       "2   -8.489333e-129  1.511194e-128 -1.024871e-115  8.361676e-118 -8.435696e-27   \n",
       "3    -4.278274e-30  -1.324991e-29   3.340014e-10  -6.677676e-10  7.854094e-12   \n",
       "4    -2.400264e-63  -2.660440e-64   1.718164e-61  -1.632686e-60 -2.021712e-66   \n",
       "..             ...            ...            ...            ...           ...   \n",
       "715  -7.092738e-11  -8.011412e-11   6.110635e+00  -1.668941e+01 -8.075239e-53   \n",
       "716  -9.781087e-03  -5.591904e-03   1.110592e-09  -1.194475e-09  5.316137e-11   \n",
       "717   1.064784e-16  -2.238266e-16   3.338911e-60  -1.917192e-59 -1.333073e-65   \n",
       "718 -6.387222e-147  2.674878e-149   1.000024e+01  -3.162134e+01 -2.117187e-54   \n",
       "719 -1.402074e-118  2.440056e-117   2.390850e-16  -2.972583e-16 -9.911628e-47   \n",
       "\n",
       "              188  \n",
       "0   -1.447673e-20  \n",
       "1   -1.404989e-28  \n",
       "2   -2.806746e-26  \n",
       "3   -2.361667e-11  \n",
       "4   -9.907250e-66  \n",
       "..            ...  \n",
       "715 -4.308418e-53  \n",
       "716 -2.888534e-12  \n",
       "717 -9.597605e-65  \n",
       "718 -8.635576e-55  \n",
       "719 -5.043031e-47  \n",
       "\n",
       "[720 rows x 189 columns]"
      ]
     },
     "execution_count": 35,
     "metadata": {},
     "output_type": "execute_result"
    }
   ],
   "source": [
    "X_train"
   ]
  },
  {
   "cell_type": "code",
   "execution_count": 36,
   "metadata": {
    "colab": {
     "base_uri": "https://localhost:8080/"
    },
    "id": "7Nu4PWR6K5Ss",
    "outputId": "7eff21c9-40db-4f26-f3ba-438ea30538a2"
   },
   "outputs": [
    {
     "data": {
      "text/plain": [
       "0      2\n",
       "1      1\n",
       "2      2\n",
       "3      2\n",
       "4      3\n",
       "      ..\n",
       "715    1\n",
       "716    1\n",
       "717    3\n",
       "718    1\n",
       "719    2\n",
       "Name: label, Length: 720, dtype: int64"
      ]
     },
     "execution_count": 36,
     "metadata": {},
     "output_type": "execute_result"
    }
   ],
   "source": [
    "y_train"
   ]
  },
  {
   "cell_type": "code",
   "execution_count": 37,
   "metadata": {
    "colab": {
     "base_uri": "https://localhost:8080/",
     "height": 609
    },
    "id": "8LYgTH-yM4we",
    "outputId": "e8db04e6-1a75-465b-cc30-ffec24d0a290"
   },
   "outputs": [
    {
     "data": {
      "text/html": [
       "<div>\n",
       "<style scoped>\n",
       "    .dataframe tbody tr th:only-of-type {\n",
       "        vertical-align: middle;\n",
       "    }\n",
       "\n",
       "    .dataframe tbody tr th {\n",
       "        vertical-align: top;\n",
       "    }\n",
       "\n",
       "    .dataframe thead th {\n",
       "        text-align: right;\n",
       "    }\n",
       "</style>\n",
       "<table border=\"1\" class=\"dataframe\">\n",
       "  <thead>\n",
       "    <tr style=\"text-align: right;\">\n",
       "      <th></th>\n",
       "      <th>0</th>\n",
       "      <th>1</th>\n",
       "      <th>2</th>\n",
       "      <th>3</th>\n",
       "      <th>4</th>\n",
       "      <th>5</th>\n",
       "      <th>6</th>\n",
       "      <th>7</th>\n",
       "      <th>8</th>\n",
       "      <th>9</th>\n",
       "      <th>...</th>\n",
       "      <th>179</th>\n",
       "      <th>180</th>\n",
       "      <th>181</th>\n",
       "      <th>182</th>\n",
       "      <th>183</th>\n",
       "      <th>184</th>\n",
       "      <th>185</th>\n",
       "      <th>186</th>\n",
       "      <th>187</th>\n",
       "      <th>188</th>\n",
       "    </tr>\n",
       "  </thead>\n",
       "  <tbody>\n",
       "    <tr>\n",
       "      <th>0</th>\n",
       "      <td>-4.705584e+01</td>\n",
       "      <td>2.597979e-07</td>\n",
       "      <td>-1.330808e-05</td>\n",
       "      <td>4.299312e-30</td>\n",
       "      <td>5.260618e-30</td>\n",
       "      <td>-6.705858e-36</td>\n",
       "      <td>1.293833e-35</td>\n",
       "      <td>-3.353446e-123</td>\n",
       "      <td>-1.747745e-123</td>\n",
       "      <td>-3.753620e+02</td>\n",
       "      <td>...</td>\n",
       "      <td>7.486913e-59</td>\n",
       "      <td>9.778836e-77</td>\n",
       "      <td>-1.244790e-116</td>\n",
       "      <td>8.192154e-117</td>\n",
       "      <td>-1.429053e-25</td>\n",
       "      <td>-2.600254e-25</td>\n",
       "      <td>5.224132e-11</td>\n",
       "      <td>-9.887409e-11</td>\n",
       "      <td>1.371363e-25</td>\n",
       "      <td>4.150518e-26</td>\n",
       "    </tr>\n",
       "    <tr>\n",
       "      <th>1</th>\n",
       "      <td>-5.415394e+02</td>\n",
       "      <td>7.156170e-08</td>\n",
       "      <td>-1.211505e-06</td>\n",
       "      <td>7.617899e-12</td>\n",
       "      <td>-1.007089e-11</td>\n",
       "      <td>8.222866e-12</td>\n",
       "      <td>9.469310e-14</td>\n",
       "      <td>8.711564e-23</td>\n",
       "      <td>4.751590e-22</td>\n",
       "      <td>-3.243589e+02</td>\n",
       "      <td>...</td>\n",
       "      <td>2.818577e-44</td>\n",
       "      <td>2.056043e-76</td>\n",
       "      <td>-6.287865e-124</td>\n",
       "      <td>1.775055e-124</td>\n",
       "      <td>-8.972214e-30</td>\n",
       "      <td>-2.575798e-29</td>\n",
       "      <td>-2.321300e-22</td>\n",
       "      <td>-1.717769e-22</td>\n",
       "      <td>-1.132047e-30</td>\n",
       "      <td>-2.353809e-30</td>\n",
       "    </tr>\n",
       "    <tr>\n",
       "      <th>2</th>\n",
       "      <td>1.465716e+02</td>\n",
       "      <td>-3.638515e-12</td>\n",
       "      <td>-1.474075e-12</td>\n",
       "      <td>6.797526e-73</td>\n",
       "      <td>-1.023611e-73</td>\n",
       "      <td>-2.906357e-50</td>\n",
       "      <td>1.142826e-49</td>\n",
       "      <td>-1.712234e-121</td>\n",
       "      <td>-8.730327e-122</td>\n",
       "      <td>6.832598e+01</td>\n",
       "      <td>...</td>\n",
       "      <td>3.723224e-27</td>\n",
       "      <td>1.729941e+02</td>\n",
       "      <td>-4.838589e-116</td>\n",
       "      <td>-4.590326e-116</td>\n",
       "      <td>-1.722623e-06</td>\n",
       "      <td>-6.224675e-08</td>\n",
       "      <td>1.419622e+01</td>\n",
       "      <td>-4.188751e+01</td>\n",
       "      <td>4.097101e-07</td>\n",
       "      <td>-4.741621e-07</td>\n",
       "    </tr>\n",
       "    <tr>\n",
       "      <th>3</th>\n",
       "      <td>-2.667689e+02</td>\n",
       "      <td>-2.072160e-08</td>\n",
       "      <td>2.213543e-08</td>\n",
       "      <td>6.449432e-05</td>\n",
       "      <td>-6.755077e-05</td>\n",
       "      <td>1.088474e-26</td>\n",
       "      <td>4.820465e-26</td>\n",
       "      <td>-6.267921e-02</td>\n",
       "      <td>4.109936e-01</td>\n",
       "      <td>-2.964176e+02</td>\n",
       "      <td>...</td>\n",
       "      <td>6.319521e-30</td>\n",
       "      <td>5.719193e+01</td>\n",
       "      <td>-1.565343e-38</td>\n",
       "      <td>-9.154270e-39</td>\n",
       "      <td>5.880894e-09</td>\n",
       "      <td>-6.361575e-09</td>\n",
       "      <td>2.714514e-21</td>\n",
       "      <td>3.832410e-22</td>\n",
       "      <td>-8.973528e-68</td>\n",
       "      <td>-3.683552e-67</td>\n",
       "    </tr>\n",
       "    <tr>\n",
       "      <th>4</th>\n",
       "      <td>3.646765e+02</td>\n",
       "      <td>-9.268526e-10</td>\n",
       "      <td>-4.859369e-09</td>\n",
       "      <td>4.012564e-108</td>\n",
       "      <td>-5.163088e-107</td>\n",
       "      <td>8.283841e-20</td>\n",
       "      <td>6.069458e-20</td>\n",
       "      <td>1.078785e-22</td>\n",
       "      <td>4.161604e-22</td>\n",
       "      <td>1.800175e+02</td>\n",
       "      <td>...</td>\n",
       "      <td>-8.820589e-28</td>\n",
       "      <td>1.521906e+01</td>\n",
       "      <td>-5.349454e-06</td>\n",
       "      <td>2.919361e-06</td>\n",
       "      <td>-3.903658e-07</td>\n",
       "      <td>-3.272691e-07</td>\n",
       "      <td>-6.972877e-18</td>\n",
       "      <td>-1.498021e-17</td>\n",
       "      <td>3.662975e-06</td>\n",
       "      <td>-3.912830e-06</td>\n",
       "    </tr>\n",
       "    <tr>\n",
       "      <th>...</th>\n",
       "      <td>...</td>\n",
       "      <td>...</td>\n",
       "      <td>...</td>\n",
       "      <td>...</td>\n",
       "      <td>...</td>\n",
       "      <td>...</td>\n",
       "      <td>...</td>\n",
       "      <td>...</td>\n",
       "      <td>...</td>\n",
       "      <td>...</td>\n",
       "      <td>...</td>\n",
       "      <td>...</td>\n",
       "      <td>...</td>\n",
       "      <td>...</td>\n",
       "      <td>...</td>\n",
       "      <td>...</td>\n",
       "      <td>...</td>\n",
       "      <td>...</td>\n",
       "      <td>...</td>\n",
       "      <td>...</td>\n",
       "      <td>...</td>\n",
       "    </tr>\n",
       "    <tr>\n",
       "      <th>175</th>\n",
       "      <td>-8.692214e+01</td>\n",
       "      <td>-2.704042e-102</td>\n",
       "      <td>-3.647507e-102</td>\n",
       "      <td>7.520688e-16</td>\n",
       "      <td>-2.145654e-15</td>\n",
       "      <td>1.120755e-05</td>\n",
       "      <td>-6.454782e-07</td>\n",
       "      <td>1.850367e-19</td>\n",
       "      <td>2.790835e-19</td>\n",
       "      <td>-2.458777e+01</td>\n",
       "      <td>...</td>\n",
       "      <td>-9.832463e-47</td>\n",
       "      <td>-1.054659e-77</td>\n",
       "      <td>-6.269696e-95</td>\n",
       "      <td>1.769529e-95</td>\n",
       "      <td>2.063966e-37</td>\n",
       "      <td>3.985072e-37</td>\n",
       "      <td>-4.931164e-85</td>\n",
       "      <td>-4.156588e-85</td>\n",
       "      <td>-9.510122e-79</td>\n",
       "      <td>-1.117067e-78</td>\n",
       "    </tr>\n",
       "    <tr>\n",
       "      <th>176</th>\n",
       "      <td>-4.277757e+02</td>\n",
       "      <td>-1.122032e-101</td>\n",
       "      <td>-1.623720e-101</td>\n",
       "      <td>-3.535916e-27</td>\n",
       "      <td>-3.438151e-26</td>\n",
       "      <td>1.534756e+00</td>\n",
       "      <td>2.371664e-01</td>\n",
       "      <td>7.073585e-25</td>\n",
       "      <td>7.190839e-25</td>\n",
       "      <td>-5.734346e+02</td>\n",
       "      <td>...</td>\n",
       "      <td>3.543786e-39</td>\n",
       "      <td>-1.878466e-76</td>\n",
       "      <td>2.015467e-06</td>\n",
       "      <td>-1.710709e-06</td>\n",
       "      <td>-9.476534e-51</td>\n",
       "      <td>-6.825260e-51</td>\n",
       "      <td>-1.553758e-81</td>\n",
       "      <td>-1.737346e-81</td>\n",
       "      <td>6.698987e-46</td>\n",
       "      <td>-9.610093e-46</td>\n",
       "    </tr>\n",
       "    <tr>\n",
       "      <th>177</th>\n",
       "      <td>-5.853281e+02</td>\n",
       "      <td>1.076070e-30</td>\n",
       "      <td>-6.451394e-31</td>\n",
       "      <td>5.404873e-28</td>\n",
       "      <td>-1.127272e-26</td>\n",
       "      <td>1.273364e-01</td>\n",
       "      <td>5.836707e-02</td>\n",
       "      <td>5.185236e-23</td>\n",
       "      <td>2.731484e-22</td>\n",
       "      <td>-5.207607e+02</td>\n",
       "      <td>...</td>\n",
       "      <td>-8.607039e-25</td>\n",
       "      <td>-4.904369e+01</td>\n",
       "      <td>-4.929788e-124</td>\n",
       "      <td>1.535240e-124</td>\n",
       "      <td>8.405805e-99</td>\n",
       "      <td>1.033836e-98</td>\n",
       "      <td>-1.726354e-21</td>\n",
       "      <td>-1.307386e-21</td>\n",
       "      <td>-2.451196e-34</td>\n",
       "      <td>-3.651182e-34</td>\n",
       "    </tr>\n",
       "    <tr>\n",
       "      <th>178</th>\n",
       "      <td>4.763348e-76</td>\n",
       "      <td>-2.391754e-113</td>\n",
       "      <td>-1.297228e-113</td>\n",
       "      <td>2.793505e-09</td>\n",
       "      <td>-4.107889e-09</td>\n",
       "      <td>1.542982e-13</td>\n",
       "      <td>1.817028e-13</td>\n",
       "      <td>-1.502215e-19</td>\n",
       "      <td>7.607351e-20</td>\n",
       "      <td>3.916064e-76</td>\n",
       "      <td>...</td>\n",
       "      <td>3.719138e-74</td>\n",
       "      <td>-2.965728e-76</td>\n",
       "      <td>2.210682e-51</td>\n",
       "      <td>4.505980e-51</td>\n",
       "      <td>-4.898786e-37</td>\n",
       "      <td>-1.243781e-36</td>\n",
       "      <td>-9.143888e-78</td>\n",
       "      <td>-1.373826e-77</td>\n",
       "      <td>3.435866e-49</td>\n",
       "      <td>-6.568550e-49</td>\n",
       "    </tr>\n",
       "    <tr>\n",
       "      <th>179</th>\n",
       "      <td>-3.181238e+00</td>\n",
       "      <td>4.758992e-32</td>\n",
       "      <td>3.449713e-32</td>\n",
       "      <td>3.955404e-47</td>\n",
       "      <td>1.851374e-46</td>\n",
       "      <td>-4.708717e-45</td>\n",
       "      <td>7.964582e-45</td>\n",
       "      <td>-1.314273e-22</td>\n",
       "      <td>5.078343e-23</td>\n",
       "      <td>1.341492e-76</td>\n",
       "      <td>...</td>\n",
       "      <td>2.755204e-10</td>\n",
       "      <td>3.863367e+02</td>\n",
       "      <td>-1.560173e-76</td>\n",
       "      <td>2.560267e-76</td>\n",
       "      <td>-5.102214e-77</td>\n",
       "      <td>2.261227e-77</td>\n",
       "      <td>2.418490e-29</td>\n",
       "      <td>-4.841311e-30</td>\n",
       "      <td>3.059198e-09</td>\n",
       "      <td>1.772067e-09</td>\n",
       "    </tr>\n",
       "  </tbody>\n",
       "</table>\n",
       "<p>180 rows × 189 columns</p>\n",
       "</div>"
      ],
      "text/plain": [
       "              0              1              2              3              4    \\\n",
       "0   -4.705584e+01   2.597979e-07  -1.330808e-05   4.299312e-30   5.260618e-30   \n",
       "1   -5.415394e+02   7.156170e-08  -1.211505e-06   7.617899e-12  -1.007089e-11   \n",
       "2    1.465716e+02  -3.638515e-12  -1.474075e-12   6.797526e-73  -1.023611e-73   \n",
       "3   -2.667689e+02  -2.072160e-08   2.213543e-08   6.449432e-05  -6.755077e-05   \n",
       "4    3.646765e+02  -9.268526e-10  -4.859369e-09  4.012564e-108 -5.163088e-107   \n",
       "..            ...            ...            ...            ...            ...   \n",
       "175 -8.692214e+01 -2.704042e-102 -3.647507e-102   7.520688e-16  -2.145654e-15   \n",
       "176 -4.277757e+02 -1.122032e-101 -1.623720e-101  -3.535916e-27  -3.438151e-26   \n",
       "177 -5.853281e+02   1.076070e-30  -6.451394e-31   5.404873e-28  -1.127272e-26   \n",
       "178  4.763348e-76 -2.391754e-113 -1.297228e-113   2.793505e-09  -4.107889e-09   \n",
       "179 -3.181238e+00   4.758992e-32   3.449713e-32   3.955404e-47   1.851374e-46   \n",
       "\n",
       "              5             6              7              8             9    \\\n",
       "0   -6.705858e-36  1.293833e-35 -3.353446e-123 -1.747745e-123 -3.753620e+02   \n",
       "1    8.222866e-12  9.469310e-14   8.711564e-23   4.751590e-22 -3.243589e+02   \n",
       "2   -2.906357e-50  1.142826e-49 -1.712234e-121 -8.730327e-122  6.832598e+01   \n",
       "3    1.088474e-26  4.820465e-26  -6.267921e-02   4.109936e-01 -2.964176e+02   \n",
       "4    8.283841e-20  6.069458e-20   1.078785e-22   4.161604e-22  1.800175e+02   \n",
       "..            ...           ...            ...            ...           ...   \n",
       "175  1.120755e-05 -6.454782e-07   1.850367e-19   2.790835e-19 -2.458777e+01   \n",
       "176  1.534756e+00  2.371664e-01   7.073585e-25   7.190839e-25 -5.734346e+02   \n",
       "177  1.273364e-01  5.836707e-02   5.185236e-23   2.731484e-22 -5.207607e+02   \n",
       "178  1.542982e-13  1.817028e-13  -1.502215e-19   7.607351e-20  3.916064e-76   \n",
       "179 -4.708717e-45  7.964582e-45  -1.314273e-22   5.078343e-23  1.341492e-76   \n",
       "\n",
       "     ...           179           180            181            182  \\\n",
       "0    ...  7.486913e-59  9.778836e-77 -1.244790e-116  8.192154e-117   \n",
       "1    ...  2.818577e-44  2.056043e-76 -6.287865e-124  1.775055e-124   \n",
       "2    ...  3.723224e-27  1.729941e+02 -4.838589e-116 -4.590326e-116   \n",
       "3    ...  6.319521e-30  5.719193e+01  -1.565343e-38  -9.154270e-39   \n",
       "4    ... -8.820589e-28  1.521906e+01  -5.349454e-06   2.919361e-06   \n",
       "..   ...           ...           ...            ...            ...   \n",
       "175  ... -9.832463e-47 -1.054659e-77  -6.269696e-95   1.769529e-95   \n",
       "176  ...  3.543786e-39 -1.878466e-76   2.015467e-06  -1.710709e-06   \n",
       "177  ... -8.607039e-25 -4.904369e+01 -4.929788e-124  1.535240e-124   \n",
       "178  ...  3.719138e-74 -2.965728e-76   2.210682e-51   4.505980e-51   \n",
       "179  ...  2.755204e-10  3.863367e+02  -1.560173e-76   2.560267e-76   \n",
       "\n",
       "              183           184           185           186           187  \\\n",
       "0   -1.429053e-25 -2.600254e-25  5.224132e-11 -9.887409e-11  1.371363e-25   \n",
       "1   -8.972214e-30 -2.575798e-29 -2.321300e-22 -1.717769e-22 -1.132047e-30   \n",
       "2   -1.722623e-06 -6.224675e-08  1.419622e+01 -4.188751e+01  4.097101e-07   \n",
       "3    5.880894e-09 -6.361575e-09  2.714514e-21  3.832410e-22 -8.973528e-68   \n",
       "4   -3.903658e-07 -3.272691e-07 -6.972877e-18 -1.498021e-17  3.662975e-06   \n",
       "..            ...           ...           ...           ...           ...   \n",
       "175  2.063966e-37  3.985072e-37 -4.931164e-85 -4.156588e-85 -9.510122e-79   \n",
       "176 -9.476534e-51 -6.825260e-51 -1.553758e-81 -1.737346e-81  6.698987e-46   \n",
       "177  8.405805e-99  1.033836e-98 -1.726354e-21 -1.307386e-21 -2.451196e-34   \n",
       "178 -4.898786e-37 -1.243781e-36 -9.143888e-78 -1.373826e-77  3.435866e-49   \n",
       "179 -5.102214e-77  2.261227e-77  2.418490e-29 -4.841311e-30  3.059198e-09   \n",
       "\n",
       "              188  \n",
       "0    4.150518e-26  \n",
       "1   -2.353809e-30  \n",
       "2   -4.741621e-07  \n",
       "3   -3.683552e-67  \n",
       "4   -3.912830e-06  \n",
       "..            ...  \n",
       "175 -1.117067e-78  \n",
       "176 -9.610093e-46  \n",
       "177 -3.651182e-34  \n",
       "178 -6.568550e-49  \n",
       "179  1.772067e-09  \n",
       "\n",
       "[180 rows x 189 columns]"
      ]
     },
     "execution_count": 37,
     "metadata": {},
     "output_type": "execute_result"
    }
   ],
   "source": [
    "X_test"
   ]
  },
  {
   "cell_type": "code",
   "execution_count": 38,
   "metadata": {
    "colab": {
     "base_uri": "https://localhost:8080/"
    },
    "id": "gvFjbl_8O2IG",
    "outputId": "4f10f7bb-ff15-4295-e315-172e3a4fb095"
   },
   "outputs": [
    {
     "data": {
      "text/plain": [
       "0      2\n",
       "1      2\n",
       "2      1\n",
       "3      3\n",
       "4      1\n",
       "      ..\n",
       "175    3\n",
       "176    3\n",
       "177    2\n",
       "178    3\n",
       "179    3\n",
       "Name: label, Length: 180, dtype: int64"
      ]
     },
     "execution_count": 38,
     "metadata": {},
     "output_type": "execute_result"
    }
   ],
   "source": [
    "y_test"
   ]
  },
  {
   "cell_type": "code",
   "execution_count": 39,
   "metadata": {
    "colab": {
     "base_uri": "https://localhost:8080/"
    },
    "id": "VlFfCb-JO4wO",
    "outputId": "cfae2448-725d-4697-b3c0-e2f74d4b9842"
   },
   "outputs": [
    {
     "data": {
      "text/plain": [
       "(180, 189)"
      ]
     },
     "execution_count": 39,
     "metadata": {},
     "output_type": "execute_result"
    }
   ],
   "source": [
    "np.array(X_test).shape"
   ]
  },
  {
   "cell_type": "code",
   "execution_count": null,
   "metadata": {},
   "outputs": [],
   "source": []
  },
  {
   "cell_type": "code",
   "execution_count": null,
   "metadata": {},
   "outputs": [],
   "source": []
  },
  {
   "cell_type": "code",
   "execution_count": null,
   "metadata": {},
   "outputs": [],
   "source": []
  },
  {
   "cell_type": "code",
   "execution_count": null,
   "metadata": {},
   "outputs": [],
   "source": []
  },
  {
   "cell_type": "code",
   "execution_count": null,
   "metadata": {},
   "outputs": [],
   "source": []
  },
  {
   "cell_type": "code",
   "execution_count": null,
   "metadata": {},
   "outputs": [],
   "source": []
  },
  {
   "cell_type": "code",
   "execution_count": null,
   "metadata": {},
   "outputs": [],
   "source": []
  },
  {
   "cell_type": "markdown",
   "metadata": {
    "id": "o_tmA1f1Vu2k"
   },
   "source": [
    "# SVM (Support vector machine)"
   ]
  },
  {
   "cell_type": "code",
   "execution_count": 40,
   "metadata": {},
   "outputs": [],
   "source": [
    "train_acc, test_acc, predicted_test, confusion, report = SVM_ml(X_train, y_train, X_test, y_test)"
   ]
  },
  {
   "cell_type": "code",
   "execution_count": 41,
   "metadata": {
    "colab": {
     "base_uri": "https://localhost:8080/"
    },
    "id": "1ZioZ0BqTztk",
    "outputId": "6305e45b-d732-4809-b07b-8e6ade4f8acc"
   },
   "outputs": [
    {
     "name": "stdout",
     "output_type": "stream",
     "text": [
      "0.9972222222222222\n",
      "0.9944444444444445\n"
     ]
    }
   ],
   "source": [
    "print(train_acc)\n",
    "print(test_acc)"
   ]
  },
  {
   "cell_type": "code",
   "execution_count": 42,
   "metadata": {
    "colab": {
     "base_uri": "https://localhost:8080/"
    },
    "id": "IbW652NdWfG2",
    "outputId": "87ca1158-ce86-4193-e40d-5c5201f83f27",
    "scrolled": true
   },
   "outputs": [
    {
     "name": "stdout",
     "output_type": "stream",
     "text": [
      "[[59  0  0]\n",
      " [ 0 60  1]\n",
      " [ 0  0 60]]\n"
     ]
    }
   ],
   "source": [
    "print(confusion)"
   ]
  },
  {
   "cell_type": "code",
   "execution_count": 43,
   "metadata": {
    "colab": {
     "base_uri": "https://localhost:8080/"
    },
    "id": "IG5cxeu-WHb0",
    "outputId": "57ec0bd1-d387-455a-ecbc-ccd4e0f6c54d"
   },
   "outputs": [
    {
     "name": "stdout",
     "output_type": "stream",
     "text": [
      "              precision    recall  f1-score   support\n",
      "\n",
      "           1       1.00      1.00      1.00        59\n",
      "           2       1.00      0.98      0.99        61\n",
      "           3       0.98      1.00      0.99        60\n",
      "\n",
      "    accuracy                           0.99       180\n",
      "   macro avg       0.99      0.99      0.99       180\n",
      "weighted avg       0.99      0.99      0.99       180\n",
      "\n"
     ]
    }
   ],
   "source": [
    "print(report)"
   ]
  },
  {
   "cell_type": "markdown",
   "metadata": {
    "id": "a_I5l_z8V1av"
   },
   "source": [
    "# Decision Tree"
   ]
  },
  {
   "cell_type": "code",
   "execution_count": 44,
   "metadata": {
    "id": "Bx3n1qWkV0_R"
   },
   "outputs": [],
   "source": [
    "train_acc, test_acc, predicted_test, confusion, report = dTree_ml(X_train, y_train, X_test, y_test)"
   ]
  },
  {
   "cell_type": "code",
   "execution_count": 45,
   "metadata": {
    "colab": {
     "base_uri": "https://localhost:8080/"
    },
    "id": "82bsVIgAYfNk",
    "outputId": "64a028e6-866a-49c7-dd20-db8b4414bdeb"
   },
   "outputs": [
    {
     "name": "stdout",
     "output_type": "stream",
     "text": [
      "0.9972222222222222\n",
      "0.9444444444444444\n"
     ]
    }
   ],
   "source": [
    "print(train_acc)\n",
    "print(test_acc)"
   ]
  },
  {
   "cell_type": "code",
   "execution_count": 46,
   "metadata": {},
   "outputs": [
    {
     "name": "stdout",
     "output_type": "stream",
     "text": [
      "[[59  0  0]\n",
      " [ 2 56  3]\n",
      " [ 1  4 55]]\n"
     ]
    }
   ],
   "source": [
    "print(confusion)"
   ]
  },
  {
   "cell_type": "code",
   "execution_count": 47,
   "metadata": {},
   "outputs": [
    {
     "name": "stdout",
     "output_type": "stream",
     "text": [
      "              precision    recall  f1-score   support\n",
      "\n",
      "           1       0.95      1.00      0.98        59\n",
      "           2       0.93      0.92      0.93        61\n",
      "           3       0.95      0.92      0.93        60\n",
      "\n",
      "    accuracy                           0.94       180\n",
      "   macro avg       0.94      0.94      0.94       180\n",
      "weighted avg       0.94      0.94      0.94       180\n",
      "\n"
     ]
    }
   ],
   "source": [
    "print(report)"
   ]
  },
  {
   "cell_type": "code",
   "execution_count": null,
   "metadata": {},
   "outputs": [],
   "source": []
  },
  {
   "cell_type": "markdown",
   "metadata": {
    "id": "AbJ0rXDTaesa"
   },
   "source": [
    "# Random Forest"
   ]
  },
  {
   "cell_type": "code",
   "execution_count": 48,
   "metadata": {},
   "outputs": [],
   "source": [
    "train_acc, test_acc, predicted_test, confusion, report = rforest_ml(X_train, y_train, X_test, y_test)"
   ]
  },
  {
   "cell_type": "code",
   "execution_count": 49,
   "metadata": {},
   "outputs": [
    {
     "name": "stdout",
     "output_type": "stream",
     "text": [
      "1.0\n",
      "1.0\n"
     ]
    }
   ],
   "source": [
    "print(train_acc)\n",
    "print(test_acc)"
   ]
  },
  {
   "cell_type": "code",
   "execution_count": 50,
   "metadata": {},
   "outputs": [
    {
     "name": "stdout",
     "output_type": "stream",
     "text": [
      "[[59  0  0]\n",
      " [ 0 61  0]\n",
      " [ 0  0 60]]\n"
     ]
    }
   ],
   "source": [
    "print(confusion)"
   ]
  },
  {
   "cell_type": "code",
   "execution_count": 51,
   "metadata": {},
   "outputs": [
    {
     "name": "stdout",
     "output_type": "stream",
     "text": [
      "              precision    recall  f1-score   support\n",
      "\n",
      "           1       1.00      1.00      1.00        59\n",
      "           2       1.00      1.00      1.00        61\n",
      "           3       1.00      1.00      1.00        60\n",
      "\n",
      "    accuracy                           1.00       180\n",
      "   macro avg       1.00      1.00      1.00       180\n",
      "weighted avg       1.00      1.00      1.00       180\n",
      "\n"
     ]
    }
   ],
   "source": [
    "print(report)"
   ]
  },
  {
   "cell_type": "code",
   "execution_count": null,
   "metadata": {},
   "outputs": [],
   "source": []
  },
  {
   "cell_type": "markdown",
   "metadata": {
    "id": "8Niu2rq3bTfn"
   },
   "source": [
    "# AdaBoosting"
   ]
  },
  {
   "cell_type": "code",
   "execution_count": 52,
   "metadata": {},
   "outputs": [],
   "source": [
    "train_acc, test_acc, predicted_test, confusion, report = adaBoost_ml(X_train, y_train, X_test, y_test)"
   ]
  },
  {
   "cell_type": "code",
   "execution_count": 53,
   "metadata": {},
   "outputs": [
    {
     "name": "stdout",
     "output_type": "stream",
     "text": [
      "1.0\n",
      "0.9944444444444445\n"
     ]
    }
   ],
   "source": [
    "print(train_acc)\n",
    "print(test_acc)"
   ]
  },
  {
   "cell_type": "code",
   "execution_count": 54,
   "metadata": {},
   "outputs": [
    {
     "name": "stdout",
     "output_type": "stream",
     "text": [
      "[[58  1  0]\n",
      " [ 0 61  0]\n",
      " [ 0  0 60]]\n"
     ]
    }
   ],
   "source": [
    "print(confusion)"
   ]
  },
  {
   "cell_type": "code",
   "execution_count": 55,
   "metadata": {},
   "outputs": [
    {
     "name": "stdout",
     "output_type": "stream",
     "text": [
      "              precision    recall  f1-score   support\n",
      "\n",
      "           1       1.00      0.98      0.99        59\n",
      "           2       0.98      1.00      0.99        61\n",
      "           3       1.00      1.00      1.00        60\n",
      "\n",
      "    accuracy                           0.99       180\n",
      "   macro avg       0.99      0.99      0.99       180\n",
      "weighted avg       0.99      0.99      0.99       180\n",
      "\n"
     ]
    }
   ],
   "source": [
    "print(report)"
   ]
  },
  {
   "cell_type": "code",
   "execution_count": null,
   "metadata": {},
   "outputs": [],
   "source": []
  },
  {
   "cell_type": "markdown",
   "metadata": {
    "id": "eENcuXwmczx-"
   },
   "source": [
    "# Bagging"
   ]
  },
  {
   "cell_type": "code",
   "execution_count": 56,
   "metadata": {},
   "outputs": [],
   "source": [
    "train_acc, test_acc, predicted_test, confusion, report = bagging_ml(X_train, y_train, X_test, y_test)"
   ]
  },
  {
   "cell_type": "code",
   "execution_count": 57,
   "metadata": {},
   "outputs": [
    {
     "name": "stdout",
     "output_type": "stream",
     "text": [
      "1.0\n",
      "0.9944444444444445\n"
     ]
    }
   ],
   "source": [
    "print(train_acc)\n",
    "print(test_acc)"
   ]
  },
  {
   "cell_type": "code",
   "execution_count": 58,
   "metadata": {},
   "outputs": [
    {
     "name": "stdout",
     "output_type": "stream",
     "text": [
      "[[58  1  0]\n",
      " [ 0 61  0]\n",
      " [ 0  0 60]]\n"
     ]
    }
   ],
   "source": [
    "print(confusion)"
   ]
  },
  {
   "cell_type": "code",
   "execution_count": 59,
   "metadata": {},
   "outputs": [
    {
     "name": "stdout",
     "output_type": "stream",
     "text": [
      "              precision    recall  f1-score   support\n",
      "\n",
      "           1       1.00      0.98      0.99        59\n",
      "           2       0.98      1.00      0.99        61\n",
      "           3       1.00      1.00      1.00        60\n",
      "\n",
      "    accuracy                           0.99       180\n",
      "   macro avg       0.99      0.99      0.99       180\n",
      "weighted avg       0.99      0.99      0.99       180\n",
      "\n"
     ]
    }
   ],
   "source": [
    "print(report)"
   ]
  },
  {
   "cell_type": "code",
   "execution_count": null,
   "metadata": {},
   "outputs": [],
   "source": []
  },
  {
   "cell_type": "markdown",
   "metadata": {
    "id": "ZoKx5Dnrc3Ll"
   },
   "source": [
    "# NB_classifier"
   ]
  },
  {
   "cell_type": "markdown",
   "metadata": {
    "id": "o0KXEbzonuid"
   },
   "source": [
    "## Gaussian_NB"
   ]
  },
  {
   "cell_type": "code",
   "execution_count": 60,
   "metadata": {},
   "outputs": [],
   "source": [
    "train_acc, test_acc, predicted_test, confusion, report = gaussianNB_ml(X_train, y_train, X_test, y_test)"
   ]
  },
  {
   "cell_type": "code",
   "execution_count": 61,
   "metadata": {},
   "outputs": [
    {
     "name": "stdout",
     "output_type": "stream",
     "text": [
      "0.6680555555555555\n",
      "0.65\n"
     ]
    }
   ],
   "source": [
    "print(train_acc)\n",
    "print(test_acc)"
   ]
  },
  {
   "cell_type": "code",
   "execution_count": 62,
   "metadata": {},
   "outputs": [
    {
     "name": "stdout",
     "output_type": "stream",
     "text": [
      "[[41  3 15]\n",
      " [ 8 25 28]\n",
      " [ 6  3 51]]\n"
     ]
    }
   ],
   "source": [
    "print(confusion)"
   ]
  },
  {
   "cell_type": "code",
   "execution_count": 63,
   "metadata": {},
   "outputs": [
    {
     "name": "stdout",
     "output_type": "stream",
     "text": [
      "              precision    recall  f1-score   support\n",
      "\n",
      "           1       0.75      0.69      0.72        59\n",
      "           2       0.81      0.41      0.54        61\n",
      "           3       0.54      0.85      0.66        60\n",
      "\n",
      "    accuracy                           0.65       180\n",
      "   macro avg       0.70      0.65      0.64       180\n",
      "weighted avg       0.70      0.65      0.64       180\n",
      "\n"
     ]
    }
   ],
   "source": [
    "print(report)"
   ]
  },
  {
   "cell_type": "code",
   "execution_count": null,
   "metadata": {},
   "outputs": [],
   "source": []
  },
  {
   "cell_type": "markdown",
   "metadata": {
    "id": "zhwVV7vrnnmR"
   },
   "source": [
    "## Bernoulli_NB"
   ]
  },
  {
   "cell_type": "code",
   "execution_count": 64,
   "metadata": {},
   "outputs": [],
   "source": [
    "train_acc, test_acc, predicted_test, confusion, report = bernoulliNB_ml(X_train, y_train, X_test, y_test)"
   ]
  },
  {
   "cell_type": "code",
   "execution_count": 65,
   "metadata": {},
   "outputs": [
    {
     "name": "stdout",
     "output_type": "stream",
     "text": [
      "0.7638888888888888\n",
      "0.7611111111111111\n"
     ]
    }
   ],
   "source": [
    "print(train_acc)\n",
    "print(test_acc)"
   ]
  },
  {
   "cell_type": "code",
   "execution_count": 66,
   "metadata": {},
   "outputs": [
    {
     "name": "stdout",
     "output_type": "stream",
     "text": [
      "[[47  9  3]\n",
      " [ 9 46  6]\n",
      " [ 7  9 44]]\n"
     ]
    }
   ],
   "source": [
    "print(confusion)"
   ]
  },
  {
   "cell_type": "code",
   "execution_count": 67,
   "metadata": {},
   "outputs": [
    {
     "name": "stdout",
     "output_type": "stream",
     "text": [
      "              precision    recall  f1-score   support\n",
      "\n",
      "           1       0.75      0.80      0.77        59\n",
      "           2       0.72      0.75      0.74        61\n",
      "           3       0.83      0.73      0.78        60\n",
      "\n",
      "    accuracy                           0.76       180\n",
      "   macro avg       0.76      0.76      0.76       180\n",
      "weighted avg       0.76      0.76      0.76       180\n",
      "\n"
     ]
    }
   ],
   "source": [
    "print(report)"
   ]
  },
  {
   "cell_type": "code",
   "execution_count": null,
   "metadata": {},
   "outputs": [],
   "source": []
  },
  {
   "cell_type": "markdown",
   "metadata": {
    "id": "rLyaG58En0Vk"
   },
   "source": [
    "# MLP (Multi Layer perceptron) classifier"
   ]
  },
  {
   "cell_type": "code",
   "execution_count": 68,
   "metadata": {},
   "outputs": [],
   "source": [
    "train_acc, test_acc, predicted_test, confusion, report = MLP_ml(X_train, y_train, X_test, y_test)"
   ]
  },
  {
   "cell_type": "code",
   "execution_count": 69,
   "metadata": {},
   "outputs": [
    {
     "name": "stdout",
     "output_type": "stream",
     "text": [
      "1.0\n",
      "0.9944444444444445\n"
     ]
    }
   ],
   "source": [
    "print(train_acc)\n",
    "print(test_acc)"
   ]
  },
  {
   "cell_type": "code",
   "execution_count": 70,
   "metadata": {},
   "outputs": [
    {
     "name": "stdout",
     "output_type": "stream",
     "text": [
      "[[59  0  0]\n",
      " [ 0 61  0]\n",
      " [ 0  1 59]]\n"
     ]
    }
   ],
   "source": [
    "print(confusion)"
   ]
  },
  {
   "cell_type": "code",
   "execution_count": 71,
   "metadata": {},
   "outputs": [
    {
     "name": "stdout",
     "output_type": "stream",
     "text": [
      "              precision    recall  f1-score   support\n",
      "\n",
      "           1       1.00      1.00      1.00        59\n",
      "           2       0.98      1.00      0.99        61\n",
      "           3       1.00      0.98      0.99        60\n",
      "\n",
      "    accuracy                           0.99       180\n",
      "   macro avg       0.99      0.99      0.99       180\n",
      "weighted avg       0.99      0.99      0.99       180\n",
      "\n"
     ]
    }
   ],
   "source": [
    "print(report)"
   ]
  },
  {
   "cell_type": "code",
   "execution_count": null,
   "metadata": {},
   "outputs": [],
   "source": []
  },
  {
   "cell_type": "markdown",
   "metadata": {
    "id": "ZEzZLLy7oCRr"
   },
   "source": [
    "# Quadratic Discriminant Analysis"
   ]
  },
  {
   "cell_type": "code",
   "execution_count": 72,
   "metadata": {},
   "outputs": [
    {
     "name": "stderr",
     "output_type": "stream",
     "text": [
      "/home/suraj/anaconda3/lib/python3.8/site-packages/sklearn/discriminant_analysis.py:715: UserWarning: Variables are collinear\n",
      "  warnings.warn(\"Variables are collinear\")\n"
     ]
    }
   ],
   "source": [
    "train_acc, test_acc, predicted_test, confusion, report = QDA_ml(X_train, y_train, X_test, y_test)"
   ]
  },
  {
   "cell_type": "code",
   "execution_count": 73,
   "metadata": {},
   "outputs": [
    {
     "name": "stdout",
     "output_type": "stream",
     "text": [
      "0.9930555555555556\n",
      "0.9222222222222223\n"
     ]
    }
   ],
   "source": [
    "print(train_acc)\n",
    "print(test_acc)"
   ]
  },
  {
   "cell_type": "code",
   "execution_count": 74,
   "metadata": {},
   "outputs": [
    {
     "name": "stdout",
     "output_type": "stream",
     "text": [
      "[[55  4  0]\n",
      " [ 4 57  0]\n",
      " [ 1  5 54]]\n"
     ]
    }
   ],
   "source": [
    "print(confusion)"
   ]
  },
  {
   "cell_type": "code",
   "execution_count": 75,
   "metadata": {},
   "outputs": [
    {
     "name": "stdout",
     "output_type": "stream",
     "text": [
      "              precision    recall  f1-score   support\n",
      "\n",
      "           1       0.92      0.93      0.92        59\n",
      "           2       0.86      0.93      0.90        61\n",
      "           3       1.00      0.90      0.95        60\n",
      "\n",
      "    accuracy                           0.92       180\n",
      "   macro avg       0.93      0.92      0.92       180\n",
      "weighted avg       0.93      0.92      0.92       180\n",
      "\n"
     ]
    }
   ],
   "source": [
    "print(report)"
   ]
  },
  {
   "cell_type": "code",
   "execution_count": null,
   "metadata": {},
   "outputs": [],
   "source": []
  },
  {
   "cell_type": "markdown",
   "metadata": {},
   "source": [
    "# KNN"
   ]
  },
  {
   "cell_type": "code",
   "execution_count": 76,
   "metadata": {},
   "outputs": [],
   "source": [
    "train_acc, test_acc, predicted_test, confusion, report = KNN_ml(X_train, y_train, X_test, y_test)"
   ]
  },
  {
   "cell_type": "code",
   "execution_count": 77,
   "metadata": {},
   "outputs": [
    {
     "name": "stdout",
     "output_type": "stream",
     "text": [
      "0.9625\n",
      "0.8944444444444445\n"
     ]
    }
   ],
   "source": [
    "print(train_acc)\n",
    "print(test_acc)"
   ]
  },
  {
   "cell_type": "code",
   "execution_count": 78,
   "metadata": {},
   "outputs": [
    {
     "name": "stdout",
     "output_type": "stream",
     "text": [
      "[[57  1  1]\n",
      " [ 2 52  7]\n",
      " [ 0  8 52]]\n"
     ]
    }
   ],
   "source": [
    "print(confusion)"
   ]
  },
  {
   "cell_type": "code",
   "execution_count": 79,
   "metadata": {},
   "outputs": [
    {
     "name": "stdout",
     "output_type": "stream",
     "text": [
      "              precision    recall  f1-score   support\n",
      "\n",
      "           1       0.97      0.97      0.97        59\n",
      "           2       0.85      0.85      0.85        61\n",
      "           3       0.87      0.87      0.87        60\n",
      "\n",
      "    accuracy                           0.89       180\n",
      "   macro avg       0.90      0.90      0.90       180\n",
      "weighted avg       0.89      0.89      0.89       180\n",
      "\n"
     ]
    }
   ],
   "source": [
    "print(report)"
   ]
  },
  {
   "cell_type": "code",
   "execution_count": null,
   "metadata": {},
   "outputs": [],
   "source": []
  }
 ],
 "metadata": {
  "accelerator": "TPU",
  "colab": {
   "collapsed_sections": [],
   "name": "motor_imagery.ipynb",
   "provenance": []
  },
  "kernelspec": {
   "display_name": "Python 3",
   "language": "python",
   "name": "python3"
  },
  "language_info": {
   "codemirror_mode": {
    "name": "ipython",
    "version": 3
   },
   "file_extension": ".py",
   "mimetype": "text/x-python",
   "name": "python",
   "nbconvert_exporter": "python",
   "pygments_lexer": "ipython3",
   "version": "3.8.3"
  }
 },
 "nbformat": 4,
 "nbformat_minor": 1
}
